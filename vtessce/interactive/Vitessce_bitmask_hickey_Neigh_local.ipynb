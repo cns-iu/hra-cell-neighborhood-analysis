{
  "nbformat": 4,
  "nbformat_minor": 0,
  "metadata": {
    "colab": {
      "provenance": [],
      "include_colab_link": true
    },
    "kernelspec": {
      "name": "python3",
      "display_name": "Python 3"
    },
    "language_info": {
      "name": "python"
    }
  },
  "cells": [
    {
      "cell_type": "markdown",
      "metadata": {
        "id": "view-in-github",
        "colab_type": "text"
      },
      "source": [
        "<a href=\"https://colab.research.google.com/github/cns-iu/hra-cell-neighborhood-analysis/blob/main/vtessce/interactive/Vitessce_bitmask_hickey_Neigh_local.ipynb\" target=\"_parent\"><img src=\"https://colab.research.google.com/assets/colab-badge.svg\" alt=\"Open In Colab\"/></a>"
      ]
    },
    {
      "cell_type": "markdown",
      "source": [
        "View this example on [Google Colab](https://colab.research.google.com/drive/1o8WHmuEBcg9hcOy9vFdwryNfz0FjE9LR?usp=sharing)"
      ],
      "metadata": {
        "id": "vptpyOtVI1cE"
      }
    },
    {
      "cell_type": "code",
      "execution_count": 1,
      "metadata": {
        "id": "kZ1H5umyVzB2",
        "colab": {
          "base_uri": "https://localhost:8080/"
        },
        "outputId": "57b423ef-6cb5-4254-fe76-7b8e81d15a17"
      },
      "outputs": [
        {
          "output_type": "stream",
          "name": "stdout",
          "text": [
            "Collecting vitessce[all]\n",
            "  Downloading vitessce-3.0.7-py2.py3-none-any.whl (50 kB)\n",
            "\u001b[2K     \u001b[90m━━━━━━━━━━━━━━━━━━━━━━━━━━━━━━━━━━━━━━━\u001b[0m \u001b[32m50.4/50.4 kB\u001b[0m \u001b[31m784.9 kB/s\u001b[0m eta \u001b[36m0:00:00\u001b[0m\n",
            "\u001b[?25hCollecting zarr>=2.5.0 (from vitessce[all])\n",
            "  Downloading zarr-2.16.0-py3-none-any.whl (206 kB)\n",
            "\u001b[2K     \u001b[90m━━━━━━━━━━━━━━━━━━━━━━━━━━━━━━━━━━━━━━━\u001b[0m \u001b[32m206.5/206.5 kB\u001b[0m \u001b[31m4.6 MB/s\u001b[0m eta \u001b[36m0:00:00\u001b[0m\n",
            "\u001b[?25hCollecting numcodecs>=0.5.7 (from vitessce[all])\n",
            "  Downloading numcodecs-0.11.0-cp310-cp310-manylinux_2_17_x86_64.manylinux2014_x86_64.whl (6.7 MB)\n",
            "\u001b[2K     \u001b[90m━━━━━━━━━━━━━━━━━━━━━━━━━━━━━━━━━━━━━━━━\u001b[0m \u001b[32m6.7/6.7 MB\u001b[0m \u001b[31m78.9 MB/s\u001b[0m eta \u001b[36m0:00:00\u001b[0m\n",
            "\u001b[?25hRequirement already satisfied: scipy>=1.2.1 in /usr/local/lib/python3.10/dist-packages (from vitessce[all]) (1.10.1)\n",
            "Collecting negspy>=0.2.24 (from vitessce[all])\n",
            "  Downloading negspy-0.2.24.tar.gz (1.7 MB)\n",
            "\u001b[2K     \u001b[90m━━━━━━━━━━━━━━━━━━━━━━━━━━━━━━━━━━━━━━━━\u001b[0m \u001b[32m1.7/1.7 MB\u001b[0m \u001b[31m71.6 MB/s\u001b[0m eta \u001b[36m0:00:00\u001b[0m\n",
            "\u001b[?25h  Preparing metadata (setup.py) ... \u001b[?25l\u001b[?25hdone\n",
            "Requirement already satisfied: pandas>=1.1.2 in /usr/local/lib/python3.10/dist-packages (from vitessce[all]) (1.5.3)\n",
            "Collecting black>=21.11b1 (from vitessce[all])\n",
            "  Downloading black-23.7.0-cp310-cp310-manylinux_2_17_x86_64.manylinux2014_x86_64.whl (1.7 MB)\n",
            "\u001b[2K     \u001b[90m━━━━━━━━━━━━━━━━━━━━━━━━━━━━━━━━━━━━━━━━\u001b[0m \u001b[32m1.7/1.7 MB\u001b[0m \u001b[31m60.2 MB/s\u001b[0m eta \u001b[36m0:00:00\u001b[0m\n",
            "\u001b[?25hRequirement already satisfied: numpy>=1.21.2 in /usr/local/lib/python3.10/dist-packages (from vitessce[all]) (1.23.5)\n",
            "Collecting anndata<0.9,>=0.7.8 (from vitessce[all])\n",
            "  Downloading anndata-0.8.0-py3-none-any.whl (96 kB)\n",
            "\u001b[2K     \u001b[90m━━━━━━━━━━━━━━━━━━━━━━━━━━━━━━━━━━━━━━━━\u001b[0m \u001b[32m96.1/96.1 kB\u001b[0m \u001b[31m7.1 MB/s\u001b[0m eta \u001b[36m0:00:00\u001b[0m\n",
            "\u001b[?25hCollecting scanpy>=1.9.3 (from vitessce[all])\n",
            "  Downloading scanpy-1.9.3-py3-none-any.whl (2.0 MB)\n",
            "\u001b[2K     \u001b[90m━━━━━━━━━━━━━━━━━━━━━━━━━━━━━━━━━━━━━━━━\u001b[0m \u001b[32m2.0/2.0 MB\u001b[0m \u001b[31m37.0 MB/s\u001b[0m eta \u001b[36m0:00:00\u001b[0m\n",
            "\u001b[?25hCollecting ome-zarr==0.2.1 (from vitessce[all])\n",
            "  Downloading ome_zarr-0.2.1-py3-none-any.whl (27 kB)\n",
            "Requirement already satisfied: tifffile>=2020.10.1 in /usr/local/lib/python3.10/dist-packages (from vitessce[all]) (2023.7.18)\n",
            "Requirement already satisfied: jsonschema>=3.2 in /usr/local/lib/python3.10/dist-packages (from vitessce[all]) (4.19.0)\n",
            "Collecting jupyter-server-proxy>=1.5.2 (from vitessce[all])\n",
            "  Downloading jupyter_server_proxy-4.0.0-py3-none-any.whl (32 kB)\n",
            "Collecting anywidget==0.4.2 (from vitessce[all])\n",
            "  Downloading anywidget-0.4.2-py3-none-any.whl (37 kB)\n",
            "Collecting uvicorn>=0.17.0 (from vitessce[all])\n",
            "  Downloading uvicorn-0.23.2-py3-none-any.whl (59 kB)\n",
            "\u001b[2K     \u001b[90m━━━━━━━━━━━━━━━━━━━━━━━━━━━━━━━━━━━━━━━━\u001b[0m \u001b[32m59.5/59.5 kB\u001b[0m \u001b[31m6.6 MB/s\u001b[0m eta \u001b[36m0:00:00\u001b[0m\n",
            "\u001b[?25hCollecting ujson>=4.0.1 (from vitessce[all])\n",
            "  Downloading ujson-5.8.0-cp310-cp310-manylinux_2_17_x86_64.manylinux2014_x86_64.whl (53 kB)\n",
            "\u001b[2K     \u001b[90m━━━━━━━━━━━━━━━━━━━━━━━━━━━━━━━━━━━━━━━━\u001b[0m \u001b[32m53.9/53.9 kB\u001b[0m \u001b[31m6.0 MB/s\u001b[0m eta \u001b[36m0:00:00\u001b[0m\n",
            "\u001b[?25hCollecting starlette==0.14.0 (from vitessce[all])\n",
            "  Downloading starlette-0.14.0-py3-none-any.whl (60 kB)\n",
            "\u001b[2K     \u001b[90m━━━━━━━━━━━━━━━━━━━━━━━━━━━━━━━━━━━━━━━━\u001b[0m \u001b[32m60.7/60.7 kB\u001b[0m \u001b[31m6.8 MB/s\u001b[0m eta \u001b[36m0:00:00\u001b[0m\n",
            "\u001b[?25hCollecting generate-tiff-offsets>=0.1.7 (from vitessce[all])\n",
            "  Downloading generate_tiff_offsets-0.1.7-py2.py3-none-any.whl (4.1 kB)\n",
            "Collecting aiofiles>=0.6.0 (from vitessce[all])\n",
            "  Downloading aiofiles-23.2.1-py3-none-any.whl (15 kB)\n",
            "Requirement already satisfied: ipywidgets>=7.6.0 in /usr/local/lib/python3.10/dist-packages (from anywidget==0.4.2->vitessce[all]) (7.7.1)\n",
            "Collecting psygnal>=0.8.1 (from anywidget==0.4.2->vitessce[all])\n",
            "  Downloading psygnal-0.9.3-py3-none-any.whl (70 kB)\n",
            "\u001b[2K     \u001b[90m━━━━━━━━━━━━━━━━━━━━━━━━━━━━━━━━━━━━━━━━\u001b[0m \u001b[32m70.5/70.5 kB\u001b[0m \u001b[31m8.0 MB/s\u001b[0m eta \u001b[36m0:00:00\u001b[0m\n",
            "\u001b[?25hRequirement already satisfied: typing-extensions>=4.2.0 in /usr/local/lib/python3.10/dist-packages (from anywidget==0.4.2->vitessce[all]) (4.7.1)\n",
            "Requirement already satisfied: dask in /usr/local/lib/python3.10/dist-packages (from ome-zarr==0.2.1->vitessce[all]) (2023.8.0)\n",
            "Requirement already satisfied: fsspec[s3]!=2021.07.0 in /usr/local/lib/python3.10/dist-packages (from ome-zarr==0.2.1->vitessce[all]) (2023.6.0)\n",
            "Requirement already satisfied: aiohttp in /usr/local/lib/python3.10/dist-packages (from ome-zarr==0.2.1->vitessce[all]) (3.8.5)\n",
            "Requirement already satisfied: requests in /usr/local/lib/python3.10/dist-packages (from ome-zarr==0.2.1->vitessce[all]) (2.31.0)\n",
            "Requirement already satisfied: scikit-image in /usr/local/lib/python3.10/dist-packages (from ome-zarr==0.2.1->vitessce[all]) (0.19.3)\n",
            "Requirement already satisfied: toolz in /usr/local/lib/python3.10/dist-packages (from ome-zarr==0.2.1->vitessce[all]) (0.12.0)\n",
            "Requirement already satisfied: h5py>=3 in /usr/local/lib/python3.10/dist-packages (from anndata<0.9,>=0.7.8->vitessce[all]) (3.9.0)\n",
            "Requirement already satisfied: natsort in /usr/local/lib/python3.10/dist-packages (from anndata<0.9,>=0.7.8->vitessce[all]) (8.4.0)\n",
            "Requirement already satisfied: packaging>=20 in /usr/local/lib/python3.10/dist-packages (from anndata<0.9,>=0.7.8->vitessce[all]) (23.1)\n",
            "Requirement already satisfied: click>=8.0.0 in /usr/local/lib/python3.10/dist-packages (from black>=21.11b1->vitessce[all]) (8.1.6)\n",
            "Collecting mypy-extensions>=0.4.3 (from black>=21.11b1->vitessce[all])\n",
            "  Downloading mypy_extensions-1.0.0-py3-none-any.whl (4.7 kB)\n",
            "Collecting pathspec>=0.9.0 (from black>=21.11b1->vitessce[all])\n",
            "  Downloading pathspec-0.11.2-py3-none-any.whl (29 kB)\n",
            "Requirement already satisfied: platformdirs>=2 in /usr/local/lib/python3.10/dist-packages (from black>=21.11b1->vitessce[all]) (3.10.0)\n",
            "Requirement already satisfied: tomli>=1.1.0 in /usr/local/lib/python3.10/dist-packages (from black>=21.11b1->vitessce[all]) (2.0.1)\n",
            "Collecting tifffile>=2020.10.1 (from vitessce[all])\n",
            "  Downloading tifffile-2020.10.1-py3-none-any.whl (152 kB)\n",
            "\u001b[2K     \u001b[90m━━━━━━━━━━━━━━━━━━━━━━━━━━━━━━━━━━━━━━\u001b[0m \u001b[32m152.6/152.6 kB\u001b[0m \u001b[31m13.9 MB/s\u001b[0m eta \u001b[36m0:00:00\u001b[0m\n",
            "\u001b[?25hRequirement already satisfied: attrs>=22.2.0 in /usr/local/lib/python3.10/dist-packages (from jsonschema>=3.2->vitessce[all]) (23.1.0)\n",
            "Requirement already satisfied: jsonschema-specifications>=2023.03.6 in /usr/local/lib/python3.10/dist-packages (from jsonschema>=3.2->vitessce[all]) (2023.7.1)\n",
            "Requirement already satisfied: referencing>=0.28.4 in /usr/local/lib/python3.10/dist-packages (from jsonschema>=3.2->vitessce[all]) (0.30.2)\n",
            "Requirement already satisfied: rpds-py>=0.7.1 in /usr/local/lib/python3.10/dist-packages (from jsonschema>=3.2->vitessce[all]) (0.9.2)\n",
            "Requirement already satisfied: jupyter-server>=1.0 in /usr/local/lib/python3.10/dist-packages (from jupyter-server-proxy>=1.5.2->vitessce[all]) (1.24.0)\n",
            "Collecting simpervisor>=0.4 (from jupyter-server-proxy>=1.5.2->vitessce[all])\n",
            "  Downloading simpervisor-1.0.0-py3-none-any.whl (8.3 kB)\n",
            "Requirement already satisfied: entrypoints in /usr/local/lib/python3.10/dist-packages (from numcodecs>=0.5.7->vitessce[all]) (0.4)\n",
            "Requirement already satisfied: python-dateutil>=2.8.1 in /usr/local/lib/python3.10/dist-packages (from pandas>=1.1.2->vitessce[all]) (2.8.2)\n",
            "Requirement already satisfied: pytz>=2020.1 in /usr/local/lib/python3.10/dist-packages (from pandas>=1.1.2->vitessce[all]) (2023.3)\n",
            "Requirement already satisfied: matplotlib>=3.4 in /usr/local/lib/python3.10/dist-packages (from scanpy>=1.9.3->vitessce[all]) (3.7.1)\n",
            "Requirement already satisfied: seaborn in /usr/local/lib/python3.10/dist-packages (from scanpy>=1.9.3->vitessce[all]) (0.12.2)\n",
            "Requirement already satisfied: tqdm in /usr/local/lib/python3.10/dist-packages (from scanpy>=1.9.3->vitessce[all]) (4.66.0)\n",
            "Requirement already satisfied: scikit-learn>=0.22 in /usr/local/lib/python3.10/dist-packages (from scanpy>=1.9.3->vitessce[all]) (1.2.2)\n",
            "Requirement already satisfied: statsmodels>=0.10.0rc2 in /usr/local/lib/python3.10/dist-packages (from scanpy>=1.9.3->vitessce[all]) (0.14.0)\n",
            "Requirement already satisfied: patsy in /usr/local/lib/python3.10/dist-packages (from scanpy>=1.9.3->vitessce[all]) (0.5.3)\n",
            "Requirement already satisfied: networkx>=2.3 in /usr/local/lib/python3.10/dist-packages (from scanpy>=1.9.3->vitessce[all]) (3.1)\n",
            "Requirement already satisfied: joblib in /usr/local/lib/python3.10/dist-packages (from scanpy>=1.9.3->vitessce[all]) (1.3.2)\n",
            "Requirement already satisfied: numba>=0.41.0 in /usr/local/lib/python3.10/dist-packages (from scanpy>=1.9.3->vitessce[all]) (0.56.4)\n",
            "Collecting umap-learn>=0.3.10 (from scanpy>=1.9.3->vitessce[all])\n",
            "  Downloading umap-learn-0.5.3.tar.gz (88 kB)\n",
            "\u001b[2K     \u001b[90m━━━━━━━━━━━━━━━━━━━━━━━━━━━━━━━━━━━━━━━━\u001b[0m \u001b[32m88.2/88.2 kB\u001b[0m \u001b[31m11.1 MB/s\u001b[0m eta \u001b[36m0:00:00\u001b[0m\n",
            "\u001b[?25h  Preparing metadata (setup.py) ... \u001b[?25l\u001b[?25hdone\n",
            "Collecting session-info (from scanpy>=1.9.3->vitessce[all])\n",
            "  Downloading session_info-1.0.0.tar.gz (24 kB)\n",
            "  Preparing metadata (setup.py) ... \u001b[?25l\u001b[?25hdone\n",
            "Collecting h11>=0.8 (from uvicorn>=0.17.0->vitessce[all])\n",
            "  Downloading h11-0.14.0-py3-none-any.whl (58 kB)\n",
            "\u001b[2K     \u001b[90m━━━━━━━━━━━━━━━━━━━━━━━━━━━━━━━━━━━━━━━━\u001b[0m \u001b[32m58.3/58.3 kB\u001b[0m \u001b[31m5.9 MB/s\u001b[0m eta \u001b[36m0:00:00\u001b[0m\n",
            "\u001b[?25hCollecting asciitree (from zarr>=2.5.0->vitessce[all])\n",
            "  Downloading asciitree-0.3.3.tar.gz (4.0 kB)\n",
            "  Preparing metadata (setup.py) ... \u001b[?25l\u001b[?25hdone\n",
            "Collecting fasteners (from zarr>=2.5.0->vitessce[all])\n",
            "  Downloading fasteners-0.18-py3-none-any.whl (18 kB)\n",
            "Collecting s3fs (from fsspec[s3]!=2021.07.0->ome-zarr==0.2.1->vitessce[all])\n",
            "  Downloading s3fs-2023.6.0-py3-none-any.whl (28 kB)\n",
            "Requirement already satisfied: ipykernel>=4.5.1 in /usr/local/lib/python3.10/dist-packages (from ipywidgets>=7.6.0->anywidget==0.4.2->vitessce[all]) (5.5.6)\n",
            "Requirement already satisfied: ipython-genutils~=0.2.0 in /usr/local/lib/python3.10/dist-packages (from ipywidgets>=7.6.0->anywidget==0.4.2->vitessce[all]) (0.2.0)\n",
            "Requirement already satisfied: traitlets>=4.3.1 in /usr/local/lib/python3.10/dist-packages (from ipywidgets>=7.6.0->anywidget==0.4.2->vitessce[all]) (5.7.1)\n",
            "Requirement already satisfied: widgetsnbextension~=3.6.0 in /usr/local/lib/python3.10/dist-packages (from ipywidgets>=7.6.0->anywidget==0.4.2->vitessce[all]) (3.6.5)\n",
            "Requirement already satisfied: ipython>=4.0.0 in /usr/local/lib/python3.10/dist-packages (from ipywidgets>=7.6.0->anywidget==0.4.2->vitessce[all]) (7.34.0)\n",
            "Requirement already satisfied: jupyterlab-widgets>=1.0.0 in /usr/local/lib/python3.10/dist-packages (from ipywidgets>=7.6.0->anywidget==0.4.2->vitessce[all]) (3.0.8)\n",
            "Requirement already satisfied: anyio<4,>=3.1.0 in /usr/local/lib/python3.10/dist-packages (from jupyter-server>=1.0->jupyter-server-proxy>=1.5.2->vitessce[all]) (3.7.1)\n",
            "Requirement already satisfied: argon2-cffi in /usr/local/lib/python3.10/dist-packages (from jupyter-server>=1.0->jupyter-server-proxy>=1.5.2->vitessce[all]) (21.3.0)\n",
            "Requirement already satisfied: jinja2 in /usr/local/lib/python3.10/dist-packages (from jupyter-server>=1.0->jupyter-server-proxy>=1.5.2->vitessce[all]) (3.1.2)\n",
            "Requirement already satisfied: jupyter-client>=6.1.12 in /usr/local/lib/python3.10/dist-packages (from jupyter-server>=1.0->jupyter-server-proxy>=1.5.2->vitessce[all]) (6.1.12)\n",
            "Requirement already satisfied: jupyter-core!=5.0.*,>=4.12 in /usr/local/lib/python3.10/dist-packages (from jupyter-server>=1.0->jupyter-server-proxy>=1.5.2->vitessce[all]) (5.3.1)\n",
            "Requirement already satisfied: nbconvert>=6.4.4 in /usr/local/lib/python3.10/dist-packages (from jupyter-server>=1.0->jupyter-server-proxy>=1.5.2->vitessce[all]) (6.5.4)\n",
            "Requirement already satisfied: nbformat>=5.2.0 in /usr/local/lib/python3.10/dist-packages (from jupyter-server>=1.0->jupyter-server-proxy>=1.5.2->vitessce[all]) (5.9.2)\n",
            "Requirement already satisfied: prometheus-client in /usr/local/lib/python3.10/dist-packages (from jupyter-server>=1.0->jupyter-server-proxy>=1.5.2->vitessce[all]) (0.17.1)\n",
            "Requirement already satisfied: pyzmq>=17 in /usr/local/lib/python3.10/dist-packages (from jupyter-server>=1.0->jupyter-server-proxy>=1.5.2->vitessce[all]) (23.2.1)\n",
            "Requirement already satisfied: Send2Trash in /usr/local/lib/python3.10/dist-packages (from jupyter-server>=1.0->jupyter-server-proxy>=1.5.2->vitessce[all]) (1.8.2)\n",
            "Requirement already satisfied: terminado>=0.8.3 in /usr/local/lib/python3.10/dist-packages (from jupyter-server>=1.0->jupyter-server-proxy>=1.5.2->vitessce[all]) (0.17.1)\n",
            "Requirement already satisfied: tornado>=6.1.0 in /usr/local/lib/python3.10/dist-packages (from jupyter-server>=1.0->jupyter-server-proxy>=1.5.2->vitessce[all]) (6.3.1)\n",
            "Requirement already satisfied: websocket-client in /usr/local/lib/python3.10/dist-packages (from jupyter-server>=1.0->jupyter-server-proxy>=1.5.2->vitessce[all]) (1.6.1)\n",
            "Requirement already satisfied: contourpy>=1.0.1 in /usr/local/lib/python3.10/dist-packages (from matplotlib>=3.4->scanpy>=1.9.3->vitessce[all]) (1.1.0)\n",
            "Requirement already satisfied: cycler>=0.10 in /usr/local/lib/python3.10/dist-packages (from matplotlib>=3.4->scanpy>=1.9.3->vitessce[all]) (0.11.0)\n",
            "Requirement already satisfied: fonttools>=4.22.0 in /usr/local/lib/python3.10/dist-packages (from matplotlib>=3.4->scanpy>=1.9.3->vitessce[all]) (4.42.0)\n",
            "Requirement already satisfied: kiwisolver>=1.0.1 in /usr/local/lib/python3.10/dist-packages (from matplotlib>=3.4->scanpy>=1.9.3->vitessce[all]) (1.4.4)\n",
            "Requirement already satisfied: pillow>=6.2.0 in /usr/local/lib/python3.10/dist-packages (from matplotlib>=3.4->scanpy>=1.9.3->vitessce[all]) (9.4.0)\n",
            "Requirement already satisfied: pyparsing>=2.3.1 in /usr/local/lib/python3.10/dist-packages (from matplotlib>=3.4->scanpy>=1.9.3->vitessce[all]) (3.1.1)\n",
            "Requirement already satisfied: llvmlite<0.40,>=0.39.0dev0 in /usr/local/lib/python3.10/dist-packages (from numba>=0.41.0->scanpy>=1.9.3->vitessce[all]) (0.39.1)\n",
            "Requirement already satisfied: setuptools in /usr/local/lib/python3.10/dist-packages (from numba>=0.41.0->scanpy>=1.9.3->vitessce[all]) (67.7.2)\n",
            "Requirement already satisfied: six>=1.5 in /usr/local/lib/python3.10/dist-packages (from python-dateutil>=2.8.1->pandas>=1.1.2->vitessce[all]) (1.16.0)\n",
            "Requirement already satisfied: threadpoolctl>=2.0.0 in /usr/local/lib/python3.10/dist-packages (from scikit-learn>=0.22->scanpy>=1.9.3->vitessce[all]) (3.2.0)\n",
            "Collecting pynndescent>=0.5 (from umap-learn>=0.3.10->scanpy>=1.9.3->vitessce[all])\n",
            "  Downloading pynndescent-0.5.10.tar.gz (1.1 MB)\n",
            "\u001b[2K     \u001b[90m━━━━━━━━━━━━━━━━━━━━━━━━━━━━━━━━━━━━━━━━\u001b[0m \u001b[32m1.1/1.1 MB\u001b[0m \u001b[31m72.9 MB/s\u001b[0m eta \u001b[36m0:00:00\u001b[0m\n",
            "\u001b[?25h  Preparing metadata (setup.py) ... \u001b[?25l\u001b[?25hdone\n",
            "Requirement already satisfied: charset-normalizer<4.0,>=2.0 in /usr/local/lib/python3.10/dist-packages (from aiohttp->ome-zarr==0.2.1->vitessce[all]) (3.2.0)\n",
            "Requirement already satisfied: multidict<7.0,>=4.5 in /usr/local/lib/python3.10/dist-packages (from aiohttp->ome-zarr==0.2.1->vitessce[all]) (6.0.4)\n",
            "Requirement already satisfied: async-timeout<5.0,>=4.0.0a3 in /usr/local/lib/python3.10/dist-packages (from aiohttp->ome-zarr==0.2.1->vitessce[all]) (4.0.2)\n",
            "Requirement already satisfied: yarl<2.0,>=1.0 in /usr/local/lib/python3.10/dist-packages (from aiohttp->ome-zarr==0.2.1->vitessce[all]) (1.9.2)\n",
            "Requirement already satisfied: frozenlist>=1.1.1 in /usr/local/lib/python3.10/dist-packages (from aiohttp->ome-zarr==0.2.1->vitessce[all]) (1.4.0)\n",
            "Requirement already satisfied: aiosignal>=1.1.2 in /usr/local/lib/python3.10/dist-packages (from aiohttp->ome-zarr==0.2.1->vitessce[all]) (1.3.1)\n",
            "Requirement already satisfied: cloudpickle>=1.5.0 in /usr/local/lib/python3.10/dist-packages (from dask->ome-zarr==0.2.1->vitessce[all]) (2.2.1)\n",
            "Requirement already satisfied: partd>=1.2.0 in /usr/local/lib/python3.10/dist-packages (from dask->ome-zarr==0.2.1->vitessce[all]) (1.4.0)\n",
            "Requirement already satisfied: pyyaml>=5.3.1 in /usr/local/lib/python3.10/dist-packages (from dask->ome-zarr==0.2.1->vitessce[all]) (6.0.1)\n",
            "Requirement already satisfied: importlib-metadata>=4.13.0 in /usr/local/lib/python3.10/dist-packages (from dask->ome-zarr==0.2.1->vitessce[all]) (6.8.0)\n",
            "Requirement already satisfied: idna<4,>=2.5 in /usr/local/lib/python3.10/dist-packages (from requests->ome-zarr==0.2.1->vitessce[all]) (3.4)\n",
            "Requirement already satisfied: urllib3<3,>=1.21.1 in /usr/local/lib/python3.10/dist-packages (from requests->ome-zarr==0.2.1->vitessce[all]) (2.0.4)\n",
            "Requirement already satisfied: certifi>=2017.4.17 in /usr/local/lib/python3.10/dist-packages (from requests->ome-zarr==0.2.1->vitessce[all]) (2023.7.22)\n",
            "Requirement already satisfied: imageio>=2.4.1 in /usr/local/lib/python3.10/dist-packages (from scikit-image->ome-zarr==0.2.1->vitessce[all]) (2.31.1)\n",
            "Requirement already satisfied: PyWavelets>=1.1.1 in /usr/local/lib/python3.10/dist-packages (from scikit-image->ome-zarr==0.2.1->vitessce[all]) (1.4.1)\n",
            "Collecting stdlib_list (from session-info->scanpy>=1.9.3->vitessce[all])\n",
            "  Downloading stdlib_list-0.9.0-py3-none-any.whl (75 kB)\n",
            "\u001b[2K     \u001b[90m━━━━━━━━━━━━━━━━━━━━━━━━━━━━━━━━━━━━━━━━\u001b[0m \u001b[32m75.6/75.6 kB\u001b[0m \u001b[31m8.9 MB/s\u001b[0m eta \u001b[36m0:00:00\u001b[0m\n",
            "\u001b[?25hRequirement already satisfied: sniffio>=1.1 in /usr/local/lib/python3.10/dist-packages (from anyio<4,>=3.1.0->jupyter-server>=1.0->jupyter-server-proxy>=1.5.2->vitessce[all]) (1.3.0)\n",
            "Requirement already satisfied: exceptiongroup in /usr/local/lib/python3.10/dist-packages (from anyio<4,>=3.1.0->jupyter-server>=1.0->jupyter-server-proxy>=1.5.2->vitessce[all]) (1.1.2)\n",
            "Requirement already satisfied: zipp>=0.5 in /usr/local/lib/python3.10/dist-packages (from importlib-metadata>=4.13.0->dask->ome-zarr==0.2.1->vitessce[all]) (3.16.2)\n",
            "Collecting jedi>=0.16 (from ipython>=4.0.0->ipywidgets>=7.6.0->anywidget==0.4.2->vitessce[all])\n",
            "  Downloading jedi-0.19.0-py2.py3-none-any.whl (1.6 MB)\n",
            "\u001b[2K     \u001b[90m━━━━━━━━━━━━━━━━━━━━━━━━━━━━━━━━━━━━━━━━\u001b[0m \u001b[32m1.6/1.6 MB\u001b[0m \u001b[31m73.0 MB/s\u001b[0m eta \u001b[36m0:00:00\u001b[0m\n",
            "\u001b[?25hRequirement already satisfied: decorator in /usr/local/lib/python3.10/dist-packages (from ipython>=4.0.0->ipywidgets>=7.6.0->anywidget==0.4.2->vitessce[all]) (4.4.2)\n",
            "Requirement already satisfied: pickleshare in /usr/local/lib/python3.10/dist-packages (from ipython>=4.0.0->ipywidgets>=7.6.0->anywidget==0.4.2->vitessce[all]) (0.7.5)\n",
            "Requirement already satisfied: prompt-toolkit!=3.0.0,!=3.0.1,<3.1.0,>=2.0.0 in /usr/local/lib/python3.10/dist-packages (from ipython>=4.0.0->ipywidgets>=7.6.0->anywidget==0.4.2->vitessce[all]) (3.0.39)\n",
            "Requirement already satisfied: pygments in /usr/local/lib/python3.10/dist-packages (from ipython>=4.0.0->ipywidgets>=7.6.0->anywidget==0.4.2->vitessce[all]) (2.16.1)\n",
            "Requirement already satisfied: backcall in /usr/local/lib/python3.10/dist-packages (from ipython>=4.0.0->ipywidgets>=7.6.0->anywidget==0.4.2->vitessce[all]) (0.2.0)\n",
            "Requirement already satisfied: matplotlib-inline in /usr/local/lib/python3.10/dist-packages (from ipython>=4.0.0->ipywidgets>=7.6.0->anywidget==0.4.2->vitessce[all]) (0.1.6)\n",
            "Requirement already satisfied: pexpect>4.3 in /usr/local/lib/python3.10/dist-packages (from ipython>=4.0.0->ipywidgets>=7.6.0->anywidget==0.4.2->vitessce[all]) (4.8.0)\n",
            "Requirement already satisfied: lxml in /usr/local/lib/python3.10/dist-packages (from nbconvert>=6.4.4->jupyter-server>=1.0->jupyter-server-proxy>=1.5.2->vitessce[all]) (4.9.3)\n",
            "Requirement already satisfied: beautifulsoup4 in /usr/local/lib/python3.10/dist-packages (from nbconvert>=6.4.4->jupyter-server>=1.0->jupyter-server-proxy>=1.5.2->vitessce[all]) (4.11.2)\n",
            "Requirement already satisfied: bleach in /usr/local/lib/python3.10/dist-packages (from nbconvert>=6.4.4->jupyter-server>=1.0->jupyter-server-proxy>=1.5.2->vitessce[all]) (6.0.0)\n",
            "Requirement already satisfied: defusedxml in /usr/local/lib/python3.10/dist-packages (from nbconvert>=6.4.4->jupyter-server>=1.0->jupyter-server-proxy>=1.5.2->vitessce[all]) (0.7.1)\n",
            "Requirement already satisfied: jupyterlab-pygments in /usr/local/lib/python3.10/dist-packages (from nbconvert>=6.4.4->jupyter-server>=1.0->jupyter-server-proxy>=1.5.2->vitessce[all]) (0.2.2)\n",
            "Requirement already satisfied: MarkupSafe>=2.0 in /usr/local/lib/python3.10/dist-packages (from nbconvert>=6.4.4->jupyter-server>=1.0->jupyter-server-proxy>=1.5.2->vitessce[all]) (2.1.3)\n",
            "Requirement already satisfied: mistune<2,>=0.8.1 in /usr/local/lib/python3.10/dist-packages (from nbconvert>=6.4.4->jupyter-server>=1.0->jupyter-server-proxy>=1.5.2->vitessce[all]) (0.8.4)\n",
            "Requirement already satisfied: nbclient>=0.5.0 in /usr/local/lib/python3.10/dist-packages (from nbconvert>=6.4.4->jupyter-server>=1.0->jupyter-server-proxy>=1.5.2->vitessce[all]) (0.8.0)\n",
            "Requirement already satisfied: pandocfilters>=1.4.1 in /usr/local/lib/python3.10/dist-packages (from nbconvert>=6.4.4->jupyter-server>=1.0->jupyter-server-proxy>=1.5.2->vitessce[all]) (1.5.0)\n",
            "Requirement already satisfied: tinycss2 in /usr/local/lib/python3.10/dist-packages (from nbconvert>=6.4.4->jupyter-server>=1.0->jupyter-server-proxy>=1.5.2->vitessce[all]) (1.2.1)\n",
            "Requirement already satisfied: fastjsonschema in /usr/local/lib/python3.10/dist-packages (from nbformat>=5.2.0->jupyter-server>=1.0->jupyter-server-proxy>=1.5.2->vitessce[all]) (2.18.0)\n",
            "Requirement already satisfied: locket in /usr/local/lib/python3.10/dist-packages (from partd>=1.2.0->dask->ome-zarr==0.2.1->vitessce[all]) (1.0.0)\n",
            "Requirement already satisfied: ptyprocess in /usr/local/lib/python3.10/dist-packages (from terminado>=0.8.3->jupyter-server>=1.0->jupyter-server-proxy>=1.5.2->vitessce[all]) (0.7.0)\n",
            "Requirement already satisfied: notebook>=4.4.1 in /usr/local/lib/python3.10/dist-packages (from widgetsnbextension~=3.6.0->ipywidgets>=7.6.0->anywidget==0.4.2->vitessce[all]) (6.4.8)\n",
            "Requirement already satisfied: argon2-cffi-bindings in /usr/local/lib/python3.10/dist-packages (from argon2-cffi->jupyter-server>=1.0->jupyter-server-proxy>=1.5.2->vitessce[all]) (21.2.0)\n",
            "Collecting aiobotocore~=2.5.0 (from s3fs->fsspec[s3]!=2021.07.0->ome-zarr==0.2.1->vitessce[all])\n",
            "  Downloading aiobotocore-2.5.4-py3-none-any.whl (73 kB)\n",
            "\u001b[2K     \u001b[90m━━━━━━━━━━━━━━━━━━━━━━━━━━━━━━━━━━━━━━━━\u001b[0m \u001b[32m73.4/73.4 kB\u001b[0m \u001b[31m10.0 MB/s\u001b[0m eta \u001b[36m0:00:00\u001b[0m\n",
            "\u001b[?25hCollecting botocore<1.31.18,>=1.31.17 (from aiobotocore~=2.5.0->s3fs->fsspec[s3]!=2021.07.0->ome-zarr==0.2.1->vitessce[all])\n",
            "  Downloading botocore-1.31.17-py3-none-any.whl (11.1 MB)\n",
            "\u001b[2K     \u001b[90m━━━━━━━━━━━━━━━━━━━━━━━━━━━━━━━━━━━━━━━━\u001b[0m \u001b[32m11.1/11.1 MB\u001b[0m \u001b[31m92.9 MB/s\u001b[0m eta \u001b[36m0:00:00\u001b[0m\n",
            "\u001b[?25hRequirement already satisfied: wrapt<2.0.0,>=1.10.10 in /usr/local/lib/python3.10/dist-packages (from aiobotocore~=2.5.0->s3fs->fsspec[s3]!=2021.07.0->ome-zarr==0.2.1->vitessce[all]) (1.14.1)\n",
            "Collecting aioitertools<1.0.0,>=0.5.1 (from aiobotocore~=2.5.0->s3fs->fsspec[s3]!=2021.07.0->ome-zarr==0.2.1->vitessce[all])\n",
            "  Downloading aioitertools-0.11.0-py3-none-any.whl (23 kB)\n",
            "Requirement already satisfied: parso<0.9.0,>=0.8.3 in /usr/local/lib/python3.10/dist-packages (from jedi>=0.16->ipython>=4.0.0->ipywidgets>=7.6.0->anywidget==0.4.2->vitessce[all]) (0.8.3)\n",
            "Requirement already satisfied: nest-asyncio>=1.5 in /usr/local/lib/python3.10/dist-packages (from notebook>=4.4.1->widgetsnbextension~=3.6.0->ipywidgets>=7.6.0->anywidget==0.4.2->vitessce[all]) (1.5.7)\n",
            "Requirement already satisfied: wcwidth in /usr/local/lib/python3.10/dist-packages (from prompt-toolkit!=3.0.0,!=3.0.1,<3.1.0,>=2.0.0->ipython>=4.0.0->ipywidgets>=7.6.0->anywidget==0.4.2->vitessce[all]) (0.2.6)\n",
            "Requirement already satisfied: cffi>=1.0.1 in /usr/local/lib/python3.10/dist-packages (from argon2-cffi-bindings->argon2-cffi->jupyter-server>=1.0->jupyter-server-proxy>=1.5.2->vitessce[all]) (1.15.1)\n",
            "Requirement already satisfied: soupsieve>1.2 in /usr/local/lib/python3.10/dist-packages (from beautifulsoup4->nbconvert>=6.4.4->jupyter-server>=1.0->jupyter-server-proxy>=1.5.2->vitessce[all]) (2.4.1)\n",
            "Requirement already satisfied: webencodings in /usr/local/lib/python3.10/dist-packages (from bleach->nbconvert>=6.4.4->jupyter-server>=1.0->jupyter-server-proxy>=1.5.2->vitessce[all]) (0.5.1)\n",
            "Collecting jmespath<2.0.0,>=0.7.1 (from botocore<1.31.18,>=1.31.17->aiobotocore~=2.5.0->s3fs->fsspec[s3]!=2021.07.0->ome-zarr==0.2.1->vitessce[all])\n",
            "  Downloading jmespath-1.0.1-py3-none-any.whl (20 kB)\n",
            "Collecting urllib3<3,>=1.21.1 (from requests->ome-zarr==0.2.1->vitessce[all])\n",
            "  Downloading urllib3-1.26.16-py2.py3-none-any.whl (143 kB)\n",
            "\u001b[2K     \u001b[90m━━━━━━━━━━━━━━━━━━━━━━━━━━━━━━━━━━━━━━\u001b[0m \u001b[32m143.1/143.1 kB\u001b[0m \u001b[31m19.2 MB/s\u001b[0m eta \u001b[36m0:00:00\u001b[0m\n",
            "\u001b[?25hRequirement already satisfied: pycparser in /usr/local/lib/python3.10/dist-packages (from cffi>=1.0.1->argon2-cffi-bindings->argon2-cffi->jupyter-server>=1.0->jupyter-server-proxy>=1.5.2->vitessce[all]) (2.21)\n",
            "Building wheels for collected packages: negspy, umap-learn, asciitree, session-info, pynndescent\n",
            "  Building wheel for negspy (setup.py) ... \u001b[?25l\u001b[?25hdone\n",
            "  Created wheel for negspy: filename=negspy-0.2.24-py3-none-any.whl size=1725342 sha256=e0288e5176adc3affc5a0abd663223962752952189424ab9a8c27f810c69c815\n",
            "  Stored in directory: /root/.cache/pip/wheels/4c/01/07/77d7b941e82a624da932e7745bb9a1265418559a23b7bec627\n",
            "  Building wheel for umap-learn (setup.py) ... \u001b[?25l\u001b[?25hdone\n",
            "  Created wheel for umap-learn: filename=umap_learn-0.5.3-py3-none-any.whl size=82808 sha256=36bfb9703c1848c012ab6f1656af43e8c5a5f60cfacc579178f7a4d5964bbfe9\n",
            "  Stored in directory: /root/.cache/pip/wheels/a0/e8/c6/a37ea663620bd5200ea1ba0907ab3c217042c1d035ef606acc\n",
            "  Building wheel for asciitree (setup.py) ... \u001b[?25l\u001b[?25hdone\n",
            "  Created wheel for asciitree: filename=asciitree-0.3.3-py3-none-any.whl size=5033 sha256=0f3d404e04a5cfdc66d1897acf44f101eb002cc7a3a87605bd4980484ca7f7e6\n",
            "  Stored in directory: /root/.cache/pip/wheels/7f/4e/be/1171b40f43b918087657ec57cf3b81fa1a2e027d8755baa184\n",
            "  Building wheel for session-info (setup.py) ... \u001b[?25l\u001b[?25hdone\n",
            "  Created wheel for session-info: filename=session_info-1.0.0-py3-none-any.whl size=8027 sha256=b5703f2bc4ac59927cb091ecf0b8bdc36904c89e4969e3cb88a626714addd9ad\n",
            "  Stored in directory: /root/.cache/pip/wheels/6a/aa/b9/eb5d4031476ec10802795b97ccf937b9bd998d68a9b268765a\n",
            "  Building wheel for pynndescent (setup.py) ... \u001b[?25l\u001b[?25hdone\n",
            "  Created wheel for pynndescent: filename=pynndescent-0.5.10-py3-none-any.whl size=55617 sha256=aca2a58afea85d1838f3f2ba9087e9682a458e77e63c37d9eaa1c167331fe043\n",
            "  Stored in directory: /root/.cache/pip/wheels/4a/38/5d/f60a40a66a9512b7e5e83517ebc2d1b42d857be97d135f1096\n",
            "Successfully built negspy umap-learn asciitree session-info pynndescent\n",
            "Installing collected packages: negspy, asciitree, urllib3, ujson, tifffile, stdlib_list, starlette, simpervisor, pathspec, numcodecs, mypy-extensions, jmespath, jedi, h11, fasteners, aioitertools, aiofiles, zarr, uvicorn, session-info, psygnal, generate-tiff-offsets, botocore, black, pynndescent, anndata, aiobotocore, umap-learn, s3fs, scanpy, ome-zarr, vitessce, jupyter-server-proxy, anywidget\n",
            "  Attempting uninstall: urllib3\n",
            "    Found existing installation: urllib3 2.0.4\n",
            "    Uninstalling urllib3-2.0.4:\n",
            "      Successfully uninstalled urllib3-2.0.4\n",
            "  Attempting uninstall: tifffile\n",
            "    Found existing installation: tifffile 2023.7.18\n",
            "    Uninstalling tifffile-2023.7.18:\n",
            "      Successfully uninstalled tifffile-2023.7.18\n",
            "Successfully installed aiobotocore-2.5.4 aiofiles-23.2.1 aioitertools-0.11.0 anndata-0.8.0 anywidget-0.4.2 asciitree-0.3.3 black-23.7.0 botocore-1.31.17 fasteners-0.18 generate-tiff-offsets-0.1.7 h11-0.14.0 jedi-0.19.0 jmespath-1.0.1 jupyter-server-proxy-4.0.0 mypy-extensions-1.0.0 negspy-0.2.24 numcodecs-0.11.0 ome-zarr-0.2.1 pathspec-0.11.2 psygnal-0.9.3 pynndescent-0.5.10 s3fs-2023.6.0 scanpy-1.9.3 session-info-1.0.0 simpervisor-1.0.0 starlette-0.14.0 stdlib_list-0.9.0 tifffile-2020.10.1 ujson-5.8.0 umap-learn-0.5.3 urllib3-1.26.16 uvicorn-0.23.2 vitessce-3.0.7 zarr-2.16.0\n"
          ]
        }
      ],
      "source": [
        "import importlib.util\n",
        "if importlib.util.find_spec('vitessce') is None:\n",
        "  !pip install vitessce[all]"
      ]
    },
    {
      "cell_type": "code",
      "source": [
        "from vitessce import (\n",
        "    VitessceConfig,\n",
        "    Component as cm,\n",
        "    CoordinationType as ct,\n",
        "    FileType as ft,\n",
        "    ViewType as vt,\n",
        "    AnnDataWrapper,\n",
        "    MultiImageWrapper,\n",
        "    OmeTiffWrapper,\n",
        "    BASE_URL_PLACEHOLDER,\n",
        ")"
      ],
      "metadata": {
        "id": "HQVkt58HV1Z-"
      },
      "execution_count": 2,
      "outputs": []
    },
    {
      "cell_type": "code",
      "source": [
        "# list of image URLs\n",
        "# https://storagetuzi.blob.core.windows.net/blobtuzi/hickey_neigh_data/Region_3_mask.pyramid.ome.tif\n",
        "image_urls = [ rf'https://storagetuzi.blob.core.windows.net/blobtuzi/hickey_neigh_data/Region_{region+1}_mask.pyramid.ome.tif' for region in range(64)]\n",
        "\n",
        "region_names = [str(region+1) for region in range(64)]\n",
        "\n",
        "image_urls"
      ],
      "metadata": {
        "colab": {
          "base_uri": "https://localhost:8080/"
        },
        "id": "DAvtgZbQekR8",
        "outputId": "72862d86-ebbf-4596-8cf7-6ec22e3ace24"
      },
      "execution_count": 3,
      "outputs": [
        {
          "output_type": "execute_result",
          "data": {
            "text/plain": [
              "['https://storagetuzi.blob.core.windows.net/blobtuzi/hickey_neigh_data/Region_1_mask.pyramid.ome.tif',\n",
              " 'https://storagetuzi.blob.core.windows.net/blobtuzi/hickey_neigh_data/Region_2_mask.pyramid.ome.tif',\n",
              " 'https://storagetuzi.blob.core.windows.net/blobtuzi/hickey_neigh_data/Region_3_mask.pyramid.ome.tif',\n",
              " 'https://storagetuzi.blob.core.windows.net/blobtuzi/hickey_neigh_data/Region_4_mask.pyramid.ome.tif',\n",
              " 'https://storagetuzi.blob.core.windows.net/blobtuzi/hickey_neigh_data/Region_5_mask.pyramid.ome.tif',\n",
              " 'https://storagetuzi.blob.core.windows.net/blobtuzi/hickey_neigh_data/Region_6_mask.pyramid.ome.tif',\n",
              " 'https://storagetuzi.blob.core.windows.net/blobtuzi/hickey_neigh_data/Region_7_mask.pyramid.ome.tif',\n",
              " 'https://storagetuzi.blob.core.windows.net/blobtuzi/hickey_neigh_data/Region_8_mask.pyramid.ome.tif',\n",
              " 'https://storagetuzi.blob.core.windows.net/blobtuzi/hickey_neigh_data/Region_9_mask.pyramid.ome.tif',\n",
              " 'https://storagetuzi.blob.core.windows.net/blobtuzi/hickey_neigh_data/Region_10_mask.pyramid.ome.tif',\n",
              " 'https://storagetuzi.blob.core.windows.net/blobtuzi/hickey_neigh_data/Region_11_mask.pyramid.ome.tif',\n",
              " 'https://storagetuzi.blob.core.windows.net/blobtuzi/hickey_neigh_data/Region_12_mask.pyramid.ome.tif',\n",
              " 'https://storagetuzi.blob.core.windows.net/blobtuzi/hickey_neigh_data/Region_13_mask.pyramid.ome.tif',\n",
              " 'https://storagetuzi.blob.core.windows.net/blobtuzi/hickey_neigh_data/Region_14_mask.pyramid.ome.tif',\n",
              " 'https://storagetuzi.blob.core.windows.net/blobtuzi/hickey_neigh_data/Region_15_mask.pyramid.ome.tif',\n",
              " 'https://storagetuzi.blob.core.windows.net/blobtuzi/hickey_neigh_data/Region_16_mask.pyramid.ome.tif',\n",
              " 'https://storagetuzi.blob.core.windows.net/blobtuzi/hickey_neigh_data/Region_17_mask.pyramid.ome.tif',\n",
              " 'https://storagetuzi.blob.core.windows.net/blobtuzi/hickey_neigh_data/Region_18_mask.pyramid.ome.tif',\n",
              " 'https://storagetuzi.blob.core.windows.net/blobtuzi/hickey_neigh_data/Region_19_mask.pyramid.ome.tif',\n",
              " 'https://storagetuzi.blob.core.windows.net/blobtuzi/hickey_neigh_data/Region_20_mask.pyramid.ome.tif',\n",
              " 'https://storagetuzi.blob.core.windows.net/blobtuzi/hickey_neigh_data/Region_21_mask.pyramid.ome.tif',\n",
              " 'https://storagetuzi.blob.core.windows.net/blobtuzi/hickey_neigh_data/Region_22_mask.pyramid.ome.tif',\n",
              " 'https://storagetuzi.blob.core.windows.net/blobtuzi/hickey_neigh_data/Region_23_mask.pyramid.ome.tif',\n",
              " 'https://storagetuzi.blob.core.windows.net/blobtuzi/hickey_neigh_data/Region_24_mask.pyramid.ome.tif',\n",
              " 'https://storagetuzi.blob.core.windows.net/blobtuzi/hickey_neigh_data/Region_25_mask.pyramid.ome.tif',\n",
              " 'https://storagetuzi.blob.core.windows.net/blobtuzi/hickey_neigh_data/Region_26_mask.pyramid.ome.tif',\n",
              " 'https://storagetuzi.blob.core.windows.net/blobtuzi/hickey_neigh_data/Region_27_mask.pyramid.ome.tif',\n",
              " 'https://storagetuzi.blob.core.windows.net/blobtuzi/hickey_neigh_data/Region_28_mask.pyramid.ome.tif',\n",
              " 'https://storagetuzi.blob.core.windows.net/blobtuzi/hickey_neigh_data/Region_29_mask.pyramid.ome.tif',\n",
              " 'https://storagetuzi.blob.core.windows.net/blobtuzi/hickey_neigh_data/Region_30_mask.pyramid.ome.tif',\n",
              " 'https://storagetuzi.blob.core.windows.net/blobtuzi/hickey_neigh_data/Region_31_mask.pyramid.ome.tif',\n",
              " 'https://storagetuzi.blob.core.windows.net/blobtuzi/hickey_neigh_data/Region_32_mask.pyramid.ome.tif',\n",
              " 'https://storagetuzi.blob.core.windows.net/blobtuzi/hickey_neigh_data/Region_33_mask.pyramid.ome.tif',\n",
              " 'https://storagetuzi.blob.core.windows.net/blobtuzi/hickey_neigh_data/Region_34_mask.pyramid.ome.tif',\n",
              " 'https://storagetuzi.blob.core.windows.net/blobtuzi/hickey_neigh_data/Region_35_mask.pyramid.ome.tif',\n",
              " 'https://storagetuzi.blob.core.windows.net/blobtuzi/hickey_neigh_data/Region_36_mask.pyramid.ome.tif',\n",
              " 'https://storagetuzi.blob.core.windows.net/blobtuzi/hickey_neigh_data/Region_37_mask.pyramid.ome.tif',\n",
              " 'https://storagetuzi.blob.core.windows.net/blobtuzi/hickey_neigh_data/Region_38_mask.pyramid.ome.tif',\n",
              " 'https://storagetuzi.blob.core.windows.net/blobtuzi/hickey_neigh_data/Region_39_mask.pyramid.ome.tif',\n",
              " 'https://storagetuzi.blob.core.windows.net/blobtuzi/hickey_neigh_data/Region_40_mask.pyramid.ome.tif',\n",
              " 'https://storagetuzi.blob.core.windows.net/blobtuzi/hickey_neigh_data/Region_41_mask.pyramid.ome.tif',\n",
              " 'https://storagetuzi.blob.core.windows.net/blobtuzi/hickey_neigh_data/Region_42_mask.pyramid.ome.tif',\n",
              " 'https://storagetuzi.blob.core.windows.net/blobtuzi/hickey_neigh_data/Region_43_mask.pyramid.ome.tif',\n",
              " 'https://storagetuzi.blob.core.windows.net/blobtuzi/hickey_neigh_data/Region_44_mask.pyramid.ome.tif',\n",
              " 'https://storagetuzi.blob.core.windows.net/blobtuzi/hickey_neigh_data/Region_45_mask.pyramid.ome.tif',\n",
              " 'https://storagetuzi.blob.core.windows.net/blobtuzi/hickey_neigh_data/Region_46_mask.pyramid.ome.tif',\n",
              " 'https://storagetuzi.blob.core.windows.net/blobtuzi/hickey_neigh_data/Region_47_mask.pyramid.ome.tif',\n",
              " 'https://storagetuzi.blob.core.windows.net/blobtuzi/hickey_neigh_data/Region_48_mask.pyramid.ome.tif',\n",
              " 'https://storagetuzi.blob.core.windows.net/blobtuzi/hickey_neigh_data/Region_49_mask.pyramid.ome.tif',\n",
              " 'https://storagetuzi.blob.core.windows.net/blobtuzi/hickey_neigh_data/Region_50_mask.pyramid.ome.tif',\n",
              " 'https://storagetuzi.blob.core.windows.net/blobtuzi/hickey_neigh_data/Region_51_mask.pyramid.ome.tif',\n",
              " 'https://storagetuzi.blob.core.windows.net/blobtuzi/hickey_neigh_data/Region_52_mask.pyramid.ome.tif',\n",
              " 'https://storagetuzi.blob.core.windows.net/blobtuzi/hickey_neigh_data/Region_53_mask.pyramid.ome.tif',\n",
              " 'https://storagetuzi.blob.core.windows.net/blobtuzi/hickey_neigh_data/Region_54_mask.pyramid.ome.tif',\n",
              " 'https://storagetuzi.blob.core.windows.net/blobtuzi/hickey_neigh_data/Region_55_mask.pyramid.ome.tif',\n",
              " 'https://storagetuzi.blob.core.windows.net/blobtuzi/hickey_neigh_data/Region_56_mask.pyramid.ome.tif',\n",
              " 'https://storagetuzi.blob.core.windows.net/blobtuzi/hickey_neigh_data/Region_57_mask.pyramid.ome.tif',\n",
              " 'https://storagetuzi.blob.core.windows.net/blobtuzi/hickey_neigh_data/Region_58_mask.pyramid.ome.tif',\n",
              " 'https://storagetuzi.blob.core.windows.net/blobtuzi/hickey_neigh_data/Region_59_mask.pyramid.ome.tif',\n",
              " 'https://storagetuzi.blob.core.windows.net/blobtuzi/hickey_neigh_data/Region_60_mask.pyramid.ome.tif',\n",
              " 'https://storagetuzi.blob.core.windows.net/blobtuzi/hickey_neigh_data/Region_61_mask.pyramid.ome.tif',\n",
              " 'https://storagetuzi.blob.core.windows.net/blobtuzi/hickey_neigh_data/Region_62_mask.pyramid.ome.tif',\n",
              " 'https://storagetuzi.blob.core.windows.net/blobtuzi/hickey_neigh_data/Region_63_mask.pyramid.ome.tif',\n",
              " 'https://storagetuzi.blob.core.windows.net/blobtuzi/hickey_neigh_data/Region_64_mask.pyramid.ome.tif']"
            ]
          },
          "metadata": {},
          "execution_count": 3
        }
      ]
    },
    {
      "cell_type": "code",
      "source": [
        "import os\n",
        "!mkdir -p ./images  # create a directory to store images if it doesn't exist\n",
        "\n",
        "# Download each image\n",
        "for url in image_urls:\n",
        "    # Extract the original file name from the URL\n",
        "    original_file_name = os.path.basename(url)\n",
        "    !curl -L -o ./images/{original_file_name} {url}\n",
        "\n",
        "csv_url = \"https://storagetuzi.blob.core.windows.net/blobtuzi/hickey_neigh_data/cell_sets.csv\"\n",
        "csv_path = './images/cell_sets.csv'\n",
        "!curl -L -o ./images/cell_sets.csv {csv_url}\n"
      ],
      "metadata": {
        "colab": {
          "base_uri": "https://localhost:8080/"
        },
        "id": "YfUHgCTkhOpR",
        "outputId": "7035c5e6-09f2-4883-8b21-08ae2b63d840"
      },
      "execution_count": 4,
      "outputs": [
        {
          "output_type": "stream",
          "name": "stdout",
          "text": [
            "  % Total    % Received % Xferd  Average Speed   Time    Time     Time  Current\n",
            "                                 Dload  Upload   Total   Spent    Left  Speed\n",
            "100 2439k  100 2439k    0     0  1752k      0  0:00:01  0:00:01 --:--:-- 1752k\n",
            "  % Total    % Received % Xferd  Average Speed   Time    Time     Time  Current\n",
            "                                 Dload  Upload   Total   Spent    Left  Speed\n",
            "100 2282k  100 2282k    0     0  1849k      0  0:00:01  0:00:01 --:--:-- 1849k\n",
            "  % Total    % Received % Xferd  Average Speed   Time    Time     Time  Current\n",
            "                                 Dload  Upload   Total   Spent    Left  Speed\n",
            "100 3542k  100 3542k    0     0  2252k      0  0:00:01  0:00:01 --:--:-- 2252k\n",
            "  % Total    % Received % Xferd  Average Speed   Time    Time     Time  Current\n",
            "                                 Dload  Upload   Total   Spent    Left  Speed\n",
            "100 4561k  100 4561k    0     0  2946k      0  0:00:01  0:00:01 --:--:-- 2944k\n",
            "  % Total    % Received % Xferd  Average Speed   Time    Time     Time  Current\n",
            "                                 Dload  Upload   Total   Spent    Left  Speed\n",
            "100 2682k  100 2682k    0     0  2016k      0  0:00:01  0:00:01 --:--:-- 2018k\n",
            "  % Total    % Received % Xferd  Average Speed   Time    Time     Time  Current\n",
            "                                 Dload  Upload   Total   Spent    Left  Speed\n",
            "100 2444k  100 2444k    0     0  1875k      0  0:00:01  0:00:01 --:--:-- 1876k\n",
            "  % Total    % Received % Xferd  Average Speed   Time    Time     Time  Current\n",
            "                                 Dload  Upload   Total   Spent    Left  Speed\n",
            "100 2758k  100 2758k    0     0  2020k      0  0:00:01  0:00:01 --:--:-- 2019k\n",
            "  % Total    % Received % Xferd  Average Speed   Time    Time     Time  Current\n",
            "                                 Dload  Upload   Total   Spent    Left  Speed\n",
            "100 1484k  100 1484k    0     0  1311k      0  0:00:01  0:00:01 --:--:-- 1312k\n",
            "  % Total    % Received % Xferd  Average Speed   Time    Time     Time  Current\n",
            "                                 Dload  Upload   Total   Spent    Left  Speed\n",
            "100 2954k  100 2954k    0     0  2054k      0  0:00:01  0:00:01 --:--:-- 2055k\n",
            "  % Total    % Received % Xferd  Average Speed   Time    Time     Time  Current\n",
            "                                 Dload  Upload   Total   Spent    Left  Speed\n",
            "100 4319k  100 4319k    0     0  2883k      0  0:00:01  0:00:01 --:--:-- 2885k\n",
            "  % Total    % Received % Xferd  Average Speed   Time    Time     Time  Current\n",
            "                                 Dload  Upload   Total   Spent    Left  Speed\n",
            "100 2194k  100 2194k    0     0  1784k      0  0:00:01  0:00:01 --:--:-- 1785k\n",
            "  % Total    % Received % Xferd  Average Speed   Time    Time     Time  Current\n",
            "                                 Dload  Upload   Total   Spent    Left  Speed\n",
            "100 5516k  100 5516k    0     0  3611k      0  0:00:01  0:00:01 --:--:-- 3610k\n",
            "  % Total    % Received % Xferd  Average Speed   Time    Time     Time  Current\n",
            "                                 Dload  Upload   Total   Spent    Left  Speed\n",
            "100 5215k  100 5215k    0     0  3445k      0  0:00:01  0:00:01 --:--:-- 3444k\n",
            "  % Total    % Received % Xferd  Average Speed   Time    Time     Time  Current\n",
            "                                 Dload  Upload   Total   Spent    Left  Speed\n",
            "100 2403k  100 2403k    0     0  1915k      0  0:00:01  0:00:01 --:--:-- 1916k\n",
            "  % Total    % Received % Xferd  Average Speed   Time    Time     Time  Current\n",
            "                                 Dload  Upload   Total   Spent    Left  Speed\n",
            "100 2461k  100 2461k    0     0  1901k      0  0:00:01  0:00:01 --:--:-- 1902k\n",
            "  % Total    % Received % Xferd  Average Speed   Time    Time     Time  Current\n",
            "                                 Dload  Upload   Total   Spent    Left  Speed\n",
            "100 3582k  100 3582k    0     0  2444k      0  0:00:01  0:00:01 --:--:-- 2444k\n",
            "  % Total    % Received % Xferd  Average Speed   Time    Time     Time  Current\n",
            "                                 Dload  Upload   Total   Spent    Left  Speed\n",
            "100 2707k  100 2707k    0     0  2132k      0  0:00:01  0:00:01 --:--:-- 2133k\n",
            "  % Total    % Received % Xferd  Average Speed   Time    Time     Time  Current\n",
            "                                 Dload  Upload   Total   Spent    Left  Speed\n",
            "100 3652k  100 3652k    0     0  2583k      0  0:00:01  0:00:01 --:--:-- 2583k\n",
            "  % Total    % Received % Xferd  Average Speed   Time    Time     Time  Current\n",
            "                                 Dload  Upload   Total   Spent    Left  Speed\n",
            "100 4326k  100 4326k    0     0  2877k      0  0:00:01  0:00:01 --:--:-- 2878k\n",
            "  % Total    % Received % Xferd  Average Speed   Time    Time     Time  Current\n",
            "                                 Dload  Upload   Total   Spent    Left  Speed\n",
            "100 3770k  100 3770k    0     0  2947k      0  0:00:01  0:00:01 --:--:-- 2946k\n",
            "  % Total    % Received % Xferd  Average Speed   Time    Time     Time  Current\n",
            "                                 Dload  Upload   Total   Spent    Left  Speed\n",
            "100 5017k  100 5017k    0     0  3325k      0  0:00:01  0:00:01 --:--:-- 3327k\n",
            "  % Total    % Received % Xferd  Average Speed   Time    Time     Time  Current\n",
            "                                 Dload  Upload   Total   Spent    Left  Speed\n",
            "100 3118k  100 3118k    0     0  2265k      0  0:00:01  0:00:01 --:--:-- 2264k\n",
            "  % Total    % Received % Xferd  Average Speed   Time    Time     Time  Current\n",
            "                                 Dload  Upload   Total   Spent    Left  Speed\n",
            "100 3397k  100 3397k    0     0  2410k      0  0:00:01  0:00:01 --:--:-- 2411k\n",
            "  % Total    % Received % Xferd  Average Speed   Time    Time     Time  Current\n",
            "                                 Dload  Upload   Total   Spent    Left  Speed\n",
            "100 5700k  100 5700k    0     0  3604k      0  0:00:01  0:00:01 --:--:-- 3603k\n",
            "  % Total    % Received % Xferd  Average Speed   Time    Time     Time  Current\n",
            "                                 Dload  Upload   Total   Spent    Left  Speed\n",
            "100 2815k  100 2815k    0     0  2062k      0  0:00:01  0:00:01 --:--:-- 2062k\n",
            "  % Total    % Received % Xferd  Average Speed   Time    Time     Time  Current\n",
            "                                 Dload  Upload   Total   Spent    Left  Speed\n",
            "100 2272k  100 2272k    0     0  1658k      0  0:00:01  0:00:01 --:--:-- 1657k\n",
            "  % Total    % Received % Xferd  Average Speed   Time    Time     Time  Current\n",
            "                                 Dload  Upload   Total   Spent    Left  Speed\n",
            "100 5919k  100 5919k    0     0  3477k      0  0:00:01  0:00:01 --:--:-- 3477k\n",
            "  % Total    % Received % Xferd  Average Speed   Time    Time     Time  Current\n",
            "                                 Dload  Upload   Total   Spent    Left  Speed\n",
            "100 5511k  100 5511k    0     0  3478k      0  0:00:01  0:00:01 --:--:-- 3476k\n",
            "  % Total    % Received % Xferd  Average Speed   Time    Time     Time  Current\n",
            "                                 Dload  Upload   Total   Spent    Left  Speed\n",
            "100 3769k  100 3769k    0     0  2535k      0  0:00:01  0:00:01 --:--:-- 2534k\n",
            "  % Total    % Received % Xferd  Average Speed   Time    Time     Time  Current\n",
            "                                 Dload  Upload   Total   Spent    Left  Speed\n",
            "100 3314k  100 3314k    0     0  2775k      0  0:00:01  0:00:01 --:--:-- 2776k\n",
            "  % Total    % Received % Xferd  Average Speed   Time    Time     Time  Current\n",
            "                                 Dload  Upload   Total   Spent    Left  Speed\n",
            "100 3255k  100 3255k    0     0  2418k      0  0:00:01  0:00:01 --:--:-- 2420k\n",
            "  % Total    % Received % Xferd  Average Speed   Time    Time     Time  Current\n",
            "                                 Dload  Upload   Total   Spent    Left  Speed\n",
            "100 3566k  100 3566k    0     0  2384k      0  0:00:01  0:00:01 --:--:-- 2384k\n",
            "  % Total    % Received % Xferd  Average Speed   Time    Time     Time  Current\n",
            "                                 Dload  Upload   Total   Spent    Left  Speed\n",
            "100 3274k  100 3274k    0     0  2459k      0  0:00:01  0:00:01 --:--:-- 2460k\n",
            "  % Total    % Received % Xferd  Average Speed   Time    Time     Time  Current\n",
            "                                 Dload  Upload   Total   Spent    Left  Speed\n",
            "100 3453k  100 3453k    0     0  2427k      0  0:00:01  0:00:01 --:--:-- 2427k\n",
            "  % Total    % Received % Xferd  Average Speed   Time    Time     Time  Current\n",
            "                                 Dload  Upload   Total   Spent    Left  Speed\n",
            "100 6124k  100 6124k    0     0  4169k      0  0:00:01  0:00:01 --:--:-- 4171k\n",
            "  % Total    % Received % Xferd  Average Speed   Time    Time     Time  Current\n",
            "                                 Dload  Upload   Total   Spent    Left  Speed\n",
            "100 7919k  100 7919k    0     0  4708k      0  0:00:01  0:00:01 --:--:-- 4708k\n",
            "  % Total    % Received % Xferd  Average Speed   Time    Time     Time  Current\n",
            "                                 Dload  Upload   Total   Spent    Left  Speed\n",
            "100 3801k  100 3801k    0     0  2660k      0  0:00:01  0:00:01 --:--:-- 2662k\n",
            "  % Total    % Received % Xferd  Average Speed   Time    Time     Time  Current\n",
            "                                 Dload  Upload   Total   Spent    Left  Speed\n",
            "100 4792k  100 4792k    0     0  3127k      0  0:00:01  0:00:01 --:--:-- 3126k\n",
            "  % Total    % Received % Xferd  Average Speed   Time    Time     Time  Current\n",
            "                                 Dload  Upload   Total   Spent    Left  Speed\n",
            "100 3228k  100 3228k    0     0  2447k      0  0:00:01  0:00:01 --:--:-- 2449k\n",
            "  % Total    % Received % Xferd  Average Speed   Time    Time     Time  Current\n",
            "                                 Dload  Upload   Total   Spent    Left  Speed\n",
            "100 4283k  100 4283k    0     0  2880k      0  0:00:01  0:00:01 --:--:-- 2880k\n",
            "  % Total    % Received % Xferd  Average Speed   Time    Time     Time  Current\n",
            "                                 Dload  Upload   Total   Spent    Left  Speed\n",
            "100 2975k  100 2975k    0     0  2189k      0  0:00:01  0:00:01 --:--:-- 2191k\n",
            "  % Total    % Received % Xferd  Average Speed   Time    Time     Time  Current\n",
            "                                 Dload  Upload   Total   Spent    Left  Speed\n",
            "100 3395k  100 3395k    0     0  2500k      0  0:00:01  0:00:01 --:--:-- 2498k\n",
            "  % Total    % Received % Xferd  Average Speed   Time    Time     Time  Current\n",
            "                                 Dload  Upload   Total   Spent    Left  Speed\n",
            "100 3764k  100 3764k    0     0  2503k      0  0:00:01  0:00:01 --:--:-- 2504k\n",
            "  % Total    % Received % Xferd  Average Speed   Time    Time     Time  Current\n",
            "                                 Dload  Upload   Total   Spent    Left  Speed\n",
            "100 3204k  100 3204k    0     0  2388k      0  0:00:01  0:00:01 --:--:-- 2387k\n",
            "  % Total    % Received % Xferd  Average Speed   Time    Time     Time  Current\n",
            "                                 Dload  Upload   Total   Spent    Left  Speed\n",
            "100 3927k  100 3927k    0     0  2899k      0  0:00:01  0:00:01 --:--:-- 2900k\n",
            "  % Total    % Received % Xferd  Average Speed   Time    Time     Time  Current\n",
            "                                 Dload  Upload   Total   Spent    Left  Speed\n",
            "100 4345k  100 4345k    0     0  2786k      0  0:00:01  0:00:01 --:--:-- 2785k\n",
            "  % Total    % Received % Xferd  Average Speed   Time    Time     Time  Current\n",
            "                                 Dload  Upload   Total   Spent    Left  Speed\n",
            "100 3104k  100 3104k    0     0  2266k      0  0:00:01  0:00:01 --:--:-- 2267k\n",
            "  % Total    % Received % Xferd  Average Speed   Time    Time     Time  Current\n",
            "                                 Dload  Upload   Total   Spent    Left  Speed\n",
            "100 5324k  100 5324k    0     0  3661k      0  0:00:01  0:00:01 --:--:-- 3659k\n",
            "  % Total    % Received % Xferd  Average Speed   Time    Time     Time  Current\n",
            "                                 Dload  Upload   Total   Spent    Left  Speed\n",
            "100 2759k  100 2759k    0     0  2128k      0  0:00:01  0:00:01 --:--:-- 2130k\n",
            "  % Total    % Received % Xferd  Average Speed   Time    Time     Time  Current\n",
            "                                 Dload  Upload   Total   Spent    Left  Speed\n",
            "100 2216k  100 2216k    0     0  1690k      0  0:00:01  0:00:01 --:--:-- 1690k\n",
            "  % Total    % Received % Xferd  Average Speed   Time    Time     Time  Current\n",
            "                                 Dload  Upload   Total   Spent    Left  Speed\n",
            "100 2521k  100 2521k    0     0  1970k      0  0:00:01  0:00:01 --:--:-- 1971k\n",
            "  % Total    % Received % Xferd  Average Speed   Time    Time     Time  Current\n",
            "                                 Dload  Upload   Total   Spent    Left  Speed\n",
            "100 3681k  100 3681k    0     0  2590k      0  0:00:01  0:00:01 --:--:-- 2590k\n",
            "  % Total    % Received % Xferd  Average Speed   Time    Time     Time  Current\n",
            "                                 Dload  Upload   Total   Spent    Left  Speed\n",
            "100 2569k  100 2569k    0     0  1851k      0  0:00:01  0:00:01 --:--:-- 1850k\n",
            "  % Total    % Received % Xferd  Average Speed   Time    Time     Time  Current\n",
            "                                 Dload  Upload   Total   Spent    Left  Speed\n",
            "100 2723k  100 2723k    0     0  2191k      0  0:00:01  0:00:01 --:--:-- 2192k\n",
            "  % Total    % Received % Xferd  Average Speed   Time    Time     Time  Current\n",
            "                                 Dload  Upload   Total   Spent    Left  Speed\n",
            "100 4211k  100 4211k    0     0  2759k      0  0:00:01  0:00:01 --:--:-- 2758k\n",
            "  % Total    % Received % Xferd  Average Speed   Time    Time     Time  Current\n",
            "                                 Dload  Upload   Total   Spent    Left  Speed\n",
            "100 3914k  100 3914k    0     0  2743k      0  0:00:01  0:00:01 --:--:-- 2744k\n",
            "  % Total    % Received % Xferd  Average Speed   Time    Time     Time  Current\n",
            "                                 Dload  Upload   Total   Spent    Left  Speed\n",
            "100 3170k  100 3170k    0     0  2275k      0  0:00:01  0:00:01 --:--:-- 2274k\n",
            "  % Total    % Received % Xferd  Average Speed   Time    Time     Time  Current\n",
            "                                 Dload  Upload   Total   Spent    Left  Speed\n",
            "100 3387k  100 3387k    0     0  2413k      0  0:00:01  0:00:01 --:--:-- 2414k\n",
            "  % Total    % Received % Xferd  Average Speed   Time    Time     Time  Current\n",
            "                                 Dload  Upload   Total   Spent    Left  Speed\n",
            "100 2954k  100 2954k    0     0  2172k      0  0:00:01  0:00:01 --:--:-- 2172k\n",
            "  % Total    % Received % Xferd  Average Speed   Time    Time     Time  Current\n",
            "                                 Dload  Upload   Total   Spent    Left  Speed\n",
            "100 3252k  100 3252k    0     0  2322k      0  0:00:01  0:00:01 --:--:-- 2322k\n",
            "  % Total    % Received % Xferd  Average Speed   Time    Time     Time  Current\n",
            "                                 Dload  Upload   Total   Spent    Left  Speed\n",
            "100 2123k  100 2123k    0     0  1525k      0  0:00:01  0:00:01 --:--:-- 1525k\n",
            "  % Total    % Received % Xferd  Average Speed   Time    Time     Time  Current\n",
            "                                 Dload  Upload   Total   Spent    Left  Speed\n",
            "100 3256k  100 3256k    0     0  2445k      0  0:00:01  0:00:01 --:--:-- 2446k\n",
            "  % Total    % Received % Xferd  Average Speed   Time    Time     Time  Current\n",
            "                                 Dload  Upload   Total   Spent    Left  Speed\n",
            "100 2909k  100 2909k    0     0  2126k      0  0:00:01  0:00:01 --:--:-- 2127k\n",
            "  % Total    % Received % Xferd  Average Speed   Time    Time     Time  Current\n",
            "                                 Dload  Upload   Total   Spent    Left  Speed\n",
            "100 2662k  100 2662k    0     0  2031k      0  0:00:01  0:00:01 --:--:-- 2032k\n",
            "  % Total    % Received % Xferd  Average Speed   Time    Time     Time  Current\n",
            "                                 Dload  Upload   Total   Spent    Left  Speed\n",
            "100   484  100   484    0     0   1321      0 --:--:-- --:--:-- --:--:--  1322\n"
          ]
        }
      ]
    },
    {
      "cell_type": "code",
      "source": [
        "# Define the directory\n",
        "dir_path = './images'\n",
        "\n",
        "# Get the list of files in the directory\n",
        "files = os.listdir(dir_path)\n",
        "\n",
        "for path in files:\n",
        "    print(path)"
      ],
      "metadata": {
        "colab": {
          "base_uri": "https://localhost:8080/"
        },
        "id": "k4ZUildnhQaI",
        "outputId": "14eb351a-828a-42e9-b037-fa29ca6fb9fa"
      },
      "execution_count": 5,
      "outputs": [
        {
          "output_type": "stream",
          "name": "stdout",
          "text": [
            "Region_58_mask.pyramid.ome.tif\n",
            "Region_25_mask.pyramid.ome.tif\n",
            "Region_14_mask.pyramid.ome.tif\n",
            "Region_4_mask.pyramid.ome.tif\n",
            "Region_54_mask.pyramid.ome.tif\n",
            "Region_37_mask.pyramid.ome.tif\n",
            "Region_17_mask.pyramid.ome.tif\n",
            "Region_38_mask.pyramid.ome.tif\n",
            "Region_42_mask.pyramid.ome.tif\n",
            "Region_61_mask.pyramid.ome.tif\n",
            "Region_60_mask.pyramid.ome.tif\n",
            "Region_9_mask.pyramid.ome.tif\n",
            "Region_45_mask.pyramid.ome.tif\n",
            "Region_47_mask.pyramid.ome.tif\n",
            "Region_48_mask.pyramid.ome.tif\n",
            "Region_5_mask.pyramid.ome.tif\n",
            "Region_44_mask.pyramid.ome.tif\n",
            "Region_52_mask.pyramid.ome.tif\n",
            "Region_43_mask.pyramid.ome.tif\n",
            "Region_34_mask.pyramid.ome.tif\n",
            "Region_59_mask.pyramid.ome.tif\n",
            "cell_sets.csv\n",
            "Region_21_mask.pyramid.ome.tif\n",
            "Region_11_mask.pyramid.ome.tif\n",
            "Region_53_mask.pyramid.ome.tif\n",
            "Region_13_mask.pyramid.ome.tif\n",
            "Region_26_mask.pyramid.ome.tif\n",
            "Region_1_mask.pyramid.ome.tif\n",
            "Region_33_mask.pyramid.ome.tif\n",
            "Region_6_mask.pyramid.ome.tif\n",
            "Region_20_mask.pyramid.ome.tif\n",
            "Region_12_mask.pyramid.ome.tif\n",
            "Region_8_mask.pyramid.ome.tif\n",
            "Region_3_mask.pyramid.ome.tif\n",
            "Region_15_mask.pyramid.ome.tif\n",
            "Region_51_mask.pyramid.ome.tif\n",
            "Region_27_mask.pyramid.ome.tif\n",
            "Region_40_mask.pyramid.ome.tif\n",
            "Region_24_mask.pyramid.ome.tif\n",
            "Region_49_mask.pyramid.ome.tif\n",
            "Region_10_mask.pyramid.ome.tif\n",
            "Region_22_mask.pyramid.ome.tif\n",
            "Region_18_mask.pyramid.ome.tif\n",
            "Region_57_mask.pyramid.ome.tif\n",
            "Region_2_mask.pyramid.ome.tif\n",
            "Region_62_mask.pyramid.ome.tif\n",
            "Region_16_mask.pyramid.ome.tif\n",
            "Region_41_mask.pyramid.ome.tif\n",
            "Region_63_mask.pyramid.ome.tif\n",
            "Region_50_mask.pyramid.ome.tif\n",
            "Region_55_mask.pyramid.ome.tif\n",
            "Region_35_mask.pyramid.ome.tif\n",
            "Region_46_mask.pyramid.ome.tif\n",
            "Region_23_mask.pyramid.ome.tif\n",
            "Region_56_mask.pyramid.ome.tif\n",
            "Region_32_mask.pyramid.ome.tif\n",
            "Region_36_mask.pyramid.ome.tif\n",
            "Region_64_mask.pyramid.ome.tif\n",
            "Region_28_mask.pyramid.ome.tif\n",
            "Region_19_mask.pyramid.ome.tif\n",
            "Region_29_mask.pyramid.ome.tif\n",
            "Region_30_mask.pyramid.ome.tif\n",
            "Region_31_mask.pyramid.ome.tif\n",
            "Region_39_mask.pyramid.ome.tif\n",
            "Region_7_mask.pyramid.ome.tif\n"
          ]
        }
      ]
    },
    {
      "cell_type": "code",
      "source": [
        "# Initialize an empty list to store the full paths\n",
        "full_paths = []\n",
        "\n",
        "# Iterate over each region name\n",
        "for name in region_names:\n",
        "    # Join the directory path, the region name, and the file extension to get the full path\n",
        "    full_path = os.path.join(dir_path, f'Region_{name}_mask.pyramid.ome.tif')\n",
        "\n",
        "    # Add the full path to the list\n",
        "    full_paths.append(full_path)\n",
        "\n",
        "# Print the list of full paths\n",
        "for path in full_paths:\n",
        "    print(path)"
      ],
      "metadata": {
        "colab": {
          "base_uri": "https://localhost:8080/"
        },
        "id": "EQFGS_UehTrK",
        "outputId": "4c75b4e2-e4d7-4736-8fee-e167e3a579f5"
      },
      "execution_count": 6,
      "outputs": [
        {
          "output_type": "stream",
          "name": "stdout",
          "text": [
            "./images/Region_1_mask.pyramid.ome.tif\n",
            "./images/Region_2_mask.pyramid.ome.tif\n",
            "./images/Region_3_mask.pyramid.ome.tif\n",
            "./images/Region_4_mask.pyramid.ome.tif\n",
            "./images/Region_5_mask.pyramid.ome.tif\n",
            "./images/Region_6_mask.pyramid.ome.tif\n",
            "./images/Region_7_mask.pyramid.ome.tif\n",
            "./images/Region_8_mask.pyramid.ome.tif\n",
            "./images/Region_9_mask.pyramid.ome.tif\n",
            "./images/Region_10_mask.pyramid.ome.tif\n",
            "./images/Region_11_mask.pyramid.ome.tif\n",
            "./images/Region_12_mask.pyramid.ome.tif\n",
            "./images/Region_13_mask.pyramid.ome.tif\n",
            "./images/Region_14_mask.pyramid.ome.tif\n",
            "./images/Region_15_mask.pyramid.ome.tif\n",
            "./images/Region_16_mask.pyramid.ome.tif\n",
            "./images/Region_17_mask.pyramid.ome.tif\n",
            "./images/Region_18_mask.pyramid.ome.tif\n",
            "./images/Region_19_mask.pyramid.ome.tif\n",
            "./images/Region_20_mask.pyramid.ome.tif\n",
            "./images/Region_21_mask.pyramid.ome.tif\n",
            "./images/Region_22_mask.pyramid.ome.tif\n",
            "./images/Region_23_mask.pyramid.ome.tif\n",
            "./images/Region_24_mask.pyramid.ome.tif\n",
            "./images/Region_25_mask.pyramid.ome.tif\n",
            "./images/Region_26_mask.pyramid.ome.tif\n",
            "./images/Region_27_mask.pyramid.ome.tif\n",
            "./images/Region_28_mask.pyramid.ome.tif\n",
            "./images/Region_29_mask.pyramid.ome.tif\n",
            "./images/Region_30_mask.pyramid.ome.tif\n",
            "./images/Region_31_mask.pyramid.ome.tif\n",
            "./images/Region_32_mask.pyramid.ome.tif\n",
            "./images/Region_33_mask.pyramid.ome.tif\n",
            "./images/Region_34_mask.pyramid.ome.tif\n",
            "./images/Region_35_mask.pyramid.ome.tif\n",
            "./images/Region_36_mask.pyramid.ome.tif\n",
            "./images/Region_37_mask.pyramid.ome.tif\n",
            "./images/Region_38_mask.pyramid.ome.tif\n",
            "./images/Region_39_mask.pyramid.ome.tif\n",
            "./images/Region_40_mask.pyramid.ome.tif\n",
            "./images/Region_41_mask.pyramid.ome.tif\n",
            "./images/Region_42_mask.pyramid.ome.tif\n",
            "./images/Region_43_mask.pyramid.ome.tif\n",
            "./images/Region_44_mask.pyramid.ome.tif\n",
            "./images/Region_45_mask.pyramid.ome.tif\n",
            "./images/Region_46_mask.pyramid.ome.tif\n",
            "./images/Region_47_mask.pyramid.ome.tif\n",
            "./images/Region_48_mask.pyramid.ome.tif\n",
            "./images/Region_49_mask.pyramid.ome.tif\n",
            "./images/Region_50_mask.pyramid.ome.tif\n",
            "./images/Region_51_mask.pyramid.ome.tif\n",
            "./images/Region_52_mask.pyramid.ome.tif\n",
            "./images/Region_53_mask.pyramid.ome.tif\n",
            "./images/Region_54_mask.pyramid.ome.tif\n",
            "./images/Region_55_mask.pyramid.ome.tif\n",
            "./images/Region_56_mask.pyramid.ome.tif\n",
            "./images/Region_57_mask.pyramid.ome.tif\n",
            "./images/Region_58_mask.pyramid.ome.tif\n",
            "./images/Region_59_mask.pyramid.ome.tif\n",
            "./images/Region_60_mask.pyramid.ome.tif\n",
            "./images/Region_61_mask.pyramid.ome.tif\n",
            "./images/Region_62_mask.pyramid.ome.tif\n",
            "./images/Region_63_mask.pyramid.ome.tif\n",
            "./images/Region_64_mask.pyramid.ome.tif\n"
          ]
        }
      ]
    },
    {
      "cell_type": "code",
      "source": [
        "def reformat_layout(json_data, spatial_width=10.0, max_width=12.0):\n",
        "\n",
        "    # Update the \"spatial\" component\n",
        "    for component in json_data['layout']:\n",
        "        if component['component'] == 'spatial' and component['w'] < spatial_width:\n",
        "            print(f\"\\tUpdating 'spatial' component 'width' from {component['w']} to {spatial_width}\")\n",
        "            component['w'] = spatial_width\n",
        "\n",
        "    # Update other components based on the new width of the \"spatial\" component\n",
        "    for component in json_data['layout']:\n",
        "        if component['component'] != 'spatial' and component['x'] == 6:\n",
        "            print(f\"\\tUpdating '{component['component']}' component 'x' from {component['x']} to {spatial_width}\")\n",
        "            print(f\"\\tUpdating '{component['component']}' component 'width' from {component['w']} to 2\")\n",
        "            component['x'] = spatial_width\n",
        "            component['w'] = max_width - spatial_width"
      ],
      "metadata": {
        "id": "QaQgtDmOqLRv"
      },
      "execution_count": 7,
      "outputs": []
    },
    {
      "cell_type": "code",
      "source": [
        "from IPython.display import display, HTML\n",
        "from vitessce import CsvWrapper, DataType\n",
        "import pandas as pd\n",
        "import json\n",
        "import os\n",
        "\n",
        "# list to store generated vitessce URLs\n",
        "vitessce_urls = []\n",
        "\n",
        "for idx in range(1, 65):  # 1 to 12 inclusive\n",
        "    filepath = full_paths[idx-1]\n",
        "    img_url = image_urls[idx-1]\n",
        "\n",
        "    print(idx)\n",
        "    print(filepath)\n",
        "\n",
        "    # cell_dict = {'B': 1, 'CD4+ T cell': 2, 'CD57+ Enterocyte': 3, 'CD66+ Enterocyte': 4, 'CD7+ Immune': 5, 'CD8+ T': 6,\n",
        "    #             'Cycling TA': 7, 'DC': 8, 'Enterocyte': 9, 'Goblet': 10, 'ICC': 11, 'Lymphatic': 12,\n",
        "    #             'M1 Macrophage': 13, 'M2 Macrophage': 14, 'MUC1+ Enterocyte': 15, 'NK': 16, 'Nerve': 17, 'Neuroendocrine': 18,\n",
        "    #             'Neutrophil': 19, 'Paneth': 20, 'Plasma': 21, 'Smooth muscle': 22, 'Stroma': 23, 'TA': 24,\n",
        "    #             'B_link': 1, 'CD4+ T cell_link': 2, 'CD57+ Enterocyte_link': 3,\n",
        "    #             'CD66+ Enterocyte_link': 4, 'CD7+ Immune_link': 5, 'CD8+ T_link': 6,\n",
        "    #             'Cycling TA_link': 7, 'DC_link': 8, 'Enterocyte_link': 9,\n",
        "    #             'Goblet_link': 10, 'ICC_link': 11, 'Lymphatic_link': 12,\n",
        "    #             'M1 Macrophage_link': 13, 'M2 Macrophage_link': 14, 'MUC1+ Enterocyte_link': 15,\n",
        "    #             'NK_link': 16, 'Nerve_link': 17, 'Neuroendocrine_link': 18,\n",
        "    #             'Neutrophil_link': 19, 'Paneth_link': 20, 'Plasma_link': 21,\n",
        "    #             'Smooth muscle_link': 22, 'Stroma_link': 23, 'TA_link': 24,\n",
        "    #             'Endothelial': 25}\n",
        "\n",
        "    cell_dict = {'Adatpive Immune Enriched': 1, 'CD66+ Mature Epithelial': 2, 'CD8+ T Enriched IEL': 3, 'Glandular Epithelial': 4, 'Innate Immune Enriched':\n",
        "                  5, 'Inner Follicle': 6, 'Innervated Smooth Muscle': 7, 'Innervated Stroma': 8, 'Macrovasculature':\n",
        "                  9, 'Mature Epithelial': 10, 'Microvasculature': 11, 'Outer Follicle': 12, 'Paneth Enriched':\n",
        "                  13, 'Plasma Cell Enriched': 14, 'Secretory Epithelial': 15, 'Smooth Muscle': 16, 'Smooth Muscle & Innate Immune':\n",
        "                  17, 'Stroma': 18, 'Stroma & Innate Immune': 19, 'Transit Amplifying Zone': 20}\n",
        "\n",
        "    cell_data = {\n",
        "        'cell_id': list(cell_dict.values()),\n",
        "        'cell_type': list(cell_dict.keys())\n",
        "    }\n",
        "    cell_sets_data = pd.DataFrame(cell_data)\n",
        "    options = {\n",
        "  \"obsIndex\": \"cell_id\",\n",
        "  \"obsSets\": [\n",
        "    {\n",
        "      \"name\": \"Cell Type\",\n",
        "      \"column\": \"cell_type\"\n",
        "    }\n",
        "    ]\n",
        "  }\n",
        "\n",
        "    # LOCAL=1, ONLINE=0\n",
        "    OUTPUT_LEVEL = 1\n",
        "    vc = VitessceConfig(schema_version=\"1.0.15\", name='Transcriptomics example')\n",
        "\n",
        "    if OUTPUT_LEVEL == 1:\n",
        "        #LOCAL\n",
        "        dataset = vc.add_dataset(name='Cell segmentations').add_object(\n",
        "    OmeTiffWrapper(img_path=filepath, is_bitmask=True, name=f\"Region {idx} Segmentations\")\n",
        "    ).add_object(CsvWrapper(csv_path=csv_path, data_type=DataType.OBS_SETS.value, options=options))\n",
        "    else:\n",
        "        # ONLINE PREVIEW\n",
        "        dataset = vc.add_dataset(name='Cell segmentations').add_object(\n",
        "    OmeTiffWrapper(img_url=img_url, is_bitmask=True, name=f\"Region {idx} Segmentations\")\n",
        "    ).add_object(CsvWrapper(csv_url=csv_url, data_type=DataType.OBS_SETS.value, options=options))\n",
        "\n",
        "    spatial_plot = vc.add_view(cm.SPATIAL, dataset=dataset)\n",
        "    layer_controller = vc.add_view(cm.LAYER_CONTROLLER, dataset=dataset)\n",
        "\n",
        "\n",
        "    spatial_segmentation_layer_value = [{\n",
        "        \"type\":\"bitmask\",\n",
        "        \"index\":0,\n",
        "        \"visible\":True,\n",
        "        \"colormap\":None,\n",
        "        \"opacity\":1,\n",
        "        \"domainType\":\"Min/Max\",\n",
        "        \"transparentColor\":None,\n",
        "        \"renderingMode\":\"Additive\",\n",
        "        \"use3d\":False,\n",
        "        \"channels\":[\n",
        "            # NEIGH\n",
        "                {\"selection\":{\"c\":0,\"t\":0,\"z\":0},\"color\":[0,0,0],\"visible\":True,\"slider\":[0,1]},\n",
        "                {\"selection\":{\"c\":1,\"t\":0,\"z\":0},\"color\":[0,0,0],\"visible\":True,\"slider\":[1,2]},\n",
        "                {\"selection\":{\"c\":2,\"t\":0,\"z\":0},\"color\":[0,0,0],\"visible\":True,\"slider\":[2,3]},\n",
        "        ]\n",
        "    }]\n",
        "    cell_sets_view = vc.add_view(cm.OBS_SETS, dataset=dataset)\n",
        "\n",
        "    obs_set_color = [\n",
        "        {\"path\": [\"Cell Type\", \"Adatpive Immune Enriched\"], \"color\": [255, 165, 0]},  # orange\n",
        "        {\"path\": [\"Cell Type\", \"CD66+ Mature Epithelial\"], \"color\": [178, 34, 34]},  # firebrick\n",
        "        {\"path\": [\"Cell Type\", \"CD8+ T Enriched IEL\"], \"color\": [0, 128, 0]},  # green\n",
        "        {\"path\": [\"Cell Type\", \"Glandular Epithelial\"], \"color\": [255, 140, 0]},  # darkorange\n",
        "        {\"path\": [\"Cell Type\", \"Innate Immune Enriched\"], \"color\": [135, 206, 235]},  # skyblue\n",
        "        {\"path\": [\"Cell Type\", \"Inner Follicle\"], \"color\": [0, 0, 255]},  # blue\n",
        "        {\"path\": [\"Cell Type\", \"Innervated Smooth Muscle\"], \"color\": [144, 238, 144]},  # lightgreen\n",
        "        {\"path\": [\"Cell Type\", \"Innervated Stroma\"], \"color\": [138, 43, 226]},  # blueviolet\n",
        "        {\"path\": [\"Cell Type\", \"Macrovasculature\"], \"color\": [255, 215, 0]},  # gold\n",
        "        {\"path\": [\"Cell Type\", \"Mature Epithelial\"], \"color\": [255, 0, 255]},  # magenta\n",
        "        {\"path\": [\"Cell Type\", \"Microvasculature\"], \"color\": [0, 0, 0]},  # black\n",
        "        {\"path\": [\"Cell Type\", \"Outer Follicle\"], \"color\": [0, 0, 128]},  # navy\n",
        "        {\"path\": [\"Cell Type\", \"Paneth Enriched\"], \"color\": [173, 216, 230]},  # lightblue\n",
        "        {\"path\": [\"Cell Type\", \"Plasma Cell Enriched\"], \"color\": [255, 255, 0]},  # yellow\n",
        "        {\"path\": [\"Cell Type\", \"Secretory Epithelial\"], \"color\": [154, 205, 50]},  # yellowgreen\n",
        "        {\"path\": [\"Cell Type\", \"Smooth Muscle\"], \"color\": [255, 0, 0]},  # red\n",
        "        {\"path\": [\"Cell Type\", \"Smooth Muscle & Innate Immune\"], \"color\": [210, 180, 140]},  # tan\n",
        "        {\"path\": [\"Cell Type\", \"Stroma\"], \"color\": [128, 128, 128]},  # gray\n",
        "        {\"path\": [\"Cell Type\", \"Stroma & Innate Immune\"], \"color\": [165, 42, 42]},  # brown\n",
        "        {\"path\": [\"Cell Type\", \"Transit Amplifying Zone\"], \"color\": [0, 0, 139]}  # darkblue\n",
        "    ]\n",
        "\n",
        "    vc.link_views(\n",
        "        [spatial_plot, layer_controller],\n",
        "        [ct.SPATIAL_ZOOM, ct.SPATIAL_TARGET_X, ct.SPATIAL_TARGET_Y, ct.SPATIAL_SEGMENTATION_LAYER],\n",
        "        [-3, 3000, 3000, spatial_segmentation_layer_value]\n",
        "    )\n",
        "    vc.link_views(\n",
        "        [cell_sets_view, spatial_plot, layer_controller],\n",
        "        [ct.OBS_SET_COLOR],\n",
        "        [obs_set_color]\n",
        "    )\n",
        "    vc.layout(spatial_plot | (layer_controller / cell_sets_view))\n",
        "\n",
        "    web_url = vc.web_app()\n",
        "    display(HTML(f'<a href=\"{web_url}\" target=\"_blank\">View on Vitessce.io</a>'))\n",
        "    # FULL CODE:\n",
        "    # display(HTML(f'<a href=\"{web_url}\" target=\"_blank\">View on Vitessce.io</a>'))\n",
        "    # THIS LINE WILL BE MODIFIED WHEN SAVED TO GITHUB\n",
        "\n",
        "    ROOT = \"hubmap-publication-page\"\n",
        "\n",
        "    PATH_TO_EXPORT_DIRECTORY = os.path.join(ROOT, \"data\", f\"vignette_{idx:02}\")\n",
        "    VIGNETTE_DIR = os.path.join(ROOT, \"vignettes\", f\"vignette_{idx:02}\")\n",
        "    #Export Vitessce config to JSON\n",
        "    os.makedirs(VIGNETTE_DIR, exist_ok=True)\n",
        "    #Export Vitessce config to JSON\n",
        "    os.makedirs(PATH_TO_EXPORT_DIRECTORY, exist_ok=True)\n",
        "    config_dict = vc.export(to=\"files\", base_url=f\"{BASE_URL_PLACEHOLDER}/vignette_{idx:02}\", out_dir=PATH_TO_EXPORT_DIRECTORY)\n",
        "    reformat_layout(config_dict)\n",
        "    # Use `open` to create a new empty file at ./exported_data/vitessce.json\n",
        "    with open(os.path.join(VIGNETTE_DIR, \"vitessce.json\"), \"w\") as f:\n",
        "        json.dump(config_dict, f)\n",
        "    vignette_md = f\"\"\"\n",
        "---\n",
        "name: Cell Neighborhood Visualization for Intestine Data\n",
        "figures:\n",
        "    - name: \"Visualization\"\n",
        "      file: vitessce.json\n",
        "---\n",
        "\n",
        "This preview visualizes Hierarchical Cell Neighborhoods Region {idx} using data from the “High Resolution Single Cell Maps” paper.\n",
        "The data covers 2.6 million cells across 8 donors, detailing cell interactions, composition, and structure of the human intestine.\n",
        "\"\"\"\n",
        "    with open(os.path.join(VIGNETTE_DIR, \"description.md\"), \"w\") as f:\n",
        "        f.write(vignette_md)\n"
      ],
      "metadata": {
        "colab": {
          "base_uri": "https://localhost:8080/",
          "height": 1000
        },
        "id": "JitGKLE_lEWU",
        "outputId": "0c1579e5-1f50-4b6f-8a74-9f6726a09149"
      },
      "execution_count": 8,
      "outputs": [
        {
          "output_type": "stream",
          "name": "stdout",
          "text": [
            "1\n",
            "./images/Region_1_mask.pyramid.ome.tif\n"
          ]
        },
        {
          "output_type": "display_data",
          "data": {
            "text/plain": [
              "<IPython.core.display.HTML object>"
            ],
            "text/html": [
              "<a href=\"http://vitessce.io/#?theme=light&url=data:,%7B%22version%22%3A+%221.0.15%22%2C+%22name%22%3A+%22Transcriptomics+example%22%2C+%22description%22%3A+%22%22%2C+%22datasets%22%3A+%5B%7B%22uid%22%3A+%22A%22%2C+%22name%22%3A+%22Cell+segmentations%22%2C+%22files%22%3A+%5B%7B%22fileType%22%3A+%22raster.json%22%2C+%22options%22%3A+%7B%22schemaVersion%22%3A+%220.0.2%22%2C+%22images%22%3A+%5B%7B%22name%22%3A+%22Region+1+Segmentations%22%2C+%22type%22%3A+%22ome-tiff%22%2C+%22url%22%3A+%22http%3A%2F%2Flocalhost%3A8000%2FA%2F0%2F950ed0cc-fef3-4130-9db8-6265b617eb2f%22%2C+%22metadata%22%3A+%7B%22omeTiffOffsetsUrl%22%3A+%22http%3A%2F%2Flocalhost%3A8000%2FA%2F0%2Fd50b5c80-5588-4f4e-a07e-097cd652a0c8%22%2C+%22isBitmask%22%3A+true%7D%7D%5D%7D%7D%2C+%7B%22fileType%22%3A+%22obsSets.csv%22%2C+%22url%22%3A+%22http%3A%2F%2Flocalhost%3A8000%2FA%2F1%2F96220ca4-7069-4e8c-869e-df41e29608ab%22%2C+%22options%22%3A+%7B%22obsIndex%22%3A+%22cell_id%22%2C+%22obsSets%22%3A+%5B%7B%22name%22%3A+%22Cell+Type%22%2C+%22column%22%3A+%22cell_type%22%7D%5D%7D%7D%5D%7D%5D%2C+%22coordinationSpace%22%3A+%7B%22dataset%22%3A+%7B%22A%22%3A+%22A%22%7D%2C+%22spatialZoom%22%3A+%7B%22A%22%3A+-3%7D%2C+%22spatialTargetX%22%3A+%7B%22A%22%3A+3000%7D%2C+%22spatialTargetY%22%3A+%7B%22A%22%3A+3000%7D%2C+%22spatialSegmentationLayer%22%3A+%7B%22A%22%3A+%5B%7B%22type%22%3A+%22bitmask%22%2C+%22index%22%3A+0%2C+%22visible%22%3A+true%2C+%22colormap%22%3A+null%2C+%22opacity%22%3A+1%2C+%22domainType%22%3A+%22Min%2FMax%22%2C+%22transparentColor%22%3A+null%2C+%22renderingMode%22%3A+%22Additive%22%2C+%22use3d%22%3A+false%2C+%22channels%22%3A+%5B%7B%22selection%22%3A+%7B%22c%22%3A+0%2C+%22t%22%3A+0%2C+%22z%22%3A+0%7D%2C+%22color%22%3A+%5B0%2C+0%2C+0%5D%2C+%22visible%22%3A+true%2C+%22slider%22%3A+%5B0%2C+1%5D%7D%2C+%7B%22selection%22%3A+%7B%22c%22%3A+1%2C+%22t%22%3A+0%2C+%22z%22%3A+0%7D%2C+%22color%22%3A+%5B0%2C+0%2C+0%5D%2C+%22visible%22%3A+true%2C+%22slider%22%3A+%5B1%2C+2%5D%7D%2C+%7B%22selection%22%3A+%7B%22c%22%3A+2%2C+%22t%22%3A+0%2C+%22z%22%3A+0%7D%2C+%22color%22%3A+%5B0%2C+0%2C+0%5D%2C+%22visible%22%3A+true%2C+%22slider%22%3A+%5B2%2C+3%5D%7D%5D%7D%5D%7D%2C+%22obsSetColor%22%3A+%7B%22A%22%3A+%5B%7B%22path%22%3A+%5B%22Cell+Type%22%2C+%22Adatpive+Immune+Enriched%22%5D%2C+%22color%22%3A+%5B255%2C+165%2C+0%5D%7D%2C+%7B%22path%22%3A+%5B%22Cell+Type%22%2C+%22CD66%2B+Mature+Epithelial%22%5D%2C+%22color%22%3A+%5B178%2C+34%2C+34%5D%7D%2C+%7B%22path%22%3A+%5B%22Cell+Type%22%2C+%22CD8%2B+T+Enriched+IEL%22%5D%2C+%22color%22%3A+%5B0%2C+128%2C+0%5D%7D%2C+%7B%22path%22%3A+%5B%22Cell+Type%22%2C+%22Glandular+Epithelial%22%5D%2C+%22color%22%3A+%5B255%2C+140%2C+0%5D%7D%2C+%7B%22path%22%3A+%5B%22Cell+Type%22%2C+%22Innate+Immune+Enriched%22%5D%2C+%22color%22%3A+%5B135%2C+206%2C+235%5D%7D%2C+%7B%22path%22%3A+%5B%22Cell+Type%22%2C+%22Inner+Follicle%22%5D%2C+%22color%22%3A+%5B0%2C+0%2C+255%5D%7D%2C+%7B%22path%22%3A+%5B%22Cell+Type%22%2C+%22Innervated+Smooth+Muscle%22%5D%2C+%22color%22%3A+%5B144%2C+238%2C+144%5D%7D%2C+%7B%22path%22%3A+%5B%22Cell+Type%22%2C+%22Innervated+Stroma%22%5D%2C+%22color%22%3A+%5B138%2C+43%2C+226%5D%7D%2C+%7B%22path%22%3A+%5B%22Cell+Type%22%2C+%22Macrovasculature%22%5D%2C+%22color%22%3A+%5B255%2C+215%2C+0%5D%7D%2C+%7B%22path%22%3A+%5B%22Cell+Type%22%2C+%22Mature+Epithelial%22%5D%2C+%22color%22%3A+%5B255%2C+0%2C+255%5D%7D%2C+%7B%22path%22%3A+%5B%22Cell+Type%22%2C+%22Microvasculature%22%5D%2C+%22color%22%3A+%5B0%2C+0%2C+0%5D%7D%2C+%7B%22path%22%3A+%5B%22Cell+Type%22%2C+%22Outer+Follicle%22%5D%2C+%22color%22%3A+%5B0%2C+0%2C+128%5D%7D%2C+%7B%22path%22%3A+%5B%22Cell+Type%22%2C+%22Paneth+Enriched%22%5D%2C+%22color%22%3A+%5B173%2C+216%2C+230%5D%7D%2C+%7B%22path%22%3A+%5B%22Cell+Type%22%2C+%22Plasma+Cell+Enriched%22%5D%2C+%22color%22%3A+%5B255%2C+255%2C+0%5D%7D%2C+%7B%22path%22%3A+%5B%22Cell+Type%22%2C+%22Secretory+Epithelial%22%5D%2C+%22color%22%3A+%5B154%2C+205%2C+50%5D%7D%2C+%7B%22path%22%3A+%5B%22Cell+Type%22%2C+%22Smooth+Muscle%22%5D%2C+%22color%22%3A+%5B255%2C+0%2C+0%5D%7D%2C+%7B%22path%22%3A+%5B%22Cell+Type%22%2C+%22Smooth+Muscle+%26+Innate+Immune%22%5D%2C+%22color%22%3A+%5B210%2C+180%2C+140%5D%7D%2C+%7B%22path%22%3A+%5B%22Cell+Type%22%2C+%22Stroma%22%5D%2C+%22color%22%3A+%5B128%2C+128%2C+128%5D%7D%2C+%7B%22path%22%3A+%5B%22Cell+Type%22%2C+%22Stroma+%26+Innate+Immune%22%5D%2C+%22color%22%3A+%5B165%2C+42%2C+42%5D%7D%2C+%7B%22path%22%3A+%5B%22Cell+Type%22%2C+%22Transit+Amplifying+Zone%22%5D%2C+%22color%22%3A+%5B0%2C+0%2C+139%5D%7D%5D%7D%7D%2C+%22layout%22%3A+%5B%7B%22component%22%3A+%22spatial%22%2C+%22coordinationScopes%22%3A+%7B%22dataset%22%3A+%22A%22%2C+%22spatialZoom%22%3A+%22A%22%2C+%22spatialTargetX%22%3A+%22A%22%2C+%22spatialTargetY%22%3A+%22A%22%2C+%22spatialSegmentationLayer%22%3A+%22A%22%2C+%22obsSetColor%22%3A+%22A%22%7D%2C+%22x%22%3A+0.0%2C+%22y%22%3A+0%2C+%22w%22%3A+6.0%2C+%22h%22%3A+12%7D%2C+%7B%22component%22%3A+%22layerController%22%2C+%22coordinationScopes%22%3A+%7B%22dataset%22%3A+%22A%22%2C+%22spatialZoom%22%3A+%22A%22%2C+%22spatialTargetX%22%3A+%22A%22%2C+%22spatialTargetY%22%3A+%22A%22%2C+%22spatialSegmentationLayer%22%3A+%22A%22%2C+%22obsSetColor%22%3A+%22A%22%7D%2C+%22x%22%3A+6.0%2C+%22y%22%3A+0.0%2C+%22w%22%3A+6.0%2C+%22h%22%3A+6.0%7D%2C+%7B%22component%22%3A+%22obsSets%22%2C+%22coordinationScopes%22%3A+%7B%22dataset%22%3A+%22A%22%2C+%22obsSetColor%22%3A+%22A%22%7D%2C+%22x%22%3A+6.0%2C+%22y%22%3A+6.0%2C+%22w%22%3A+6.0%2C+%22h%22%3A+6.0%7D%5D%2C+%22initStrategy%22%3A+%22auto%22%7D\" target=\"_blank\">View on Vitessce.io</a>"
            ]
          },
          "metadata": {}
        },
        {
          "output_type": "stream",
          "name": "stdout",
          "text": [
            "\tUpdating 'spatial' component 'width' from 6.0 to 10.0\n",
            "\tUpdating 'layerController' component 'x' from 6.0 to 10.0\n",
            "\tUpdating 'layerController' component 'width' from 6.0 to 2\n",
            "\tUpdating 'obsSets' component 'x' from 6.0 to 10.0\n",
            "\tUpdating 'obsSets' component 'width' from 6.0 to 2\n",
            "2\n",
            "./images/Region_2_mask.pyramid.ome.tif\n"
          ]
        },
        {
          "output_type": "display_data",
          "data": {
            "text/plain": [
              "<IPython.core.display.HTML object>"
            ],
            "text/html": [
              "<a href=\"http://vitessce.io/#?theme=light&url=data:,%7B%22version%22%3A+%221.0.15%22%2C+%22name%22%3A+%22Transcriptomics+example%22%2C+%22description%22%3A+%22%22%2C+%22datasets%22%3A+%5B%7B%22uid%22%3A+%22A%22%2C+%22name%22%3A+%22Cell+segmentations%22%2C+%22files%22%3A+%5B%7B%22fileType%22%3A+%22raster.json%22%2C+%22options%22%3A+%7B%22schemaVersion%22%3A+%220.0.2%22%2C+%22images%22%3A+%5B%7B%22name%22%3A+%22Region+2+Segmentations%22%2C+%22type%22%3A+%22ome-tiff%22%2C+%22url%22%3A+%22http%3A%2F%2Flocalhost%3A8001%2FA%2F0%2F2ed707a0-2c01-4c3f-ac11-55ab3fd16e36%22%2C+%22metadata%22%3A+%7B%22omeTiffOffsetsUrl%22%3A+%22http%3A%2F%2Flocalhost%3A8001%2FA%2F0%2Fb0acb013-f2ee-4322-96bf-4772d3e3093a%22%2C+%22isBitmask%22%3A+true%7D%7D%5D%7D%7D%2C+%7B%22fileType%22%3A+%22obsSets.csv%22%2C+%22url%22%3A+%22http%3A%2F%2Flocalhost%3A8001%2FA%2F1%2Ff26de359-07e0-4038-a59f-702b66726d57%22%2C+%22options%22%3A+%7B%22obsIndex%22%3A+%22cell_id%22%2C+%22obsSets%22%3A+%5B%7B%22name%22%3A+%22Cell+Type%22%2C+%22column%22%3A+%22cell_type%22%7D%5D%7D%7D%5D%7D%5D%2C+%22coordinationSpace%22%3A+%7B%22dataset%22%3A+%7B%22A%22%3A+%22A%22%7D%2C+%22spatialZoom%22%3A+%7B%22A%22%3A+-3%7D%2C+%22spatialTargetX%22%3A+%7B%22A%22%3A+3000%7D%2C+%22spatialTargetY%22%3A+%7B%22A%22%3A+3000%7D%2C+%22spatialSegmentationLayer%22%3A+%7B%22A%22%3A+%5B%7B%22type%22%3A+%22bitmask%22%2C+%22index%22%3A+0%2C+%22visible%22%3A+true%2C+%22colormap%22%3A+null%2C+%22opacity%22%3A+1%2C+%22domainType%22%3A+%22Min%2FMax%22%2C+%22transparentColor%22%3A+null%2C+%22renderingMode%22%3A+%22Additive%22%2C+%22use3d%22%3A+false%2C+%22channels%22%3A+%5B%7B%22selection%22%3A+%7B%22c%22%3A+0%2C+%22t%22%3A+0%2C+%22z%22%3A+0%7D%2C+%22color%22%3A+%5B0%2C+0%2C+0%5D%2C+%22visible%22%3A+true%2C+%22slider%22%3A+%5B0%2C+1%5D%7D%2C+%7B%22selection%22%3A+%7B%22c%22%3A+1%2C+%22t%22%3A+0%2C+%22z%22%3A+0%7D%2C+%22color%22%3A+%5B0%2C+0%2C+0%5D%2C+%22visible%22%3A+true%2C+%22slider%22%3A+%5B1%2C+2%5D%7D%2C+%7B%22selection%22%3A+%7B%22c%22%3A+2%2C+%22t%22%3A+0%2C+%22z%22%3A+0%7D%2C+%22color%22%3A+%5B0%2C+0%2C+0%5D%2C+%22visible%22%3A+true%2C+%22slider%22%3A+%5B2%2C+3%5D%7D%5D%7D%5D%7D%2C+%22obsSetColor%22%3A+%7B%22A%22%3A+%5B%7B%22path%22%3A+%5B%22Cell+Type%22%2C+%22Adatpive+Immune+Enriched%22%5D%2C+%22color%22%3A+%5B255%2C+165%2C+0%5D%7D%2C+%7B%22path%22%3A+%5B%22Cell+Type%22%2C+%22CD66%2B+Mature+Epithelial%22%5D%2C+%22color%22%3A+%5B178%2C+34%2C+34%5D%7D%2C+%7B%22path%22%3A+%5B%22Cell+Type%22%2C+%22CD8%2B+T+Enriched+IEL%22%5D%2C+%22color%22%3A+%5B0%2C+128%2C+0%5D%7D%2C+%7B%22path%22%3A+%5B%22Cell+Type%22%2C+%22Glandular+Epithelial%22%5D%2C+%22color%22%3A+%5B255%2C+140%2C+0%5D%7D%2C+%7B%22path%22%3A+%5B%22Cell+Type%22%2C+%22Innate+Immune+Enriched%22%5D%2C+%22color%22%3A+%5B135%2C+206%2C+235%5D%7D%2C+%7B%22path%22%3A+%5B%22Cell+Type%22%2C+%22Inner+Follicle%22%5D%2C+%22color%22%3A+%5B0%2C+0%2C+255%5D%7D%2C+%7B%22path%22%3A+%5B%22Cell+Type%22%2C+%22Innervated+Smooth+Muscle%22%5D%2C+%22color%22%3A+%5B144%2C+238%2C+144%5D%7D%2C+%7B%22path%22%3A+%5B%22Cell+Type%22%2C+%22Innervated+Stroma%22%5D%2C+%22color%22%3A+%5B138%2C+43%2C+226%5D%7D%2C+%7B%22path%22%3A+%5B%22Cell+Type%22%2C+%22Macrovasculature%22%5D%2C+%22color%22%3A+%5B255%2C+215%2C+0%5D%7D%2C+%7B%22path%22%3A+%5B%22Cell+Type%22%2C+%22Mature+Epithelial%22%5D%2C+%22color%22%3A+%5B255%2C+0%2C+255%5D%7D%2C+%7B%22path%22%3A+%5B%22Cell+Type%22%2C+%22Microvasculature%22%5D%2C+%22color%22%3A+%5B0%2C+0%2C+0%5D%7D%2C+%7B%22path%22%3A+%5B%22Cell+Type%22%2C+%22Outer+Follicle%22%5D%2C+%22color%22%3A+%5B0%2C+0%2C+128%5D%7D%2C+%7B%22path%22%3A+%5B%22Cell+Type%22%2C+%22Paneth+Enriched%22%5D%2C+%22color%22%3A+%5B173%2C+216%2C+230%5D%7D%2C+%7B%22path%22%3A+%5B%22Cell+Type%22%2C+%22Plasma+Cell+Enriched%22%5D%2C+%22color%22%3A+%5B255%2C+255%2C+0%5D%7D%2C+%7B%22path%22%3A+%5B%22Cell+Type%22%2C+%22Secretory+Epithelial%22%5D%2C+%22color%22%3A+%5B154%2C+205%2C+50%5D%7D%2C+%7B%22path%22%3A+%5B%22Cell+Type%22%2C+%22Smooth+Muscle%22%5D%2C+%22color%22%3A+%5B255%2C+0%2C+0%5D%7D%2C+%7B%22path%22%3A+%5B%22Cell+Type%22%2C+%22Smooth+Muscle+%26+Innate+Immune%22%5D%2C+%22color%22%3A+%5B210%2C+180%2C+140%5D%7D%2C+%7B%22path%22%3A+%5B%22Cell+Type%22%2C+%22Stroma%22%5D%2C+%22color%22%3A+%5B128%2C+128%2C+128%5D%7D%2C+%7B%22path%22%3A+%5B%22Cell+Type%22%2C+%22Stroma+%26+Innate+Immune%22%5D%2C+%22color%22%3A+%5B165%2C+42%2C+42%5D%7D%2C+%7B%22path%22%3A+%5B%22Cell+Type%22%2C+%22Transit+Amplifying+Zone%22%5D%2C+%22color%22%3A+%5B0%2C+0%2C+139%5D%7D%5D%7D%7D%2C+%22layout%22%3A+%5B%7B%22component%22%3A+%22spatial%22%2C+%22coordinationScopes%22%3A+%7B%22dataset%22%3A+%22A%22%2C+%22spatialZoom%22%3A+%22A%22%2C+%22spatialTargetX%22%3A+%22A%22%2C+%22spatialTargetY%22%3A+%22A%22%2C+%22spatialSegmentationLayer%22%3A+%22A%22%2C+%22obsSetColor%22%3A+%22A%22%7D%2C+%22x%22%3A+0.0%2C+%22y%22%3A+0%2C+%22w%22%3A+6.0%2C+%22h%22%3A+12%7D%2C+%7B%22component%22%3A+%22layerController%22%2C+%22coordinationScopes%22%3A+%7B%22dataset%22%3A+%22A%22%2C+%22spatialZoom%22%3A+%22A%22%2C+%22spatialTargetX%22%3A+%22A%22%2C+%22spatialTargetY%22%3A+%22A%22%2C+%22spatialSegmentationLayer%22%3A+%22A%22%2C+%22obsSetColor%22%3A+%22A%22%7D%2C+%22x%22%3A+6.0%2C+%22y%22%3A+0.0%2C+%22w%22%3A+6.0%2C+%22h%22%3A+6.0%7D%2C+%7B%22component%22%3A+%22obsSets%22%2C+%22coordinationScopes%22%3A+%7B%22dataset%22%3A+%22A%22%2C+%22obsSetColor%22%3A+%22A%22%7D%2C+%22x%22%3A+6.0%2C+%22y%22%3A+6.0%2C+%22w%22%3A+6.0%2C+%22h%22%3A+6.0%7D%5D%2C+%22initStrategy%22%3A+%22auto%22%7D\" target=\"_blank\">View on Vitessce.io</a>"
            ]
          },
          "metadata": {}
        },
        {
          "output_type": "stream",
          "name": "stdout",
          "text": [
            "\tUpdating 'spatial' component 'width' from 6.0 to 10.0\n",
            "\tUpdating 'layerController' component 'x' from 6.0 to 10.0\n",
            "\tUpdating 'layerController' component 'width' from 6.0 to 2\n",
            "\tUpdating 'obsSets' component 'x' from 6.0 to 10.0\n",
            "\tUpdating 'obsSets' component 'width' from 6.0 to 2\n",
            "3\n",
            "./images/Region_3_mask.pyramid.ome.tif\n"
          ]
        },
        {
          "output_type": "display_data",
          "data": {
            "text/plain": [
              "<IPython.core.display.HTML object>"
            ],
            "text/html": [
              "<a href=\"http://vitessce.io/#?theme=light&url=data:,%7B%22version%22%3A+%221.0.15%22%2C+%22name%22%3A+%22Transcriptomics+example%22%2C+%22description%22%3A+%22%22%2C+%22datasets%22%3A+%5B%7B%22uid%22%3A+%22A%22%2C+%22name%22%3A+%22Cell+segmentations%22%2C+%22files%22%3A+%5B%7B%22fileType%22%3A+%22raster.json%22%2C+%22options%22%3A+%7B%22schemaVersion%22%3A+%220.0.2%22%2C+%22images%22%3A+%5B%7B%22name%22%3A+%22Region+3+Segmentations%22%2C+%22type%22%3A+%22ome-tiff%22%2C+%22url%22%3A+%22http%3A%2F%2Flocalhost%3A8002%2FA%2F0%2Fe9e8e603-fb7a-440c-b19a-f57469cb19f1%22%2C+%22metadata%22%3A+%7B%22omeTiffOffsetsUrl%22%3A+%22http%3A%2F%2Flocalhost%3A8002%2FA%2F0%2F60b1e791-5578-4550-a54d-b1af0fce2426%22%2C+%22isBitmask%22%3A+true%7D%7D%5D%7D%7D%2C+%7B%22fileType%22%3A+%22obsSets.csv%22%2C+%22url%22%3A+%22http%3A%2F%2Flocalhost%3A8002%2FA%2F1%2F62d24a5e-ab15-4423-91db-8685810d6efe%22%2C+%22options%22%3A+%7B%22obsIndex%22%3A+%22cell_id%22%2C+%22obsSets%22%3A+%5B%7B%22name%22%3A+%22Cell+Type%22%2C+%22column%22%3A+%22cell_type%22%7D%5D%7D%7D%5D%7D%5D%2C+%22coordinationSpace%22%3A+%7B%22dataset%22%3A+%7B%22A%22%3A+%22A%22%7D%2C+%22spatialZoom%22%3A+%7B%22A%22%3A+-3%7D%2C+%22spatialTargetX%22%3A+%7B%22A%22%3A+3000%7D%2C+%22spatialTargetY%22%3A+%7B%22A%22%3A+3000%7D%2C+%22spatialSegmentationLayer%22%3A+%7B%22A%22%3A+%5B%7B%22type%22%3A+%22bitmask%22%2C+%22index%22%3A+0%2C+%22visible%22%3A+true%2C+%22colormap%22%3A+null%2C+%22opacity%22%3A+1%2C+%22domainType%22%3A+%22Min%2FMax%22%2C+%22transparentColor%22%3A+null%2C+%22renderingMode%22%3A+%22Additive%22%2C+%22use3d%22%3A+false%2C+%22channels%22%3A+%5B%7B%22selection%22%3A+%7B%22c%22%3A+0%2C+%22t%22%3A+0%2C+%22z%22%3A+0%7D%2C+%22color%22%3A+%5B0%2C+0%2C+0%5D%2C+%22visible%22%3A+true%2C+%22slider%22%3A+%5B0%2C+1%5D%7D%2C+%7B%22selection%22%3A+%7B%22c%22%3A+1%2C+%22t%22%3A+0%2C+%22z%22%3A+0%7D%2C+%22color%22%3A+%5B0%2C+0%2C+0%5D%2C+%22visible%22%3A+true%2C+%22slider%22%3A+%5B1%2C+2%5D%7D%2C+%7B%22selection%22%3A+%7B%22c%22%3A+2%2C+%22t%22%3A+0%2C+%22z%22%3A+0%7D%2C+%22color%22%3A+%5B0%2C+0%2C+0%5D%2C+%22visible%22%3A+true%2C+%22slider%22%3A+%5B2%2C+3%5D%7D%5D%7D%5D%7D%2C+%22obsSetColor%22%3A+%7B%22A%22%3A+%5B%7B%22path%22%3A+%5B%22Cell+Type%22%2C+%22Adatpive+Immune+Enriched%22%5D%2C+%22color%22%3A+%5B255%2C+165%2C+0%5D%7D%2C+%7B%22path%22%3A+%5B%22Cell+Type%22%2C+%22CD66%2B+Mature+Epithelial%22%5D%2C+%22color%22%3A+%5B178%2C+34%2C+34%5D%7D%2C+%7B%22path%22%3A+%5B%22Cell+Type%22%2C+%22CD8%2B+T+Enriched+IEL%22%5D%2C+%22color%22%3A+%5B0%2C+128%2C+0%5D%7D%2C+%7B%22path%22%3A+%5B%22Cell+Type%22%2C+%22Glandular+Epithelial%22%5D%2C+%22color%22%3A+%5B255%2C+140%2C+0%5D%7D%2C+%7B%22path%22%3A+%5B%22Cell+Type%22%2C+%22Innate+Immune+Enriched%22%5D%2C+%22color%22%3A+%5B135%2C+206%2C+235%5D%7D%2C+%7B%22path%22%3A+%5B%22Cell+Type%22%2C+%22Inner+Follicle%22%5D%2C+%22color%22%3A+%5B0%2C+0%2C+255%5D%7D%2C+%7B%22path%22%3A+%5B%22Cell+Type%22%2C+%22Innervated+Smooth+Muscle%22%5D%2C+%22color%22%3A+%5B144%2C+238%2C+144%5D%7D%2C+%7B%22path%22%3A+%5B%22Cell+Type%22%2C+%22Innervated+Stroma%22%5D%2C+%22color%22%3A+%5B138%2C+43%2C+226%5D%7D%2C+%7B%22path%22%3A+%5B%22Cell+Type%22%2C+%22Macrovasculature%22%5D%2C+%22color%22%3A+%5B255%2C+215%2C+0%5D%7D%2C+%7B%22path%22%3A+%5B%22Cell+Type%22%2C+%22Mature+Epithelial%22%5D%2C+%22color%22%3A+%5B255%2C+0%2C+255%5D%7D%2C+%7B%22path%22%3A+%5B%22Cell+Type%22%2C+%22Microvasculature%22%5D%2C+%22color%22%3A+%5B0%2C+0%2C+0%5D%7D%2C+%7B%22path%22%3A+%5B%22Cell+Type%22%2C+%22Outer+Follicle%22%5D%2C+%22color%22%3A+%5B0%2C+0%2C+128%5D%7D%2C+%7B%22path%22%3A+%5B%22Cell+Type%22%2C+%22Paneth+Enriched%22%5D%2C+%22color%22%3A+%5B173%2C+216%2C+230%5D%7D%2C+%7B%22path%22%3A+%5B%22Cell+Type%22%2C+%22Plasma+Cell+Enriched%22%5D%2C+%22color%22%3A+%5B255%2C+255%2C+0%5D%7D%2C+%7B%22path%22%3A+%5B%22Cell+Type%22%2C+%22Secretory+Epithelial%22%5D%2C+%22color%22%3A+%5B154%2C+205%2C+50%5D%7D%2C+%7B%22path%22%3A+%5B%22Cell+Type%22%2C+%22Smooth+Muscle%22%5D%2C+%22color%22%3A+%5B255%2C+0%2C+0%5D%7D%2C+%7B%22path%22%3A+%5B%22Cell+Type%22%2C+%22Smooth+Muscle+%26+Innate+Immune%22%5D%2C+%22color%22%3A+%5B210%2C+180%2C+140%5D%7D%2C+%7B%22path%22%3A+%5B%22Cell+Type%22%2C+%22Stroma%22%5D%2C+%22color%22%3A+%5B128%2C+128%2C+128%5D%7D%2C+%7B%22path%22%3A+%5B%22Cell+Type%22%2C+%22Stroma+%26+Innate+Immune%22%5D%2C+%22color%22%3A+%5B165%2C+42%2C+42%5D%7D%2C+%7B%22path%22%3A+%5B%22Cell+Type%22%2C+%22Transit+Amplifying+Zone%22%5D%2C+%22color%22%3A+%5B0%2C+0%2C+139%5D%7D%5D%7D%7D%2C+%22layout%22%3A+%5B%7B%22component%22%3A+%22spatial%22%2C+%22coordinationScopes%22%3A+%7B%22dataset%22%3A+%22A%22%2C+%22spatialZoom%22%3A+%22A%22%2C+%22spatialTargetX%22%3A+%22A%22%2C+%22spatialTargetY%22%3A+%22A%22%2C+%22spatialSegmentationLayer%22%3A+%22A%22%2C+%22obsSetColor%22%3A+%22A%22%7D%2C+%22x%22%3A+0.0%2C+%22y%22%3A+0%2C+%22w%22%3A+6.0%2C+%22h%22%3A+12%7D%2C+%7B%22component%22%3A+%22layerController%22%2C+%22coordinationScopes%22%3A+%7B%22dataset%22%3A+%22A%22%2C+%22spatialZoom%22%3A+%22A%22%2C+%22spatialTargetX%22%3A+%22A%22%2C+%22spatialTargetY%22%3A+%22A%22%2C+%22spatialSegmentationLayer%22%3A+%22A%22%2C+%22obsSetColor%22%3A+%22A%22%7D%2C+%22x%22%3A+6.0%2C+%22y%22%3A+0.0%2C+%22w%22%3A+6.0%2C+%22h%22%3A+6.0%7D%2C+%7B%22component%22%3A+%22obsSets%22%2C+%22coordinationScopes%22%3A+%7B%22dataset%22%3A+%22A%22%2C+%22obsSetColor%22%3A+%22A%22%7D%2C+%22x%22%3A+6.0%2C+%22y%22%3A+6.0%2C+%22w%22%3A+6.0%2C+%22h%22%3A+6.0%7D%5D%2C+%22initStrategy%22%3A+%22auto%22%7D\" target=\"_blank\">View on Vitessce.io</a>"
            ]
          },
          "metadata": {}
        },
        {
          "output_type": "stream",
          "name": "stdout",
          "text": [
            "\tUpdating 'spatial' component 'width' from 6.0 to 10.0\n",
            "\tUpdating 'layerController' component 'x' from 6.0 to 10.0\n",
            "\tUpdating 'layerController' component 'width' from 6.0 to 2\n",
            "\tUpdating 'obsSets' component 'x' from 6.0 to 10.0\n",
            "\tUpdating 'obsSets' component 'width' from 6.0 to 2\n",
            "4\n",
            "./images/Region_4_mask.pyramid.ome.tif\n"
          ]
        },
        {
          "output_type": "display_data",
          "data": {
            "text/plain": [
              "<IPython.core.display.HTML object>"
            ],
            "text/html": [
              "<a href=\"http://vitessce.io/#?theme=light&url=data:,%7B%22version%22%3A+%221.0.15%22%2C+%22name%22%3A+%22Transcriptomics+example%22%2C+%22description%22%3A+%22%22%2C+%22datasets%22%3A+%5B%7B%22uid%22%3A+%22A%22%2C+%22name%22%3A+%22Cell+segmentations%22%2C+%22files%22%3A+%5B%7B%22fileType%22%3A+%22raster.json%22%2C+%22options%22%3A+%7B%22schemaVersion%22%3A+%220.0.2%22%2C+%22images%22%3A+%5B%7B%22name%22%3A+%22Region+4+Segmentations%22%2C+%22type%22%3A+%22ome-tiff%22%2C+%22url%22%3A+%22http%3A%2F%2Flocalhost%3A8003%2FA%2F0%2Fd78832de-620b-4012-8533-a588c282ab4d%22%2C+%22metadata%22%3A+%7B%22omeTiffOffsetsUrl%22%3A+%22http%3A%2F%2Flocalhost%3A8003%2FA%2F0%2Fbee35b61-7ed6-4307-80fb-699305468f6a%22%2C+%22isBitmask%22%3A+true%7D%7D%5D%7D%7D%2C+%7B%22fileType%22%3A+%22obsSets.csv%22%2C+%22url%22%3A+%22http%3A%2F%2Flocalhost%3A8003%2FA%2F1%2Faa0e4955-dd9e-442d-9580-5d54a2b65870%22%2C+%22options%22%3A+%7B%22obsIndex%22%3A+%22cell_id%22%2C+%22obsSets%22%3A+%5B%7B%22name%22%3A+%22Cell+Type%22%2C+%22column%22%3A+%22cell_type%22%7D%5D%7D%7D%5D%7D%5D%2C+%22coordinationSpace%22%3A+%7B%22dataset%22%3A+%7B%22A%22%3A+%22A%22%7D%2C+%22spatialZoom%22%3A+%7B%22A%22%3A+-3%7D%2C+%22spatialTargetX%22%3A+%7B%22A%22%3A+3000%7D%2C+%22spatialTargetY%22%3A+%7B%22A%22%3A+3000%7D%2C+%22spatialSegmentationLayer%22%3A+%7B%22A%22%3A+%5B%7B%22type%22%3A+%22bitmask%22%2C+%22index%22%3A+0%2C+%22visible%22%3A+true%2C+%22colormap%22%3A+null%2C+%22opacity%22%3A+1%2C+%22domainType%22%3A+%22Min%2FMax%22%2C+%22transparentColor%22%3A+null%2C+%22renderingMode%22%3A+%22Additive%22%2C+%22use3d%22%3A+false%2C+%22channels%22%3A+%5B%7B%22selection%22%3A+%7B%22c%22%3A+0%2C+%22t%22%3A+0%2C+%22z%22%3A+0%7D%2C+%22color%22%3A+%5B0%2C+0%2C+0%5D%2C+%22visible%22%3A+true%2C+%22slider%22%3A+%5B0%2C+1%5D%7D%2C+%7B%22selection%22%3A+%7B%22c%22%3A+1%2C+%22t%22%3A+0%2C+%22z%22%3A+0%7D%2C+%22color%22%3A+%5B0%2C+0%2C+0%5D%2C+%22visible%22%3A+true%2C+%22slider%22%3A+%5B1%2C+2%5D%7D%2C+%7B%22selection%22%3A+%7B%22c%22%3A+2%2C+%22t%22%3A+0%2C+%22z%22%3A+0%7D%2C+%22color%22%3A+%5B0%2C+0%2C+0%5D%2C+%22visible%22%3A+true%2C+%22slider%22%3A+%5B2%2C+3%5D%7D%5D%7D%5D%7D%2C+%22obsSetColor%22%3A+%7B%22A%22%3A+%5B%7B%22path%22%3A+%5B%22Cell+Type%22%2C+%22Adatpive+Immune+Enriched%22%5D%2C+%22color%22%3A+%5B255%2C+165%2C+0%5D%7D%2C+%7B%22path%22%3A+%5B%22Cell+Type%22%2C+%22CD66%2B+Mature+Epithelial%22%5D%2C+%22color%22%3A+%5B178%2C+34%2C+34%5D%7D%2C+%7B%22path%22%3A+%5B%22Cell+Type%22%2C+%22CD8%2B+T+Enriched+IEL%22%5D%2C+%22color%22%3A+%5B0%2C+128%2C+0%5D%7D%2C+%7B%22path%22%3A+%5B%22Cell+Type%22%2C+%22Glandular+Epithelial%22%5D%2C+%22color%22%3A+%5B255%2C+140%2C+0%5D%7D%2C+%7B%22path%22%3A+%5B%22Cell+Type%22%2C+%22Innate+Immune+Enriched%22%5D%2C+%22color%22%3A+%5B135%2C+206%2C+235%5D%7D%2C+%7B%22path%22%3A+%5B%22Cell+Type%22%2C+%22Inner+Follicle%22%5D%2C+%22color%22%3A+%5B0%2C+0%2C+255%5D%7D%2C+%7B%22path%22%3A+%5B%22Cell+Type%22%2C+%22Innervated+Smooth+Muscle%22%5D%2C+%22color%22%3A+%5B144%2C+238%2C+144%5D%7D%2C+%7B%22path%22%3A+%5B%22Cell+Type%22%2C+%22Innervated+Stroma%22%5D%2C+%22color%22%3A+%5B138%2C+43%2C+226%5D%7D%2C+%7B%22path%22%3A+%5B%22Cell+Type%22%2C+%22Macrovasculature%22%5D%2C+%22color%22%3A+%5B255%2C+215%2C+0%5D%7D%2C+%7B%22path%22%3A+%5B%22Cell+Type%22%2C+%22Mature+Epithelial%22%5D%2C+%22color%22%3A+%5B255%2C+0%2C+255%5D%7D%2C+%7B%22path%22%3A+%5B%22Cell+Type%22%2C+%22Microvasculature%22%5D%2C+%22color%22%3A+%5B0%2C+0%2C+0%5D%7D%2C+%7B%22path%22%3A+%5B%22Cell+Type%22%2C+%22Outer+Follicle%22%5D%2C+%22color%22%3A+%5B0%2C+0%2C+128%5D%7D%2C+%7B%22path%22%3A+%5B%22Cell+Type%22%2C+%22Paneth+Enriched%22%5D%2C+%22color%22%3A+%5B173%2C+216%2C+230%5D%7D%2C+%7B%22path%22%3A+%5B%22Cell+Type%22%2C+%22Plasma+Cell+Enriched%22%5D%2C+%22color%22%3A+%5B255%2C+255%2C+0%5D%7D%2C+%7B%22path%22%3A+%5B%22Cell+Type%22%2C+%22Secretory+Epithelial%22%5D%2C+%22color%22%3A+%5B154%2C+205%2C+50%5D%7D%2C+%7B%22path%22%3A+%5B%22Cell+Type%22%2C+%22Smooth+Muscle%22%5D%2C+%22color%22%3A+%5B255%2C+0%2C+0%5D%7D%2C+%7B%22path%22%3A+%5B%22Cell+Type%22%2C+%22Smooth+Muscle+%26+Innate+Immune%22%5D%2C+%22color%22%3A+%5B210%2C+180%2C+140%5D%7D%2C+%7B%22path%22%3A+%5B%22Cell+Type%22%2C+%22Stroma%22%5D%2C+%22color%22%3A+%5B128%2C+128%2C+128%5D%7D%2C+%7B%22path%22%3A+%5B%22Cell+Type%22%2C+%22Stroma+%26+Innate+Immune%22%5D%2C+%22color%22%3A+%5B165%2C+42%2C+42%5D%7D%2C+%7B%22path%22%3A+%5B%22Cell+Type%22%2C+%22Transit+Amplifying+Zone%22%5D%2C+%22color%22%3A+%5B0%2C+0%2C+139%5D%7D%5D%7D%7D%2C+%22layout%22%3A+%5B%7B%22component%22%3A+%22spatial%22%2C+%22coordinationScopes%22%3A+%7B%22dataset%22%3A+%22A%22%2C+%22spatialZoom%22%3A+%22A%22%2C+%22spatialTargetX%22%3A+%22A%22%2C+%22spatialTargetY%22%3A+%22A%22%2C+%22spatialSegmentationLayer%22%3A+%22A%22%2C+%22obsSetColor%22%3A+%22A%22%7D%2C+%22x%22%3A+0.0%2C+%22y%22%3A+0%2C+%22w%22%3A+6.0%2C+%22h%22%3A+12%7D%2C+%7B%22component%22%3A+%22layerController%22%2C+%22coordinationScopes%22%3A+%7B%22dataset%22%3A+%22A%22%2C+%22spatialZoom%22%3A+%22A%22%2C+%22spatialTargetX%22%3A+%22A%22%2C+%22spatialTargetY%22%3A+%22A%22%2C+%22spatialSegmentationLayer%22%3A+%22A%22%2C+%22obsSetColor%22%3A+%22A%22%7D%2C+%22x%22%3A+6.0%2C+%22y%22%3A+0.0%2C+%22w%22%3A+6.0%2C+%22h%22%3A+6.0%7D%2C+%7B%22component%22%3A+%22obsSets%22%2C+%22coordinationScopes%22%3A+%7B%22dataset%22%3A+%22A%22%2C+%22obsSetColor%22%3A+%22A%22%7D%2C+%22x%22%3A+6.0%2C+%22y%22%3A+6.0%2C+%22w%22%3A+6.0%2C+%22h%22%3A+6.0%7D%5D%2C+%22initStrategy%22%3A+%22auto%22%7D\" target=\"_blank\">View on Vitessce.io</a>"
            ]
          },
          "metadata": {}
        },
        {
          "output_type": "stream",
          "name": "stdout",
          "text": [
            "\tUpdating 'spatial' component 'width' from 6.0 to 10.0\n",
            "\tUpdating 'layerController' component 'x' from 6.0 to 10.0\n",
            "\tUpdating 'layerController' component 'width' from 6.0 to 2\n",
            "\tUpdating 'obsSets' component 'x' from 6.0 to 10.0\n",
            "\tUpdating 'obsSets' component 'width' from 6.0 to 2\n",
            "5\n",
            "./images/Region_5_mask.pyramid.ome.tif\n"
          ]
        },
        {
          "output_type": "display_data",
          "data": {
            "text/plain": [
              "<IPython.core.display.HTML object>"
            ],
            "text/html": [
              "<a href=\"http://vitessce.io/#?theme=light&url=data:,%7B%22version%22%3A+%221.0.15%22%2C+%22name%22%3A+%22Transcriptomics+example%22%2C+%22description%22%3A+%22%22%2C+%22datasets%22%3A+%5B%7B%22uid%22%3A+%22A%22%2C+%22name%22%3A+%22Cell+segmentations%22%2C+%22files%22%3A+%5B%7B%22fileType%22%3A+%22raster.json%22%2C+%22options%22%3A+%7B%22schemaVersion%22%3A+%220.0.2%22%2C+%22images%22%3A+%5B%7B%22name%22%3A+%22Region+5+Segmentations%22%2C+%22type%22%3A+%22ome-tiff%22%2C+%22url%22%3A+%22http%3A%2F%2Flocalhost%3A8004%2FA%2F0%2F1bba3c03-2cc3-4059-81e9-063a338a29db%22%2C+%22metadata%22%3A+%7B%22omeTiffOffsetsUrl%22%3A+%22http%3A%2F%2Flocalhost%3A8004%2FA%2F0%2Ff21b3657-caf7-4255-b920-009ae7935c12%22%2C+%22isBitmask%22%3A+true%7D%7D%5D%7D%7D%2C+%7B%22fileType%22%3A+%22obsSets.csv%22%2C+%22url%22%3A+%22http%3A%2F%2Flocalhost%3A8004%2FA%2F1%2F7a90bbae-6add-46fb-879c-f9d457111880%22%2C+%22options%22%3A+%7B%22obsIndex%22%3A+%22cell_id%22%2C+%22obsSets%22%3A+%5B%7B%22name%22%3A+%22Cell+Type%22%2C+%22column%22%3A+%22cell_type%22%7D%5D%7D%7D%5D%7D%5D%2C+%22coordinationSpace%22%3A+%7B%22dataset%22%3A+%7B%22A%22%3A+%22A%22%7D%2C+%22spatialZoom%22%3A+%7B%22A%22%3A+-3%7D%2C+%22spatialTargetX%22%3A+%7B%22A%22%3A+3000%7D%2C+%22spatialTargetY%22%3A+%7B%22A%22%3A+3000%7D%2C+%22spatialSegmentationLayer%22%3A+%7B%22A%22%3A+%5B%7B%22type%22%3A+%22bitmask%22%2C+%22index%22%3A+0%2C+%22visible%22%3A+true%2C+%22colormap%22%3A+null%2C+%22opacity%22%3A+1%2C+%22domainType%22%3A+%22Min%2FMax%22%2C+%22transparentColor%22%3A+null%2C+%22renderingMode%22%3A+%22Additive%22%2C+%22use3d%22%3A+false%2C+%22channels%22%3A+%5B%7B%22selection%22%3A+%7B%22c%22%3A+0%2C+%22t%22%3A+0%2C+%22z%22%3A+0%7D%2C+%22color%22%3A+%5B0%2C+0%2C+0%5D%2C+%22visible%22%3A+true%2C+%22slider%22%3A+%5B0%2C+1%5D%7D%2C+%7B%22selection%22%3A+%7B%22c%22%3A+1%2C+%22t%22%3A+0%2C+%22z%22%3A+0%7D%2C+%22color%22%3A+%5B0%2C+0%2C+0%5D%2C+%22visible%22%3A+true%2C+%22slider%22%3A+%5B1%2C+2%5D%7D%2C+%7B%22selection%22%3A+%7B%22c%22%3A+2%2C+%22t%22%3A+0%2C+%22z%22%3A+0%7D%2C+%22color%22%3A+%5B0%2C+0%2C+0%5D%2C+%22visible%22%3A+true%2C+%22slider%22%3A+%5B2%2C+3%5D%7D%5D%7D%5D%7D%2C+%22obsSetColor%22%3A+%7B%22A%22%3A+%5B%7B%22path%22%3A+%5B%22Cell+Type%22%2C+%22Adatpive+Immune+Enriched%22%5D%2C+%22color%22%3A+%5B255%2C+165%2C+0%5D%7D%2C+%7B%22path%22%3A+%5B%22Cell+Type%22%2C+%22CD66%2B+Mature+Epithelial%22%5D%2C+%22color%22%3A+%5B178%2C+34%2C+34%5D%7D%2C+%7B%22path%22%3A+%5B%22Cell+Type%22%2C+%22CD8%2B+T+Enriched+IEL%22%5D%2C+%22color%22%3A+%5B0%2C+128%2C+0%5D%7D%2C+%7B%22path%22%3A+%5B%22Cell+Type%22%2C+%22Glandular+Epithelial%22%5D%2C+%22color%22%3A+%5B255%2C+140%2C+0%5D%7D%2C+%7B%22path%22%3A+%5B%22Cell+Type%22%2C+%22Innate+Immune+Enriched%22%5D%2C+%22color%22%3A+%5B135%2C+206%2C+235%5D%7D%2C+%7B%22path%22%3A+%5B%22Cell+Type%22%2C+%22Inner+Follicle%22%5D%2C+%22color%22%3A+%5B0%2C+0%2C+255%5D%7D%2C+%7B%22path%22%3A+%5B%22Cell+Type%22%2C+%22Innervated+Smooth+Muscle%22%5D%2C+%22color%22%3A+%5B144%2C+238%2C+144%5D%7D%2C+%7B%22path%22%3A+%5B%22Cell+Type%22%2C+%22Innervated+Stroma%22%5D%2C+%22color%22%3A+%5B138%2C+43%2C+226%5D%7D%2C+%7B%22path%22%3A+%5B%22Cell+Type%22%2C+%22Macrovasculature%22%5D%2C+%22color%22%3A+%5B255%2C+215%2C+0%5D%7D%2C+%7B%22path%22%3A+%5B%22Cell+Type%22%2C+%22Mature+Epithelial%22%5D%2C+%22color%22%3A+%5B255%2C+0%2C+255%5D%7D%2C+%7B%22path%22%3A+%5B%22Cell+Type%22%2C+%22Microvasculature%22%5D%2C+%22color%22%3A+%5B0%2C+0%2C+0%5D%7D%2C+%7B%22path%22%3A+%5B%22Cell+Type%22%2C+%22Outer+Follicle%22%5D%2C+%22color%22%3A+%5B0%2C+0%2C+128%5D%7D%2C+%7B%22path%22%3A+%5B%22Cell+Type%22%2C+%22Paneth+Enriched%22%5D%2C+%22color%22%3A+%5B173%2C+216%2C+230%5D%7D%2C+%7B%22path%22%3A+%5B%22Cell+Type%22%2C+%22Plasma+Cell+Enriched%22%5D%2C+%22color%22%3A+%5B255%2C+255%2C+0%5D%7D%2C+%7B%22path%22%3A+%5B%22Cell+Type%22%2C+%22Secretory+Epithelial%22%5D%2C+%22color%22%3A+%5B154%2C+205%2C+50%5D%7D%2C+%7B%22path%22%3A+%5B%22Cell+Type%22%2C+%22Smooth+Muscle%22%5D%2C+%22color%22%3A+%5B255%2C+0%2C+0%5D%7D%2C+%7B%22path%22%3A+%5B%22Cell+Type%22%2C+%22Smooth+Muscle+%26+Innate+Immune%22%5D%2C+%22color%22%3A+%5B210%2C+180%2C+140%5D%7D%2C+%7B%22path%22%3A+%5B%22Cell+Type%22%2C+%22Stroma%22%5D%2C+%22color%22%3A+%5B128%2C+128%2C+128%5D%7D%2C+%7B%22path%22%3A+%5B%22Cell+Type%22%2C+%22Stroma+%26+Innate+Immune%22%5D%2C+%22color%22%3A+%5B165%2C+42%2C+42%5D%7D%2C+%7B%22path%22%3A+%5B%22Cell+Type%22%2C+%22Transit+Amplifying+Zone%22%5D%2C+%22color%22%3A+%5B0%2C+0%2C+139%5D%7D%5D%7D%7D%2C+%22layout%22%3A+%5B%7B%22component%22%3A+%22spatial%22%2C+%22coordinationScopes%22%3A+%7B%22dataset%22%3A+%22A%22%2C+%22spatialZoom%22%3A+%22A%22%2C+%22spatialTargetX%22%3A+%22A%22%2C+%22spatialTargetY%22%3A+%22A%22%2C+%22spatialSegmentationLayer%22%3A+%22A%22%2C+%22obsSetColor%22%3A+%22A%22%7D%2C+%22x%22%3A+0.0%2C+%22y%22%3A+0%2C+%22w%22%3A+6.0%2C+%22h%22%3A+12%7D%2C+%7B%22component%22%3A+%22layerController%22%2C+%22coordinationScopes%22%3A+%7B%22dataset%22%3A+%22A%22%2C+%22spatialZoom%22%3A+%22A%22%2C+%22spatialTargetX%22%3A+%22A%22%2C+%22spatialTargetY%22%3A+%22A%22%2C+%22spatialSegmentationLayer%22%3A+%22A%22%2C+%22obsSetColor%22%3A+%22A%22%7D%2C+%22x%22%3A+6.0%2C+%22y%22%3A+0.0%2C+%22w%22%3A+6.0%2C+%22h%22%3A+6.0%7D%2C+%7B%22component%22%3A+%22obsSets%22%2C+%22coordinationScopes%22%3A+%7B%22dataset%22%3A+%22A%22%2C+%22obsSetColor%22%3A+%22A%22%7D%2C+%22x%22%3A+6.0%2C+%22y%22%3A+6.0%2C+%22w%22%3A+6.0%2C+%22h%22%3A+6.0%7D%5D%2C+%22initStrategy%22%3A+%22auto%22%7D\" target=\"_blank\">View on Vitessce.io</a>"
            ]
          },
          "metadata": {}
        },
        {
          "output_type": "stream",
          "name": "stdout",
          "text": [
            "\tUpdating 'spatial' component 'width' from 6.0 to 10.0\n",
            "\tUpdating 'layerController' component 'x' from 6.0 to 10.0\n",
            "\tUpdating 'layerController' component 'width' from 6.0 to 2\n",
            "\tUpdating 'obsSets' component 'x' from 6.0 to 10.0\n",
            "\tUpdating 'obsSets' component 'width' from 6.0 to 2\n",
            "6\n",
            "./images/Region_6_mask.pyramid.ome.tif\n"
          ]
        },
        {
          "output_type": "display_data",
          "data": {
            "text/plain": [
              "<IPython.core.display.HTML object>"
            ],
            "text/html": [
              "<a href=\"http://vitessce.io/#?theme=light&url=data:,%7B%22version%22%3A+%221.0.15%22%2C+%22name%22%3A+%22Transcriptomics+example%22%2C+%22description%22%3A+%22%22%2C+%22datasets%22%3A+%5B%7B%22uid%22%3A+%22A%22%2C+%22name%22%3A+%22Cell+segmentations%22%2C+%22files%22%3A+%5B%7B%22fileType%22%3A+%22raster.json%22%2C+%22options%22%3A+%7B%22schemaVersion%22%3A+%220.0.2%22%2C+%22images%22%3A+%5B%7B%22name%22%3A+%22Region+6+Segmentations%22%2C+%22type%22%3A+%22ome-tiff%22%2C+%22url%22%3A+%22http%3A%2F%2Flocalhost%3A8005%2FA%2F0%2Fecfcc516-4bea-4eb3-963e-4771c70e9852%22%2C+%22metadata%22%3A+%7B%22omeTiffOffsetsUrl%22%3A+%22http%3A%2F%2Flocalhost%3A8005%2FA%2F0%2F7f342351-2a4c-4151-9f7f-31ea2aebb6bc%22%2C+%22isBitmask%22%3A+true%7D%7D%5D%7D%7D%2C+%7B%22fileType%22%3A+%22obsSets.csv%22%2C+%22url%22%3A+%22http%3A%2F%2Flocalhost%3A8005%2FA%2F1%2Fbdc6c715-1a6f-4e51-807e-2979da7b9465%22%2C+%22options%22%3A+%7B%22obsIndex%22%3A+%22cell_id%22%2C+%22obsSets%22%3A+%5B%7B%22name%22%3A+%22Cell+Type%22%2C+%22column%22%3A+%22cell_type%22%7D%5D%7D%7D%5D%7D%5D%2C+%22coordinationSpace%22%3A+%7B%22dataset%22%3A+%7B%22A%22%3A+%22A%22%7D%2C+%22spatialZoom%22%3A+%7B%22A%22%3A+-3%7D%2C+%22spatialTargetX%22%3A+%7B%22A%22%3A+3000%7D%2C+%22spatialTargetY%22%3A+%7B%22A%22%3A+3000%7D%2C+%22spatialSegmentationLayer%22%3A+%7B%22A%22%3A+%5B%7B%22type%22%3A+%22bitmask%22%2C+%22index%22%3A+0%2C+%22visible%22%3A+true%2C+%22colormap%22%3A+null%2C+%22opacity%22%3A+1%2C+%22domainType%22%3A+%22Min%2FMax%22%2C+%22transparentColor%22%3A+null%2C+%22renderingMode%22%3A+%22Additive%22%2C+%22use3d%22%3A+false%2C+%22channels%22%3A+%5B%7B%22selection%22%3A+%7B%22c%22%3A+0%2C+%22t%22%3A+0%2C+%22z%22%3A+0%7D%2C+%22color%22%3A+%5B0%2C+0%2C+0%5D%2C+%22visible%22%3A+true%2C+%22slider%22%3A+%5B0%2C+1%5D%7D%2C+%7B%22selection%22%3A+%7B%22c%22%3A+1%2C+%22t%22%3A+0%2C+%22z%22%3A+0%7D%2C+%22color%22%3A+%5B0%2C+0%2C+0%5D%2C+%22visible%22%3A+true%2C+%22slider%22%3A+%5B1%2C+2%5D%7D%2C+%7B%22selection%22%3A+%7B%22c%22%3A+2%2C+%22t%22%3A+0%2C+%22z%22%3A+0%7D%2C+%22color%22%3A+%5B0%2C+0%2C+0%5D%2C+%22visible%22%3A+true%2C+%22slider%22%3A+%5B2%2C+3%5D%7D%5D%7D%5D%7D%2C+%22obsSetColor%22%3A+%7B%22A%22%3A+%5B%7B%22path%22%3A+%5B%22Cell+Type%22%2C+%22Adatpive+Immune+Enriched%22%5D%2C+%22color%22%3A+%5B255%2C+165%2C+0%5D%7D%2C+%7B%22path%22%3A+%5B%22Cell+Type%22%2C+%22CD66%2B+Mature+Epithelial%22%5D%2C+%22color%22%3A+%5B178%2C+34%2C+34%5D%7D%2C+%7B%22path%22%3A+%5B%22Cell+Type%22%2C+%22CD8%2B+T+Enriched+IEL%22%5D%2C+%22color%22%3A+%5B0%2C+128%2C+0%5D%7D%2C+%7B%22path%22%3A+%5B%22Cell+Type%22%2C+%22Glandular+Epithelial%22%5D%2C+%22color%22%3A+%5B255%2C+140%2C+0%5D%7D%2C+%7B%22path%22%3A+%5B%22Cell+Type%22%2C+%22Innate+Immune+Enriched%22%5D%2C+%22color%22%3A+%5B135%2C+206%2C+235%5D%7D%2C+%7B%22path%22%3A+%5B%22Cell+Type%22%2C+%22Inner+Follicle%22%5D%2C+%22color%22%3A+%5B0%2C+0%2C+255%5D%7D%2C+%7B%22path%22%3A+%5B%22Cell+Type%22%2C+%22Innervated+Smooth+Muscle%22%5D%2C+%22color%22%3A+%5B144%2C+238%2C+144%5D%7D%2C+%7B%22path%22%3A+%5B%22Cell+Type%22%2C+%22Innervated+Stroma%22%5D%2C+%22color%22%3A+%5B138%2C+43%2C+226%5D%7D%2C+%7B%22path%22%3A+%5B%22Cell+Type%22%2C+%22Macrovasculature%22%5D%2C+%22color%22%3A+%5B255%2C+215%2C+0%5D%7D%2C+%7B%22path%22%3A+%5B%22Cell+Type%22%2C+%22Mature+Epithelial%22%5D%2C+%22color%22%3A+%5B255%2C+0%2C+255%5D%7D%2C+%7B%22path%22%3A+%5B%22Cell+Type%22%2C+%22Microvasculature%22%5D%2C+%22color%22%3A+%5B0%2C+0%2C+0%5D%7D%2C+%7B%22path%22%3A+%5B%22Cell+Type%22%2C+%22Outer+Follicle%22%5D%2C+%22color%22%3A+%5B0%2C+0%2C+128%5D%7D%2C+%7B%22path%22%3A+%5B%22Cell+Type%22%2C+%22Paneth+Enriched%22%5D%2C+%22color%22%3A+%5B173%2C+216%2C+230%5D%7D%2C+%7B%22path%22%3A+%5B%22Cell+Type%22%2C+%22Plasma+Cell+Enriched%22%5D%2C+%22color%22%3A+%5B255%2C+255%2C+0%5D%7D%2C+%7B%22path%22%3A+%5B%22Cell+Type%22%2C+%22Secretory+Epithelial%22%5D%2C+%22color%22%3A+%5B154%2C+205%2C+50%5D%7D%2C+%7B%22path%22%3A+%5B%22Cell+Type%22%2C+%22Smooth+Muscle%22%5D%2C+%22color%22%3A+%5B255%2C+0%2C+0%5D%7D%2C+%7B%22path%22%3A+%5B%22Cell+Type%22%2C+%22Smooth+Muscle+%26+Innate+Immune%22%5D%2C+%22color%22%3A+%5B210%2C+180%2C+140%5D%7D%2C+%7B%22path%22%3A+%5B%22Cell+Type%22%2C+%22Stroma%22%5D%2C+%22color%22%3A+%5B128%2C+128%2C+128%5D%7D%2C+%7B%22path%22%3A+%5B%22Cell+Type%22%2C+%22Stroma+%26+Innate+Immune%22%5D%2C+%22color%22%3A+%5B165%2C+42%2C+42%5D%7D%2C+%7B%22path%22%3A+%5B%22Cell+Type%22%2C+%22Transit+Amplifying+Zone%22%5D%2C+%22color%22%3A+%5B0%2C+0%2C+139%5D%7D%5D%7D%7D%2C+%22layout%22%3A+%5B%7B%22component%22%3A+%22spatial%22%2C+%22coordinationScopes%22%3A+%7B%22dataset%22%3A+%22A%22%2C+%22spatialZoom%22%3A+%22A%22%2C+%22spatialTargetX%22%3A+%22A%22%2C+%22spatialTargetY%22%3A+%22A%22%2C+%22spatialSegmentationLayer%22%3A+%22A%22%2C+%22obsSetColor%22%3A+%22A%22%7D%2C+%22x%22%3A+0.0%2C+%22y%22%3A+0%2C+%22w%22%3A+6.0%2C+%22h%22%3A+12%7D%2C+%7B%22component%22%3A+%22layerController%22%2C+%22coordinationScopes%22%3A+%7B%22dataset%22%3A+%22A%22%2C+%22spatialZoom%22%3A+%22A%22%2C+%22spatialTargetX%22%3A+%22A%22%2C+%22spatialTargetY%22%3A+%22A%22%2C+%22spatialSegmentationLayer%22%3A+%22A%22%2C+%22obsSetColor%22%3A+%22A%22%7D%2C+%22x%22%3A+6.0%2C+%22y%22%3A+0.0%2C+%22w%22%3A+6.0%2C+%22h%22%3A+6.0%7D%2C+%7B%22component%22%3A+%22obsSets%22%2C+%22coordinationScopes%22%3A+%7B%22dataset%22%3A+%22A%22%2C+%22obsSetColor%22%3A+%22A%22%7D%2C+%22x%22%3A+6.0%2C+%22y%22%3A+6.0%2C+%22w%22%3A+6.0%2C+%22h%22%3A+6.0%7D%5D%2C+%22initStrategy%22%3A+%22auto%22%7D\" target=\"_blank\">View on Vitessce.io</a>"
            ]
          },
          "metadata": {}
        },
        {
          "output_type": "stream",
          "name": "stdout",
          "text": [
            "\tUpdating 'spatial' component 'width' from 6.0 to 10.0\n",
            "\tUpdating 'layerController' component 'x' from 6.0 to 10.0\n",
            "\tUpdating 'layerController' component 'width' from 6.0 to 2\n",
            "\tUpdating 'obsSets' component 'x' from 6.0 to 10.0\n",
            "\tUpdating 'obsSets' component 'width' from 6.0 to 2\n",
            "7\n",
            "./images/Region_7_mask.pyramid.ome.tif\n"
          ]
        },
        {
          "output_type": "display_data",
          "data": {
            "text/plain": [
              "<IPython.core.display.HTML object>"
            ],
            "text/html": [
              "<a href=\"http://vitessce.io/#?theme=light&url=data:,%7B%22version%22%3A+%221.0.15%22%2C+%22name%22%3A+%22Transcriptomics+example%22%2C+%22description%22%3A+%22%22%2C+%22datasets%22%3A+%5B%7B%22uid%22%3A+%22A%22%2C+%22name%22%3A+%22Cell+segmentations%22%2C+%22files%22%3A+%5B%7B%22fileType%22%3A+%22raster.json%22%2C+%22options%22%3A+%7B%22schemaVersion%22%3A+%220.0.2%22%2C+%22images%22%3A+%5B%7B%22name%22%3A+%22Region+7+Segmentations%22%2C+%22type%22%3A+%22ome-tiff%22%2C+%22url%22%3A+%22http%3A%2F%2Flocalhost%3A8006%2FA%2F0%2F8d24bbc5-766c-4787-9228-b34dbce942aa%22%2C+%22metadata%22%3A+%7B%22omeTiffOffsetsUrl%22%3A+%22http%3A%2F%2Flocalhost%3A8006%2FA%2F0%2Fc23bf833-ebd3-4a01-a784-ec3efed97f3d%22%2C+%22isBitmask%22%3A+true%7D%7D%5D%7D%7D%2C+%7B%22fileType%22%3A+%22obsSets.csv%22%2C+%22url%22%3A+%22http%3A%2F%2Flocalhost%3A8006%2FA%2F1%2F4c0f6b71-0168-486a-adad-e7e2f45b0a9a%22%2C+%22options%22%3A+%7B%22obsIndex%22%3A+%22cell_id%22%2C+%22obsSets%22%3A+%5B%7B%22name%22%3A+%22Cell+Type%22%2C+%22column%22%3A+%22cell_type%22%7D%5D%7D%7D%5D%7D%5D%2C+%22coordinationSpace%22%3A+%7B%22dataset%22%3A+%7B%22A%22%3A+%22A%22%7D%2C+%22spatialZoom%22%3A+%7B%22A%22%3A+-3%7D%2C+%22spatialTargetX%22%3A+%7B%22A%22%3A+3000%7D%2C+%22spatialTargetY%22%3A+%7B%22A%22%3A+3000%7D%2C+%22spatialSegmentationLayer%22%3A+%7B%22A%22%3A+%5B%7B%22type%22%3A+%22bitmask%22%2C+%22index%22%3A+0%2C+%22visible%22%3A+true%2C+%22colormap%22%3A+null%2C+%22opacity%22%3A+1%2C+%22domainType%22%3A+%22Min%2FMax%22%2C+%22transparentColor%22%3A+null%2C+%22renderingMode%22%3A+%22Additive%22%2C+%22use3d%22%3A+false%2C+%22channels%22%3A+%5B%7B%22selection%22%3A+%7B%22c%22%3A+0%2C+%22t%22%3A+0%2C+%22z%22%3A+0%7D%2C+%22color%22%3A+%5B0%2C+0%2C+0%5D%2C+%22visible%22%3A+true%2C+%22slider%22%3A+%5B0%2C+1%5D%7D%2C+%7B%22selection%22%3A+%7B%22c%22%3A+1%2C+%22t%22%3A+0%2C+%22z%22%3A+0%7D%2C+%22color%22%3A+%5B0%2C+0%2C+0%5D%2C+%22visible%22%3A+true%2C+%22slider%22%3A+%5B1%2C+2%5D%7D%2C+%7B%22selection%22%3A+%7B%22c%22%3A+2%2C+%22t%22%3A+0%2C+%22z%22%3A+0%7D%2C+%22color%22%3A+%5B0%2C+0%2C+0%5D%2C+%22visible%22%3A+true%2C+%22slider%22%3A+%5B2%2C+3%5D%7D%5D%7D%5D%7D%2C+%22obsSetColor%22%3A+%7B%22A%22%3A+%5B%7B%22path%22%3A+%5B%22Cell+Type%22%2C+%22Adatpive+Immune+Enriched%22%5D%2C+%22color%22%3A+%5B255%2C+165%2C+0%5D%7D%2C+%7B%22path%22%3A+%5B%22Cell+Type%22%2C+%22CD66%2B+Mature+Epithelial%22%5D%2C+%22color%22%3A+%5B178%2C+34%2C+34%5D%7D%2C+%7B%22path%22%3A+%5B%22Cell+Type%22%2C+%22CD8%2B+T+Enriched+IEL%22%5D%2C+%22color%22%3A+%5B0%2C+128%2C+0%5D%7D%2C+%7B%22path%22%3A+%5B%22Cell+Type%22%2C+%22Glandular+Epithelial%22%5D%2C+%22color%22%3A+%5B255%2C+140%2C+0%5D%7D%2C+%7B%22path%22%3A+%5B%22Cell+Type%22%2C+%22Innate+Immune+Enriched%22%5D%2C+%22color%22%3A+%5B135%2C+206%2C+235%5D%7D%2C+%7B%22path%22%3A+%5B%22Cell+Type%22%2C+%22Inner+Follicle%22%5D%2C+%22color%22%3A+%5B0%2C+0%2C+255%5D%7D%2C+%7B%22path%22%3A+%5B%22Cell+Type%22%2C+%22Innervated+Smooth+Muscle%22%5D%2C+%22color%22%3A+%5B144%2C+238%2C+144%5D%7D%2C+%7B%22path%22%3A+%5B%22Cell+Type%22%2C+%22Innervated+Stroma%22%5D%2C+%22color%22%3A+%5B138%2C+43%2C+226%5D%7D%2C+%7B%22path%22%3A+%5B%22Cell+Type%22%2C+%22Macrovasculature%22%5D%2C+%22color%22%3A+%5B255%2C+215%2C+0%5D%7D%2C+%7B%22path%22%3A+%5B%22Cell+Type%22%2C+%22Mature+Epithelial%22%5D%2C+%22color%22%3A+%5B255%2C+0%2C+255%5D%7D%2C+%7B%22path%22%3A+%5B%22Cell+Type%22%2C+%22Microvasculature%22%5D%2C+%22color%22%3A+%5B0%2C+0%2C+0%5D%7D%2C+%7B%22path%22%3A+%5B%22Cell+Type%22%2C+%22Outer+Follicle%22%5D%2C+%22color%22%3A+%5B0%2C+0%2C+128%5D%7D%2C+%7B%22path%22%3A+%5B%22Cell+Type%22%2C+%22Paneth+Enriched%22%5D%2C+%22color%22%3A+%5B173%2C+216%2C+230%5D%7D%2C+%7B%22path%22%3A+%5B%22Cell+Type%22%2C+%22Plasma+Cell+Enriched%22%5D%2C+%22color%22%3A+%5B255%2C+255%2C+0%5D%7D%2C+%7B%22path%22%3A+%5B%22Cell+Type%22%2C+%22Secretory+Epithelial%22%5D%2C+%22color%22%3A+%5B154%2C+205%2C+50%5D%7D%2C+%7B%22path%22%3A+%5B%22Cell+Type%22%2C+%22Smooth+Muscle%22%5D%2C+%22color%22%3A+%5B255%2C+0%2C+0%5D%7D%2C+%7B%22path%22%3A+%5B%22Cell+Type%22%2C+%22Smooth+Muscle+%26+Innate+Immune%22%5D%2C+%22color%22%3A+%5B210%2C+180%2C+140%5D%7D%2C+%7B%22path%22%3A+%5B%22Cell+Type%22%2C+%22Stroma%22%5D%2C+%22color%22%3A+%5B128%2C+128%2C+128%5D%7D%2C+%7B%22path%22%3A+%5B%22Cell+Type%22%2C+%22Stroma+%26+Innate+Immune%22%5D%2C+%22color%22%3A+%5B165%2C+42%2C+42%5D%7D%2C+%7B%22path%22%3A+%5B%22Cell+Type%22%2C+%22Transit+Amplifying+Zone%22%5D%2C+%22color%22%3A+%5B0%2C+0%2C+139%5D%7D%5D%7D%7D%2C+%22layout%22%3A+%5B%7B%22component%22%3A+%22spatial%22%2C+%22coordinationScopes%22%3A+%7B%22dataset%22%3A+%22A%22%2C+%22spatialZoom%22%3A+%22A%22%2C+%22spatialTargetX%22%3A+%22A%22%2C+%22spatialTargetY%22%3A+%22A%22%2C+%22spatialSegmentationLayer%22%3A+%22A%22%2C+%22obsSetColor%22%3A+%22A%22%7D%2C+%22x%22%3A+0.0%2C+%22y%22%3A+0%2C+%22w%22%3A+6.0%2C+%22h%22%3A+12%7D%2C+%7B%22component%22%3A+%22layerController%22%2C+%22coordinationScopes%22%3A+%7B%22dataset%22%3A+%22A%22%2C+%22spatialZoom%22%3A+%22A%22%2C+%22spatialTargetX%22%3A+%22A%22%2C+%22spatialTargetY%22%3A+%22A%22%2C+%22spatialSegmentationLayer%22%3A+%22A%22%2C+%22obsSetColor%22%3A+%22A%22%7D%2C+%22x%22%3A+6.0%2C+%22y%22%3A+0.0%2C+%22w%22%3A+6.0%2C+%22h%22%3A+6.0%7D%2C+%7B%22component%22%3A+%22obsSets%22%2C+%22coordinationScopes%22%3A+%7B%22dataset%22%3A+%22A%22%2C+%22obsSetColor%22%3A+%22A%22%7D%2C+%22x%22%3A+6.0%2C+%22y%22%3A+6.0%2C+%22w%22%3A+6.0%2C+%22h%22%3A+6.0%7D%5D%2C+%22initStrategy%22%3A+%22auto%22%7D\" target=\"_blank\">View on Vitessce.io</a>"
            ]
          },
          "metadata": {}
        },
        {
          "output_type": "stream",
          "name": "stdout",
          "text": [
            "\tUpdating 'spatial' component 'width' from 6.0 to 10.0\n",
            "\tUpdating 'layerController' component 'x' from 6.0 to 10.0\n",
            "\tUpdating 'layerController' component 'width' from 6.0 to 2\n",
            "\tUpdating 'obsSets' component 'x' from 6.0 to 10.0\n",
            "\tUpdating 'obsSets' component 'width' from 6.0 to 2\n",
            "8\n",
            "./images/Region_8_mask.pyramid.ome.tif\n"
          ]
        },
        {
          "output_type": "display_data",
          "data": {
            "text/plain": [
              "<IPython.core.display.HTML object>"
            ],
            "text/html": [
              "<a href=\"http://vitessce.io/#?theme=light&url=data:,%7B%22version%22%3A+%221.0.15%22%2C+%22name%22%3A+%22Transcriptomics+example%22%2C+%22description%22%3A+%22%22%2C+%22datasets%22%3A+%5B%7B%22uid%22%3A+%22A%22%2C+%22name%22%3A+%22Cell+segmentations%22%2C+%22files%22%3A+%5B%7B%22fileType%22%3A+%22raster.json%22%2C+%22options%22%3A+%7B%22schemaVersion%22%3A+%220.0.2%22%2C+%22images%22%3A+%5B%7B%22name%22%3A+%22Region+8+Segmentations%22%2C+%22type%22%3A+%22ome-tiff%22%2C+%22url%22%3A+%22http%3A%2F%2Flocalhost%3A8007%2FA%2F0%2Fd65ab36c-1089-4b8c-8f1e-1a546b69c748%22%2C+%22metadata%22%3A+%7B%22omeTiffOffsetsUrl%22%3A+%22http%3A%2F%2Flocalhost%3A8007%2FA%2F0%2Fff761893-96f3-4541-b593-4dc72ca30280%22%2C+%22isBitmask%22%3A+true%7D%7D%5D%7D%7D%2C+%7B%22fileType%22%3A+%22obsSets.csv%22%2C+%22url%22%3A+%22http%3A%2F%2Flocalhost%3A8007%2FA%2F1%2F1e8bc8fb-dc7d-4bc3-9b97-9b71d8886975%22%2C+%22options%22%3A+%7B%22obsIndex%22%3A+%22cell_id%22%2C+%22obsSets%22%3A+%5B%7B%22name%22%3A+%22Cell+Type%22%2C+%22column%22%3A+%22cell_type%22%7D%5D%7D%7D%5D%7D%5D%2C+%22coordinationSpace%22%3A+%7B%22dataset%22%3A+%7B%22A%22%3A+%22A%22%7D%2C+%22spatialZoom%22%3A+%7B%22A%22%3A+-3%7D%2C+%22spatialTargetX%22%3A+%7B%22A%22%3A+3000%7D%2C+%22spatialTargetY%22%3A+%7B%22A%22%3A+3000%7D%2C+%22spatialSegmentationLayer%22%3A+%7B%22A%22%3A+%5B%7B%22type%22%3A+%22bitmask%22%2C+%22index%22%3A+0%2C+%22visible%22%3A+true%2C+%22colormap%22%3A+null%2C+%22opacity%22%3A+1%2C+%22domainType%22%3A+%22Min%2FMax%22%2C+%22transparentColor%22%3A+null%2C+%22renderingMode%22%3A+%22Additive%22%2C+%22use3d%22%3A+false%2C+%22channels%22%3A+%5B%7B%22selection%22%3A+%7B%22c%22%3A+0%2C+%22t%22%3A+0%2C+%22z%22%3A+0%7D%2C+%22color%22%3A+%5B0%2C+0%2C+0%5D%2C+%22visible%22%3A+true%2C+%22slider%22%3A+%5B0%2C+1%5D%7D%2C+%7B%22selection%22%3A+%7B%22c%22%3A+1%2C+%22t%22%3A+0%2C+%22z%22%3A+0%7D%2C+%22color%22%3A+%5B0%2C+0%2C+0%5D%2C+%22visible%22%3A+true%2C+%22slider%22%3A+%5B1%2C+2%5D%7D%2C+%7B%22selection%22%3A+%7B%22c%22%3A+2%2C+%22t%22%3A+0%2C+%22z%22%3A+0%7D%2C+%22color%22%3A+%5B0%2C+0%2C+0%5D%2C+%22visible%22%3A+true%2C+%22slider%22%3A+%5B2%2C+3%5D%7D%5D%7D%5D%7D%2C+%22obsSetColor%22%3A+%7B%22A%22%3A+%5B%7B%22path%22%3A+%5B%22Cell+Type%22%2C+%22Adatpive+Immune+Enriched%22%5D%2C+%22color%22%3A+%5B255%2C+165%2C+0%5D%7D%2C+%7B%22path%22%3A+%5B%22Cell+Type%22%2C+%22CD66%2B+Mature+Epithelial%22%5D%2C+%22color%22%3A+%5B178%2C+34%2C+34%5D%7D%2C+%7B%22path%22%3A+%5B%22Cell+Type%22%2C+%22CD8%2B+T+Enriched+IEL%22%5D%2C+%22color%22%3A+%5B0%2C+128%2C+0%5D%7D%2C+%7B%22path%22%3A+%5B%22Cell+Type%22%2C+%22Glandular+Epithelial%22%5D%2C+%22color%22%3A+%5B255%2C+140%2C+0%5D%7D%2C+%7B%22path%22%3A+%5B%22Cell+Type%22%2C+%22Innate+Immune+Enriched%22%5D%2C+%22color%22%3A+%5B135%2C+206%2C+235%5D%7D%2C+%7B%22path%22%3A+%5B%22Cell+Type%22%2C+%22Inner+Follicle%22%5D%2C+%22color%22%3A+%5B0%2C+0%2C+255%5D%7D%2C+%7B%22path%22%3A+%5B%22Cell+Type%22%2C+%22Innervated+Smooth+Muscle%22%5D%2C+%22color%22%3A+%5B144%2C+238%2C+144%5D%7D%2C+%7B%22path%22%3A+%5B%22Cell+Type%22%2C+%22Innervated+Stroma%22%5D%2C+%22color%22%3A+%5B138%2C+43%2C+226%5D%7D%2C+%7B%22path%22%3A+%5B%22Cell+Type%22%2C+%22Macrovasculature%22%5D%2C+%22color%22%3A+%5B255%2C+215%2C+0%5D%7D%2C+%7B%22path%22%3A+%5B%22Cell+Type%22%2C+%22Mature+Epithelial%22%5D%2C+%22color%22%3A+%5B255%2C+0%2C+255%5D%7D%2C+%7B%22path%22%3A+%5B%22Cell+Type%22%2C+%22Microvasculature%22%5D%2C+%22color%22%3A+%5B0%2C+0%2C+0%5D%7D%2C+%7B%22path%22%3A+%5B%22Cell+Type%22%2C+%22Outer+Follicle%22%5D%2C+%22color%22%3A+%5B0%2C+0%2C+128%5D%7D%2C+%7B%22path%22%3A+%5B%22Cell+Type%22%2C+%22Paneth+Enriched%22%5D%2C+%22color%22%3A+%5B173%2C+216%2C+230%5D%7D%2C+%7B%22path%22%3A+%5B%22Cell+Type%22%2C+%22Plasma+Cell+Enriched%22%5D%2C+%22color%22%3A+%5B255%2C+255%2C+0%5D%7D%2C+%7B%22path%22%3A+%5B%22Cell+Type%22%2C+%22Secretory+Epithelial%22%5D%2C+%22color%22%3A+%5B154%2C+205%2C+50%5D%7D%2C+%7B%22path%22%3A+%5B%22Cell+Type%22%2C+%22Smooth+Muscle%22%5D%2C+%22color%22%3A+%5B255%2C+0%2C+0%5D%7D%2C+%7B%22path%22%3A+%5B%22Cell+Type%22%2C+%22Smooth+Muscle+%26+Innate+Immune%22%5D%2C+%22color%22%3A+%5B210%2C+180%2C+140%5D%7D%2C+%7B%22path%22%3A+%5B%22Cell+Type%22%2C+%22Stroma%22%5D%2C+%22color%22%3A+%5B128%2C+128%2C+128%5D%7D%2C+%7B%22path%22%3A+%5B%22Cell+Type%22%2C+%22Stroma+%26+Innate+Immune%22%5D%2C+%22color%22%3A+%5B165%2C+42%2C+42%5D%7D%2C+%7B%22path%22%3A+%5B%22Cell+Type%22%2C+%22Transit+Amplifying+Zone%22%5D%2C+%22color%22%3A+%5B0%2C+0%2C+139%5D%7D%5D%7D%7D%2C+%22layout%22%3A+%5B%7B%22component%22%3A+%22spatial%22%2C+%22coordinationScopes%22%3A+%7B%22dataset%22%3A+%22A%22%2C+%22spatialZoom%22%3A+%22A%22%2C+%22spatialTargetX%22%3A+%22A%22%2C+%22spatialTargetY%22%3A+%22A%22%2C+%22spatialSegmentationLayer%22%3A+%22A%22%2C+%22obsSetColor%22%3A+%22A%22%7D%2C+%22x%22%3A+0.0%2C+%22y%22%3A+0%2C+%22w%22%3A+6.0%2C+%22h%22%3A+12%7D%2C+%7B%22component%22%3A+%22layerController%22%2C+%22coordinationScopes%22%3A+%7B%22dataset%22%3A+%22A%22%2C+%22spatialZoom%22%3A+%22A%22%2C+%22spatialTargetX%22%3A+%22A%22%2C+%22spatialTargetY%22%3A+%22A%22%2C+%22spatialSegmentationLayer%22%3A+%22A%22%2C+%22obsSetColor%22%3A+%22A%22%7D%2C+%22x%22%3A+6.0%2C+%22y%22%3A+0.0%2C+%22w%22%3A+6.0%2C+%22h%22%3A+6.0%7D%2C+%7B%22component%22%3A+%22obsSets%22%2C+%22coordinationScopes%22%3A+%7B%22dataset%22%3A+%22A%22%2C+%22obsSetColor%22%3A+%22A%22%7D%2C+%22x%22%3A+6.0%2C+%22y%22%3A+6.0%2C+%22w%22%3A+6.0%2C+%22h%22%3A+6.0%7D%5D%2C+%22initStrategy%22%3A+%22auto%22%7D\" target=\"_blank\">View on Vitessce.io</a>"
            ]
          },
          "metadata": {}
        },
        {
          "output_type": "stream",
          "name": "stdout",
          "text": [
            "\tUpdating 'spatial' component 'width' from 6.0 to 10.0\n",
            "\tUpdating 'layerController' component 'x' from 6.0 to 10.0\n",
            "\tUpdating 'layerController' component 'width' from 6.0 to 2\n",
            "\tUpdating 'obsSets' component 'x' from 6.0 to 10.0\n",
            "\tUpdating 'obsSets' component 'width' from 6.0 to 2\n",
            "9\n",
            "./images/Region_9_mask.pyramid.ome.tif\n"
          ]
        },
        {
          "output_type": "display_data",
          "data": {
            "text/plain": [
              "<IPython.core.display.HTML object>"
            ],
            "text/html": [
              "<a href=\"http://vitessce.io/#?theme=light&url=data:,%7B%22version%22%3A+%221.0.15%22%2C+%22name%22%3A+%22Transcriptomics+example%22%2C+%22description%22%3A+%22%22%2C+%22datasets%22%3A+%5B%7B%22uid%22%3A+%22A%22%2C+%22name%22%3A+%22Cell+segmentations%22%2C+%22files%22%3A+%5B%7B%22fileType%22%3A+%22raster.json%22%2C+%22options%22%3A+%7B%22schemaVersion%22%3A+%220.0.2%22%2C+%22images%22%3A+%5B%7B%22name%22%3A+%22Region+9+Segmentations%22%2C+%22type%22%3A+%22ome-tiff%22%2C+%22url%22%3A+%22http%3A%2F%2Flocalhost%3A8008%2FA%2F0%2F8e97720b-73d8-43a2-aab1-ff9abe443da1%22%2C+%22metadata%22%3A+%7B%22omeTiffOffsetsUrl%22%3A+%22http%3A%2F%2Flocalhost%3A8008%2FA%2F0%2F09444fed-3e02-49fe-bc9e-42d43e7e4ca2%22%2C+%22isBitmask%22%3A+true%7D%7D%5D%7D%7D%2C+%7B%22fileType%22%3A+%22obsSets.csv%22%2C+%22url%22%3A+%22http%3A%2F%2Flocalhost%3A8008%2FA%2F1%2F229dd778-2c0d-4436-853d-be2571ef3ec5%22%2C+%22options%22%3A+%7B%22obsIndex%22%3A+%22cell_id%22%2C+%22obsSets%22%3A+%5B%7B%22name%22%3A+%22Cell+Type%22%2C+%22column%22%3A+%22cell_type%22%7D%5D%7D%7D%5D%7D%5D%2C+%22coordinationSpace%22%3A+%7B%22dataset%22%3A+%7B%22A%22%3A+%22A%22%7D%2C+%22spatialZoom%22%3A+%7B%22A%22%3A+-3%7D%2C+%22spatialTargetX%22%3A+%7B%22A%22%3A+3000%7D%2C+%22spatialTargetY%22%3A+%7B%22A%22%3A+3000%7D%2C+%22spatialSegmentationLayer%22%3A+%7B%22A%22%3A+%5B%7B%22type%22%3A+%22bitmask%22%2C+%22index%22%3A+0%2C+%22visible%22%3A+true%2C+%22colormap%22%3A+null%2C+%22opacity%22%3A+1%2C+%22domainType%22%3A+%22Min%2FMax%22%2C+%22transparentColor%22%3A+null%2C+%22renderingMode%22%3A+%22Additive%22%2C+%22use3d%22%3A+false%2C+%22channels%22%3A+%5B%7B%22selection%22%3A+%7B%22c%22%3A+0%2C+%22t%22%3A+0%2C+%22z%22%3A+0%7D%2C+%22color%22%3A+%5B0%2C+0%2C+0%5D%2C+%22visible%22%3A+true%2C+%22slider%22%3A+%5B0%2C+1%5D%7D%2C+%7B%22selection%22%3A+%7B%22c%22%3A+1%2C+%22t%22%3A+0%2C+%22z%22%3A+0%7D%2C+%22color%22%3A+%5B0%2C+0%2C+0%5D%2C+%22visible%22%3A+true%2C+%22slider%22%3A+%5B1%2C+2%5D%7D%2C+%7B%22selection%22%3A+%7B%22c%22%3A+2%2C+%22t%22%3A+0%2C+%22z%22%3A+0%7D%2C+%22color%22%3A+%5B0%2C+0%2C+0%5D%2C+%22visible%22%3A+true%2C+%22slider%22%3A+%5B2%2C+3%5D%7D%5D%7D%5D%7D%2C+%22obsSetColor%22%3A+%7B%22A%22%3A+%5B%7B%22path%22%3A+%5B%22Cell+Type%22%2C+%22Adatpive+Immune+Enriched%22%5D%2C+%22color%22%3A+%5B255%2C+165%2C+0%5D%7D%2C+%7B%22path%22%3A+%5B%22Cell+Type%22%2C+%22CD66%2B+Mature+Epithelial%22%5D%2C+%22color%22%3A+%5B178%2C+34%2C+34%5D%7D%2C+%7B%22path%22%3A+%5B%22Cell+Type%22%2C+%22CD8%2B+T+Enriched+IEL%22%5D%2C+%22color%22%3A+%5B0%2C+128%2C+0%5D%7D%2C+%7B%22path%22%3A+%5B%22Cell+Type%22%2C+%22Glandular+Epithelial%22%5D%2C+%22color%22%3A+%5B255%2C+140%2C+0%5D%7D%2C+%7B%22path%22%3A+%5B%22Cell+Type%22%2C+%22Innate+Immune+Enriched%22%5D%2C+%22color%22%3A+%5B135%2C+206%2C+235%5D%7D%2C+%7B%22path%22%3A+%5B%22Cell+Type%22%2C+%22Inner+Follicle%22%5D%2C+%22color%22%3A+%5B0%2C+0%2C+255%5D%7D%2C+%7B%22path%22%3A+%5B%22Cell+Type%22%2C+%22Innervated+Smooth+Muscle%22%5D%2C+%22color%22%3A+%5B144%2C+238%2C+144%5D%7D%2C+%7B%22path%22%3A+%5B%22Cell+Type%22%2C+%22Innervated+Stroma%22%5D%2C+%22color%22%3A+%5B138%2C+43%2C+226%5D%7D%2C+%7B%22path%22%3A+%5B%22Cell+Type%22%2C+%22Macrovasculature%22%5D%2C+%22color%22%3A+%5B255%2C+215%2C+0%5D%7D%2C+%7B%22path%22%3A+%5B%22Cell+Type%22%2C+%22Mature+Epithelial%22%5D%2C+%22color%22%3A+%5B255%2C+0%2C+255%5D%7D%2C+%7B%22path%22%3A+%5B%22Cell+Type%22%2C+%22Microvasculature%22%5D%2C+%22color%22%3A+%5B0%2C+0%2C+0%5D%7D%2C+%7B%22path%22%3A+%5B%22Cell+Type%22%2C+%22Outer+Follicle%22%5D%2C+%22color%22%3A+%5B0%2C+0%2C+128%5D%7D%2C+%7B%22path%22%3A+%5B%22Cell+Type%22%2C+%22Paneth+Enriched%22%5D%2C+%22color%22%3A+%5B173%2C+216%2C+230%5D%7D%2C+%7B%22path%22%3A+%5B%22Cell+Type%22%2C+%22Plasma+Cell+Enriched%22%5D%2C+%22color%22%3A+%5B255%2C+255%2C+0%5D%7D%2C+%7B%22path%22%3A+%5B%22Cell+Type%22%2C+%22Secretory+Epithelial%22%5D%2C+%22color%22%3A+%5B154%2C+205%2C+50%5D%7D%2C+%7B%22path%22%3A+%5B%22Cell+Type%22%2C+%22Smooth+Muscle%22%5D%2C+%22color%22%3A+%5B255%2C+0%2C+0%5D%7D%2C+%7B%22path%22%3A+%5B%22Cell+Type%22%2C+%22Smooth+Muscle+%26+Innate+Immune%22%5D%2C+%22color%22%3A+%5B210%2C+180%2C+140%5D%7D%2C+%7B%22path%22%3A+%5B%22Cell+Type%22%2C+%22Stroma%22%5D%2C+%22color%22%3A+%5B128%2C+128%2C+128%5D%7D%2C+%7B%22path%22%3A+%5B%22Cell+Type%22%2C+%22Stroma+%26+Innate+Immune%22%5D%2C+%22color%22%3A+%5B165%2C+42%2C+42%5D%7D%2C+%7B%22path%22%3A+%5B%22Cell+Type%22%2C+%22Transit+Amplifying+Zone%22%5D%2C+%22color%22%3A+%5B0%2C+0%2C+139%5D%7D%5D%7D%7D%2C+%22layout%22%3A+%5B%7B%22component%22%3A+%22spatial%22%2C+%22coordinationScopes%22%3A+%7B%22dataset%22%3A+%22A%22%2C+%22spatialZoom%22%3A+%22A%22%2C+%22spatialTargetX%22%3A+%22A%22%2C+%22spatialTargetY%22%3A+%22A%22%2C+%22spatialSegmentationLayer%22%3A+%22A%22%2C+%22obsSetColor%22%3A+%22A%22%7D%2C+%22x%22%3A+0.0%2C+%22y%22%3A+0%2C+%22w%22%3A+6.0%2C+%22h%22%3A+12%7D%2C+%7B%22component%22%3A+%22layerController%22%2C+%22coordinationScopes%22%3A+%7B%22dataset%22%3A+%22A%22%2C+%22spatialZoom%22%3A+%22A%22%2C+%22spatialTargetX%22%3A+%22A%22%2C+%22spatialTargetY%22%3A+%22A%22%2C+%22spatialSegmentationLayer%22%3A+%22A%22%2C+%22obsSetColor%22%3A+%22A%22%7D%2C+%22x%22%3A+6.0%2C+%22y%22%3A+0.0%2C+%22w%22%3A+6.0%2C+%22h%22%3A+6.0%7D%2C+%7B%22component%22%3A+%22obsSets%22%2C+%22coordinationScopes%22%3A+%7B%22dataset%22%3A+%22A%22%2C+%22obsSetColor%22%3A+%22A%22%7D%2C+%22x%22%3A+6.0%2C+%22y%22%3A+6.0%2C+%22w%22%3A+6.0%2C+%22h%22%3A+6.0%7D%5D%2C+%22initStrategy%22%3A+%22auto%22%7D\" target=\"_blank\">View on Vitessce.io</a>"
            ]
          },
          "metadata": {}
        },
        {
          "output_type": "stream",
          "name": "stdout",
          "text": [
            "\tUpdating 'spatial' component 'width' from 6.0 to 10.0\n",
            "\tUpdating 'layerController' component 'x' from 6.0 to 10.0\n",
            "\tUpdating 'layerController' component 'width' from 6.0 to 2\n",
            "\tUpdating 'obsSets' component 'x' from 6.0 to 10.0\n",
            "\tUpdating 'obsSets' component 'width' from 6.0 to 2\n",
            "10\n",
            "./images/Region_10_mask.pyramid.ome.tif\n"
          ]
        },
        {
          "output_type": "display_data",
          "data": {
            "text/plain": [
              "<IPython.core.display.HTML object>"
            ],
            "text/html": [
              "<a href=\"http://vitessce.io/#?theme=light&url=data:,%7B%22version%22%3A+%221.0.15%22%2C+%22name%22%3A+%22Transcriptomics+example%22%2C+%22description%22%3A+%22%22%2C+%22datasets%22%3A+%5B%7B%22uid%22%3A+%22A%22%2C+%22name%22%3A+%22Cell+segmentations%22%2C+%22files%22%3A+%5B%7B%22fileType%22%3A+%22raster.json%22%2C+%22options%22%3A+%7B%22schemaVersion%22%3A+%220.0.2%22%2C+%22images%22%3A+%5B%7B%22name%22%3A+%22Region+10+Segmentations%22%2C+%22type%22%3A+%22ome-tiff%22%2C+%22url%22%3A+%22http%3A%2F%2Flocalhost%3A8009%2FA%2F0%2F5ba9cc00-f459-4417-b3ca-0dddb87e46e4%22%2C+%22metadata%22%3A+%7B%22omeTiffOffsetsUrl%22%3A+%22http%3A%2F%2Flocalhost%3A8009%2FA%2F0%2F781fc515-598d-461a-8857-0628b92e52af%22%2C+%22isBitmask%22%3A+true%7D%7D%5D%7D%7D%2C+%7B%22fileType%22%3A+%22obsSets.csv%22%2C+%22url%22%3A+%22http%3A%2F%2Flocalhost%3A8009%2FA%2F1%2F70a81982-a0eb-466c-b1d2-45c7a8a122a9%22%2C+%22options%22%3A+%7B%22obsIndex%22%3A+%22cell_id%22%2C+%22obsSets%22%3A+%5B%7B%22name%22%3A+%22Cell+Type%22%2C+%22column%22%3A+%22cell_type%22%7D%5D%7D%7D%5D%7D%5D%2C+%22coordinationSpace%22%3A+%7B%22dataset%22%3A+%7B%22A%22%3A+%22A%22%7D%2C+%22spatialZoom%22%3A+%7B%22A%22%3A+-3%7D%2C+%22spatialTargetX%22%3A+%7B%22A%22%3A+3000%7D%2C+%22spatialTargetY%22%3A+%7B%22A%22%3A+3000%7D%2C+%22spatialSegmentationLayer%22%3A+%7B%22A%22%3A+%5B%7B%22type%22%3A+%22bitmask%22%2C+%22index%22%3A+0%2C+%22visible%22%3A+true%2C+%22colormap%22%3A+null%2C+%22opacity%22%3A+1%2C+%22domainType%22%3A+%22Min%2FMax%22%2C+%22transparentColor%22%3A+null%2C+%22renderingMode%22%3A+%22Additive%22%2C+%22use3d%22%3A+false%2C+%22channels%22%3A+%5B%7B%22selection%22%3A+%7B%22c%22%3A+0%2C+%22t%22%3A+0%2C+%22z%22%3A+0%7D%2C+%22color%22%3A+%5B0%2C+0%2C+0%5D%2C+%22visible%22%3A+true%2C+%22slider%22%3A+%5B0%2C+1%5D%7D%2C+%7B%22selection%22%3A+%7B%22c%22%3A+1%2C+%22t%22%3A+0%2C+%22z%22%3A+0%7D%2C+%22color%22%3A+%5B0%2C+0%2C+0%5D%2C+%22visible%22%3A+true%2C+%22slider%22%3A+%5B1%2C+2%5D%7D%2C+%7B%22selection%22%3A+%7B%22c%22%3A+2%2C+%22t%22%3A+0%2C+%22z%22%3A+0%7D%2C+%22color%22%3A+%5B0%2C+0%2C+0%5D%2C+%22visible%22%3A+true%2C+%22slider%22%3A+%5B2%2C+3%5D%7D%5D%7D%5D%7D%2C+%22obsSetColor%22%3A+%7B%22A%22%3A+%5B%7B%22path%22%3A+%5B%22Cell+Type%22%2C+%22Adatpive+Immune+Enriched%22%5D%2C+%22color%22%3A+%5B255%2C+165%2C+0%5D%7D%2C+%7B%22path%22%3A+%5B%22Cell+Type%22%2C+%22CD66%2B+Mature+Epithelial%22%5D%2C+%22color%22%3A+%5B178%2C+34%2C+34%5D%7D%2C+%7B%22path%22%3A+%5B%22Cell+Type%22%2C+%22CD8%2B+T+Enriched+IEL%22%5D%2C+%22color%22%3A+%5B0%2C+128%2C+0%5D%7D%2C+%7B%22path%22%3A+%5B%22Cell+Type%22%2C+%22Glandular+Epithelial%22%5D%2C+%22color%22%3A+%5B255%2C+140%2C+0%5D%7D%2C+%7B%22path%22%3A+%5B%22Cell+Type%22%2C+%22Innate+Immune+Enriched%22%5D%2C+%22color%22%3A+%5B135%2C+206%2C+235%5D%7D%2C+%7B%22path%22%3A+%5B%22Cell+Type%22%2C+%22Inner+Follicle%22%5D%2C+%22color%22%3A+%5B0%2C+0%2C+255%5D%7D%2C+%7B%22path%22%3A+%5B%22Cell+Type%22%2C+%22Innervated+Smooth+Muscle%22%5D%2C+%22color%22%3A+%5B144%2C+238%2C+144%5D%7D%2C+%7B%22path%22%3A+%5B%22Cell+Type%22%2C+%22Innervated+Stroma%22%5D%2C+%22color%22%3A+%5B138%2C+43%2C+226%5D%7D%2C+%7B%22path%22%3A+%5B%22Cell+Type%22%2C+%22Macrovasculature%22%5D%2C+%22color%22%3A+%5B255%2C+215%2C+0%5D%7D%2C+%7B%22path%22%3A+%5B%22Cell+Type%22%2C+%22Mature+Epithelial%22%5D%2C+%22color%22%3A+%5B255%2C+0%2C+255%5D%7D%2C+%7B%22path%22%3A+%5B%22Cell+Type%22%2C+%22Microvasculature%22%5D%2C+%22color%22%3A+%5B0%2C+0%2C+0%5D%7D%2C+%7B%22path%22%3A+%5B%22Cell+Type%22%2C+%22Outer+Follicle%22%5D%2C+%22color%22%3A+%5B0%2C+0%2C+128%5D%7D%2C+%7B%22path%22%3A+%5B%22Cell+Type%22%2C+%22Paneth+Enriched%22%5D%2C+%22color%22%3A+%5B173%2C+216%2C+230%5D%7D%2C+%7B%22path%22%3A+%5B%22Cell+Type%22%2C+%22Plasma+Cell+Enriched%22%5D%2C+%22color%22%3A+%5B255%2C+255%2C+0%5D%7D%2C+%7B%22path%22%3A+%5B%22Cell+Type%22%2C+%22Secretory+Epithelial%22%5D%2C+%22color%22%3A+%5B154%2C+205%2C+50%5D%7D%2C+%7B%22path%22%3A+%5B%22Cell+Type%22%2C+%22Smooth+Muscle%22%5D%2C+%22color%22%3A+%5B255%2C+0%2C+0%5D%7D%2C+%7B%22path%22%3A+%5B%22Cell+Type%22%2C+%22Smooth+Muscle+%26+Innate+Immune%22%5D%2C+%22color%22%3A+%5B210%2C+180%2C+140%5D%7D%2C+%7B%22path%22%3A+%5B%22Cell+Type%22%2C+%22Stroma%22%5D%2C+%22color%22%3A+%5B128%2C+128%2C+128%5D%7D%2C+%7B%22path%22%3A+%5B%22Cell+Type%22%2C+%22Stroma+%26+Innate+Immune%22%5D%2C+%22color%22%3A+%5B165%2C+42%2C+42%5D%7D%2C+%7B%22path%22%3A+%5B%22Cell+Type%22%2C+%22Transit+Amplifying+Zone%22%5D%2C+%22color%22%3A+%5B0%2C+0%2C+139%5D%7D%5D%7D%7D%2C+%22layout%22%3A+%5B%7B%22component%22%3A+%22spatial%22%2C+%22coordinationScopes%22%3A+%7B%22dataset%22%3A+%22A%22%2C+%22spatialZoom%22%3A+%22A%22%2C+%22spatialTargetX%22%3A+%22A%22%2C+%22spatialTargetY%22%3A+%22A%22%2C+%22spatialSegmentationLayer%22%3A+%22A%22%2C+%22obsSetColor%22%3A+%22A%22%7D%2C+%22x%22%3A+0.0%2C+%22y%22%3A+0%2C+%22w%22%3A+6.0%2C+%22h%22%3A+12%7D%2C+%7B%22component%22%3A+%22layerController%22%2C+%22coordinationScopes%22%3A+%7B%22dataset%22%3A+%22A%22%2C+%22spatialZoom%22%3A+%22A%22%2C+%22spatialTargetX%22%3A+%22A%22%2C+%22spatialTargetY%22%3A+%22A%22%2C+%22spatialSegmentationLayer%22%3A+%22A%22%2C+%22obsSetColor%22%3A+%22A%22%7D%2C+%22x%22%3A+6.0%2C+%22y%22%3A+0.0%2C+%22w%22%3A+6.0%2C+%22h%22%3A+6.0%7D%2C+%7B%22component%22%3A+%22obsSets%22%2C+%22coordinationScopes%22%3A+%7B%22dataset%22%3A+%22A%22%2C+%22obsSetColor%22%3A+%22A%22%7D%2C+%22x%22%3A+6.0%2C+%22y%22%3A+6.0%2C+%22w%22%3A+6.0%2C+%22h%22%3A+6.0%7D%5D%2C+%22initStrategy%22%3A+%22auto%22%7D\" target=\"_blank\">View on Vitessce.io</a>"
            ]
          },
          "metadata": {}
        },
        {
          "output_type": "stream",
          "name": "stdout",
          "text": [
            "\tUpdating 'spatial' component 'width' from 6.0 to 10.0\n",
            "\tUpdating 'layerController' component 'x' from 6.0 to 10.0\n",
            "\tUpdating 'layerController' component 'width' from 6.0 to 2\n",
            "\tUpdating 'obsSets' component 'x' from 6.0 to 10.0\n",
            "\tUpdating 'obsSets' component 'width' from 6.0 to 2\n",
            "11\n",
            "./images/Region_11_mask.pyramid.ome.tif\n"
          ]
        },
        {
          "output_type": "display_data",
          "data": {
            "text/plain": [
              "<IPython.core.display.HTML object>"
            ],
            "text/html": [
              "<a href=\"http://vitessce.io/#?theme=light&url=data:,%7B%22version%22%3A+%221.0.15%22%2C+%22name%22%3A+%22Transcriptomics+example%22%2C+%22description%22%3A+%22%22%2C+%22datasets%22%3A+%5B%7B%22uid%22%3A+%22A%22%2C+%22name%22%3A+%22Cell+segmentations%22%2C+%22files%22%3A+%5B%7B%22fileType%22%3A+%22raster.json%22%2C+%22options%22%3A+%7B%22schemaVersion%22%3A+%220.0.2%22%2C+%22images%22%3A+%5B%7B%22name%22%3A+%22Region+11+Segmentations%22%2C+%22type%22%3A+%22ome-tiff%22%2C+%22url%22%3A+%22http%3A%2F%2Flocalhost%3A8010%2FA%2F0%2Fd439abc7-1235-43ca-847b-9e43e2a713b8%22%2C+%22metadata%22%3A+%7B%22omeTiffOffsetsUrl%22%3A+%22http%3A%2F%2Flocalhost%3A8010%2FA%2F0%2Faaed4273-51f8-4a03-be74-b67289ad9446%22%2C+%22isBitmask%22%3A+true%7D%7D%5D%7D%7D%2C+%7B%22fileType%22%3A+%22obsSets.csv%22%2C+%22url%22%3A+%22http%3A%2F%2Flocalhost%3A8010%2FA%2F1%2F7b25b3cf-ca01-4f2a-9779-823e00e14c3d%22%2C+%22options%22%3A+%7B%22obsIndex%22%3A+%22cell_id%22%2C+%22obsSets%22%3A+%5B%7B%22name%22%3A+%22Cell+Type%22%2C+%22column%22%3A+%22cell_type%22%7D%5D%7D%7D%5D%7D%5D%2C+%22coordinationSpace%22%3A+%7B%22dataset%22%3A+%7B%22A%22%3A+%22A%22%7D%2C+%22spatialZoom%22%3A+%7B%22A%22%3A+-3%7D%2C+%22spatialTargetX%22%3A+%7B%22A%22%3A+3000%7D%2C+%22spatialTargetY%22%3A+%7B%22A%22%3A+3000%7D%2C+%22spatialSegmentationLayer%22%3A+%7B%22A%22%3A+%5B%7B%22type%22%3A+%22bitmask%22%2C+%22index%22%3A+0%2C+%22visible%22%3A+true%2C+%22colormap%22%3A+null%2C+%22opacity%22%3A+1%2C+%22domainType%22%3A+%22Min%2FMax%22%2C+%22transparentColor%22%3A+null%2C+%22renderingMode%22%3A+%22Additive%22%2C+%22use3d%22%3A+false%2C+%22channels%22%3A+%5B%7B%22selection%22%3A+%7B%22c%22%3A+0%2C+%22t%22%3A+0%2C+%22z%22%3A+0%7D%2C+%22color%22%3A+%5B0%2C+0%2C+0%5D%2C+%22visible%22%3A+true%2C+%22slider%22%3A+%5B0%2C+1%5D%7D%2C+%7B%22selection%22%3A+%7B%22c%22%3A+1%2C+%22t%22%3A+0%2C+%22z%22%3A+0%7D%2C+%22color%22%3A+%5B0%2C+0%2C+0%5D%2C+%22visible%22%3A+true%2C+%22slider%22%3A+%5B1%2C+2%5D%7D%2C+%7B%22selection%22%3A+%7B%22c%22%3A+2%2C+%22t%22%3A+0%2C+%22z%22%3A+0%7D%2C+%22color%22%3A+%5B0%2C+0%2C+0%5D%2C+%22visible%22%3A+true%2C+%22slider%22%3A+%5B2%2C+3%5D%7D%5D%7D%5D%7D%2C+%22obsSetColor%22%3A+%7B%22A%22%3A+%5B%7B%22path%22%3A+%5B%22Cell+Type%22%2C+%22Adatpive+Immune+Enriched%22%5D%2C+%22color%22%3A+%5B255%2C+165%2C+0%5D%7D%2C+%7B%22path%22%3A+%5B%22Cell+Type%22%2C+%22CD66%2B+Mature+Epithelial%22%5D%2C+%22color%22%3A+%5B178%2C+34%2C+34%5D%7D%2C+%7B%22path%22%3A+%5B%22Cell+Type%22%2C+%22CD8%2B+T+Enriched+IEL%22%5D%2C+%22color%22%3A+%5B0%2C+128%2C+0%5D%7D%2C+%7B%22path%22%3A+%5B%22Cell+Type%22%2C+%22Glandular+Epithelial%22%5D%2C+%22color%22%3A+%5B255%2C+140%2C+0%5D%7D%2C+%7B%22path%22%3A+%5B%22Cell+Type%22%2C+%22Innate+Immune+Enriched%22%5D%2C+%22color%22%3A+%5B135%2C+206%2C+235%5D%7D%2C+%7B%22path%22%3A+%5B%22Cell+Type%22%2C+%22Inner+Follicle%22%5D%2C+%22color%22%3A+%5B0%2C+0%2C+255%5D%7D%2C+%7B%22path%22%3A+%5B%22Cell+Type%22%2C+%22Innervated+Smooth+Muscle%22%5D%2C+%22color%22%3A+%5B144%2C+238%2C+144%5D%7D%2C+%7B%22path%22%3A+%5B%22Cell+Type%22%2C+%22Innervated+Stroma%22%5D%2C+%22color%22%3A+%5B138%2C+43%2C+226%5D%7D%2C+%7B%22path%22%3A+%5B%22Cell+Type%22%2C+%22Macrovasculature%22%5D%2C+%22color%22%3A+%5B255%2C+215%2C+0%5D%7D%2C+%7B%22path%22%3A+%5B%22Cell+Type%22%2C+%22Mature+Epithelial%22%5D%2C+%22color%22%3A+%5B255%2C+0%2C+255%5D%7D%2C+%7B%22path%22%3A+%5B%22Cell+Type%22%2C+%22Microvasculature%22%5D%2C+%22color%22%3A+%5B0%2C+0%2C+0%5D%7D%2C+%7B%22path%22%3A+%5B%22Cell+Type%22%2C+%22Outer+Follicle%22%5D%2C+%22color%22%3A+%5B0%2C+0%2C+128%5D%7D%2C+%7B%22path%22%3A+%5B%22Cell+Type%22%2C+%22Paneth+Enriched%22%5D%2C+%22color%22%3A+%5B173%2C+216%2C+230%5D%7D%2C+%7B%22path%22%3A+%5B%22Cell+Type%22%2C+%22Plasma+Cell+Enriched%22%5D%2C+%22color%22%3A+%5B255%2C+255%2C+0%5D%7D%2C+%7B%22path%22%3A+%5B%22Cell+Type%22%2C+%22Secretory+Epithelial%22%5D%2C+%22color%22%3A+%5B154%2C+205%2C+50%5D%7D%2C+%7B%22path%22%3A+%5B%22Cell+Type%22%2C+%22Smooth+Muscle%22%5D%2C+%22color%22%3A+%5B255%2C+0%2C+0%5D%7D%2C+%7B%22path%22%3A+%5B%22Cell+Type%22%2C+%22Smooth+Muscle+%26+Innate+Immune%22%5D%2C+%22color%22%3A+%5B210%2C+180%2C+140%5D%7D%2C+%7B%22path%22%3A+%5B%22Cell+Type%22%2C+%22Stroma%22%5D%2C+%22color%22%3A+%5B128%2C+128%2C+128%5D%7D%2C+%7B%22path%22%3A+%5B%22Cell+Type%22%2C+%22Stroma+%26+Innate+Immune%22%5D%2C+%22color%22%3A+%5B165%2C+42%2C+42%5D%7D%2C+%7B%22path%22%3A+%5B%22Cell+Type%22%2C+%22Transit+Amplifying+Zone%22%5D%2C+%22color%22%3A+%5B0%2C+0%2C+139%5D%7D%5D%7D%7D%2C+%22layout%22%3A+%5B%7B%22component%22%3A+%22spatial%22%2C+%22coordinationScopes%22%3A+%7B%22dataset%22%3A+%22A%22%2C+%22spatialZoom%22%3A+%22A%22%2C+%22spatialTargetX%22%3A+%22A%22%2C+%22spatialTargetY%22%3A+%22A%22%2C+%22spatialSegmentationLayer%22%3A+%22A%22%2C+%22obsSetColor%22%3A+%22A%22%7D%2C+%22x%22%3A+0.0%2C+%22y%22%3A+0%2C+%22w%22%3A+6.0%2C+%22h%22%3A+12%7D%2C+%7B%22component%22%3A+%22layerController%22%2C+%22coordinationScopes%22%3A+%7B%22dataset%22%3A+%22A%22%2C+%22spatialZoom%22%3A+%22A%22%2C+%22spatialTargetX%22%3A+%22A%22%2C+%22spatialTargetY%22%3A+%22A%22%2C+%22spatialSegmentationLayer%22%3A+%22A%22%2C+%22obsSetColor%22%3A+%22A%22%7D%2C+%22x%22%3A+6.0%2C+%22y%22%3A+0.0%2C+%22w%22%3A+6.0%2C+%22h%22%3A+6.0%7D%2C+%7B%22component%22%3A+%22obsSets%22%2C+%22coordinationScopes%22%3A+%7B%22dataset%22%3A+%22A%22%2C+%22obsSetColor%22%3A+%22A%22%7D%2C+%22x%22%3A+6.0%2C+%22y%22%3A+6.0%2C+%22w%22%3A+6.0%2C+%22h%22%3A+6.0%7D%5D%2C+%22initStrategy%22%3A+%22auto%22%7D\" target=\"_blank\">View on Vitessce.io</a>"
            ]
          },
          "metadata": {}
        },
        {
          "output_type": "stream",
          "name": "stdout",
          "text": [
            "\tUpdating 'spatial' component 'width' from 6.0 to 10.0\n",
            "\tUpdating 'layerController' component 'x' from 6.0 to 10.0\n",
            "\tUpdating 'layerController' component 'width' from 6.0 to 2\n",
            "\tUpdating 'obsSets' component 'x' from 6.0 to 10.0\n",
            "\tUpdating 'obsSets' component 'width' from 6.0 to 2\n",
            "12\n",
            "./images/Region_12_mask.pyramid.ome.tif\n"
          ]
        },
        {
          "output_type": "display_data",
          "data": {
            "text/plain": [
              "<IPython.core.display.HTML object>"
            ],
            "text/html": [
              "<a href=\"http://vitessce.io/#?theme=light&url=data:,%7B%22version%22%3A+%221.0.15%22%2C+%22name%22%3A+%22Transcriptomics+example%22%2C+%22description%22%3A+%22%22%2C+%22datasets%22%3A+%5B%7B%22uid%22%3A+%22A%22%2C+%22name%22%3A+%22Cell+segmentations%22%2C+%22files%22%3A+%5B%7B%22fileType%22%3A+%22raster.json%22%2C+%22options%22%3A+%7B%22schemaVersion%22%3A+%220.0.2%22%2C+%22images%22%3A+%5B%7B%22name%22%3A+%22Region+12+Segmentations%22%2C+%22type%22%3A+%22ome-tiff%22%2C+%22url%22%3A+%22http%3A%2F%2Flocalhost%3A8011%2FA%2F0%2F462c9a29-e872-4c92-8a6f-35af2262b0f8%22%2C+%22metadata%22%3A+%7B%22omeTiffOffsetsUrl%22%3A+%22http%3A%2F%2Flocalhost%3A8011%2FA%2F0%2Ff834244b-0e26-45fe-86f4-9133ada1a784%22%2C+%22isBitmask%22%3A+true%7D%7D%5D%7D%7D%2C+%7B%22fileType%22%3A+%22obsSets.csv%22%2C+%22url%22%3A+%22http%3A%2F%2Flocalhost%3A8011%2FA%2F1%2Fa9971c91-1577-4b73-82d3-65f263e4a0e2%22%2C+%22options%22%3A+%7B%22obsIndex%22%3A+%22cell_id%22%2C+%22obsSets%22%3A+%5B%7B%22name%22%3A+%22Cell+Type%22%2C+%22column%22%3A+%22cell_type%22%7D%5D%7D%7D%5D%7D%5D%2C+%22coordinationSpace%22%3A+%7B%22dataset%22%3A+%7B%22A%22%3A+%22A%22%7D%2C+%22spatialZoom%22%3A+%7B%22A%22%3A+-3%7D%2C+%22spatialTargetX%22%3A+%7B%22A%22%3A+3000%7D%2C+%22spatialTargetY%22%3A+%7B%22A%22%3A+3000%7D%2C+%22spatialSegmentationLayer%22%3A+%7B%22A%22%3A+%5B%7B%22type%22%3A+%22bitmask%22%2C+%22index%22%3A+0%2C+%22visible%22%3A+true%2C+%22colormap%22%3A+null%2C+%22opacity%22%3A+1%2C+%22domainType%22%3A+%22Min%2FMax%22%2C+%22transparentColor%22%3A+null%2C+%22renderingMode%22%3A+%22Additive%22%2C+%22use3d%22%3A+false%2C+%22channels%22%3A+%5B%7B%22selection%22%3A+%7B%22c%22%3A+0%2C+%22t%22%3A+0%2C+%22z%22%3A+0%7D%2C+%22color%22%3A+%5B0%2C+0%2C+0%5D%2C+%22visible%22%3A+true%2C+%22slider%22%3A+%5B0%2C+1%5D%7D%2C+%7B%22selection%22%3A+%7B%22c%22%3A+1%2C+%22t%22%3A+0%2C+%22z%22%3A+0%7D%2C+%22color%22%3A+%5B0%2C+0%2C+0%5D%2C+%22visible%22%3A+true%2C+%22slider%22%3A+%5B1%2C+2%5D%7D%2C+%7B%22selection%22%3A+%7B%22c%22%3A+2%2C+%22t%22%3A+0%2C+%22z%22%3A+0%7D%2C+%22color%22%3A+%5B0%2C+0%2C+0%5D%2C+%22visible%22%3A+true%2C+%22slider%22%3A+%5B2%2C+3%5D%7D%5D%7D%5D%7D%2C+%22obsSetColor%22%3A+%7B%22A%22%3A+%5B%7B%22path%22%3A+%5B%22Cell+Type%22%2C+%22Adatpive+Immune+Enriched%22%5D%2C+%22color%22%3A+%5B255%2C+165%2C+0%5D%7D%2C+%7B%22path%22%3A+%5B%22Cell+Type%22%2C+%22CD66%2B+Mature+Epithelial%22%5D%2C+%22color%22%3A+%5B178%2C+34%2C+34%5D%7D%2C+%7B%22path%22%3A+%5B%22Cell+Type%22%2C+%22CD8%2B+T+Enriched+IEL%22%5D%2C+%22color%22%3A+%5B0%2C+128%2C+0%5D%7D%2C+%7B%22path%22%3A+%5B%22Cell+Type%22%2C+%22Glandular+Epithelial%22%5D%2C+%22color%22%3A+%5B255%2C+140%2C+0%5D%7D%2C+%7B%22path%22%3A+%5B%22Cell+Type%22%2C+%22Innate+Immune+Enriched%22%5D%2C+%22color%22%3A+%5B135%2C+206%2C+235%5D%7D%2C+%7B%22path%22%3A+%5B%22Cell+Type%22%2C+%22Inner+Follicle%22%5D%2C+%22color%22%3A+%5B0%2C+0%2C+255%5D%7D%2C+%7B%22path%22%3A+%5B%22Cell+Type%22%2C+%22Innervated+Smooth+Muscle%22%5D%2C+%22color%22%3A+%5B144%2C+238%2C+144%5D%7D%2C+%7B%22path%22%3A+%5B%22Cell+Type%22%2C+%22Innervated+Stroma%22%5D%2C+%22color%22%3A+%5B138%2C+43%2C+226%5D%7D%2C+%7B%22path%22%3A+%5B%22Cell+Type%22%2C+%22Macrovasculature%22%5D%2C+%22color%22%3A+%5B255%2C+215%2C+0%5D%7D%2C+%7B%22path%22%3A+%5B%22Cell+Type%22%2C+%22Mature+Epithelial%22%5D%2C+%22color%22%3A+%5B255%2C+0%2C+255%5D%7D%2C+%7B%22path%22%3A+%5B%22Cell+Type%22%2C+%22Microvasculature%22%5D%2C+%22color%22%3A+%5B0%2C+0%2C+0%5D%7D%2C+%7B%22path%22%3A+%5B%22Cell+Type%22%2C+%22Outer+Follicle%22%5D%2C+%22color%22%3A+%5B0%2C+0%2C+128%5D%7D%2C+%7B%22path%22%3A+%5B%22Cell+Type%22%2C+%22Paneth+Enriched%22%5D%2C+%22color%22%3A+%5B173%2C+216%2C+230%5D%7D%2C+%7B%22path%22%3A+%5B%22Cell+Type%22%2C+%22Plasma+Cell+Enriched%22%5D%2C+%22color%22%3A+%5B255%2C+255%2C+0%5D%7D%2C+%7B%22path%22%3A+%5B%22Cell+Type%22%2C+%22Secretory+Epithelial%22%5D%2C+%22color%22%3A+%5B154%2C+205%2C+50%5D%7D%2C+%7B%22path%22%3A+%5B%22Cell+Type%22%2C+%22Smooth+Muscle%22%5D%2C+%22color%22%3A+%5B255%2C+0%2C+0%5D%7D%2C+%7B%22path%22%3A+%5B%22Cell+Type%22%2C+%22Smooth+Muscle+%26+Innate+Immune%22%5D%2C+%22color%22%3A+%5B210%2C+180%2C+140%5D%7D%2C+%7B%22path%22%3A+%5B%22Cell+Type%22%2C+%22Stroma%22%5D%2C+%22color%22%3A+%5B128%2C+128%2C+128%5D%7D%2C+%7B%22path%22%3A+%5B%22Cell+Type%22%2C+%22Stroma+%26+Innate+Immune%22%5D%2C+%22color%22%3A+%5B165%2C+42%2C+42%5D%7D%2C+%7B%22path%22%3A+%5B%22Cell+Type%22%2C+%22Transit+Amplifying+Zone%22%5D%2C+%22color%22%3A+%5B0%2C+0%2C+139%5D%7D%5D%7D%7D%2C+%22layout%22%3A+%5B%7B%22component%22%3A+%22spatial%22%2C+%22coordinationScopes%22%3A+%7B%22dataset%22%3A+%22A%22%2C+%22spatialZoom%22%3A+%22A%22%2C+%22spatialTargetX%22%3A+%22A%22%2C+%22spatialTargetY%22%3A+%22A%22%2C+%22spatialSegmentationLayer%22%3A+%22A%22%2C+%22obsSetColor%22%3A+%22A%22%7D%2C+%22x%22%3A+0.0%2C+%22y%22%3A+0%2C+%22w%22%3A+6.0%2C+%22h%22%3A+12%7D%2C+%7B%22component%22%3A+%22layerController%22%2C+%22coordinationScopes%22%3A+%7B%22dataset%22%3A+%22A%22%2C+%22spatialZoom%22%3A+%22A%22%2C+%22spatialTargetX%22%3A+%22A%22%2C+%22spatialTargetY%22%3A+%22A%22%2C+%22spatialSegmentationLayer%22%3A+%22A%22%2C+%22obsSetColor%22%3A+%22A%22%7D%2C+%22x%22%3A+6.0%2C+%22y%22%3A+0.0%2C+%22w%22%3A+6.0%2C+%22h%22%3A+6.0%7D%2C+%7B%22component%22%3A+%22obsSets%22%2C+%22coordinationScopes%22%3A+%7B%22dataset%22%3A+%22A%22%2C+%22obsSetColor%22%3A+%22A%22%7D%2C+%22x%22%3A+6.0%2C+%22y%22%3A+6.0%2C+%22w%22%3A+6.0%2C+%22h%22%3A+6.0%7D%5D%2C+%22initStrategy%22%3A+%22auto%22%7D\" target=\"_blank\">View on Vitessce.io</a>"
            ]
          },
          "metadata": {}
        },
        {
          "output_type": "stream",
          "name": "stdout",
          "text": [
            "\tUpdating 'spatial' component 'width' from 6.0 to 10.0\n",
            "\tUpdating 'layerController' component 'x' from 6.0 to 10.0\n",
            "\tUpdating 'layerController' component 'width' from 6.0 to 2\n",
            "\tUpdating 'obsSets' component 'x' from 6.0 to 10.0\n",
            "\tUpdating 'obsSets' component 'width' from 6.0 to 2\n",
            "13\n",
            "./images/Region_13_mask.pyramid.ome.tif\n"
          ]
        },
        {
          "output_type": "display_data",
          "data": {
            "text/plain": [
              "<IPython.core.display.HTML object>"
            ],
            "text/html": [
              "<a href=\"http://vitessce.io/#?theme=light&url=data:,%7B%22version%22%3A+%221.0.15%22%2C+%22name%22%3A+%22Transcriptomics+example%22%2C+%22description%22%3A+%22%22%2C+%22datasets%22%3A+%5B%7B%22uid%22%3A+%22A%22%2C+%22name%22%3A+%22Cell+segmentations%22%2C+%22files%22%3A+%5B%7B%22fileType%22%3A+%22raster.json%22%2C+%22options%22%3A+%7B%22schemaVersion%22%3A+%220.0.2%22%2C+%22images%22%3A+%5B%7B%22name%22%3A+%22Region+13+Segmentations%22%2C+%22type%22%3A+%22ome-tiff%22%2C+%22url%22%3A+%22http%3A%2F%2Flocalhost%3A8012%2FA%2F0%2Fb7753e8c-7c45-47b0-b181-264152b7e43e%22%2C+%22metadata%22%3A+%7B%22omeTiffOffsetsUrl%22%3A+%22http%3A%2F%2Flocalhost%3A8012%2FA%2F0%2Fff751367-0935-422d-8d7d-555e8f958b65%22%2C+%22isBitmask%22%3A+true%7D%7D%5D%7D%7D%2C+%7B%22fileType%22%3A+%22obsSets.csv%22%2C+%22url%22%3A+%22http%3A%2F%2Flocalhost%3A8012%2FA%2F1%2Ff2811868-ad97-4abe-9e91-82bd41c81434%22%2C+%22options%22%3A+%7B%22obsIndex%22%3A+%22cell_id%22%2C+%22obsSets%22%3A+%5B%7B%22name%22%3A+%22Cell+Type%22%2C+%22column%22%3A+%22cell_type%22%7D%5D%7D%7D%5D%7D%5D%2C+%22coordinationSpace%22%3A+%7B%22dataset%22%3A+%7B%22A%22%3A+%22A%22%7D%2C+%22spatialZoom%22%3A+%7B%22A%22%3A+-3%7D%2C+%22spatialTargetX%22%3A+%7B%22A%22%3A+3000%7D%2C+%22spatialTargetY%22%3A+%7B%22A%22%3A+3000%7D%2C+%22spatialSegmentationLayer%22%3A+%7B%22A%22%3A+%5B%7B%22type%22%3A+%22bitmask%22%2C+%22index%22%3A+0%2C+%22visible%22%3A+true%2C+%22colormap%22%3A+null%2C+%22opacity%22%3A+1%2C+%22domainType%22%3A+%22Min%2FMax%22%2C+%22transparentColor%22%3A+null%2C+%22renderingMode%22%3A+%22Additive%22%2C+%22use3d%22%3A+false%2C+%22channels%22%3A+%5B%7B%22selection%22%3A+%7B%22c%22%3A+0%2C+%22t%22%3A+0%2C+%22z%22%3A+0%7D%2C+%22color%22%3A+%5B0%2C+0%2C+0%5D%2C+%22visible%22%3A+true%2C+%22slider%22%3A+%5B0%2C+1%5D%7D%2C+%7B%22selection%22%3A+%7B%22c%22%3A+1%2C+%22t%22%3A+0%2C+%22z%22%3A+0%7D%2C+%22color%22%3A+%5B0%2C+0%2C+0%5D%2C+%22visible%22%3A+true%2C+%22slider%22%3A+%5B1%2C+2%5D%7D%2C+%7B%22selection%22%3A+%7B%22c%22%3A+2%2C+%22t%22%3A+0%2C+%22z%22%3A+0%7D%2C+%22color%22%3A+%5B0%2C+0%2C+0%5D%2C+%22visible%22%3A+true%2C+%22slider%22%3A+%5B2%2C+3%5D%7D%5D%7D%5D%7D%2C+%22obsSetColor%22%3A+%7B%22A%22%3A+%5B%7B%22path%22%3A+%5B%22Cell+Type%22%2C+%22Adatpive+Immune+Enriched%22%5D%2C+%22color%22%3A+%5B255%2C+165%2C+0%5D%7D%2C+%7B%22path%22%3A+%5B%22Cell+Type%22%2C+%22CD66%2B+Mature+Epithelial%22%5D%2C+%22color%22%3A+%5B178%2C+34%2C+34%5D%7D%2C+%7B%22path%22%3A+%5B%22Cell+Type%22%2C+%22CD8%2B+T+Enriched+IEL%22%5D%2C+%22color%22%3A+%5B0%2C+128%2C+0%5D%7D%2C+%7B%22path%22%3A+%5B%22Cell+Type%22%2C+%22Glandular+Epithelial%22%5D%2C+%22color%22%3A+%5B255%2C+140%2C+0%5D%7D%2C+%7B%22path%22%3A+%5B%22Cell+Type%22%2C+%22Innate+Immune+Enriched%22%5D%2C+%22color%22%3A+%5B135%2C+206%2C+235%5D%7D%2C+%7B%22path%22%3A+%5B%22Cell+Type%22%2C+%22Inner+Follicle%22%5D%2C+%22color%22%3A+%5B0%2C+0%2C+255%5D%7D%2C+%7B%22path%22%3A+%5B%22Cell+Type%22%2C+%22Innervated+Smooth+Muscle%22%5D%2C+%22color%22%3A+%5B144%2C+238%2C+144%5D%7D%2C+%7B%22path%22%3A+%5B%22Cell+Type%22%2C+%22Innervated+Stroma%22%5D%2C+%22color%22%3A+%5B138%2C+43%2C+226%5D%7D%2C+%7B%22path%22%3A+%5B%22Cell+Type%22%2C+%22Macrovasculature%22%5D%2C+%22color%22%3A+%5B255%2C+215%2C+0%5D%7D%2C+%7B%22path%22%3A+%5B%22Cell+Type%22%2C+%22Mature+Epithelial%22%5D%2C+%22color%22%3A+%5B255%2C+0%2C+255%5D%7D%2C+%7B%22path%22%3A+%5B%22Cell+Type%22%2C+%22Microvasculature%22%5D%2C+%22color%22%3A+%5B0%2C+0%2C+0%5D%7D%2C+%7B%22path%22%3A+%5B%22Cell+Type%22%2C+%22Outer+Follicle%22%5D%2C+%22color%22%3A+%5B0%2C+0%2C+128%5D%7D%2C+%7B%22path%22%3A+%5B%22Cell+Type%22%2C+%22Paneth+Enriched%22%5D%2C+%22color%22%3A+%5B173%2C+216%2C+230%5D%7D%2C+%7B%22path%22%3A+%5B%22Cell+Type%22%2C+%22Plasma+Cell+Enriched%22%5D%2C+%22color%22%3A+%5B255%2C+255%2C+0%5D%7D%2C+%7B%22path%22%3A+%5B%22Cell+Type%22%2C+%22Secretory+Epithelial%22%5D%2C+%22color%22%3A+%5B154%2C+205%2C+50%5D%7D%2C+%7B%22path%22%3A+%5B%22Cell+Type%22%2C+%22Smooth+Muscle%22%5D%2C+%22color%22%3A+%5B255%2C+0%2C+0%5D%7D%2C+%7B%22path%22%3A+%5B%22Cell+Type%22%2C+%22Smooth+Muscle+%26+Innate+Immune%22%5D%2C+%22color%22%3A+%5B210%2C+180%2C+140%5D%7D%2C+%7B%22path%22%3A+%5B%22Cell+Type%22%2C+%22Stroma%22%5D%2C+%22color%22%3A+%5B128%2C+128%2C+128%5D%7D%2C+%7B%22path%22%3A+%5B%22Cell+Type%22%2C+%22Stroma+%26+Innate+Immune%22%5D%2C+%22color%22%3A+%5B165%2C+42%2C+42%5D%7D%2C+%7B%22path%22%3A+%5B%22Cell+Type%22%2C+%22Transit+Amplifying+Zone%22%5D%2C+%22color%22%3A+%5B0%2C+0%2C+139%5D%7D%5D%7D%7D%2C+%22layout%22%3A+%5B%7B%22component%22%3A+%22spatial%22%2C+%22coordinationScopes%22%3A+%7B%22dataset%22%3A+%22A%22%2C+%22spatialZoom%22%3A+%22A%22%2C+%22spatialTargetX%22%3A+%22A%22%2C+%22spatialTargetY%22%3A+%22A%22%2C+%22spatialSegmentationLayer%22%3A+%22A%22%2C+%22obsSetColor%22%3A+%22A%22%7D%2C+%22x%22%3A+0.0%2C+%22y%22%3A+0%2C+%22w%22%3A+6.0%2C+%22h%22%3A+12%7D%2C+%7B%22component%22%3A+%22layerController%22%2C+%22coordinationScopes%22%3A+%7B%22dataset%22%3A+%22A%22%2C+%22spatialZoom%22%3A+%22A%22%2C+%22spatialTargetX%22%3A+%22A%22%2C+%22spatialTargetY%22%3A+%22A%22%2C+%22spatialSegmentationLayer%22%3A+%22A%22%2C+%22obsSetColor%22%3A+%22A%22%7D%2C+%22x%22%3A+6.0%2C+%22y%22%3A+0.0%2C+%22w%22%3A+6.0%2C+%22h%22%3A+6.0%7D%2C+%7B%22component%22%3A+%22obsSets%22%2C+%22coordinationScopes%22%3A+%7B%22dataset%22%3A+%22A%22%2C+%22obsSetColor%22%3A+%22A%22%7D%2C+%22x%22%3A+6.0%2C+%22y%22%3A+6.0%2C+%22w%22%3A+6.0%2C+%22h%22%3A+6.0%7D%5D%2C+%22initStrategy%22%3A+%22auto%22%7D\" target=\"_blank\">View on Vitessce.io</a>"
            ]
          },
          "metadata": {}
        },
        {
          "output_type": "stream",
          "name": "stdout",
          "text": [
            "\tUpdating 'spatial' component 'width' from 6.0 to 10.0\n",
            "\tUpdating 'layerController' component 'x' from 6.0 to 10.0\n",
            "\tUpdating 'layerController' component 'width' from 6.0 to 2\n",
            "\tUpdating 'obsSets' component 'x' from 6.0 to 10.0\n",
            "\tUpdating 'obsSets' component 'width' from 6.0 to 2\n",
            "14\n",
            "./images/Region_14_mask.pyramid.ome.tif\n"
          ]
        },
        {
          "output_type": "display_data",
          "data": {
            "text/plain": [
              "<IPython.core.display.HTML object>"
            ],
            "text/html": [
              "<a href=\"http://vitessce.io/#?theme=light&url=data:,%7B%22version%22%3A+%221.0.15%22%2C+%22name%22%3A+%22Transcriptomics+example%22%2C+%22description%22%3A+%22%22%2C+%22datasets%22%3A+%5B%7B%22uid%22%3A+%22A%22%2C+%22name%22%3A+%22Cell+segmentations%22%2C+%22files%22%3A+%5B%7B%22fileType%22%3A+%22raster.json%22%2C+%22options%22%3A+%7B%22schemaVersion%22%3A+%220.0.2%22%2C+%22images%22%3A+%5B%7B%22name%22%3A+%22Region+14+Segmentations%22%2C+%22type%22%3A+%22ome-tiff%22%2C+%22url%22%3A+%22http%3A%2F%2Flocalhost%3A8013%2FA%2F0%2F323e5b5c-6106-4f85-b882-58bbfbc7d30e%22%2C+%22metadata%22%3A+%7B%22omeTiffOffsetsUrl%22%3A+%22http%3A%2F%2Flocalhost%3A8013%2FA%2F0%2F2c80b345-1e16-4f33-8f19-2f784aa7bb65%22%2C+%22isBitmask%22%3A+true%7D%7D%5D%7D%7D%2C+%7B%22fileType%22%3A+%22obsSets.csv%22%2C+%22url%22%3A+%22http%3A%2F%2Flocalhost%3A8013%2FA%2F1%2F3ccef8b6-72d2-456e-8a89-31c95cda0cc1%22%2C+%22options%22%3A+%7B%22obsIndex%22%3A+%22cell_id%22%2C+%22obsSets%22%3A+%5B%7B%22name%22%3A+%22Cell+Type%22%2C+%22column%22%3A+%22cell_type%22%7D%5D%7D%7D%5D%7D%5D%2C+%22coordinationSpace%22%3A+%7B%22dataset%22%3A+%7B%22A%22%3A+%22A%22%7D%2C+%22spatialZoom%22%3A+%7B%22A%22%3A+-3%7D%2C+%22spatialTargetX%22%3A+%7B%22A%22%3A+3000%7D%2C+%22spatialTargetY%22%3A+%7B%22A%22%3A+3000%7D%2C+%22spatialSegmentationLayer%22%3A+%7B%22A%22%3A+%5B%7B%22type%22%3A+%22bitmask%22%2C+%22index%22%3A+0%2C+%22visible%22%3A+true%2C+%22colormap%22%3A+null%2C+%22opacity%22%3A+1%2C+%22domainType%22%3A+%22Min%2FMax%22%2C+%22transparentColor%22%3A+null%2C+%22renderingMode%22%3A+%22Additive%22%2C+%22use3d%22%3A+false%2C+%22channels%22%3A+%5B%7B%22selection%22%3A+%7B%22c%22%3A+0%2C+%22t%22%3A+0%2C+%22z%22%3A+0%7D%2C+%22color%22%3A+%5B0%2C+0%2C+0%5D%2C+%22visible%22%3A+true%2C+%22slider%22%3A+%5B0%2C+1%5D%7D%2C+%7B%22selection%22%3A+%7B%22c%22%3A+1%2C+%22t%22%3A+0%2C+%22z%22%3A+0%7D%2C+%22color%22%3A+%5B0%2C+0%2C+0%5D%2C+%22visible%22%3A+true%2C+%22slider%22%3A+%5B1%2C+2%5D%7D%2C+%7B%22selection%22%3A+%7B%22c%22%3A+2%2C+%22t%22%3A+0%2C+%22z%22%3A+0%7D%2C+%22color%22%3A+%5B0%2C+0%2C+0%5D%2C+%22visible%22%3A+true%2C+%22slider%22%3A+%5B2%2C+3%5D%7D%5D%7D%5D%7D%2C+%22obsSetColor%22%3A+%7B%22A%22%3A+%5B%7B%22path%22%3A+%5B%22Cell+Type%22%2C+%22Adatpive+Immune+Enriched%22%5D%2C+%22color%22%3A+%5B255%2C+165%2C+0%5D%7D%2C+%7B%22path%22%3A+%5B%22Cell+Type%22%2C+%22CD66%2B+Mature+Epithelial%22%5D%2C+%22color%22%3A+%5B178%2C+34%2C+34%5D%7D%2C+%7B%22path%22%3A+%5B%22Cell+Type%22%2C+%22CD8%2B+T+Enriched+IEL%22%5D%2C+%22color%22%3A+%5B0%2C+128%2C+0%5D%7D%2C+%7B%22path%22%3A+%5B%22Cell+Type%22%2C+%22Glandular+Epithelial%22%5D%2C+%22color%22%3A+%5B255%2C+140%2C+0%5D%7D%2C+%7B%22path%22%3A+%5B%22Cell+Type%22%2C+%22Innate+Immune+Enriched%22%5D%2C+%22color%22%3A+%5B135%2C+206%2C+235%5D%7D%2C+%7B%22path%22%3A+%5B%22Cell+Type%22%2C+%22Inner+Follicle%22%5D%2C+%22color%22%3A+%5B0%2C+0%2C+255%5D%7D%2C+%7B%22path%22%3A+%5B%22Cell+Type%22%2C+%22Innervated+Smooth+Muscle%22%5D%2C+%22color%22%3A+%5B144%2C+238%2C+144%5D%7D%2C+%7B%22path%22%3A+%5B%22Cell+Type%22%2C+%22Innervated+Stroma%22%5D%2C+%22color%22%3A+%5B138%2C+43%2C+226%5D%7D%2C+%7B%22path%22%3A+%5B%22Cell+Type%22%2C+%22Macrovasculature%22%5D%2C+%22color%22%3A+%5B255%2C+215%2C+0%5D%7D%2C+%7B%22path%22%3A+%5B%22Cell+Type%22%2C+%22Mature+Epithelial%22%5D%2C+%22color%22%3A+%5B255%2C+0%2C+255%5D%7D%2C+%7B%22path%22%3A+%5B%22Cell+Type%22%2C+%22Microvasculature%22%5D%2C+%22color%22%3A+%5B0%2C+0%2C+0%5D%7D%2C+%7B%22path%22%3A+%5B%22Cell+Type%22%2C+%22Outer+Follicle%22%5D%2C+%22color%22%3A+%5B0%2C+0%2C+128%5D%7D%2C+%7B%22path%22%3A+%5B%22Cell+Type%22%2C+%22Paneth+Enriched%22%5D%2C+%22color%22%3A+%5B173%2C+216%2C+230%5D%7D%2C+%7B%22path%22%3A+%5B%22Cell+Type%22%2C+%22Plasma+Cell+Enriched%22%5D%2C+%22color%22%3A+%5B255%2C+255%2C+0%5D%7D%2C+%7B%22path%22%3A+%5B%22Cell+Type%22%2C+%22Secretory+Epithelial%22%5D%2C+%22color%22%3A+%5B154%2C+205%2C+50%5D%7D%2C+%7B%22path%22%3A+%5B%22Cell+Type%22%2C+%22Smooth+Muscle%22%5D%2C+%22color%22%3A+%5B255%2C+0%2C+0%5D%7D%2C+%7B%22path%22%3A+%5B%22Cell+Type%22%2C+%22Smooth+Muscle+%26+Innate+Immune%22%5D%2C+%22color%22%3A+%5B210%2C+180%2C+140%5D%7D%2C+%7B%22path%22%3A+%5B%22Cell+Type%22%2C+%22Stroma%22%5D%2C+%22color%22%3A+%5B128%2C+128%2C+128%5D%7D%2C+%7B%22path%22%3A+%5B%22Cell+Type%22%2C+%22Stroma+%26+Innate+Immune%22%5D%2C+%22color%22%3A+%5B165%2C+42%2C+42%5D%7D%2C+%7B%22path%22%3A+%5B%22Cell+Type%22%2C+%22Transit+Amplifying+Zone%22%5D%2C+%22color%22%3A+%5B0%2C+0%2C+139%5D%7D%5D%7D%7D%2C+%22layout%22%3A+%5B%7B%22component%22%3A+%22spatial%22%2C+%22coordinationScopes%22%3A+%7B%22dataset%22%3A+%22A%22%2C+%22spatialZoom%22%3A+%22A%22%2C+%22spatialTargetX%22%3A+%22A%22%2C+%22spatialTargetY%22%3A+%22A%22%2C+%22spatialSegmentationLayer%22%3A+%22A%22%2C+%22obsSetColor%22%3A+%22A%22%7D%2C+%22x%22%3A+0.0%2C+%22y%22%3A+0%2C+%22w%22%3A+6.0%2C+%22h%22%3A+12%7D%2C+%7B%22component%22%3A+%22layerController%22%2C+%22coordinationScopes%22%3A+%7B%22dataset%22%3A+%22A%22%2C+%22spatialZoom%22%3A+%22A%22%2C+%22spatialTargetX%22%3A+%22A%22%2C+%22spatialTargetY%22%3A+%22A%22%2C+%22spatialSegmentationLayer%22%3A+%22A%22%2C+%22obsSetColor%22%3A+%22A%22%7D%2C+%22x%22%3A+6.0%2C+%22y%22%3A+0.0%2C+%22w%22%3A+6.0%2C+%22h%22%3A+6.0%7D%2C+%7B%22component%22%3A+%22obsSets%22%2C+%22coordinationScopes%22%3A+%7B%22dataset%22%3A+%22A%22%2C+%22obsSetColor%22%3A+%22A%22%7D%2C+%22x%22%3A+6.0%2C+%22y%22%3A+6.0%2C+%22w%22%3A+6.0%2C+%22h%22%3A+6.0%7D%5D%2C+%22initStrategy%22%3A+%22auto%22%7D\" target=\"_blank\">View on Vitessce.io</a>"
            ]
          },
          "metadata": {}
        },
        {
          "output_type": "stream",
          "name": "stdout",
          "text": [
            "\tUpdating 'spatial' component 'width' from 6.0 to 10.0\n",
            "\tUpdating 'layerController' component 'x' from 6.0 to 10.0\n",
            "\tUpdating 'layerController' component 'width' from 6.0 to 2\n",
            "\tUpdating 'obsSets' component 'x' from 6.0 to 10.0\n",
            "\tUpdating 'obsSets' component 'width' from 6.0 to 2\n",
            "15\n",
            "./images/Region_15_mask.pyramid.ome.tif\n"
          ]
        },
        {
          "output_type": "display_data",
          "data": {
            "text/plain": [
              "<IPython.core.display.HTML object>"
            ],
            "text/html": [
              "<a href=\"http://vitessce.io/#?theme=light&url=data:,%7B%22version%22%3A+%221.0.15%22%2C+%22name%22%3A+%22Transcriptomics+example%22%2C+%22description%22%3A+%22%22%2C+%22datasets%22%3A+%5B%7B%22uid%22%3A+%22A%22%2C+%22name%22%3A+%22Cell+segmentations%22%2C+%22files%22%3A+%5B%7B%22fileType%22%3A+%22raster.json%22%2C+%22options%22%3A+%7B%22schemaVersion%22%3A+%220.0.2%22%2C+%22images%22%3A+%5B%7B%22name%22%3A+%22Region+15+Segmentations%22%2C+%22type%22%3A+%22ome-tiff%22%2C+%22url%22%3A+%22http%3A%2F%2Flocalhost%3A8014%2FA%2F0%2F2f4afe64-999c-4dd0-961f-052d98e5699b%22%2C+%22metadata%22%3A+%7B%22omeTiffOffsetsUrl%22%3A+%22http%3A%2F%2Flocalhost%3A8014%2FA%2F0%2F386ce25a-da1a-4b2f-b4f0-b18ea88cffac%22%2C+%22isBitmask%22%3A+true%7D%7D%5D%7D%7D%2C+%7B%22fileType%22%3A+%22obsSets.csv%22%2C+%22url%22%3A+%22http%3A%2F%2Flocalhost%3A8014%2FA%2F1%2F6fe09876-af23-4d33-9d59-23ee0bbeb874%22%2C+%22options%22%3A+%7B%22obsIndex%22%3A+%22cell_id%22%2C+%22obsSets%22%3A+%5B%7B%22name%22%3A+%22Cell+Type%22%2C+%22column%22%3A+%22cell_type%22%7D%5D%7D%7D%5D%7D%5D%2C+%22coordinationSpace%22%3A+%7B%22dataset%22%3A+%7B%22A%22%3A+%22A%22%7D%2C+%22spatialZoom%22%3A+%7B%22A%22%3A+-3%7D%2C+%22spatialTargetX%22%3A+%7B%22A%22%3A+3000%7D%2C+%22spatialTargetY%22%3A+%7B%22A%22%3A+3000%7D%2C+%22spatialSegmentationLayer%22%3A+%7B%22A%22%3A+%5B%7B%22type%22%3A+%22bitmask%22%2C+%22index%22%3A+0%2C+%22visible%22%3A+true%2C+%22colormap%22%3A+null%2C+%22opacity%22%3A+1%2C+%22domainType%22%3A+%22Min%2FMax%22%2C+%22transparentColor%22%3A+null%2C+%22renderingMode%22%3A+%22Additive%22%2C+%22use3d%22%3A+false%2C+%22channels%22%3A+%5B%7B%22selection%22%3A+%7B%22c%22%3A+0%2C+%22t%22%3A+0%2C+%22z%22%3A+0%7D%2C+%22color%22%3A+%5B0%2C+0%2C+0%5D%2C+%22visible%22%3A+true%2C+%22slider%22%3A+%5B0%2C+1%5D%7D%2C+%7B%22selection%22%3A+%7B%22c%22%3A+1%2C+%22t%22%3A+0%2C+%22z%22%3A+0%7D%2C+%22color%22%3A+%5B0%2C+0%2C+0%5D%2C+%22visible%22%3A+true%2C+%22slider%22%3A+%5B1%2C+2%5D%7D%2C+%7B%22selection%22%3A+%7B%22c%22%3A+2%2C+%22t%22%3A+0%2C+%22z%22%3A+0%7D%2C+%22color%22%3A+%5B0%2C+0%2C+0%5D%2C+%22visible%22%3A+true%2C+%22slider%22%3A+%5B2%2C+3%5D%7D%5D%7D%5D%7D%2C+%22obsSetColor%22%3A+%7B%22A%22%3A+%5B%7B%22path%22%3A+%5B%22Cell+Type%22%2C+%22Adatpive+Immune+Enriched%22%5D%2C+%22color%22%3A+%5B255%2C+165%2C+0%5D%7D%2C+%7B%22path%22%3A+%5B%22Cell+Type%22%2C+%22CD66%2B+Mature+Epithelial%22%5D%2C+%22color%22%3A+%5B178%2C+34%2C+34%5D%7D%2C+%7B%22path%22%3A+%5B%22Cell+Type%22%2C+%22CD8%2B+T+Enriched+IEL%22%5D%2C+%22color%22%3A+%5B0%2C+128%2C+0%5D%7D%2C+%7B%22path%22%3A+%5B%22Cell+Type%22%2C+%22Glandular+Epithelial%22%5D%2C+%22color%22%3A+%5B255%2C+140%2C+0%5D%7D%2C+%7B%22path%22%3A+%5B%22Cell+Type%22%2C+%22Innate+Immune+Enriched%22%5D%2C+%22color%22%3A+%5B135%2C+206%2C+235%5D%7D%2C+%7B%22path%22%3A+%5B%22Cell+Type%22%2C+%22Inner+Follicle%22%5D%2C+%22color%22%3A+%5B0%2C+0%2C+255%5D%7D%2C+%7B%22path%22%3A+%5B%22Cell+Type%22%2C+%22Innervated+Smooth+Muscle%22%5D%2C+%22color%22%3A+%5B144%2C+238%2C+144%5D%7D%2C+%7B%22path%22%3A+%5B%22Cell+Type%22%2C+%22Innervated+Stroma%22%5D%2C+%22color%22%3A+%5B138%2C+43%2C+226%5D%7D%2C+%7B%22path%22%3A+%5B%22Cell+Type%22%2C+%22Macrovasculature%22%5D%2C+%22color%22%3A+%5B255%2C+215%2C+0%5D%7D%2C+%7B%22path%22%3A+%5B%22Cell+Type%22%2C+%22Mature+Epithelial%22%5D%2C+%22color%22%3A+%5B255%2C+0%2C+255%5D%7D%2C+%7B%22path%22%3A+%5B%22Cell+Type%22%2C+%22Microvasculature%22%5D%2C+%22color%22%3A+%5B0%2C+0%2C+0%5D%7D%2C+%7B%22path%22%3A+%5B%22Cell+Type%22%2C+%22Outer+Follicle%22%5D%2C+%22color%22%3A+%5B0%2C+0%2C+128%5D%7D%2C+%7B%22path%22%3A+%5B%22Cell+Type%22%2C+%22Paneth+Enriched%22%5D%2C+%22color%22%3A+%5B173%2C+216%2C+230%5D%7D%2C+%7B%22path%22%3A+%5B%22Cell+Type%22%2C+%22Plasma+Cell+Enriched%22%5D%2C+%22color%22%3A+%5B255%2C+255%2C+0%5D%7D%2C+%7B%22path%22%3A+%5B%22Cell+Type%22%2C+%22Secretory+Epithelial%22%5D%2C+%22color%22%3A+%5B154%2C+205%2C+50%5D%7D%2C+%7B%22path%22%3A+%5B%22Cell+Type%22%2C+%22Smooth+Muscle%22%5D%2C+%22color%22%3A+%5B255%2C+0%2C+0%5D%7D%2C+%7B%22path%22%3A+%5B%22Cell+Type%22%2C+%22Smooth+Muscle+%26+Innate+Immune%22%5D%2C+%22color%22%3A+%5B210%2C+180%2C+140%5D%7D%2C+%7B%22path%22%3A+%5B%22Cell+Type%22%2C+%22Stroma%22%5D%2C+%22color%22%3A+%5B128%2C+128%2C+128%5D%7D%2C+%7B%22path%22%3A+%5B%22Cell+Type%22%2C+%22Stroma+%26+Innate+Immune%22%5D%2C+%22color%22%3A+%5B165%2C+42%2C+42%5D%7D%2C+%7B%22path%22%3A+%5B%22Cell+Type%22%2C+%22Transit+Amplifying+Zone%22%5D%2C+%22color%22%3A+%5B0%2C+0%2C+139%5D%7D%5D%7D%7D%2C+%22layout%22%3A+%5B%7B%22component%22%3A+%22spatial%22%2C+%22coordinationScopes%22%3A+%7B%22dataset%22%3A+%22A%22%2C+%22spatialZoom%22%3A+%22A%22%2C+%22spatialTargetX%22%3A+%22A%22%2C+%22spatialTargetY%22%3A+%22A%22%2C+%22spatialSegmentationLayer%22%3A+%22A%22%2C+%22obsSetColor%22%3A+%22A%22%7D%2C+%22x%22%3A+0.0%2C+%22y%22%3A+0%2C+%22w%22%3A+6.0%2C+%22h%22%3A+12%7D%2C+%7B%22component%22%3A+%22layerController%22%2C+%22coordinationScopes%22%3A+%7B%22dataset%22%3A+%22A%22%2C+%22spatialZoom%22%3A+%22A%22%2C+%22spatialTargetX%22%3A+%22A%22%2C+%22spatialTargetY%22%3A+%22A%22%2C+%22spatialSegmentationLayer%22%3A+%22A%22%2C+%22obsSetColor%22%3A+%22A%22%7D%2C+%22x%22%3A+6.0%2C+%22y%22%3A+0.0%2C+%22w%22%3A+6.0%2C+%22h%22%3A+6.0%7D%2C+%7B%22component%22%3A+%22obsSets%22%2C+%22coordinationScopes%22%3A+%7B%22dataset%22%3A+%22A%22%2C+%22obsSetColor%22%3A+%22A%22%7D%2C+%22x%22%3A+6.0%2C+%22y%22%3A+6.0%2C+%22w%22%3A+6.0%2C+%22h%22%3A+6.0%7D%5D%2C+%22initStrategy%22%3A+%22auto%22%7D\" target=\"_blank\">View on Vitessce.io</a>"
            ]
          },
          "metadata": {}
        },
        {
          "output_type": "stream",
          "name": "stdout",
          "text": [
            "\tUpdating 'spatial' component 'width' from 6.0 to 10.0\n",
            "\tUpdating 'layerController' component 'x' from 6.0 to 10.0\n",
            "\tUpdating 'layerController' component 'width' from 6.0 to 2\n",
            "\tUpdating 'obsSets' component 'x' from 6.0 to 10.0\n",
            "\tUpdating 'obsSets' component 'width' from 6.0 to 2\n",
            "16\n",
            "./images/Region_16_mask.pyramid.ome.tif\n"
          ]
        },
        {
          "output_type": "display_data",
          "data": {
            "text/plain": [
              "<IPython.core.display.HTML object>"
            ],
            "text/html": [
              "<a href=\"http://vitessce.io/#?theme=light&url=data:,%7B%22version%22%3A+%221.0.15%22%2C+%22name%22%3A+%22Transcriptomics+example%22%2C+%22description%22%3A+%22%22%2C+%22datasets%22%3A+%5B%7B%22uid%22%3A+%22A%22%2C+%22name%22%3A+%22Cell+segmentations%22%2C+%22files%22%3A+%5B%7B%22fileType%22%3A+%22raster.json%22%2C+%22options%22%3A+%7B%22schemaVersion%22%3A+%220.0.2%22%2C+%22images%22%3A+%5B%7B%22name%22%3A+%22Region+16+Segmentations%22%2C+%22type%22%3A+%22ome-tiff%22%2C+%22url%22%3A+%22http%3A%2F%2Flocalhost%3A8015%2FA%2F0%2Ff425ee5b-01bb-42da-81ea-2f6d35beac88%22%2C+%22metadata%22%3A+%7B%22omeTiffOffsetsUrl%22%3A+%22http%3A%2F%2Flocalhost%3A8015%2FA%2F0%2F8a135114-0d45-4e20-80ad-514e306364bd%22%2C+%22isBitmask%22%3A+true%7D%7D%5D%7D%7D%2C+%7B%22fileType%22%3A+%22obsSets.csv%22%2C+%22url%22%3A+%22http%3A%2F%2Flocalhost%3A8015%2FA%2F1%2F40d2d802-5813-4270-a583-e47ca6a588ea%22%2C+%22options%22%3A+%7B%22obsIndex%22%3A+%22cell_id%22%2C+%22obsSets%22%3A+%5B%7B%22name%22%3A+%22Cell+Type%22%2C+%22column%22%3A+%22cell_type%22%7D%5D%7D%7D%5D%7D%5D%2C+%22coordinationSpace%22%3A+%7B%22dataset%22%3A+%7B%22A%22%3A+%22A%22%7D%2C+%22spatialZoom%22%3A+%7B%22A%22%3A+-3%7D%2C+%22spatialTargetX%22%3A+%7B%22A%22%3A+3000%7D%2C+%22spatialTargetY%22%3A+%7B%22A%22%3A+3000%7D%2C+%22spatialSegmentationLayer%22%3A+%7B%22A%22%3A+%5B%7B%22type%22%3A+%22bitmask%22%2C+%22index%22%3A+0%2C+%22visible%22%3A+true%2C+%22colormap%22%3A+null%2C+%22opacity%22%3A+1%2C+%22domainType%22%3A+%22Min%2FMax%22%2C+%22transparentColor%22%3A+null%2C+%22renderingMode%22%3A+%22Additive%22%2C+%22use3d%22%3A+false%2C+%22channels%22%3A+%5B%7B%22selection%22%3A+%7B%22c%22%3A+0%2C+%22t%22%3A+0%2C+%22z%22%3A+0%7D%2C+%22color%22%3A+%5B0%2C+0%2C+0%5D%2C+%22visible%22%3A+true%2C+%22slider%22%3A+%5B0%2C+1%5D%7D%2C+%7B%22selection%22%3A+%7B%22c%22%3A+1%2C+%22t%22%3A+0%2C+%22z%22%3A+0%7D%2C+%22color%22%3A+%5B0%2C+0%2C+0%5D%2C+%22visible%22%3A+true%2C+%22slider%22%3A+%5B1%2C+2%5D%7D%2C+%7B%22selection%22%3A+%7B%22c%22%3A+2%2C+%22t%22%3A+0%2C+%22z%22%3A+0%7D%2C+%22color%22%3A+%5B0%2C+0%2C+0%5D%2C+%22visible%22%3A+true%2C+%22slider%22%3A+%5B2%2C+3%5D%7D%5D%7D%5D%7D%2C+%22obsSetColor%22%3A+%7B%22A%22%3A+%5B%7B%22path%22%3A+%5B%22Cell+Type%22%2C+%22Adatpive+Immune+Enriched%22%5D%2C+%22color%22%3A+%5B255%2C+165%2C+0%5D%7D%2C+%7B%22path%22%3A+%5B%22Cell+Type%22%2C+%22CD66%2B+Mature+Epithelial%22%5D%2C+%22color%22%3A+%5B178%2C+34%2C+34%5D%7D%2C+%7B%22path%22%3A+%5B%22Cell+Type%22%2C+%22CD8%2B+T+Enriched+IEL%22%5D%2C+%22color%22%3A+%5B0%2C+128%2C+0%5D%7D%2C+%7B%22path%22%3A+%5B%22Cell+Type%22%2C+%22Glandular+Epithelial%22%5D%2C+%22color%22%3A+%5B255%2C+140%2C+0%5D%7D%2C+%7B%22path%22%3A+%5B%22Cell+Type%22%2C+%22Innate+Immune+Enriched%22%5D%2C+%22color%22%3A+%5B135%2C+206%2C+235%5D%7D%2C+%7B%22path%22%3A+%5B%22Cell+Type%22%2C+%22Inner+Follicle%22%5D%2C+%22color%22%3A+%5B0%2C+0%2C+255%5D%7D%2C+%7B%22path%22%3A+%5B%22Cell+Type%22%2C+%22Innervated+Smooth+Muscle%22%5D%2C+%22color%22%3A+%5B144%2C+238%2C+144%5D%7D%2C+%7B%22path%22%3A+%5B%22Cell+Type%22%2C+%22Innervated+Stroma%22%5D%2C+%22color%22%3A+%5B138%2C+43%2C+226%5D%7D%2C+%7B%22path%22%3A+%5B%22Cell+Type%22%2C+%22Macrovasculature%22%5D%2C+%22color%22%3A+%5B255%2C+215%2C+0%5D%7D%2C+%7B%22path%22%3A+%5B%22Cell+Type%22%2C+%22Mature+Epithelial%22%5D%2C+%22color%22%3A+%5B255%2C+0%2C+255%5D%7D%2C+%7B%22path%22%3A+%5B%22Cell+Type%22%2C+%22Microvasculature%22%5D%2C+%22color%22%3A+%5B0%2C+0%2C+0%5D%7D%2C+%7B%22path%22%3A+%5B%22Cell+Type%22%2C+%22Outer+Follicle%22%5D%2C+%22color%22%3A+%5B0%2C+0%2C+128%5D%7D%2C+%7B%22path%22%3A+%5B%22Cell+Type%22%2C+%22Paneth+Enriched%22%5D%2C+%22color%22%3A+%5B173%2C+216%2C+230%5D%7D%2C+%7B%22path%22%3A+%5B%22Cell+Type%22%2C+%22Plasma+Cell+Enriched%22%5D%2C+%22color%22%3A+%5B255%2C+255%2C+0%5D%7D%2C+%7B%22path%22%3A+%5B%22Cell+Type%22%2C+%22Secretory+Epithelial%22%5D%2C+%22color%22%3A+%5B154%2C+205%2C+50%5D%7D%2C+%7B%22path%22%3A+%5B%22Cell+Type%22%2C+%22Smooth+Muscle%22%5D%2C+%22color%22%3A+%5B255%2C+0%2C+0%5D%7D%2C+%7B%22path%22%3A+%5B%22Cell+Type%22%2C+%22Smooth+Muscle+%26+Innate+Immune%22%5D%2C+%22color%22%3A+%5B210%2C+180%2C+140%5D%7D%2C+%7B%22path%22%3A+%5B%22Cell+Type%22%2C+%22Stroma%22%5D%2C+%22color%22%3A+%5B128%2C+128%2C+128%5D%7D%2C+%7B%22path%22%3A+%5B%22Cell+Type%22%2C+%22Stroma+%26+Innate+Immune%22%5D%2C+%22color%22%3A+%5B165%2C+42%2C+42%5D%7D%2C+%7B%22path%22%3A+%5B%22Cell+Type%22%2C+%22Transit+Amplifying+Zone%22%5D%2C+%22color%22%3A+%5B0%2C+0%2C+139%5D%7D%5D%7D%7D%2C+%22layout%22%3A+%5B%7B%22component%22%3A+%22spatial%22%2C+%22coordinationScopes%22%3A+%7B%22dataset%22%3A+%22A%22%2C+%22spatialZoom%22%3A+%22A%22%2C+%22spatialTargetX%22%3A+%22A%22%2C+%22spatialTargetY%22%3A+%22A%22%2C+%22spatialSegmentationLayer%22%3A+%22A%22%2C+%22obsSetColor%22%3A+%22A%22%7D%2C+%22x%22%3A+0.0%2C+%22y%22%3A+0%2C+%22w%22%3A+6.0%2C+%22h%22%3A+12%7D%2C+%7B%22component%22%3A+%22layerController%22%2C+%22coordinationScopes%22%3A+%7B%22dataset%22%3A+%22A%22%2C+%22spatialZoom%22%3A+%22A%22%2C+%22spatialTargetX%22%3A+%22A%22%2C+%22spatialTargetY%22%3A+%22A%22%2C+%22spatialSegmentationLayer%22%3A+%22A%22%2C+%22obsSetColor%22%3A+%22A%22%7D%2C+%22x%22%3A+6.0%2C+%22y%22%3A+0.0%2C+%22w%22%3A+6.0%2C+%22h%22%3A+6.0%7D%2C+%7B%22component%22%3A+%22obsSets%22%2C+%22coordinationScopes%22%3A+%7B%22dataset%22%3A+%22A%22%2C+%22obsSetColor%22%3A+%22A%22%7D%2C+%22x%22%3A+6.0%2C+%22y%22%3A+6.0%2C+%22w%22%3A+6.0%2C+%22h%22%3A+6.0%7D%5D%2C+%22initStrategy%22%3A+%22auto%22%7D\" target=\"_blank\">View on Vitessce.io</a>"
            ]
          },
          "metadata": {}
        },
        {
          "output_type": "stream",
          "name": "stdout",
          "text": [
            "\tUpdating 'spatial' component 'width' from 6.0 to 10.0\n",
            "\tUpdating 'layerController' component 'x' from 6.0 to 10.0\n",
            "\tUpdating 'layerController' component 'width' from 6.0 to 2\n",
            "\tUpdating 'obsSets' component 'x' from 6.0 to 10.0\n",
            "\tUpdating 'obsSets' component 'width' from 6.0 to 2\n",
            "17\n",
            "./images/Region_17_mask.pyramid.ome.tif\n"
          ]
        },
        {
          "output_type": "display_data",
          "data": {
            "text/plain": [
              "<IPython.core.display.HTML object>"
            ],
            "text/html": [
              "<a href=\"http://vitessce.io/#?theme=light&url=data:,%7B%22version%22%3A+%221.0.15%22%2C+%22name%22%3A+%22Transcriptomics+example%22%2C+%22description%22%3A+%22%22%2C+%22datasets%22%3A+%5B%7B%22uid%22%3A+%22A%22%2C+%22name%22%3A+%22Cell+segmentations%22%2C+%22files%22%3A+%5B%7B%22fileType%22%3A+%22raster.json%22%2C+%22options%22%3A+%7B%22schemaVersion%22%3A+%220.0.2%22%2C+%22images%22%3A+%5B%7B%22name%22%3A+%22Region+17+Segmentations%22%2C+%22type%22%3A+%22ome-tiff%22%2C+%22url%22%3A+%22http%3A%2F%2Flocalhost%3A8016%2FA%2F0%2F57c36436-f636-48df-b5be-744a0db4e1bf%22%2C+%22metadata%22%3A+%7B%22omeTiffOffsetsUrl%22%3A+%22http%3A%2F%2Flocalhost%3A8016%2FA%2F0%2F8846b006-bd6f-4eb2-a459-aa07177d145b%22%2C+%22isBitmask%22%3A+true%7D%7D%5D%7D%7D%2C+%7B%22fileType%22%3A+%22obsSets.csv%22%2C+%22url%22%3A+%22http%3A%2F%2Flocalhost%3A8016%2FA%2F1%2F52aa3ebd-ebda-4b83-a70c-6ba54db9e958%22%2C+%22options%22%3A+%7B%22obsIndex%22%3A+%22cell_id%22%2C+%22obsSets%22%3A+%5B%7B%22name%22%3A+%22Cell+Type%22%2C+%22column%22%3A+%22cell_type%22%7D%5D%7D%7D%5D%7D%5D%2C+%22coordinationSpace%22%3A+%7B%22dataset%22%3A+%7B%22A%22%3A+%22A%22%7D%2C+%22spatialZoom%22%3A+%7B%22A%22%3A+-3%7D%2C+%22spatialTargetX%22%3A+%7B%22A%22%3A+3000%7D%2C+%22spatialTargetY%22%3A+%7B%22A%22%3A+3000%7D%2C+%22spatialSegmentationLayer%22%3A+%7B%22A%22%3A+%5B%7B%22type%22%3A+%22bitmask%22%2C+%22index%22%3A+0%2C+%22visible%22%3A+true%2C+%22colormap%22%3A+null%2C+%22opacity%22%3A+1%2C+%22domainType%22%3A+%22Min%2FMax%22%2C+%22transparentColor%22%3A+null%2C+%22renderingMode%22%3A+%22Additive%22%2C+%22use3d%22%3A+false%2C+%22channels%22%3A+%5B%7B%22selection%22%3A+%7B%22c%22%3A+0%2C+%22t%22%3A+0%2C+%22z%22%3A+0%7D%2C+%22color%22%3A+%5B0%2C+0%2C+0%5D%2C+%22visible%22%3A+true%2C+%22slider%22%3A+%5B0%2C+1%5D%7D%2C+%7B%22selection%22%3A+%7B%22c%22%3A+1%2C+%22t%22%3A+0%2C+%22z%22%3A+0%7D%2C+%22color%22%3A+%5B0%2C+0%2C+0%5D%2C+%22visible%22%3A+true%2C+%22slider%22%3A+%5B1%2C+2%5D%7D%2C+%7B%22selection%22%3A+%7B%22c%22%3A+2%2C+%22t%22%3A+0%2C+%22z%22%3A+0%7D%2C+%22color%22%3A+%5B0%2C+0%2C+0%5D%2C+%22visible%22%3A+true%2C+%22slider%22%3A+%5B2%2C+3%5D%7D%5D%7D%5D%7D%2C+%22obsSetColor%22%3A+%7B%22A%22%3A+%5B%7B%22path%22%3A+%5B%22Cell+Type%22%2C+%22Adatpive+Immune+Enriched%22%5D%2C+%22color%22%3A+%5B255%2C+165%2C+0%5D%7D%2C+%7B%22path%22%3A+%5B%22Cell+Type%22%2C+%22CD66%2B+Mature+Epithelial%22%5D%2C+%22color%22%3A+%5B178%2C+34%2C+34%5D%7D%2C+%7B%22path%22%3A+%5B%22Cell+Type%22%2C+%22CD8%2B+T+Enriched+IEL%22%5D%2C+%22color%22%3A+%5B0%2C+128%2C+0%5D%7D%2C+%7B%22path%22%3A+%5B%22Cell+Type%22%2C+%22Glandular+Epithelial%22%5D%2C+%22color%22%3A+%5B255%2C+140%2C+0%5D%7D%2C+%7B%22path%22%3A+%5B%22Cell+Type%22%2C+%22Innate+Immune+Enriched%22%5D%2C+%22color%22%3A+%5B135%2C+206%2C+235%5D%7D%2C+%7B%22path%22%3A+%5B%22Cell+Type%22%2C+%22Inner+Follicle%22%5D%2C+%22color%22%3A+%5B0%2C+0%2C+255%5D%7D%2C+%7B%22path%22%3A+%5B%22Cell+Type%22%2C+%22Innervated+Smooth+Muscle%22%5D%2C+%22color%22%3A+%5B144%2C+238%2C+144%5D%7D%2C+%7B%22path%22%3A+%5B%22Cell+Type%22%2C+%22Innervated+Stroma%22%5D%2C+%22color%22%3A+%5B138%2C+43%2C+226%5D%7D%2C+%7B%22path%22%3A+%5B%22Cell+Type%22%2C+%22Macrovasculature%22%5D%2C+%22color%22%3A+%5B255%2C+215%2C+0%5D%7D%2C+%7B%22path%22%3A+%5B%22Cell+Type%22%2C+%22Mature+Epithelial%22%5D%2C+%22color%22%3A+%5B255%2C+0%2C+255%5D%7D%2C+%7B%22path%22%3A+%5B%22Cell+Type%22%2C+%22Microvasculature%22%5D%2C+%22color%22%3A+%5B0%2C+0%2C+0%5D%7D%2C+%7B%22path%22%3A+%5B%22Cell+Type%22%2C+%22Outer+Follicle%22%5D%2C+%22color%22%3A+%5B0%2C+0%2C+128%5D%7D%2C+%7B%22path%22%3A+%5B%22Cell+Type%22%2C+%22Paneth+Enriched%22%5D%2C+%22color%22%3A+%5B173%2C+216%2C+230%5D%7D%2C+%7B%22path%22%3A+%5B%22Cell+Type%22%2C+%22Plasma+Cell+Enriched%22%5D%2C+%22color%22%3A+%5B255%2C+255%2C+0%5D%7D%2C+%7B%22path%22%3A+%5B%22Cell+Type%22%2C+%22Secretory+Epithelial%22%5D%2C+%22color%22%3A+%5B154%2C+205%2C+50%5D%7D%2C+%7B%22path%22%3A+%5B%22Cell+Type%22%2C+%22Smooth+Muscle%22%5D%2C+%22color%22%3A+%5B255%2C+0%2C+0%5D%7D%2C+%7B%22path%22%3A+%5B%22Cell+Type%22%2C+%22Smooth+Muscle+%26+Innate+Immune%22%5D%2C+%22color%22%3A+%5B210%2C+180%2C+140%5D%7D%2C+%7B%22path%22%3A+%5B%22Cell+Type%22%2C+%22Stroma%22%5D%2C+%22color%22%3A+%5B128%2C+128%2C+128%5D%7D%2C+%7B%22path%22%3A+%5B%22Cell+Type%22%2C+%22Stroma+%26+Innate+Immune%22%5D%2C+%22color%22%3A+%5B165%2C+42%2C+42%5D%7D%2C+%7B%22path%22%3A+%5B%22Cell+Type%22%2C+%22Transit+Amplifying+Zone%22%5D%2C+%22color%22%3A+%5B0%2C+0%2C+139%5D%7D%5D%7D%7D%2C+%22layout%22%3A+%5B%7B%22component%22%3A+%22spatial%22%2C+%22coordinationScopes%22%3A+%7B%22dataset%22%3A+%22A%22%2C+%22spatialZoom%22%3A+%22A%22%2C+%22spatialTargetX%22%3A+%22A%22%2C+%22spatialTargetY%22%3A+%22A%22%2C+%22spatialSegmentationLayer%22%3A+%22A%22%2C+%22obsSetColor%22%3A+%22A%22%7D%2C+%22x%22%3A+0.0%2C+%22y%22%3A+0%2C+%22w%22%3A+6.0%2C+%22h%22%3A+12%7D%2C+%7B%22component%22%3A+%22layerController%22%2C+%22coordinationScopes%22%3A+%7B%22dataset%22%3A+%22A%22%2C+%22spatialZoom%22%3A+%22A%22%2C+%22spatialTargetX%22%3A+%22A%22%2C+%22spatialTargetY%22%3A+%22A%22%2C+%22spatialSegmentationLayer%22%3A+%22A%22%2C+%22obsSetColor%22%3A+%22A%22%7D%2C+%22x%22%3A+6.0%2C+%22y%22%3A+0.0%2C+%22w%22%3A+6.0%2C+%22h%22%3A+6.0%7D%2C+%7B%22component%22%3A+%22obsSets%22%2C+%22coordinationScopes%22%3A+%7B%22dataset%22%3A+%22A%22%2C+%22obsSetColor%22%3A+%22A%22%7D%2C+%22x%22%3A+6.0%2C+%22y%22%3A+6.0%2C+%22w%22%3A+6.0%2C+%22h%22%3A+6.0%7D%5D%2C+%22initStrategy%22%3A+%22auto%22%7D\" target=\"_blank\">View on Vitessce.io</a>"
            ]
          },
          "metadata": {}
        },
        {
          "output_type": "stream",
          "name": "stdout",
          "text": [
            "\tUpdating 'spatial' component 'width' from 6.0 to 10.0\n",
            "\tUpdating 'layerController' component 'x' from 6.0 to 10.0\n",
            "\tUpdating 'layerController' component 'width' from 6.0 to 2\n",
            "\tUpdating 'obsSets' component 'x' from 6.0 to 10.0\n",
            "\tUpdating 'obsSets' component 'width' from 6.0 to 2\n",
            "18\n",
            "./images/Region_18_mask.pyramid.ome.tif\n"
          ]
        },
        {
          "output_type": "display_data",
          "data": {
            "text/plain": [
              "<IPython.core.display.HTML object>"
            ],
            "text/html": [
              "<a href=\"http://vitessce.io/#?theme=light&url=data:,%7B%22version%22%3A+%221.0.15%22%2C+%22name%22%3A+%22Transcriptomics+example%22%2C+%22description%22%3A+%22%22%2C+%22datasets%22%3A+%5B%7B%22uid%22%3A+%22A%22%2C+%22name%22%3A+%22Cell+segmentations%22%2C+%22files%22%3A+%5B%7B%22fileType%22%3A+%22raster.json%22%2C+%22options%22%3A+%7B%22schemaVersion%22%3A+%220.0.2%22%2C+%22images%22%3A+%5B%7B%22name%22%3A+%22Region+18+Segmentations%22%2C+%22type%22%3A+%22ome-tiff%22%2C+%22url%22%3A+%22http%3A%2F%2Flocalhost%3A8017%2FA%2F0%2Ff6387ec2-55b1-41c8-a27a-61cbd4f7b0eb%22%2C+%22metadata%22%3A+%7B%22omeTiffOffsetsUrl%22%3A+%22http%3A%2F%2Flocalhost%3A8017%2FA%2F0%2F5184d4f6-8893-4707-8c48-8d70eacffc32%22%2C+%22isBitmask%22%3A+true%7D%7D%5D%7D%7D%2C+%7B%22fileType%22%3A+%22obsSets.csv%22%2C+%22url%22%3A+%22http%3A%2F%2Flocalhost%3A8017%2FA%2F1%2Fcdfaedc0-843d-4d88-8557-764a78ba57b0%22%2C+%22options%22%3A+%7B%22obsIndex%22%3A+%22cell_id%22%2C+%22obsSets%22%3A+%5B%7B%22name%22%3A+%22Cell+Type%22%2C+%22column%22%3A+%22cell_type%22%7D%5D%7D%7D%5D%7D%5D%2C+%22coordinationSpace%22%3A+%7B%22dataset%22%3A+%7B%22A%22%3A+%22A%22%7D%2C+%22spatialZoom%22%3A+%7B%22A%22%3A+-3%7D%2C+%22spatialTargetX%22%3A+%7B%22A%22%3A+3000%7D%2C+%22spatialTargetY%22%3A+%7B%22A%22%3A+3000%7D%2C+%22spatialSegmentationLayer%22%3A+%7B%22A%22%3A+%5B%7B%22type%22%3A+%22bitmask%22%2C+%22index%22%3A+0%2C+%22visible%22%3A+true%2C+%22colormap%22%3A+null%2C+%22opacity%22%3A+1%2C+%22domainType%22%3A+%22Min%2FMax%22%2C+%22transparentColor%22%3A+null%2C+%22renderingMode%22%3A+%22Additive%22%2C+%22use3d%22%3A+false%2C+%22channels%22%3A+%5B%7B%22selection%22%3A+%7B%22c%22%3A+0%2C+%22t%22%3A+0%2C+%22z%22%3A+0%7D%2C+%22color%22%3A+%5B0%2C+0%2C+0%5D%2C+%22visible%22%3A+true%2C+%22slider%22%3A+%5B0%2C+1%5D%7D%2C+%7B%22selection%22%3A+%7B%22c%22%3A+1%2C+%22t%22%3A+0%2C+%22z%22%3A+0%7D%2C+%22color%22%3A+%5B0%2C+0%2C+0%5D%2C+%22visible%22%3A+true%2C+%22slider%22%3A+%5B1%2C+2%5D%7D%2C+%7B%22selection%22%3A+%7B%22c%22%3A+2%2C+%22t%22%3A+0%2C+%22z%22%3A+0%7D%2C+%22color%22%3A+%5B0%2C+0%2C+0%5D%2C+%22visible%22%3A+true%2C+%22slider%22%3A+%5B2%2C+3%5D%7D%5D%7D%5D%7D%2C+%22obsSetColor%22%3A+%7B%22A%22%3A+%5B%7B%22path%22%3A+%5B%22Cell+Type%22%2C+%22Adatpive+Immune+Enriched%22%5D%2C+%22color%22%3A+%5B255%2C+165%2C+0%5D%7D%2C+%7B%22path%22%3A+%5B%22Cell+Type%22%2C+%22CD66%2B+Mature+Epithelial%22%5D%2C+%22color%22%3A+%5B178%2C+34%2C+34%5D%7D%2C+%7B%22path%22%3A+%5B%22Cell+Type%22%2C+%22CD8%2B+T+Enriched+IEL%22%5D%2C+%22color%22%3A+%5B0%2C+128%2C+0%5D%7D%2C+%7B%22path%22%3A+%5B%22Cell+Type%22%2C+%22Glandular+Epithelial%22%5D%2C+%22color%22%3A+%5B255%2C+140%2C+0%5D%7D%2C+%7B%22path%22%3A+%5B%22Cell+Type%22%2C+%22Innate+Immune+Enriched%22%5D%2C+%22color%22%3A+%5B135%2C+206%2C+235%5D%7D%2C+%7B%22path%22%3A+%5B%22Cell+Type%22%2C+%22Inner+Follicle%22%5D%2C+%22color%22%3A+%5B0%2C+0%2C+255%5D%7D%2C+%7B%22path%22%3A+%5B%22Cell+Type%22%2C+%22Innervated+Smooth+Muscle%22%5D%2C+%22color%22%3A+%5B144%2C+238%2C+144%5D%7D%2C+%7B%22path%22%3A+%5B%22Cell+Type%22%2C+%22Innervated+Stroma%22%5D%2C+%22color%22%3A+%5B138%2C+43%2C+226%5D%7D%2C+%7B%22path%22%3A+%5B%22Cell+Type%22%2C+%22Macrovasculature%22%5D%2C+%22color%22%3A+%5B255%2C+215%2C+0%5D%7D%2C+%7B%22path%22%3A+%5B%22Cell+Type%22%2C+%22Mature+Epithelial%22%5D%2C+%22color%22%3A+%5B255%2C+0%2C+255%5D%7D%2C+%7B%22path%22%3A+%5B%22Cell+Type%22%2C+%22Microvasculature%22%5D%2C+%22color%22%3A+%5B0%2C+0%2C+0%5D%7D%2C+%7B%22path%22%3A+%5B%22Cell+Type%22%2C+%22Outer+Follicle%22%5D%2C+%22color%22%3A+%5B0%2C+0%2C+128%5D%7D%2C+%7B%22path%22%3A+%5B%22Cell+Type%22%2C+%22Paneth+Enriched%22%5D%2C+%22color%22%3A+%5B173%2C+216%2C+230%5D%7D%2C+%7B%22path%22%3A+%5B%22Cell+Type%22%2C+%22Plasma+Cell+Enriched%22%5D%2C+%22color%22%3A+%5B255%2C+255%2C+0%5D%7D%2C+%7B%22path%22%3A+%5B%22Cell+Type%22%2C+%22Secretory+Epithelial%22%5D%2C+%22color%22%3A+%5B154%2C+205%2C+50%5D%7D%2C+%7B%22path%22%3A+%5B%22Cell+Type%22%2C+%22Smooth+Muscle%22%5D%2C+%22color%22%3A+%5B255%2C+0%2C+0%5D%7D%2C+%7B%22path%22%3A+%5B%22Cell+Type%22%2C+%22Smooth+Muscle+%26+Innate+Immune%22%5D%2C+%22color%22%3A+%5B210%2C+180%2C+140%5D%7D%2C+%7B%22path%22%3A+%5B%22Cell+Type%22%2C+%22Stroma%22%5D%2C+%22color%22%3A+%5B128%2C+128%2C+128%5D%7D%2C+%7B%22path%22%3A+%5B%22Cell+Type%22%2C+%22Stroma+%26+Innate+Immune%22%5D%2C+%22color%22%3A+%5B165%2C+42%2C+42%5D%7D%2C+%7B%22path%22%3A+%5B%22Cell+Type%22%2C+%22Transit+Amplifying+Zone%22%5D%2C+%22color%22%3A+%5B0%2C+0%2C+139%5D%7D%5D%7D%7D%2C+%22layout%22%3A+%5B%7B%22component%22%3A+%22spatial%22%2C+%22coordinationScopes%22%3A+%7B%22dataset%22%3A+%22A%22%2C+%22spatialZoom%22%3A+%22A%22%2C+%22spatialTargetX%22%3A+%22A%22%2C+%22spatialTargetY%22%3A+%22A%22%2C+%22spatialSegmentationLayer%22%3A+%22A%22%2C+%22obsSetColor%22%3A+%22A%22%7D%2C+%22x%22%3A+0.0%2C+%22y%22%3A+0%2C+%22w%22%3A+6.0%2C+%22h%22%3A+12%7D%2C+%7B%22component%22%3A+%22layerController%22%2C+%22coordinationScopes%22%3A+%7B%22dataset%22%3A+%22A%22%2C+%22spatialZoom%22%3A+%22A%22%2C+%22spatialTargetX%22%3A+%22A%22%2C+%22spatialTargetY%22%3A+%22A%22%2C+%22spatialSegmentationLayer%22%3A+%22A%22%2C+%22obsSetColor%22%3A+%22A%22%7D%2C+%22x%22%3A+6.0%2C+%22y%22%3A+0.0%2C+%22w%22%3A+6.0%2C+%22h%22%3A+6.0%7D%2C+%7B%22component%22%3A+%22obsSets%22%2C+%22coordinationScopes%22%3A+%7B%22dataset%22%3A+%22A%22%2C+%22obsSetColor%22%3A+%22A%22%7D%2C+%22x%22%3A+6.0%2C+%22y%22%3A+6.0%2C+%22w%22%3A+6.0%2C+%22h%22%3A+6.0%7D%5D%2C+%22initStrategy%22%3A+%22auto%22%7D\" target=\"_blank\">View on Vitessce.io</a>"
            ]
          },
          "metadata": {}
        },
        {
          "output_type": "stream",
          "name": "stdout",
          "text": [
            "\tUpdating 'spatial' component 'width' from 6.0 to 10.0\n",
            "\tUpdating 'layerController' component 'x' from 6.0 to 10.0\n",
            "\tUpdating 'layerController' component 'width' from 6.0 to 2\n",
            "\tUpdating 'obsSets' component 'x' from 6.0 to 10.0\n",
            "\tUpdating 'obsSets' component 'width' from 6.0 to 2\n",
            "19\n",
            "./images/Region_19_mask.pyramid.ome.tif\n"
          ]
        },
        {
          "output_type": "display_data",
          "data": {
            "text/plain": [
              "<IPython.core.display.HTML object>"
            ],
            "text/html": [
              "<a href=\"http://vitessce.io/#?theme=light&url=data:,%7B%22version%22%3A+%221.0.15%22%2C+%22name%22%3A+%22Transcriptomics+example%22%2C+%22description%22%3A+%22%22%2C+%22datasets%22%3A+%5B%7B%22uid%22%3A+%22A%22%2C+%22name%22%3A+%22Cell+segmentations%22%2C+%22files%22%3A+%5B%7B%22fileType%22%3A+%22raster.json%22%2C+%22options%22%3A+%7B%22schemaVersion%22%3A+%220.0.2%22%2C+%22images%22%3A+%5B%7B%22name%22%3A+%22Region+19+Segmentations%22%2C+%22type%22%3A+%22ome-tiff%22%2C+%22url%22%3A+%22http%3A%2F%2Flocalhost%3A8018%2FA%2F0%2Fdea3974e-ad04-4e1a-ba9f-4e884ef85b6c%22%2C+%22metadata%22%3A+%7B%22omeTiffOffsetsUrl%22%3A+%22http%3A%2F%2Flocalhost%3A8018%2FA%2F0%2F2e5cbe77-8fac-4395-b47a-7c5b7917e8f2%22%2C+%22isBitmask%22%3A+true%7D%7D%5D%7D%7D%2C+%7B%22fileType%22%3A+%22obsSets.csv%22%2C+%22url%22%3A+%22http%3A%2F%2Flocalhost%3A8018%2FA%2F1%2Fdc456e88-e898-4d08-94a3-7f986c797914%22%2C+%22options%22%3A+%7B%22obsIndex%22%3A+%22cell_id%22%2C+%22obsSets%22%3A+%5B%7B%22name%22%3A+%22Cell+Type%22%2C+%22column%22%3A+%22cell_type%22%7D%5D%7D%7D%5D%7D%5D%2C+%22coordinationSpace%22%3A+%7B%22dataset%22%3A+%7B%22A%22%3A+%22A%22%7D%2C+%22spatialZoom%22%3A+%7B%22A%22%3A+-3%7D%2C+%22spatialTargetX%22%3A+%7B%22A%22%3A+3000%7D%2C+%22spatialTargetY%22%3A+%7B%22A%22%3A+3000%7D%2C+%22spatialSegmentationLayer%22%3A+%7B%22A%22%3A+%5B%7B%22type%22%3A+%22bitmask%22%2C+%22index%22%3A+0%2C+%22visible%22%3A+true%2C+%22colormap%22%3A+null%2C+%22opacity%22%3A+1%2C+%22domainType%22%3A+%22Min%2FMax%22%2C+%22transparentColor%22%3A+null%2C+%22renderingMode%22%3A+%22Additive%22%2C+%22use3d%22%3A+false%2C+%22channels%22%3A+%5B%7B%22selection%22%3A+%7B%22c%22%3A+0%2C+%22t%22%3A+0%2C+%22z%22%3A+0%7D%2C+%22color%22%3A+%5B0%2C+0%2C+0%5D%2C+%22visible%22%3A+true%2C+%22slider%22%3A+%5B0%2C+1%5D%7D%2C+%7B%22selection%22%3A+%7B%22c%22%3A+1%2C+%22t%22%3A+0%2C+%22z%22%3A+0%7D%2C+%22color%22%3A+%5B0%2C+0%2C+0%5D%2C+%22visible%22%3A+true%2C+%22slider%22%3A+%5B1%2C+2%5D%7D%2C+%7B%22selection%22%3A+%7B%22c%22%3A+2%2C+%22t%22%3A+0%2C+%22z%22%3A+0%7D%2C+%22color%22%3A+%5B0%2C+0%2C+0%5D%2C+%22visible%22%3A+true%2C+%22slider%22%3A+%5B2%2C+3%5D%7D%5D%7D%5D%7D%2C+%22obsSetColor%22%3A+%7B%22A%22%3A+%5B%7B%22path%22%3A+%5B%22Cell+Type%22%2C+%22Adatpive+Immune+Enriched%22%5D%2C+%22color%22%3A+%5B255%2C+165%2C+0%5D%7D%2C+%7B%22path%22%3A+%5B%22Cell+Type%22%2C+%22CD66%2B+Mature+Epithelial%22%5D%2C+%22color%22%3A+%5B178%2C+34%2C+34%5D%7D%2C+%7B%22path%22%3A+%5B%22Cell+Type%22%2C+%22CD8%2B+T+Enriched+IEL%22%5D%2C+%22color%22%3A+%5B0%2C+128%2C+0%5D%7D%2C+%7B%22path%22%3A+%5B%22Cell+Type%22%2C+%22Glandular+Epithelial%22%5D%2C+%22color%22%3A+%5B255%2C+140%2C+0%5D%7D%2C+%7B%22path%22%3A+%5B%22Cell+Type%22%2C+%22Innate+Immune+Enriched%22%5D%2C+%22color%22%3A+%5B135%2C+206%2C+235%5D%7D%2C+%7B%22path%22%3A+%5B%22Cell+Type%22%2C+%22Inner+Follicle%22%5D%2C+%22color%22%3A+%5B0%2C+0%2C+255%5D%7D%2C+%7B%22path%22%3A+%5B%22Cell+Type%22%2C+%22Innervated+Smooth+Muscle%22%5D%2C+%22color%22%3A+%5B144%2C+238%2C+144%5D%7D%2C+%7B%22path%22%3A+%5B%22Cell+Type%22%2C+%22Innervated+Stroma%22%5D%2C+%22color%22%3A+%5B138%2C+43%2C+226%5D%7D%2C+%7B%22path%22%3A+%5B%22Cell+Type%22%2C+%22Macrovasculature%22%5D%2C+%22color%22%3A+%5B255%2C+215%2C+0%5D%7D%2C+%7B%22path%22%3A+%5B%22Cell+Type%22%2C+%22Mature+Epithelial%22%5D%2C+%22color%22%3A+%5B255%2C+0%2C+255%5D%7D%2C+%7B%22path%22%3A+%5B%22Cell+Type%22%2C+%22Microvasculature%22%5D%2C+%22color%22%3A+%5B0%2C+0%2C+0%5D%7D%2C+%7B%22path%22%3A+%5B%22Cell+Type%22%2C+%22Outer+Follicle%22%5D%2C+%22color%22%3A+%5B0%2C+0%2C+128%5D%7D%2C+%7B%22path%22%3A+%5B%22Cell+Type%22%2C+%22Paneth+Enriched%22%5D%2C+%22color%22%3A+%5B173%2C+216%2C+230%5D%7D%2C+%7B%22path%22%3A+%5B%22Cell+Type%22%2C+%22Plasma+Cell+Enriched%22%5D%2C+%22color%22%3A+%5B255%2C+255%2C+0%5D%7D%2C+%7B%22path%22%3A+%5B%22Cell+Type%22%2C+%22Secretory+Epithelial%22%5D%2C+%22color%22%3A+%5B154%2C+205%2C+50%5D%7D%2C+%7B%22path%22%3A+%5B%22Cell+Type%22%2C+%22Smooth+Muscle%22%5D%2C+%22color%22%3A+%5B255%2C+0%2C+0%5D%7D%2C+%7B%22path%22%3A+%5B%22Cell+Type%22%2C+%22Smooth+Muscle+%26+Innate+Immune%22%5D%2C+%22color%22%3A+%5B210%2C+180%2C+140%5D%7D%2C+%7B%22path%22%3A+%5B%22Cell+Type%22%2C+%22Stroma%22%5D%2C+%22color%22%3A+%5B128%2C+128%2C+128%5D%7D%2C+%7B%22path%22%3A+%5B%22Cell+Type%22%2C+%22Stroma+%26+Innate+Immune%22%5D%2C+%22color%22%3A+%5B165%2C+42%2C+42%5D%7D%2C+%7B%22path%22%3A+%5B%22Cell+Type%22%2C+%22Transit+Amplifying+Zone%22%5D%2C+%22color%22%3A+%5B0%2C+0%2C+139%5D%7D%5D%7D%7D%2C+%22layout%22%3A+%5B%7B%22component%22%3A+%22spatial%22%2C+%22coordinationScopes%22%3A+%7B%22dataset%22%3A+%22A%22%2C+%22spatialZoom%22%3A+%22A%22%2C+%22spatialTargetX%22%3A+%22A%22%2C+%22spatialTargetY%22%3A+%22A%22%2C+%22spatialSegmentationLayer%22%3A+%22A%22%2C+%22obsSetColor%22%3A+%22A%22%7D%2C+%22x%22%3A+0.0%2C+%22y%22%3A+0%2C+%22w%22%3A+6.0%2C+%22h%22%3A+12%7D%2C+%7B%22component%22%3A+%22layerController%22%2C+%22coordinationScopes%22%3A+%7B%22dataset%22%3A+%22A%22%2C+%22spatialZoom%22%3A+%22A%22%2C+%22spatialTargetX%22%3A+%22A%22%2C+%22spatialTargetY%22%3A+%22A%22%2C+%22spatialSegmentationLayer%22%3A+%22A%22%2C+%22obsSetColor%22%3A+%22A%22%7D%2C+%22x%22%3A+6.0%2C+%22y%22%3A+0.0%2C+%22w%22%3A+6.0%2C+%22h%22%3A+6.0%7D%2C+%7B%22component%22%3A+%22obsSets%22%2C+%22coordinationScopes%22%3A+%7B%22dataset%22%3A+%22A%22%2C+%22obsSetColor%22%3A+%22A%22%7D%2C+%22x%22%3A+6.0%2C+%22y%22%3A+6.0%2C+%22w%22%3A+6.0%2C+%22h%22%3A+6.0%7D%5D%2C+%22initStrategy%22%3A+%22auto%22%7D\" target=\"_blank\">View on Vitessce.io</a>"
            ]
          },
          "metadata": {}
        },
        {
          "output_type": "stream",
          "name": "stdout",
          "text": [
            "\tUpdating 'spatial' component 'width' from 6.0 to 10.0\n",
            "\tUpdating 'layerController' component 'x' from 6.0 to 10.0\n",
            "\tUpdating 'layerController' component 'width' from 6.0 to 2\n",
            "\tUpdating 'obsSets' component 'x' from 6.0 to 10.0\n",
            "\tUpdating 'obsSets' component 'width' from 6.0 to 2\n",
            "20\n",
            "./images/Region_20_mask.pyramid.ome.tif\n"
          ]
        },
        {
          "output_type": "display_data",
          "data": {
            "text/plain": [
              "<IPython.core.display.HTML object>"
            ],
            "text/html": [
              "<a href=\"http://vitessce.io/#?theme=light&url=data:,%7B%22version%22%3A+%221.0.15%22%2C+%22name%22%3A+%22Transcriptomics+example%22%2C+%22description%22%3A+%22%22%2C+%22datasets%22%3A+%5B%7B%22uid%22%3A+%22A%22%2C+%22name%22%3A+%22Cell+segmentations%22%2C+%22files%22%3A+%5B%7B%22fileType%22%3A+%22raster.json%22%2C+%22options%22%3A+%7B%22schemaVersion%22%3A+%220.0.2%22%2C+%22images%22%3A+%5B%7B%22name%22%3A+%22Region+20+Segmentations%22%2C+%22type%22%3A+%22ome-tiff%22%2C+%22url%22%3A+%22http%3A%2F%2Flocalhost%3A8019%2FA%2F0%2F5599d021-0f79-4ffc-b27e-83e1a034857e%22%2C+%22metadata%22%3A+%7B%22omeTiffOffsetsUrl%22%3A+%22http%3A%2F%2Flocalhost%3A8019%2FA%2F0%2Fdd5b5bf9-38f4-43c6-b7d3-d6cb3a351e67%22%2C+%22isBitmask%22%3A+true%7D%7D%5D%7D%7D%2C+%7B%22fileType%22%3A+%22obsSets.csv%22%2C+%22url%22%3A+%22http%3A%2F%2Flocalhost%3A8019%2FA%2F1%2F980275a7-269d-4f6d-a640-40f700f24335%22%2C+%22options%22%3A+%7B%22obsIndex%22%3A+%22cell_id%22%2C+%22obsSets%22%3A+%5B%7B%22name%22%3A+%22Cell+Type%22%2C+%22column%22%3A+%22cell_type%22%7D%5D%7D%7D%5D%7D%5D%2C+%22coordinationSpace%22%3A+%7B%22dataset%22%3A+%7B%22A%22%3A+%22A%22%7D%2C+%22spatialZoom%22%3A+%7B%22A%22%3A+-3%7D%2C+%22spatialTargetX%22%3A+%7B%22A%22%3A+3000%7D%2C+%22spatialTargetY%22%3A+%7B%22A%22%3A+3000%7D%2C+%22spatialSegmentationLayer%22%3A+%7B%22A%22%3A+%5B%7B%22type%22%3A+%22bitmask%22%2C+%22index%22%3A+0%2C+%22visible%22%3A+true%2C+%22colormap%22%3A+null%2C+%22opacity%22%3A+1%2C+%22domainType%22%3A+%22Min%2FMax%22%2C+%22transparentColor%22%3A+null%2C+%22renderingMode%22%3A+%22Additive%22%2C+%22use3d%22%3A+false%2C+%22channels%22%3A+%5B%7B%22selection%22%3A+%7B%22c%22%3A+0%2C+%22t%22%3A+0%2C+%22z%22%3A+0%7D%2C+%22color%22%3A+%5B0%2C+0%2C+0%5D%2C+%22visible%22%3A+true%2C+%22slider%22%3A+%5B0%2C+1%5D%7D%2C+%7B%22selection%22%3A+%7B%22c%22%3A+1%2C+%22t%22%3A+0%2C+%22z%22%3A+0%7D%2C+%22color%22%3A+%5B0%2C+0%2C+0%5D%2C+%22visible%22%3A+true%2C+%22slider%22%3A+%5B1%2C+2%5D%7D%2C+%7B%22selection%22%3A+%7B%22c%22%3A+2%2C+%22t%22%3A+0%2C+%22z%22%3A+0%7D%2C+%22color%22%3A+%5B0%2C+0%2C+0%5D%2C+%22visible%22%3A+true%2C+%22slider%22%3A+%5B2%2C+3%5D%7D%5D%7D%5D%7D%2C+%22obsSetColor%22%3A+%7B%22A%22%3A+%5B%7B%22path%22%3A+%5B%22Cell+Type%22%2C+%22Adatpive+Immune+Enriched%22%5D%2C+%22color%22%3A+%5B255%2C+165%2C+0%5D%7D%2C+%7B%22path%22%3A+%5B%22Cell+Type%22%2C+%22CD66%2B+Mature+Epithelial%22%5D%2C+%22color%22%3A+%5B178%2C+34%2C+34%5D%7D%2C+%7B%22path%22%3A+%5B%22Cell+Type%22%2C+%22CD8%2B+T+Enriched+IEL%22%5D%2C+%22color%22%3A+%5B0%2C+128%2C+0%5D%7D%2C+%7B%22path%22%3A+%5B%22Cell+Type%22%2C+%22Glandular+Epithelial%22%5D%2C+%22color%22%3A+%5B255%2C+140%2C+0%5D%7D%2C+%7B%22path%22%3A+%5B%22Cell+Type%22%2C+%22Innate+Immune+Enriched%22%5D%2C+%22color%22%3A+%5B135%2C+206%2C+235%5D%7D%2C+%7B%22path%22%3A+%5B%22Cell+Type%22%2C+%22Inner+Follicle%22%5D%2C+%22color%22%3A+%5B0%2C+0%2C+255%5D%7D%2C+%7B%22path%22%3A+%5B%22Cell+Type%22%2C+%22Innervated+Smooth+Muscle%22%5D%2C+%22color%22%3A+%5B144%2C+238%2C+144%5D%7D%2C+%7B%22path%22%3A+%5B%22Cell+Type%22%2C+%22Innervated+Stroma%22%5D%2C+%22color%22%3A+%5B138%2C+43%2C+226%5D%7D%2C+%7B%22path%22%3A+%5B%22Cell+Type%22%2C+%22Macrovasculature%22%5D%2C+%22color%22%3A+%5B255%2C+215%2C+0%5D%7D%2C+%7B%22path%22%3A+%5B%22Cell+Type%22%2C+%22Mature+Epithelial%22%5D%2C+%22color%22%3A+%5B255%2C+0%2C+255%5D%7D%2C+%7B%22path%22%3A+%5B%22Cell+Type%22%2C+%22Microvasculature%22%5D%2C+%22color%22%3A+%5B0%2C+0%2C+0%5D%7D%2C+%7B%22path%22%3A+%5B%22Cell+Type%22%2C+%22Outer+Follicle%22%5D%2C+%22color%22%3A+%5B0%2C+0%2C+128%5D%7D%2C+%7B%22path%22%3A+%5B%22Cell+Type%22%2C+%22Paneth+Enriched%22%5D%2C+%22color%22%3A+%5B173%2C+216%2C+230%5D%7D%2C+%7B%22path%22%3A+%5B%22Cell+Type%22%2C+%22Plasma+Cell+Enriched%22%5D%2C+%22color%22%3A+%5B255%2C+255%2C+0%5D%7D%2C+%7B%22path%22%3A+%5B%22Cell+Type%22%2C+%22Secretory+Epithelial%22%5D%2C+%22color%22%3A+%5B154%2C+205%2C+50%5D%7D%2C+%7B%22path%22%3A+%5B%22Cell+Type%22%2C+%22Smooth+Muscle%22%5D%2C+%22color%22%3A+%5B255%2C+0%2C+0%5D%7D%2C+%7B%22path%22%3A+%5B%22Cell+Type%22%2C+%22Smooth+Muscle+%26+Innate+Immune%22%5D%2C+%22color%22%3A+%5B210%2C+180%2C+140%5D%7D%2C+%7B%22path%22%3A+%5B%22Cell+Type%22%2C+%22Stroma%22%5D%2C+%22color%22%3A+%5B128%2C+128%2C+128%5D%7D%2C+%7B%22path%22%3A+%5B%22Cell+Type%22%2C+%22Stroma+%26+Innate+Immune%22%5D%2C+%22color%22%3A+%5B165%2C+42%2C+42%5D%7D%2C+%7B%22path%22%3A+%5B%22Cell+Type%22%2C+%22Transit+Amplifying+Zone%22%5D%2C+%22color%22%3A+%5B0%2C+0%2C+139%5D%7D%5D%7D%7D%2C+%22layout%22%3A+%5B%7B%22component%22%3A+%22spatial%22%2C+%22coordinationScopes%22%3A+%7B%22dataset%22%3A+%22A%22%2C+%22spatialZoom%22%3A+%22A%22%2C+%22spatialTargetX%22%3A+%22A%22%2C+%22spatialTargetY%22%3A+%22A%22%2C+%22spatialSegmentationLayer%22%3A+%22A%22%2C+%22obsSetColor%22%3A+%22A%22%7D%2C+%22x%22%3A+0.0%2C+%22y%22%3A+0%2C+%22w%22%3A+6.0%2C+%22h%22%3A+12%7D%2C+%7B%22component%22%3A+%22layerController%22%2C+%22coordinationScopes%22%3A+%7B%22dataset%22%3A+%22A%22%2C+%22spatialZoom%22%3A+%22A%22%2C+%22spatialTargetX%22%3A+%22A%22%2C+%22spatialTargetY%22%3A+%22A%22%2C+%22spatialSegmentationLayer%22%3A+%22A%22%2C+%22obsSetColor%22%3A+%22A%22%7D%2C+%22x%22%3A+6.0%2C+%22y%22%3A+0.0%2C+%22w%22%3A+6.0%2C+%22h%22%3A+6.0%7D%2C+%7B%22component%22%3A+%22obsSets%22%2C+%22coordinationScopes%22%3A+%7B%22dataset%22%3A+%22A%22%2C+%22obsSetColor%22%3A+%22A%22%7D%2C+%22x%22%3A+6.0%2C+%22y%22%3A+6.0%2C+%22w%22%3A+6.0%2C+%22h%22%3A+6.0%7D%5D%2C+%22initStrategy%22%3A+%22auto%22%7D\" target=\"_blank\">View on Vitessce.io</a>"
            ]
          },
          "metadata": {}
        },
        {
          "output_type": "stream",
          "name": "stdout",
          "text": [
            "\tUpdating 'spatial' component 'width' from 6.0 to 10.0\n",
            "\tUpdating 'layerController' component 'x' from 6.0 to 10.0\n",
            "\tUpdating 'layerController' component 'width' from 6.0 to 2\n",
            "\tUpdating 'obsSets' component 'x' from 6.0 to 10.0\n",
            "\tUpdating 'obsSets' component 'width' from 6.0 to 2\n",
            "21\n",
            "./images/Region_21_mask.pyramid.ome.tif\n"
          ]
        },
        {
          "output_type": "display_data",
          "data": {
            "text/plain": [
              "<IPython.core.display.HTML object>"
            ],
            "text/html": [
              "<a href=\"http://vitessce.io/#?theme=light&url=data:,%7B%22version%22%3A+%221.0.15%22%2C+%22name%22%3A+%22Transcriptomics+example%22%2C+%22description%22%3A+%22%22%2C+%22datasets%22%3A+%5B%7B%22uid%22%3A+%22A%22%2C+%22name%22%3A+%22Cell+segmentations%22%2C+%22files%22%3A+%5B%7B%22fileType%22%3A+%22raster.json%22%2C+%22options%22%3A+%7B%22schemaVersion%22%3A+%220.0.2%22%2C+%22images%22%3A+%5B%7B%22name%22%3A+%22Region+21+Segmentations%22%2C+%22type%22%3A+%22ome-tiff%22%2C+%22url%22%3A+%22http%3A%2F%2Flocalhost%3A8020%2FA%2F0%2Fb83f78b1-5dee-4604-ac26-44520893bc0e%22%2C+%22metadata%22%3A+%7B%22omeTiffOffsetsUrl%22%3A+%22http%3A%2F%2Flocalhost%3A8020%2FA%2F0%2F327fd969-a244-4d21-b3d4-75303136ec9a%22%2C+%22isBitmask%22%3A+true%7D%7D%5D%7D%7D%2C+%7B%22fileType%22%3A+%22obsSets.csv%22%2C+%22url%22%3A+%22http%3A%2F%2Flocalhost%3A8020%2FA%2F1%2F7411e140-8985-4e85-a165-1a418ed7b4f5%22%2C+%22options%22%3A+%7B%22obsIndex%22%3A+%22cell_id%22%2C+%22obsSets%22%3A+%5B%7B%22name%22%3A+%22Cell+Type%22%2C+%22column%22%3A+%22cell_type%22%7D%5D%7D%7D%5D%7D%5D%2C+%22coordinationSpace%22%3A+%7B%22dataset%22%3A+%7B%22A%22%3A+%22A%22%7D%2C+%22spatialZoom%22%3A+%7B%22A%22%3A+-3%7D%2C+%22spatialTargetX%22%3A+%7B%22A%22%3A+3000%7D%2C+%22spatialTargetY%22%3A+%7B%22A%22%3A+3000%7D%2C+%22spatialSegmentationLayer%22%3A+%7B%22A%22%3A+%5B%7B%22type%22%3A+%22bitmask%22%2C+%22index%22%3A+0%2C+%22visible%22%3A+true%2C+%22colormap%22%3A+null%2C+%22opacity%22%3A+1%2C+%22domainType%22%3A+%22Min%2FMax%22%2C+%22transparentColor%22%3A+null%2C+%22renderingMode%22%3A+%22Additive%22%2C+%22use3d%22%3A+false%2C+%22channels%22%3A+%5B%7B%22selection%22%3A+%7B%22c%22%3A+0%2C+%22t%22%3A+0%2C+%22z%22%3A+0%7D%2C+%22color%22%3A+%5B0%2C+0%2C+0%5D%2C+%22visible%22%3A+true%2C+%22slider%22%3A+%5B0%2C+1%5D%7D%2C+%7B%22selection%22%3A+%7B%22c%22%3A+1%2C+%22t%22%3A+0%2C+%22z%22%3A+0%7D%2C+%22color%22%3A+%5B0%2C+0%2C+0%5D%2C+%22visible%22%3A+true%2C+%22slider%22%3A+%5B1%2C+2%5D%7D%2C+%7B%22selection%22%3A+%7B%22c%22%3A+2%2C+%22t%22%3A+0%2C+%22z%22%3A+0%7D%2C+%22color%22%3A+%5B0%2C+0%2C+0%5D%2C+%22visible%22%3A+true%2C+%22slider%22%3A+%5B2%2C+3%5D%7D%5D%7D%5D%7D%2C+%22obsSetColor%22%3A+%7B%22A%22%3A+%5B%7B%22path%22%3A+%5B%22Cell+Type%22%2C+%22Adatpive+Immune+Enriched%22%5D%2C+%22color%22%3A+%5B255%2C+165%2C+0%5D%7D%2C+%7B%22path%22%3A+%5B%22Cell+Type%22%2C+%22CD66%2B+Mature+Epithelial%22%5D%2C+%22color%22%3A+%5B178%2C+34%2C+34%5D%7D%2C+%7B%22path%22%3A+%5B%22Cell+Type%22%2C+%22CD8%2B+T+Enriched+IEL%22%5D%2C+%22color%22%3A+%5B0%2C+128%2C+0%5D%7D%2C+%7B%22path%22%3A+%5B%22Cell+Type%22%2C+%22Glandular+Epithelial%22%5D%2C+%22color%22%3A+%5B255%2C+140%2C+0%5D%7D%2C+%7B%22path%22%3A+%5B%22Cell+Type%22%2C+%22Innate+Immune+Enriched%22%5D%2C+%22color%22%3A+%5B135%2C+206%2C+235%5D%7D%2C+%7B%22path%22%3A+%5B%22Cell+Type%22%2C+%22Inner+Follicle%22%5D%2C+%22color%22%3A+%5B0%2C+0%2C+255%5D%7D%2C+%7B%22path%22%3A+%5B%22Cell+Type%22%2C+%22Innervated+Smooth+Muscle%22%5D%2C+%22color%22%3A+%5B144%2C+238%2C+144%5D%7D%2C+%7B%22path%22%3A+%5B%22Cell+Type%22%2C+%22Innervated+Stroma%22%5D%2C+%22color%22%3A+%5B138%2C+43%2C+226%5D%7D%2C+%7B%22path%22%3A+%5B%22Cell+Type%22%2C+%22Macrovasculature%22%5D%2C+%22color%22%3A+%5B255%2C+215%2C+0%5D%7D%2C+%7B%22path%22%3A+%5B%22Cell+Type%22%2C+%22Mature+Epithelial%22%5D%2C+%22color%22%3A+%5B255%2C+0%2C+255%5D%7D%2C+%7B%22path%22%3A+%5B%22Cell+Type%22%2C+%22Microvasculature%22%5D%2C+%22color%22%3A+%5B0%2C+0%2C+0%5D%7D%2C+%7B%22path%22%3A+%5B%22Cell+Type%22%2C+%22Outer+Follicle%22%5D%2C+%22color%22%3A+%5B0%2C+0%2C+128%5D%7D%2C+%7B%22path%22%3A+%5B%22Cell+Type%22%2C+%22Paneth+Enriched%22%5D%2C+%22color%22%3A+%5B173%2C+216%2C+230%5D%7D%2C+%7B%22path%22%3A+%5B%22Cell+Type%22%2C+%22Plasma+Cell+Enriched%22%5D%2C+%22color%22%3A+%5B255%2C+255%2C+0%5D%7D%2C+%7B%22path%22%3A+%5B%22Cell+Type%22%2C+%22Secretory+Epithelial%22%5D%2C+%22color%22%3A+%5B154%2C+205%2C+50%5D%7D%2C+%7B%22path%22%3A+%5B%22Cell+Type%22%2C+%22Smooth+Muscle%22%5D%2C+%22color%22%3A+%5B255%2C+0%2C+0%5D%7D%2C+%7B%22path%22%3A+%5B%22Cell+Type%22%2C+%22Smooth+Muscle+%26+Innate+Immune%22%5D%2C+%22color%22%3A+%5B210%2C+180%2C+140%5D%7D%2C+%7B%22path%22%3A+%5B%22Cell+Type%22%2C+%22Stroma%22%5D%2C+%22color%22%3A+%5B128%2C+128%2C+128%5D%7D%2C+%7B%22path%22%3A+%5B%22Cell+Type%22%2C+%22Stroma+%26+Innate+Immune%22%5D%2C+%22color%22%3A+%5B165%2C+42%2C+42%5D%7D%2C+%7B%22path%22%3A+%5B%22Cell+Type%22%2C+%22Transit+Amplifying+Zone%22%5D%2C+%22color%22%3A+%5B0%2C+0%2C+139%5D%7D%5D%7D%7D%2C+%22layout%22%3A+%5B%7B%22component%22%3A+%22spatial%22%2C+%22coordinationScopes%22%3A+%7B%22dataset%22%3A+%22A%22%2C+%22spatialZoom%22%3A+%22A%22%2C+%22spatialTargetX%22%3A+%22A%22%2C+%22spatialTargetY%22%3A+%22A%22%2C+%22spatialSegmentationLayer%22%3A+%22A%22%2C+%22obsSetColor%22%3A+%22A%22%7D%2C+%22x%22%3A+0.0%2C+%22y%22%3A+0%2C+%22w%22%3A+6.0%2C+%22h%22%3A+12%7D%2C+%7B%22component%22%3A+%22layerController%22%2C+%22coordinationScopes%22%3A+%7B%22dataset%22%3A+%22A%22%2C+%22spatialZoom%22%3A+%22A%22%2C+%22spatialTargetX%22%3A+%22A%22%2C+%22spatialTargetY%22%3A+%22A%22%2C+%22spatialSegmentationLayer%22%3A+%22A%22%2C+%22obsSetColor%22%3A+%22A%22%7D%2C+%22x%22%3A+6.0%2C+%22y%22%3A+0.0%2C+%22w%22%3A+6.0%2C+%22h%22%3A+6.0%7D%2C+%7B%22component%22%3A+%22obsSets%22%2C+%22coordinationScopes%22%3A+%7B%22dataset%22%3A+%22A%22%2C+%22obsSetColor%22%3A+%22A%22%7D%2C+%22x%22%3A+6.0%2C+%22y%22%3A+6.0%2C+%22w%22%3A+6.0%2C+%22h%22%3A+6.0%7D%5D%2C+%22initStrategy%22%3A+%22auto%22%7D\" target=\"_blank\">View on Vitessce.io</a>"
            ]
          },
          "metadata": {}
        },
        {
          "output_type": "stream",
          "name": "stdout",
          "text": [
            "\tUpdating 'spatial' component 'width' from 6.0 to 10.0\n",
            "\tUpdating 'layerController' component 'x' from 6.0 to 10.0\n",
            "\tUpdating 'layerController' component 'width' from 6.0 to 2\n",
            "\tUpdating 'obsSets' component 'x' from 6.0 to 10.0\n",
            "\tUpdating 'obsSets' component 'width' from 6.0 to 2\n",
            "22\n",
            "./images/Region_22_mask.pyramid.ome.tif\n"
          ]
        },
        {
          "output_type": "display_data",
          "data": {
            "text/plain": [
              "<IPython.core.display.HTML object>"
            ],
            "text/html": [
              "<a href=\"http://vitessce.io/#?theme=light&url=data:,%7B%22version%22%3A+%221.0.15%22%2C+%22name%22%3A+%22Transcriptomics+example%22%2C+%22description%22%3A+%22%22%2C+%22datasets%22%3A+%5B%7B%22uid%22%3A+%22A%22%2C+%22name%22%3A+%22Cell+segmentations%22%2C+%22files%22%3A+%5B%7B%22fileType%22%3A+%22raster.json%22%2C+%22options%22%3A+%7B%22schemaVersion%22%3A+%220.0.2%22%2C+%22images%22%3A+%5B%7B%22name%22%3A+%22Region+22+Segmentations%22%2C+%22type%22%3A+%22ome-tiff%22%2C+%22url%22%3A+%22http%3A%2F%2Flocalhost%3A8021%2FA%2F0%2Fd336ccca-a09f-4385-893a-d50cf5aa98b6%22%2C+%22metadata%22%3A+%7B%22omeTiffOffsetsUrl%22%3A+%22http%3A%2F%2Flocalhost%3A8021%2FA%2F0%2F8c8910f8-ed26-443f-b493-2268ef6931de%22%2C+%22isBitmask%22%3A+true%7D%7D%5D%7D%7D%2C+%7B%22fileType%22%3A+%22obsSets.csv%22%2C+%22url%22%3A+%22http%3A%2F%2Flocalhost%3A8021%2FA%2F1%2F8b0e84de-f1c1-4e69-a218-e150512da3ca%22%2C+%22options%22%3A+%7B%22obsIndex%22%3A+%22cell_id%22%2C+%22obsSets%22%3A+%5B%7B%22name%22%3A+%22Cell+Type%22%2C+%22column%22%3A+%22cell_type%22%7D%5D%7D%7D%5D%7D%5D%2C+%22coordinationSpace%22%3A+%7B%22dataset%22%3A+%7B%22A%22%3A+%22A%22%7D%2C+%22spatialZoom%22%3A+%7B%22A%22%3A+-3%7D%2C+%22spatialTargetX%22%3A+%7B%22A%22%3A+3000%7D%2C+%22spatialTargetY%22%3A+%7B%22A%22%3A+3000%7D%2C+%22spatialSegmentationLayer%22%3A+%7B%22A%22%3A+%5B%7B%22type%22%3A+%22bitmask%22%2C+%22index%22%3A+0%2C+%22visible%22%3A+true%2C+%22colormap%22%3A+null%2C+%22opacity%22%3A+1%2C+%22domainType%22%3A+%22Min%2FMax%22%2C+%22transparentColor%22%3A+null%2C+%22renderingMode%22%3A+%22Additive%22%2C+%22use3d%22%3A+false%2C+%22channels%22%3A+%5B%7B%22selection%22%3A+%7B%22c%22%3A+0%2C+%22t%22%3A+0%2C+%22z%22%3A+0%7D%2C+%22color%22%3A+%5B0%2C+0%2C+0%5D%2C+%22visible%22%3A+true%2C+%22slider%22%3A+%5B0%2C+1%5D%7D%2C+%7B%22selection%22%3A+%7B%22c%22%3A+1%2C+%22t%22%3A+0%2C+%22z%22%3A+0%7D%2C+%22color%22%3A+%5B0%2C+0%2C+0%5D%2C+%22visible%22%3A+true%2C+%22slider%22%3A+%5B1%2C+2%5D%7D%2C+%7B%22selection%22%3A+%7B%22c%22%3A+2%2C+%22t%22%3A+0%2C+%22z%22%3A+0%7D%2C+%22color%22%3A+%5B0%2C+0%2C+0%5D%2C+%22visible%22%3A+true%2C+%22slider%22%3A+%5B2%2C+3%5D%7D%5D%7D%5D%7D%2C+%22obsSetColor%22%3A+%7B%22A%22%3A+%5B%7B%22path%22%3A+%5B%22Cell+Type%22%2C+%22Adatpive+Immune+Enriched%22%5D%2C+%22color%22%3A+%5B255%2C+165%2C+0%5D%7D%2C+%7B%22path%22%3A+%5B%22Cell+Type%22%2C+%22CD66%2B+Mature+Epithelial%22%5D%2C+%22color%22%3A+%5B178%2C+34%2C+34%5D%7D%2C+%7B%22path%22%3A+%5B%22Cell+Type%22%2C+%22CD8%2B+T+Enriched+IEL%22%5D%2C+%22color%22%3A+%5B0%2C+128%2C+0%5D%7D%2C+%7B%22path%22%3A+%5B%22Cell+Type%22%2C+%22Glandular+Epithelial%22%5D%2C+%22color%22%3A+%5B255%2C+140%2C+0%5D%7D%2C+%7B%22path%22%3A+%5B%22Cell+Type%22%2C+%22Innate+Immune+Enriched%22%5D%2C+%22color%22%3A+%5B135%2C+206%2C+235%5D%7D%2C+%7B%22path%22%3A+%5B%22Cell+Type%22%2C+%22Inner+Follicle%22%5D%2C+%22color%22%3A+%5B0%2C+0%2C+255%5D%7D%2C+%7B%22path%22%3A+%5B%22Cell+Type%22%2C+%22Innervated+Smooth+Muscle%22%5D%2C+%22color%22%3A+%5B144%2C+238%2C+144%5D%7D%2C+%7B%22path%22%3A+%5B%22Cell+Type%22%2C+%22Innervated+Stroma%22%5D%2C+%22color%22%3A+%5B138%2C+43%2C+226%5D%7D%2C+%7B%22path%22%3A+%5B%22Cell+Type%22%2C+%22Macrovasculature%22%5D%2C+%22color%22%3A+%5B255%2C+215%2C+0%5D%7D%2C+%7B%22path%22%3A+%5B%22Cell+Type%22%2C+%22Mature+Epithelial%22%5D%2C+%22color%22%3A+%5B255%2C+0%2C+255%5D%7D%2C+%7B%22path%22%3A+%5B%22Cell+Type%22%2C+%22Microvasculature%22%5D%2C+%22color%22%3A+%5B0%2C+0%2C+0%5D%7D%2C+%7B%22path%22%3A+%5B%22Cell+Type%22%2C+%22Outer+Follicle%22%5D%2C+%22color%22%3A+%5B0%2C+0%2C+128%5D%7D%2C+%7B%22path%22%3A+%5B%22Cell+Type%22%2C+%22Paneth+Enriched%22%5D%2C+%22color%22%3A+%5B173%2C+216%2C+230%5D%7D%2C+%7B%22path%22%3A+%5B%22Cell+Type%22%2C+%22Plasma+Cell+Enriched%22%5D%2C+%22color%22%3A+%5B255%2C+255%2C+0%5D%7D%2C+%7B%22path%22%3A+%5B%22Cell+Type%22%2C+%22Secretory+Epithelial%22%5D%2C+%22color%22%3A+%5B154%2C+205%2C+50%5D%7D%2C+%7B%22path%22%3A+%5B%22Cell+Type%22%2C+%22Smooth+Muscle%22%5D%2C+%22color%22%3A+%5B255%2C+0%2C+0%5D%7D%2C+%7B%22path%22%3A+%5B%22Cell+Type%22%2C+%22Smooth+Muscle+%26+Innate+Immune%22%5D%2C+%22color%22%3A+%5B210%2C+180%2C+140%5D%7D%2C+%7B%22path%22%3A+%5B%22Cell+Type%22%2C+%22Stroma%22%5D%2C+%22color%22%3A+%5B128%2C+128%2C+128%5D%7D%2C+%7B%22path%22%3A+%5B%22Cell+Type%22%2C+%22Stroma+%26+Innate+Immune%22%5D%2C+%22color%22%3A+%5B165%2C+42%2C+42%5D%7D%2C+%7B%22path%22%3A+%5B%22Cell+Type%22%2C+%22Transit+Amplifying+Zone%22%5D%2C+%22color%22%3A+%5B0%2C+0%2C+139%5D%7D%5D%7D%7D%2C+%22layout%22%3A+%5B%7B%22component%22%3A+%22spatial%22%2C+%22coordinationScopes%22%3A+%7B%22dataset%22%3A+%22A%22%2C+%22spatialZoom%22%3A+%22A%22%2C+%22spatialTargetX%22%3A+%22A%22%2C+%22spatialTargetY%22%3A+%22A%22%2C+%22spatialSegmentationLayer%22%3A+%22A%22%2C+%22obsSetColor%22%3A+%22A%22%7D%2C+%22x%22%3A+0.0%2C+%22y%22%3A+0%2C+%22w%22%3A+6.0%2C+%22h%22%3A+12%7D%2C+%7B%22component%22%3A+%22layerController%22%2C+%22coordinationScopes%22%3A+%7B%22dataset%22%3A+%22A%22%2C+%22spatialZoom%22%3A+%22A%22%2C+%22spatialTargetX%22%3A+%22A%22%2C+%22spatialTargetY%22%3A+%22A%22%2C+%22spatialSegmentationLayer%22%3A+%22A%22%2C+%22obsSetColor%22%3A+%22A%22%7D%2C+%22x%22%3A+6.0%2C+%22y%22%3A+0.0%2C+%22w%22%3A+6.0%2C+%22h%22%3A+6.0%7D%2C+%7B%22component%22%3A+%22obsSets%22%2C+%22coordinationScopes%22%3A+%7B%22dataset%22%3A+%22A%22%2C+%22obsSetColor%22%3A+%22A%22%7D%2C+%22x%22%3A+6.0%2C+%22y%22%3A+6.0%2C+%22w%22%3A+6.0%2C+%22h%22%3A+6.0%7D%5D%2C+%22initStrategy%22%3A+%22auto%22%7D\" target=\"_blank\">View on Vitessce.io</a>"
            ]
          },
          "metadata": {}
        },
        {
          "output_type": "stream",
          "name": "stdout",
          "text": [
            "\tUpdating 'spatial' component 'width' from 6.0 to 10.0\n",
            "\tUpdating 'layerController' component 'x' from 6.0 to 10.0\n",
            "\tUpdating 'layerController' component 'width' from 6.0 to 2\n",
            "\tUpdating 'obsSets' component 'x' from 6.0 to 10.0\n",
            "\tUpdating 'obsSets' component 'width' from 6.0 to 2\n",
            "23\n",
            "./images/Region_23_mask.pyramid.ome.tif\n"
          ]
        },
        {
          "output_type": "display_data",
          "data": {
            "text/plain": [
              "<IPython.core.display.HTML object>"
            ],
            "text/html": [
              "<a href=\"http://vitessce.io/#?theme=light&url=data:,%7B%22version%22%3A+%221.0.15%22%2C+%22name%22%3A+%22Transcriptomics+example%22%2C+%22description%22%3A+%22%22%2C+%22datasets%22%3A+%5B%7B%22uid%22%3A+%22A%22%2C+%22name%22%3A+%22Cell+segmentations%22%2C+%22files%22%3A+%5B%7B%22fileType%22%3A+%22raster.json%22%2C+%22options%22%3A+%7B%22schemaVersion%22%3A+%220.0.2%22%2C+%22images%22%3A+%5B%7B%22name%22%3A+%22Region+23+Segmentations%22%2C+%22type%22%3A+%22ome-tiff%22%2C+%22url%22%3A+%22http%3A%2F%2Flocalhost%3A8022%2FA%2F0%2F63442311-af6c-402c-8757-610924a161b7%22%2C+%22metadata%22%3A+%7B%22omeTiffOffsetsUrl%22%3A+%22http%3A%2F%2Flocalhost%3A8022%2FA%2F0%2F0d78a220-9cfb-4a59-a06d-fe4eda0b5399%22%2C+%22isBitmask%22%3A+true%7D%7D%5D%7D%7D%2C+%7B%22fileType%22%3A+%22obsSets.csv%22%2C+%22url%22%3A+%22http%3A%2F%2Flocalhost%3A8022%2FA%2F1%2F5f371a34-640f-4456-be51-1a339a66336c%22%2C+%22options%22%3A+%7B%22obsIndex%22%3A+%22cell_id%22%2C+%22obsSets%22%3A+%5B%7B%22name%22%3A+%22Cell+Type%22%2C+%22column%22%3A+%22cell_type%22%7D%5D%7D%7D%5D%7D%5D%2C+%22coordinationSpace%22%3A+%7B%22dataset%22%3A+%7B%22A%22%3A+%22A%22%7D%2C+%22spatialZoom%22%3A+%7B%22A%22%3A+-3%7D%2C+%22spatialTargetX%22%3A+%7B%22A%22%3A+3000%7D%2C+%22spatialTargetY%22%3A+%7B%22A%22%3A+3000%7D%2C+%22spatialSegmentationLayer%22%3A+%7B%22A%22%3A+%5B%7B%22type%22%3A+%22bitmask%22%2C+%22index%22%3A+0%2C+%22visible%22%3A+true%2C+%22colormap%22%3A+null%2C+%22opacity%22%3A+1%2C+%22domainType%22%3A+%22Min%2FMax%22%2C+%22transparentColor%22%3A+null%2C+%22renderingMode%22%3A+%22Additive%22%2C+%22use3d%22%3A+false%2C+%22channels%22%3A+%5B%7B%22selection%22%3A+%7B%22c%22%3A+0%2C+%22t%22%3A+0%2C+%22z%22%3A+0%7D%2C+%22color%22%3A+%5B0%2C+0%2C+0%5D%2C+%22visible%22%3A+true%2C+%22slider%22%3A+%5B0%2C+1%5D%7D%2C+%7B%22selection%22%3A+%7B%22c%22%3A+1%2C+%22t%22%3A+0%2C+%22z%22%3A+0%7D%2C+%22color%22%3A+%5B0%2C+0%2C+0%5D%2C+%22visible%22%3A+true%2C+%22slider%22%3A+%5B1%2C+2%5D%7D%2C+%7B%22selection%22%3A+%7B%22c%22%3A+2%2C+%22t%22%3A+0%2C+%22z%22%3A+0%7D%2C+%22color%22%3A+%5B0%2C+0%2C+0%5D%2C+%22visible%22%3A+true%2C+%22slider%22%3A+%5B2%2C+3%5D%7D%5D%7D%5D%7D%2C+%22obsSetColor%22%3A+%7B%22A%22%3A+%5B%7B%22path%22%3A+%5B%22Cell+Type%22%2C+%22Adatpive+Immune+Enriched%22%5D%2C+%22color%22%3A+%5B255%2C+165%2C+0%5D%7D%2C+%7B%22path%22%3A+%5B%22Cell+Type%22%2C+%22CD66%2B+Mature+Epithelial%22%5D%2C+%22color%22%3A+%5B178%2C+34%2C+34%5D%7D%2C+%7B%22path%22%3A+%5B%22Cell+Type%22%2C+%22CD8%2B+T+Enriched+IEL%22%5D%2C+%22color%22%3A+%5B0%2C+128%2C+0%5D%7D%2C+%7B%22path%22%3A+%5B%22Cell+Type%22%2C+%22Glandular+Epithelial%22%5D%2C+%22color%22%3A+%5B255%2C+140%2C+0%5D%7D%2C+%7B%22path%22%3A+%5B%22Cell+Type%22%2C+%22Innate+Immune+Enriched%22%5D%2C+%22color%22%3A+%5B135%2C+206%2C+235%5D%7D%2C+%7B%22path%22%3A+%5B%22Cell+Type%22%2C+%22Inner+Follicle%22%5D%2C+%22color%22%3A+%5B0%2C+0%2C+255%5D%7D%2C+%7B%22path%22%3A+%5B%22Cell+Type%22%2C+%22Innervated+Smooth+Muscle%22%5D%2C+%22color%22%3A+%5B144%2C+238%2C+144%5D%7D%2C+%7B%22path%22%3A+%5B%22Cell+Type%22%2C+%22Innervated+Stroma%22%5D%2C+%22color%22%3A+%5B138%2C+43%2C+226%5D%7D%2C+%7B%22path%22%3A+%5B%22Cell+Type%22%2C+%22Macrovasculature%22%5D%2C+%22color%22%3A+%5B255%2C+215%2C+0%5D%7D%2C+%7B%22path%22%3A+%5B%22Cell+Type%22%2C+%22Mature+Epithelial%22%5D%2C+%22color%22%3A+%5B255%2C+0%2C+255%5D%7D%2C+%7B%22path%22%3A+%5B%22Cell+Type%22%2C+%22Microvasculature%22%5D%2C+%22color%22%3A+%5B0%2C+0%2C+0%5D%7D%2C+%7B%22path%22%3A+%5B%22Cell+Type%22%2C+%22Outer+Follicle%22%5D%2C+%22color%22%3A+%5B0%2C+0%2C+128%5D%7D%2C+%7B%22path%22%3A+%5B%22Cell+Type%22%2C+%22Paneth+Enriched%22%5D%2C+%22color%22%3A+%5B173%2C+216%2C+230%5D%7D%2C+%7B%22path%22%3A+%5B%22Cell+Type%22%2C+%22Plasma+Cell+Enriched%22%5D%2C+%22color%22%3A+%5B255%2C+255%2C+0%5D%7D%2C+%7B%22path%22%3A+%5B%22Cell+Type%22%2C+%22Secretory+Epithelial%22%5D%2C+%22color%22%3A+%5B154%2C+205%2C+50%5D%7D%2C+%7B%22path%22%3A+%5B%22Cell+Type%22%2C+%22Smooth+Muscle%22%5D%2C+%22color%22%3A+%5B255%2C+0%2C+0%5D%7D%2C+%7B%22path%22%3A+%5B%22Cell+Type%22%2C+%22Smooth+Muscle+%26+Innate+Immune%22%5D%2C+%22color%22%3A+%5B210%2C+180%2C+140%5D%7D%2C+%7B%22path%22%3A+%5B%22Cell+Type%22%2C+%22Stroma%22%5D%2C+%22color%22%3A+%5B128%2C+128%2C+128%5D%7D%2C+%7B%22path%22%3A+%5B%22Cell+Type%22%2C+%22Stroma+%26+Innate+Immune%22%5D%2C+%22color%22%3A+%5B165%2C+42%2C+42%5D%7D%2C+%7B%22path%22%3A+%5B%22Cell+Type%22%2C+%22Transit+Amplifying+Zone%22%5D%2C+%22color%22%3A+%5B0%2C+0%2C+139%5D%7D%5D%7D%7D%2C+%22layout%22%3A+%5B%7B%22component%22%3A+%22spatial%22%2C+%22coordinationScopes%22%3A+%7B%22dataset%22%3A+%22A%22%2C+%22spatialZoom%22%3A+%22A%22%2C+%22spatialTargetX%22%3A+%22A%22%2C+%22spatialTargetY%22%3A+%22A%22%2C+%22spatialSegmentationLayer%22%3A+%22A%22%2C+%22obsSetColor%22%3A+%22A%22%7D%2C+%22x%22%3A+0.0%2C+%22y%22%3A+0%2C+%22w%22%3A+6.0%2C+%22h%22%3A+12%7D%2C+%7B%22component%22%3A+%22layerController%22%2C+%22coordinationScopes%22%3A+%7B%22dataset%22%3A+%22A%22%2C+%22spatialZoom%22%3A+%22A%22%2C+%22spatialTargetX%22%3A+%22A%22%2C+%22spatialTargetY%22%3A+%22A%22%2C+%22spatialSegmentationLayer%22%3A+%22A%22%2C+%22obsSetColor%22%3A+%22A%22%7D%2C+%22x%22%3A+6.0%2C+%22y%22%3A+0.0%2C+%22w%22%3A+6.0%2C+%22h%22%3A+6.0%7D%2C+%7B%22component%22%3A+%22obsSets%22%2C+%22coordinationScopes%22%3A+%7B%22dataset%22%3A+%22A%22%2C+%22obsSetColor%22%3A+%22A%22%7D%2C+%22x%22%3A+6.0%2C+%22y%22%3A+6.0%2C+%22w%22%3A+6.0%2C+%22h%22%3A+6.0%7D%5D%2C+%22initStrategy%22%3A+%22auto%22%7D\" target=\"_blank\">View on Vitessce.io</a>"
            ]
          },
          "metadata": {}
        },
        {
          "output_type": "stream",
          "name": "stdout",
          "text": [
            "\tUpdating 'spatial' component 'width' from 6.0 to 10.0\n",
            "\tUpdating 'layerController' component 'x' from 6.0 to 10.0\n",
            "\tUpdating 'layerController' component 'width' from 6.0 to 2\n",
            "\tUpdating 'obsSets' component 'x' from 6.0 to 10.0\n",
            "\tUpdating 'obsSets' component 'width' from 6.0 to 2\n",
            "24\n",
            "./images/Region_24_mask.pyramid.ome.tif\n"
          ]
        },
        {
          "output_type": "display_data",
          "data": {
            "text/plain": [
              "<IPython.core.display.HTML object>"
            ],
            "text/html": [
              "<a href=\"http://vitessce.io/#?theme=light&url=data:,%7B%22version%22%3A+%221.0.15%22%2C+%22name%22%3A+%22Transcriptomics+example%22%2C+%22description%22%3A+%22%22%2C+%22datasets%22%3A+%5B%7B%22uid%22%3A+%22A%22%2C+%22name%22%3A+%22Cell+segmentations%22%2C+%22files%22%3A+%5B%7B%22fileType%22%3A+%22raster.json%22%2C+%22options%22%3A+%7B%22schemaVersion%22%3A+%220.0.2%22%2C+%22images%22%3A+%5B%7B%22name%22%3A+%22Region+24+Segmentations%22%2C+%22type%22%3A+%22ome-tiff%22%2C+%22url%22%3A+%22http%3A%2F%2Flocalhost%3A8023%2FA%2F0%2Fb8cbc405-50c5-440c-add1-db45fa096d8c%22%2C+%22metadata%22%3A+%7B%22omeTiffOffsetsUrl%22%3A+%22http%3A%2F%2Flocalhost%3A8023%2FA%2F0%2F97f2d7f7-a254-4477-83f3-fc6fd87a22bc%22%2C+%22isBitmask%22%3A+true%7D%7D%5D%7D%7D%2C+%7B%22fileType%22%3A+%22obsSets.csv%22%2C+%22url%22%3A+%22http%3A%2F%2Flocalhost%3A8023%2FA%2F1%2F6d168dc1-f0ed-4e64-9b46-fa92633f01a9%22%2C+%22options%22%3A+%7B%22obsIndex%22%3A+%22cell_id%22%2C+%22obsSets%22%3A+%5B%7B%22name%22%3A+%22Cell+Type%22%2C+%22column%22%3A+%22cell_type%22%7D%5D%7D%7D%5D%7D%5D%2C+%22coordinationSpace%22%3A+%7B%22dataset%22%3A+%7B%22A%22%3A+%22A%22%7D%2C+%22spatialZoom%22%3A+%7B%22A%22%3A+-3%7D%2C+%22spatialTargetX%22%3A+%7B%22A%22%3A+3000%7D%2C+%22spatialTargetY%22%3A+%7B%22A%22%3A+3000%7D%2C+%22spatialSegmentationLayer%22%3A+%7B%22A%22%3A+%5B%7B%22type%22%3A+%22bitmask%22%2C+%22index%22%3A+0%2C+%22visible%22%3A+true%2C+%22colormap%22%3A+null%2C+%22opacity%22%3A+1%2C+%22domainType%22%3A+%22Min%2FMax%22%2C+%22transparentColor%22%3A+null%2C+%22renderingMode%22%3A+%22Additive%22%2C+%22use3d%22%3A+false%2C+%22channels%22%3A+%5B%7B%22selection%22%3A+%7B%22c%22%3A+0%2C+%22t%22%3A+0%2C+%22z%22%3A+0%7D%2C+%22color%22%3A+%5B0%2C+0%2C+0%5D%2C+%22visible%22%3A+true%2C+%22slider%22%3A+%5B0%2C+1%5D%7D%2C+%7B%22selection%22%3A+%7B%22c%22%3A+1%2C+%22t%22%3A+0%2C+%22z%22%3A+0%7D%2C+%22color%22%3A+%5B0%2C+0%2C+0%5D%2C+%22visible%22%3A+true%2C+%22slider%22%3A+%5B1%2C+2%5D%7D%2C+%7B%22selection%22%3A+%7B%22c%22%3A+2%2C+%22t%22%3A+0%2C+%22z%22%3A+0%7D%2C+%22color%22%3A+%5B0%2C+0%2C+0%5D%2C+%22visible%22%3A+true%2C+%22slider%22%3A+%5B2%2C+3%5D%7D%5D%7D%5D%7D%2C+%22obsSetColor%22%3A+%7B%22A%22%3A+%5B%7B%22path%22%3A+%5B%22Cell+Type%22%2C+%22Adatpive+Immune+Enriched%22%5D%2C+%22color%22%3A+%5B255%2C+165%2C+0%5D%7D%2C+%7B%22path%22%3A+%5B%22Cell+Type%22%2C+%22CD66%2B+Mature+Epithelial%22%5D%2C+%22color%22%3A+%5B178%2C+34%2C+34%5D%7D%2C+%7B%22path%22%3A+%5B%22Cell+Type%22%2C+%22CD8%2B+T+Enriched+IEL%22%5D%2C+%22color%22%3A+%5B0%2C+128%2C+0%5D%7D%2C+%7B%22path%22%3A+%5B%22Cell+Type%22%2C+%22Glandular+Epithelial%22%5D%2C+%22color%22%3A+%5B255%2C+140%2C+0%5D%7D%2C+%7B%22path%22%3A+%5B%22Cell+Type%22%2C+%22Innate+Immune+Enriched%22%5D%2C+%22color%22%3A+%5B135%2C+206%2C+235%5D%7D%2C+%7B%22path%22%3A+%5B%22Cell+Type%22%2C+%22Inner+Follicle%22%5D%2C+%22color%22%3A+%5B0%2C+0%2C+255%5D%7D%2C+%7B%22path%22%3A+%5B%22Cell+Type%22%2C+%22Innervated+Smooth+Muscle%22%5D%2C+%22color%22%3A+%5B144%2C+238%2C+144%5D%7D%2C+%7B%22path%22%3A+%5B%22Cell+Type%22%2C+%22Innervated+Stroma%22%5D%2C+%22color%22%3A+%5B138%2C+43%2C+226%5D%7D%2C+%7B%22path%22%3A+%5B%22Cell+Type%22%2C+%22Macrovasculature%22%5D%2C+%22color%22%3A+%5B255%2C+215%2C+0%5D%7D%2C+%7B%22path%22%3A+%5B%22Cell+Type%22%2C+%22Mature+Epithelial%22%5D%2C+%22color%22%3A+%5B255%2C+0%2C+255%5D%7D%2C+%7B%22path%22%3A+%5B%22Cell+Type%22%2C+%22Microvasculature%22%5D%2C+%22color%22%3A+%5B0%2C+0%2C+0%5D%7D%2C+%7B%22path%22%3A+%5B%22Cell+Type%22%2C+%22Outer+Follicle%22%5D%2C+%22color%22%3A+%5B0%2C+0%2C+128%5D%7D%2C+%7B%22path%22%3A+%5B%22Cell+Type%22%2C+%22Paneth+Enriched%22%5D%2C+%22color%22%3A+%5B173%2C+216%2C+230%5D%7D%2C+%7B%22path%22%3A+%5B%22Cell+Type%22%2C+%22Plasma+Cell+Enriched%22%5D%2C+%22color%22%3A+%5B255%2C+255%2C+0%5D%7D%2C+%7B%22path%22%3A+%5B%22Cell+Type%22%2C+%22Secretory+Epithelial%22%5D%2C+%22color%22%3A+%5B154%2C+205%2C+50%5D%7D%2C+%7B%22path%22%3A+%5B%22Cell+Type%22%2C+%22Smooth+Muscle%22%5D%2C+%22color%22%3A+%5B255%2C+0%2C+0%5D%7D%2C+%7B%22path%22%3A+%5B%22Cell+Type%22%2C+%22Smooth+Muscle+%26+Innate+Immune%22%5D%2C+%22color%22%3A+%5B210%2C+180%2C+140%5D%7D%2C+%7B%22path%22%3A+%5B%22Cell+Type%22%2C+%22Stroma%22%5D%2C+%22color%22%3A+%5B128%2C+128%2C+128%5D%7D%2C+%7B%22path%22%3A+%5B%22Cell+Type%22%2C+%22Stroma+%26+Innate+Immune%22%5D%2C+%22color%22%3A+%5B165%2C+42%2C+42%5D%7D%2C+%7B%22path%22%3A+%5B%22Cell+Type%22%2C+%22Transit+Amplifying+Zone%22%5D%2C+%22color%22%3A+%5B0%2C+0%2C+139%5D%7D%5D%7D%7D%2C+%22layout%22%3A+%5B%7B%22component%22%3A+%22spatial%22%2C+%22coordinationScopes%22%3A+%7B%22dataset%22%3A+%22A%22%2C+%22spatialZoom%22%3A+%22A%22%2C+%22spatialTargetX%22%3A+%22A%22%2C+%22spatialTargetY%22%3A+%22A%22%2C+%22spatialSegmentationLayer%22%3A+%22A%22%2C+%22obsSetColor%22%3A+%22A%22%7D%2C+%22x%22%3A+0.0%2C+%22y%22%3A+0%2C+%22w%22%3A+6.0%2C+%22h%22%3A+12%7D%2C+%7B%22component%22%3A+%22layerController%22%2C+%22coordinationScopes%22%3A+%7B%22dataset%22%3A+%22A%22%2C+%22spatialZoom%22%3A+%22A%22%2C+%22spatialTargetX%22%3A+%22A%22%2C+%22spatialTargetY%22%3A+%22A%22%2C+%22spatialSegmentationLayer%22%3A+%22A%22%2C+%22obsSetColor%22%3A+%22A%22%7D%2C+%22x%22%3A+6.0%2C+%22y%22%3A+0.0%2C+%22w%22%3A+6.0%2C+%22h%22%3A+6.0%7D%2C+%7B%22component%22%3A+%22obsSets%22%2C+%22coordinationScopes%22%3A+%7B%22dataset%22%3A+%22A%22%2C+%22obsSetColor%22%3A+%22A%22%7D%2C+%22x%22%3A+6.0%2C+%22y%22%3A+6.0%2C+%22w%22%3A+6.0%2C+%22h%22%3A+6.0%7D%5D%2C+%22initStrategy%22%3A+%22auto%22%7D\" target=\"_blank\">View on Vitessce.io</a>"
            ]
          },
          "metadata": {}
        },
        {
          "output_type": "stream",
          "name": "stdout",
          "text": [
            "\tUpdating 'spatial' component 'width' from 6.0 to 10.0\n",
            "\tUpdating 'layerController' component 'x' from 6.0 to 10.0\n",
            "\tUpdating 'layerController' component 'width' from 6.0 to 2\n",
            "\tUpdating 'obsSets' component 'x' from 6.0 to 10.0\n",
            "\tUpdating 'obsSets' component 'width' from 6.0 to 2\n",
            "25\n",
            "./images/Region_25_mask.pyramid.ome.tif\n"
          ]
        },
        {
          "output_type": "display_data",
          "data": {
            "text/plain": [
              "<IPython.core.display.HTML object>"
            ],
            "text/html": [
              "<a href=\"http://vitessce.io/#?theme=light&url=data:,%7B%22version%22%3A+%221.0.15%22%2C+%22name%22%3A+%22Transcriptomics+example%22%2C+%22description%22%3A+%22%22%2C+%22datasets%22%3A+%5B%7B%22uid%22%3A+%22A%22%2C+%22name%22%3A+%22Cell+segmentations%22%2C+%22files%22%3A+%5B%7B%22fileType%22%3A+%22raster.json%22%2C+%22options%22%3A+%7B%22schemaVersion%22%3A+%220.0.2%22%2C+%22images%22%3A+%5B%7B%22name%22%3A+%22Region+25+Segmentations%22%2C+%22type%22%3A+%22ome-tiff%22%2C+%22url%22%3A+%22http%3A%2F%2Flocalhost%3A8024%2FA%2F0%2F2132e83f-1c6e-4aab-989d-99773c2134ab%22%2C+%22metadata%22%3A+%7B%22omeTiffOffsetsUrl%22%3A+%22http%3A%2F%2Flocalhost%3A8024%2FA%2F0%2F949cac42-e205-4d7a-a0d5-25e865bc3888%22%2C+%22isBitmask%22%3A+true%7D%7D%5D%7D%7D%2C+%7B%22fileType%22%3A+%22obsSets.csv%22%2C+%22url%22%3A+%22http%3A%2F%2Flocalhost%3A8024%2FA%2F1%2F61c4623a-12b7-404d-9e95-cf2eeee7bee1%22%2C+%22options%22%3A+%7B%22obsIndex%22%3A+%22cell_id%22%2C+%22obsSets%22%3A+%5B%7B%22name%22%3A+%22Cell+Type%22%2C+%22column%22%3A+%22cell_type%22%7D%5D%7D%7D%5D%7D%5D%2C+%22coordinationSpace%22%3A+%7B%22dataset%22%3A+%7B%22A%22%3A+%22A%22%7D%2C+%22spatialZoom%22%3A+%7B%22A%22%3A+-3%7D%2C+%22spatialTargetX%22%3A+%7B%22A%22%3A+3000%7D%2C+%22spatialTargetY%22%3A+%7B%22A%22%3A+3000%7D%2C+%22spatialSegmentationLayer%22%3A+%7B%22A%22%3A+%5B%7B%22type%22%3A+%22bitmask%22%2C+%22index%22%3A+0%2C+%22visible%22%3A+true%2C+%22colormap%22%3A+null%2C+%22opacity%22%3A+1%2C+%22domainType%22%3A+%22Min%2FMax%22%2C+%22transparentColor%22%3A+null%2C+%22renderingMode%22%3A+%22Additive%22%2C+%22use3d%22%3A+false%2C+%22channels%22%3A+%5B%7B%22selection%22%3A+%7B%22c%22%3A+0%2C+%22t%22%3A+0%2C+%22z%22%3A+0%7D%2C+%22color%22%3A+%5B0%2C+0%2C+0%5D%2C+%22visible%22%3A+true%2C+%22slider%22%3A+%5B0%2C+1%5D%7D%2C+%7B%22selection%22%3A+%7B%22c%22%3A+1%2C+%22t%22%3A+0%2C+%22z%22%3A+0%7D%2C+%22color%22%3A+%5B0%2C+0%2C+0%5D%2C+%22visible%22%3A+true%2C+%22slider%22%3A+%5B1%2C+2%5D%7D%2C+%7B%22selection%22%3A+%7B%22c%22%3A+2%2C+%22t%22%3A+0%2C+%22z%22%3A+0%7D%2C+%22color%22%3A+%5B0%2C+0%2C+0%5D%2C+%22visible%22%3A+true%2C+%22slider%22%3A+%5B2%2C+3%5D%7D%5D%7D%5D%7D%2C+%22obsSetColor%22%3A+%7B%22A%22%3A+%5B%7B%22path%22%3A+%5B%22Cell+Type%22%2C+%22Adatpive+Immune+Enriched%22%5D%2C+%22color%22%3A+%5B255%2C+165%2C+0%5D%7D%2C+%7B%22path%22%3A+%5B%22Cell+Type%22%2C+%22CD66%2B+Mature+Epithelial%22%5D%2C+%22color%22%3A+%5B178%2C+34%2C+34%5D%7D%2C+%7B%22path%22%3A+%5B%22Cell+Type%22%2C+%22CD8%2B+T+Enriched+IEL%22%5D%2C+%22color%22%3A+%5B0%2C+128%2C+0%5D%7D%2C+%7B%22path%22%3A+%5B%22Cell+Type%22%2C+%22Glandular+Epithelial%22%5D%2C+%22color%22%3A+%5B255%2C+140%2C+0%5D%7D%2C+%7B%22path%22%3A+%5B%22Cell+Type%22%2C+%22Innate+Immune+Enriched%22%5D%2C+%22color%22%3A+%5B135%2C+206%2C+235%5D%7D%2C+%7B%22path%22%3A+%5B%22Cell+Type%22%2C+%22Inner+Follicle%22%5D%2C+%22color%22%3A+%5B0%2C+0%2C+255%5D%7D%2C+%7B%22path%22%3A+%5B%22Cell+Type%22%2C+%22Innervated+Smooth+Muscle%22%5D%2C+%22color%22%3A+%5B144%2C+238%2C+144%5D%7D%2C+%7B%22path%22%3A+%5B%22Cell+Type%22%2C+%22Innervated+Stroma%22%5D%2C+%22color%22%3A+%5B138%2C+43%2C+226%5D%7D%2C+%7B%22path%22%3A+%5B%22Cell+Type%22%2C+%22Macrovasculature%22%5D%2C+%22color%22%3A+%5B255%2C+215%2C+0%5D%7D%2C+%7B%22path%22%3A+%5B%22Cell+Type%22%2C+%22Mature+Epithelial%22%5D%2C+%22color%22%3A+%5B255%2C+0%2C+255%5D%7D%2C+%7B%22path%22%3A+%5B%22Cell+Type%22%2C+%22Microvasculature%22%5D%2C+%22color%22%3A+%5B0%2C+0%2C+0%5D%7D%2C+%7B%22path%22%3A+%5B%22Cell+Type%22%2C+%22Outer+Follicle%22%5D%2C+%22color%22%3A+%5B0%2C+0%2C+128%5D%7D%2C+%7B%22path%22%3A+%5B%22Cell+Type%22%2C+%22Paneth+Enriched%22%5D%2C+%22color%22%3A+%5B173%2C+216%2C+230%5D%7D%2C+%7B%22path%22%3A+%5B%22Cell+Type%22%2C+%22Plasma+Cell+Enriched%22%5D%2C+%22color%22%3A+%5B255%2C+255%2C+0%5D%7D%2C+%7B%22path%22%3A+%5B%22Cell+Type%22%2C+%22Secretory+Epithelial%22%5D%2C+%22color%22%3A+%5B154%2C+205%2C+50%5D%7D%2C+%7B%22path%22%3A+%5B%22Cell+Type%22%2C+%22Smooth+Muscle%22%5D%2C+%22color%22%3A+%5B255%2C+0%2C+0%5D%7D%2C+%7B%22path%22%3A+%5B%22Cell+Type%22%2C+%22Smooth+Muscle+%26+Innate+Immune%22%5D%2C+%22color%22%3A+%5B210%2C+180%2C+140%5D%7D%2C+%7B%22path%22%3A+%5B%22Cell+Type%22%2C+%22Stroma%22%5D%2C+%22color%22%3A+%5B128%2C+128%2C+128%5D%7D%2C+%7B%22path%22%3A+%5B%22Cell+Type%22%2C+%22Stroma+%26+Innate+Immune%22%5D%2C+%22color%22%3A+%5B165%2C+42%2C+42%5D%7D%2C+%7B%22path%22%3A+%5B%22Cell+Type%22%2C+%22Transit+Amplifying+Zone%22%5D%2C+%22color%22%3A+%5B0%2C+0%2C+139%5D%7D%5D%7D%7D%2C+%22layout%22%3A+%5B%7B%22component%22%3A+%22spatial%22%2C+%22coordinationScopes%22%3A+%7B%22dataset%22%3A+%22A%22%2C+%22spatialZoom%22%3A+%22A%22%2C+%22spatialTargetX%22%3A+%22A%22%2C+%22spatialTargetY%22%3A+%22A%22%2C+%22spatialSegmentationLayer%22%3A+%22A%22%2C+%22obsSetColor%22%3A+%22A%22%7D%2C+%22x%22%3A+0.0%2C+%22y%22%3A+0%2C+%22w%22%3A+6.0%2C+%22h%22%3A+12%7D%2C+%7B%22component%22%3A+%22layerController%22%2C+%22coordinationScopes%22%3A+%7B%22dataset%22%3A+%22A%22%2C+%22spatialZoom%22%3A+%22A%22%2C+%22spatialTargetX%22%3A+%22A%22%2C+%22spatialTargetY%22%3A+%22A%22%2C+%22spatialSegmentationLayer%22%3A+%22A%22%2C+%22obsSetColor%22%3A+%22A%22%7D%2C+%22x%22%3A+6.0%2C+%22y%22%3A+0.0%2C+%22w%22%3A+6.0%2C+%22h%22%3A+6.0%7D%2C+%7B%22component%22%3A+%22obsSets%22%2C+%22coordinationScopes%22%3A+%7B%22dataset%22%3A+%22A%22%2C+%22obsSetColor%22%3A+%22A%22%7D%2C+%22x%22%3A+6.0%2C+%22y%22%3A+6.0%2C+%22w%22%3A+6.0%2C+%22h%22%3A+6.0%7D%5D%2C+%22initStrategy%22%3A+%22auto%22%7D\" target=\"_blank\">View on Vitessce.io</a>"
            ]
          },
          "metadata": {}
        },
        {
          "output_type": "stream",
          "name": "stdout",
          "text": [
            "\tUpdating 'spatial' component 'width' from 6.0 to 10.0\n",
            "\tUpdating 'layerController' component 'x' from 6.0 to 10.0\n",
            "\tUpdating 'layerController' component 'width' from 6.0 to 2\n",
            "\tUpdating 'obsSets' component 'x' from 6.0 to 10.0\n",
            "\tUpdating 'obsSets' component 'width' from 6.0 to 2\n",
            "26\n",
            "./images/Region_26_mask.pyramid.ome.tif\n"
          ]
        },
        {
          "output_type": "display_data",
          "data": {
            "text/plain": [
              "<IPython.core.display.HTML object>"
            ],
            "text/html": [
              "<a href=\"http://vitessce.io/#?theme=light&url=data:,%7B%22version%22%3A+%221.0.15%22%2C+%22name%22%3A+%22Transcriptomics+example%22%2C+%22description%22%3A+%22%22%2C+%22datasets%22%3A+%5B%7B%22uid%22%3A+%22A%22%2C+%22name%22%3A+%22Cell+segmentations%22%2C+%22files%22%3A+%5B%7B%22fileType%22%3A+%22raster.json%22%2C+%22options%22%3A+%7B%22schemaVersion%22%3A+%220.0.2%22%2C+%22images%22%3A+%5B%7B%22name%22%3A+%22Region+26+Segmentations%22%2C+%22type%22%3A+%22ome-tiff%22%2C+%22url%22%3A+%22http%3A%2F%2Flocalhost%3A8025%2FA%2F0%2F734631df-db84-4168-b79d-78b36446dd58%22%2C+%22metadata%22%3A+%7B%22omeTiffOffsetsUrl%22%3A+%22http%3A%2F%2Flocalhost%3A8025%2FA%2F0%2F69bd5e94-ed4e-4b59-89b0-6e53e3d03c70%22%2C+%22isBitmask%22%3A+true%7D%7D%5D%7D%7D%2C+%7B%22fileType%22%3A+%22obsSets.csv%22%2C+%22url%22%3A+%22http%3A%2F%2Flocalhost%3A8025%2FA%2F1%2F60eac3e0-0aa8-4607-bb77-2697df740c28%22%2C+%22options%22%3A+%7B%22obsIndex%22%3A+%22cell_id%22%2C+%22obsSets%22%3A+%5B%7B%22name%22%3A+%22Cell+Type%22%2C+%22column%22%3A+%22cell_type%22%7D%5D%7D%7D%5D%7D%5D%2C+%22coordinationSpace%22%3A+%7B%22dataset%22%3A+%7B%22A%22%3A+%22A%22%7D%2C+%22spatialZoom%22%3A+%7B%22A%22%3A+-3%7D%2C+%22spatialTargetX%22%3A+%7B%22A%22%3A+3000%7D%2C+%22spatialTargetY%22%3A+%7B%22A%22%3A+3000%7D%2C+%22spatialSegmentationLayer%22%3A+%7B%22A%22%3A+%5B%7B%22type%22%3A+%22bitmask%22%2C+%22index%22%3A+0%2C+%22visible%22%3A+true%2C+%22colormap%22%3A+null%2C+%22opacity%22%3A+1%2C+%22domainType%22%3A+%22Min%2FMax%22%2C+%22transparentColor%22%3A+null%2C+%22renderingMode%22%3A+%22Additive%22%2C+%22use3d%22%3A+false%2C+%22channels%22%3A+%5B%7B%22selection%22%3A+%7B%22c%22%3A+0%2C+%22t%22%3A+0%2C+%22z%22%3A+0%7D%2C+%22color%22%3A+%5B0%2C+0%2C+0%5D%2C+%22visible%22%3A+true%2C+%22slider%22%3A+%5B0%2C+1%5D%7D%2C+%7B%22selection%22%3A+%7B%22c%22%3A+1%2C+%22t%22%3A+0%2C+%22z%22%3A+0%7D%2C+%22color%22%3A+%5B0%2C+0%2C+0%5D%2C+%22visible%22%3A+true%2C+%22slider%22%3A+%5B1%2C+2%5D%7D%2C+%7B%22selection%22%3A+%7B%22c%22%3A+2%2C+%22t%22%3A+0%2C+%22z%22%3A+0%7D%2C+%22color%22%3A+%5B0%2C+0%2C+0%5D%2C+%22visible%22%3A+true%2C+%22slider%22%3A+%5B2%2C+3%5D%7D%5D%7D%5D%7D%2C+%22obsSetColor%22%3A+%7B%22A%22%3A+%5B%7B%22path%22%3A+%5B%22Cell+Type%22%2C+%22Adatpive+Immune+Enriched%22%5D%2C+%22color%22%3A+%5B255%2C+165%2C+0%5D%7D%2C+%7B%22path%22%3A+%5B%22Cell+Type%22%2C+%22CD66%2B+Mature+Epithelial%22%5D%2C+%22color%22%3A+%5B178%2C+34%2C+34%5D%7D%2C+%7B%22path%22%3A+%5B%22Cell+Type%22%2C+%22CD8%2B+T+Enriched+IEL%22%5D%2C+%22color%22%3A+%5B0%2C+128%2C+0%5D%7D%2C+%7B%22path%22%3A+%5B%22Cell+Type%22%2C+%22Glandular+Epithelial%22%5D%2C+%22color%22%3A+%5B255%2C+140%2C+0%5D%7D%2C+%7B%22path%22%3A+%5B%22Cell+Type%22%2C+%22Innate+Immune+Enriched%22%5D%2C+%22color%22%3A+%5B135%2C+206%2C+235%5D%7D%2C+%7B%22path%22%3A+%5B%22Cell+Type%22%2C+%22Inner+Follicle%22%5D%2C+%22color%22%3A+%5B0%2C+0%2C+255%5D%7D%2C+%7B%22path%22%3A+%5B%22Cell+Type%22%2C+%22Innervated+Smooth+Muscle%22%5D%2C+%22color%22%3A+%5B144%2C+238%2C+144%5D%7D%2C+%7B%22path%22%3A+%5B%22Cell+Type%22%2C+%22Innervated+Stroma%22%5D%2C+%22color%22%3A+%5B138%2C+43%2C+226%5D%7D%2C+%7B%22path%22%3A+%5B%22Cell+Type%22%2C+%22Macrovasculature%22%5D%2C+%22color%22%3A+%5B255%2C+215%2C+0%5D%7D%2C+%7B%22path%22%3A+%5B%22Cell+Type%22%2C+%22Mature+Epithelial%22%5D%2C+%22color%22%3A+%5B255%2C+0%2C+255%5D%7D%2C+%7B%22path%22%3A+%5B%22Cell+Type%22%2C+%22Microvasculature%22%5D%2C+%22color%22%3A+%5B0%2C+0%2C+0%5D%7D%2C+%7B%22path%22%3A+%5B%22Cell+Type%22%2C+%22Outer+Follicle%22%5D%2C+%22color%22%3A+%5B0%2C+0%2C+128%5D%7D%2C+%7B%22path%22%3A+%5B%22Cell+Type%22%2C+%22Paneth+Enriched%22%5D%2C+%22color%22%3A+%5B173%2C+216%2C+230%5D%7D%2C+%7B%22path%22%3A+%5B%22Cell+Type%22%2C+%22Plasma+Cell+Enriched%22%5D%2C+%22color%22%3A+%5B255%2C+255%2C+0%5D%7D%2C+%7B%22path%22%3A+%5B%22Cell+Type%22%2C+%22Secretory+Epithelial%22%5D%2C+%22color%22%3A+%5B154%2C+205%2C+50%5D%7D%2C+%7B%22path%22%3A+%5B%22Cell+Type%22%2C+%22Smooth+Muscle%22%5D%2C+%22color%22%3A+%5B255%2C+0%2C+0%5D%7D%2C+%7B%22path%22%3A+%5B%22Cell+Type%22%2C+%22Smooth+Muscle+%26+Innate+Immune%22%5D%2C+%22color%22%3A+%5B210%2C+180%2C+140%5D%7D%2C+%7B%22path%22%3A+%5B%22Cell+Type%22%2C+%22Stroma%22%5D%2C+%22color%22%3A+%5B128%2C+128%2C+128%5D%7D%2C+%7B%22path%22%3A+%5B%22Cell+Type%22%2C+%22Stroma+%26+Innate+Immune%22%5D%2C+%22color%22%3A+%5B165%2C+42%2C+42%5D%7D%2C+%7B%22path%22%3A+%5B%22Cell+Type%22%2C+%22Transit+Amplifying+Zone%22%5D%2C+%22color%22%3A+%5B0%2C+0%2C+139%5D%7D%5D%7D%7D%2C+%22layout%22%3A+%5B%7B%22component%22%3A+%22spatial%22%2C+%22coordinationScopes%22%3A+%7B%22dataset%22%3A+%22A%22%2C+%22spatialZoom%22%3A+%22A%22%2C+%22spatialTargetX%22%3A+%22A%22%2C+%22spatialTargetY%22%3A+%22A%22%2C+%22spatialSegmentationLayer%22%3A+%22A%22%2C+%22obsSetColor%22%3A+%22A%22%7D%2C+%22x%22%3A+0.0%2C+%22y%22%3A+0%2C+%22w%22%3A+6.0%2C+%22h%22%3A+12%7D%2C+%7B%22component%22%3A+%22layerController%22%2C+%22coordinationScopes%22%3A+%7B%22dataset%22%3A+%22A%22%2C+%22spatialZoom%22%3A+%22A%22%2C+%22spatialTargetX%22%3A+%22A%22%2C+%22spatialTargetY%22%3A+%22A%22%2C+%22spatialSegmentationLayer%22%3A+%22A%22%2C+%22obsSetColor%22%3A+%22A%22%7D%2C+%22x%22%3A+6.0%2C+%22y%22%3A+0.0%2C+%22w%22%3A+6.0%2C+%22h%22%3A+6.0%7D%2C+%7B%22component%22%3A+%22obsSets%22%2C+%22coordinationScopes%22%3A+%7B%22dataset%22%3A+%22A%22%2C+%22obsSetColor%22%3A+%22A%22%7D%2C+%22x%22%3A+6.0%2C+%22y%22%3A+6.0%2C+%22w%22%3A+6.0%2C+%22h%22%3A+6.0%7D%5D%2C+%22initStrategy%22%3A+%22auto%22%7D\" target=\"_blank\">View on Vitessce.io</a>"
            ]
          },
          "metadata": {}
        },
        {
          "output_type": "stream",
          "name": "stdout",
          "text": [
            "\tUpdating 'spatial' component 'width' from 6.0 to 10.0\n",
            "\tUpdating 'layerController' component 'x' from 6.0 to 10.0\n",
            "\tUpdating 'layerController' component 'width' from 6.0 to 2\n",
            "\tUpdating 'obsSets' component 'x' from 6.0 to 10.0\n",
            "\tUpdating 'obsSets' component 'width' from 6.0 to 2\n",
            "27\n",
            "./images/Region_27_mask.pyramid.ome.tif\n"
          ]
        },
        {
          "output_type": "display_data",
          "data": {
            "text/plain": [
              "<IPython.core.display.HTML object>"
            ],
            "text/html": [
              "<a href=\"http://vitessce.io/#?theme=light&url=data:,%7B%22version%22%3A+%221.0.15%22%2C+%22name%22%3A+%22Transcriptomics+example%22%2C+%22description%22%3A+%22%22%2C+%22datasets%22%3A+%5B%7B%22uid%22%3A+%22A%22%2C+%22name%22%3A+%22Cell+segmentations%22%2C+%22files%22%3A+%5B%7B%22fileType%22%3A+%22raster.json%22%2C+%22options%22%3A+%7B%22schemaVersion%22%3A+%220.0.2%22%2C+%22images%22%3A+%5B%7B%22name%22%3A+%22Region+27+Segmentations%22%2C+%22type%22%3A+%22ome-tiff%22%2C+%22url%22%3A+%22http%3A%2F%2Flocalhost%3A8026%2FA%2F0%2F190fd063-8803-4b29-b848-ea7eeac87379%22%2C+%22metadata%22%3A+%7B%22omeTiffOffsetsUrl%22%3A+%22http%3A%2F%2Flocalhost%3A8026%2FA%2F0%2F79722cca-4f6f-4c30-a126-11449819493c%22%2C+%22isBitmask%22%3A+true%7D%7D%5D%7D%7D%2C+%7B%22fileType%22%3A+%22obsSets.csv%22%2C+%22url%22%3A+%22http%3A%2F%2Flocalhost%3A8026%2FA%2F1%2F12058d32-e323-4f63-a927-dd35889d5e10%22%2C+%22options%22%3A+%7B%22obsIndex%22%3A+%22cell_id%22%2C+%22obsSets%22%3A+%5B%7B%22name%22%3A+%22Cell+Type%22%2C+%22column%22%3A+%22cell_type%22%7D%5D%7D%7D%5D%7D%5D%2C+%22coordinationSpace%22%3A+%7B%22dataset%22%3A+%7B%22A%22%3A+%22A%22%7D%2C+%22spatialZoom%22%3A+%7B%22A%22%3A+-3%7D%2C+%22spatialTargetX%22%3A+%7B%22A%22%3A+3000%7D%2C+%22spatialTargetY%22%3A+%7B%22A%22%3A+3000%7D%2C+%22spatialSegmentationLayer%22%3A+%7B%22A%22%3A+%5B%7B%22type%22%3A+%22bitmask%22%2C+%22index%22%3A+0%2C+%22visible%22%3A+true%2C+%22colormap%22%3A+null%2C+%22opacity%22%3A+1%2C+%22domainType%22%3A+%22Min%2FMax%22%2C+%22transparentColor%22%3A+null%2C+%22renderingMode%22%3A+%22Additive%22%2C+%22use3d%22%3A+false%2C+%22channels%22%3A+%5B%7B%22selection%22%3A+%7B%22c%22%3A+0%2C+%22t%22%3A+0%2C+%22z%22%3A+0%7D%2C+%22color%22%3A+%5B0%2C+0%2C+0%5D%2C+%22visible%22%3A+true%2C+%22slider%22%3A+%5B0%2C+1%5D%7D%2C+%7B%22selection%22%3A+%7B%22c%22%3A+1%2C+%22t%22%3A+0%2C+%22z%22%3A+0%7D%2C+%22color%22%3A+%5B0%2C+0%2C+0%5D%2C+%22visible%22%3A+true%2C+%22slider%22%3A+%5B1%2C+2%5D%7D%2C+%7B%22selection%22%3A+%7B%22c%22%3A+2%2C+%22t%22%3A+0%2C+%22z%22%3A+0%7D%2C+%22color%22%3A+%5B0%2C+0%2C+0%5D%2C+%22visible%22%3A+true%2C+%22slider%22%3A+%5B2%2C+3%5D%7D%5D%7D%5D%7D%2C+%22obsSetColor%22%3A+%7B%22A%22%3A+%5B%7B%22path%22%3A+%5B%22Cell+Type%22%2C+%22Adatpive+Immune+Enriched%22%5D%2C+%22color%22%3A+%5B255%2C+165%2C+0%5D%7D%2C+%7B%22path%22%3A+%5B%22Cell+Type%22%2C+%22CD66%2B+Mature+Epithelial%22%5D%2C+%22color%22%3A+%5B178%2C+34%2C+34%5D%7D%2C+%7B%22path%22%3A+%5B%22Cell+Type%22%2C+%22CD8%2B+T+Enriched+IEL%22%5D%2C+%22color%22%3A+%5B0%2C+128%2C+0%5D%7D%2C+%7B%22path%22%3A+%5B%22Cell+Type%22%2C+%22Glandular+Epithelial%22%5D%2C+%22color%22%3A+%5B255%2C+140%2C+0%5D%7D%2C+%7B%22path%22%3A+%5B%22Cell+Type%22%2C+%22Innate+Immune+Enriched%22%5D%2C+%22color%22%3A+%5B135%2C+206%2C+235%5D%7D%2C+%7B%22path%22%3A+%5B%22Cell+Type%22%2C+%22Inner+Follicle%22%5D%2C+%22color%22%3A+%5B0%2C+0%2C+255%5D%7D%2C+%7B%22path%22%3A+%5B%22Cell+Type%22%2C+%22Innervated+Smooth+Muscle%22%5D%2C+%22color%22%3A+%5B144%2C+238%2C+144%5D%7D%2C+%7B%22path%22%3A+%5B%22Cell+Type%22%2C+%22Innervated+Stroma%22%5D%2C+%22color%22%3A+%5B138%2C+43%2C+226%5D%7D%2C+%7B%22path%22%3A+%5B%22Cell+Type%22%2C+%22Macrovasculature%22%5D%2C+%22color%22%3A+%5B255%2C+215%2C+0%5D%7D%2C+%7B%22path%22%3A+%5B%22Cell+Type%22%2C+%22Mature+Epithelial%22%5D%2C+%22color%22%3A+%5B255%2C+0%2C+255%5D%7D%2C+%7B%22path%22%3A+%5B%22Cell+Type%22%2C+%22Microvasculature%22%5D%2C+%22color%22%3A+%5B0%2C+0%2C+0%5D%7D%2C+%7B%22path%22%3A+%5B%22Cell+Type%22%2C+%22Outer+Follicle%22%5D%2C+%22color%22%3A+%5B0%2C+0%2C+128%5D%7D%2C+%7B%22path%22%3A+%5B%22Cell+Type%22%2C+%22Paneth+Enriched%22%5D%2C+%22color%22%3A+%5B173%2C+216%2C+230%5D%7D%2C+%7B%22path%22%3A+%5B%22Cell+Type%22%2C+%22Plasma+Cell+Enriched%22%5D%2C+%22color%22%3A+%5B255%2C+255%2C+0%5D%7D%2C+%7B%22path%22%3A+%5B%22Cell+Type%22%2C+%22Secretory+Epithelial%22%5D%2C+%22color%22%3A+%5B154%2C+205%2C+50%5D%7D%2C+%7B%22path%22%3A+%5B%22Cell+Type%22%2C+%22Smooth+Muscle%22%5D%2C+%22color%22%3A+%5B255%2C+0%2C+0%5D%7D%2C+%7B%22path%22%3A+%5B%22Cell+Type%22%2C+%22Smooth+Muscle+%26+Innate+Immune%22%5D%2C+%22color%22%3A+%5B210%2C+180%2C+140%5D%7D%2C+%7B%22path%22%3A+%5B%22Cell+Type%22%2C+%22Stroma%22%5D%2C+%22color%22%3A+%5B128%2C+128%2C+128%5D%7D%2C+%7B%22path%22%3A+%5B%22Cell+Type%22%2C+%22Stroma+%26+Innate+Immune%22%5D%2C+%22color%22%3A+%5B165%2C+42%2C+42%5D%7D%2C+%7B%22path%22%3A+%5B%22Cell+Type%22%2C+%22Transit+Amplifying+Zone%22%5D%2C+%22color%22%3A+%5B0%2C+0%2C+139%5D%7D%5D%7D%7D%2C+%22layout%22%3A+%5B%7B%22component%22%3A+%22spatial%22%2C+%22coordinationScopes%22%3A+%7B%22dataset%22%3A+%22A%22%2C+%22spatialZoom%22%3A+%22A%22%2C+%22spatialTargetX%22%3A+%22A%22%2C+%22spatialTargetY%22%3A+%22A%22%2C+%22spatialSegmentationLayer%22%3A+%22A%22%2C+%22obsSetColor%22%3A+%22A%22%7D%2C+%22x%22%3A+0.0%2C+%22y%22%3A+0%2C+%22w%22%3A+6.0%2C+%22h%22%3A+12%7D%2C+%7B%22component%22%3A+%22layerController%22%2C+%22coordinationScopes%22%3A+%7B%22dataset%22%3A+%22A%22%2C+%22spatialZoom%22%3A+%22A%22%2C+%22spatialTargetX%22%3A+%22A%22%2C+%22spatialTargetY%22%3A+%22A%22%2C+%22spatialSegmentationLayer%22%3A+%22A%22%2C+%22obsSetColor%22%3A+%22A%22%7D%2C+%22x%22%3A+6.0%2C+%22y%22%3A+0.0%2C+%22w%22%3A+6.0%2C+%22h%22%3A+6.0%7D%2C+%7B%22component%22%3A+%22obsSets%22%2C+%22coordinationScopes%22%3A+%7B%22dataset%22%3A+%22A%22%2C+%22obsSetColor%22%3A+%22A%22%7D%2C+%22x%22%3A+6.0%2C+%22y%22%3A+6.0%2C+%22w%22%3A+6.0%2C+%22h%22%3A+6.0%7D%5D%2C+%22initStrategy%22%3A+%22auto%22%7D\" target=\"_blank\">View on Vitessce.io</a>"
            ]
          },
          "metadata": {}
        },
        {
          "output_type": "stream",
          "name": "stdout",
          "text": [
            "\tUpdating 'spatial' component 'width' from 6.0 to 10.0\n",
            "\tUpdating 'layerController' component 'x' from 6.0 to 10.0\n",
            "\tUpdating 'layerController' component 'width' from 6.0 to 2\n",
            "\tUpdating 'obsSets' component 'x' from 6.0 to 10.0\n",
            "\tUpdating 'obsSets' component 'width' from 6.0 to 2\n",
            "28\n",
            "./images/Region_28_mask.pyramid.ome.tif\n"
          ]
        },
        {
          "output_type": "display_data",
          "data": {
            "text/plain": [
              "<IPython.core.display.HTML object>"
            ],
            "text/html": [
              "<a href=\"http://vitessce.io/#?theme=light&url=data:,%7B%22version%22%3A+%221.0.15%22%2C+%22name%22%3A+%22Transcriptomics+example%22%2C+%22description%22%3A+%22%22%2C+%22datasets%22%3A+%5B%7B%22uid%22%3A+%22A%22%2C+%22name%22%3A+%22Cell+segmentations%22%2C+%22files%22%3A+%5B%7B%22fileType%22%3A+%22raster.json%22%2C+%22options%22%3A+%7B%22schemaVersion%22%3A+%220.0.2%22%2C+%22images%22%3A+%5B%7B%22name%22%3A+%22Region+28+Segmentations%22%2C+%22type%22%3A+%22ome-tiff%22%2C+%22url%22%3A+%22http%3A%2F%2Flocalhost%3A8027%2FA%2F0%2Fbbcf74e6-9ea2-4565-8384-a3a4fb126bde%22%2C+%22metadata%22%3A+%7B%22omeTiffOffsetsUrl%22%3A+%22http%3A%2F%2Flocalhost%3A8027%2FA%2F0%2F136f029a-53b0-4de8-b5df-4aaa083d15f9%22%2C+%22isBitmask%22%3A+true%7D%7D%5D%7D%7D%2C+%7B%22fileType%22%3A+%22obsSets.csv%22%2C+%22url%22%3A+%22http%3A%2F%2Flocalhost%3A8027%2FA%2F1%2Ff32da1a7-0a01-46d4-b88f-adc878b4da8b%22%2C+%22options%22%3A+%7B%22obsIndex%22%3A+%22cell_id%22%2C+%22obsSets%22%3A+%5B%7B%22name%22%3A+%22Cell+Type%22%2C+%22column%22%3A+%22cell_type%22%7D%5D%7D%7D%5D%7D%5D%2C+%22coordinationSpace%22%3A+%7B%22dataset%22%3A+%7B%22A%22%3A+%22A%22%7D%2C+%22spatialZoom%22%3A+%7B%22A%22%3A+-3%7D%2C+%22spatialTargetX%22%3A+%7B%22A%22%3A+3000%7D%2C+%22spatialTargetY%22%3A+%7B%22A%22%3A+3000%7D%2C+%22spatialSegmentationLayer%22%3A+%7B%22A%22%3A+%5B%7B%22type%22%3A+%22bitmask%22%2C+%22index%22%3A+0%2C+%22visible%22%3A+true%2C+%22colormap%22%3A+null%2C+%22opacity%22%3A+1%2C+%22domainType%22%3A+%22Min%2FMax%22%2C+%22transparentColor%22%3A+null%2C+%22renderingMode%22%3A+%22Additive%22%2C+%22use3d%22%3A+false%2C+%22channels%22%3A+%5B%7B%22selection%22%3A+%7B%22c%22%3A+0%2C+%22t%22%3A+0%2C+%22z%22%3A+0%7D%2C+%22color%22%3A+%5B0%2C+0%2C+0%5D%2C+%22visible%22%3A+true%2C+%22slider%22%3A+%5B0%2C+1%5D%7D%2C+%7B%22selection%22%3A+%7B%22c%22%3A+1%2C+%22t%22%3A+0%2C+%22z%22%3A+0%7D%2C+%22color%22%3A+%5B0%2C+0%2C+0%5D%2C+%22visible%22%3A+true%2C+%22slider%22%3A+%5B1%2C+2%5D%7D%2C+%7B%22selection%22%3A+%7B%22c%22%3A+2%2C+%22t%22%3A+0%2C+%22z%22%3A+0%7D%2C+%22color%22%3A+%5B0%2C+0%2C+0%5D%2C+%22visible%22%3A+true%2C+%22slider%22%3A+%5B2%2C+3%5D%7D%5D%7D%5D%7D%2C+%22obsSetColor%22%3A+%7B%22A%22%3A+%5B%7B%22path%22%3A+%5B%22Cell+Type%22%2C+%22Adatpive+Immune+Enriched%22%5D%2C+%22color%22%3A+%5B255%2C+165%2C+0%5D%7D%2C+%7B%22path%22%3A+%5B%22Cell+Type%22%2C+%22CD66%2B+Mature+Epithelial%22%5D%2C+%22color%22%3A+%5B178%2C+34%2C+34%5D%7D%2C+%7B%22path%22%3A+%5B%22Cell+Type%22%2C+%22CD8%2B+T+Enriched+IEL%22%5D%2C+%22color%22%3A+%5B0%2C+128%2C+0%5D%7D%2C+%7B%22path%22%3A+%5B%22Cell+Type%22%2C+%22Glandular+Epithelial%22%5D%2C+%22color%22%3A+%5B255%2C+140%2C+0%5D%7D%2C+%7B%22path%22%3A+%5B%22Cell+Type%22%2C+%22Innate+Immune+Enriched%22%5D%2C+%22color%22%3A+%5B135%2C+206%2C+235%5D%7D%2C+%7B%22path%22%3A+%5B%22Cell+Type%22%2C+%22Inner+Follicle%22%5D%2C+%22color%22%3A+%5B0%2C+0%2C+255%5D%7D%2C+%7B%22path%22%3A+%5B%22Cell+Type%22%2C+%22Innervated+Smooth+Muscle%22%5D%2C+%22color%22%3A+%5B144%2C+238%2C+144%5D%7D%2C+%7B%22path%22%3A+%5B%22Cell+Type%22%2C+%22Innervated+Stroma%22%5D%2C+%22color%22%3A+%5B138%2C+43%2C+226%5D%7D%2C+%7B%22path%22%3A+%5B%22Cell+Type%22%2C+%22Macrovasculature%22%5D%2C+%22color%22%3A+%5B255%2C+215%2C+0%5D%7D%2C+%7B%22path%22%3A+%5B%22Cell+Type%22%2C+%22Mature+Epithelial%22%5D%2C+%22color%22%3A+%5B255%2C+0%2C+255%5D%7D%2C+%7B%22path%22%3A+%5B%22Cell+Type%22%2C+%22Microvasculature%22%5D%2C+%22color%22%3A+%5B0%2C+0%2C+0%5D%7D%2C+%7B%22path%22%3A+%5B%22Cell+Type%22%2C+%22Outer+Follicle%22%5D%2C+%22color%22%3A+%5B0%2C+0%2C+128%5D%7D%2C+%7B%22path%22%3A+%5B%22Cell+Type%22%2C+%22Paneth+Enriched%22%5D%2C+%22color%22%3A+%5B173%2C+216%2C+230%5D%7D%2C+%7B%22path%22%3A+%5B%22Cell+Type%22%2C+%22Plasma+Cell+Enriched%22%5D%2C+%22color%22%3A+%5B255%2C+255%2C+0%5D%7D%2C+%7B%22path%22%3A+%5B%22Cell+Type%22%2C+%22Secretory+Epithelial%22%5D%2C+%22color%22%3A+%5B154%2C+205%2C+50%5D%7D%2C+%7B%22path%22%3A+%5B%22Cell+Type%22%2C+%22Smooth+Muscle%22%5D%2C+%22color%22%3A+%5B255%2C+0%2C+0%5D%7D%2C+%7B%22path%22%3A+%5B%22Cell+Type%22%2C+%22Smooth+Muscle+%26+Innate+Immune%22%5D%2C+%22color%22%3A+%5B210%2C+180%2C+140%5D%7D%2C+%7B%22path%22%3A+%5B%22Cell+Type%22%2C+%22Stroma%22%5D%2C+%22color%22%3A+%5B128%2C+128%2C+128%5D%7D%2C+%7B%22path%22%3A+%5B%22Cell+Type%22%2C+%22Stroma+%26+Innate+Immune%22%5D%2C+%22color%22%3A+%5B165%2C+42%2C+42%5D%7D%2C+%7B%22path%22%3A+%5B%22Cell+Type%22%2C+%22Transit+Amplifying+Zone%22%5D%2C+%22color%22%3A+%5B0%2C+0%2C+139%5D%7D%5D%7D%7D%2C+%22layout%22%3A+%5B%7B%22component%22%3A+%22spatial%22%2C+%22coordinationScopes%22%3A+%7B%22dataset%22%3A+%22A%22%2C+%22spatialZoom%22%3A+%22A%22%2C+%22spatialTargetX%22%3A+%22A%22%2C+%22spatialTargetY%22%3A+%22A%22%2C+%22spatialSegmentationLayer%22%3A+%22A%22%2C+%22obsSetColor%22%3A+%22A%22%7D%2C+%22x%22%3A+0.0%2C+%22y%22%3A+0%2C+%22w%22%3A+6.0%2C+%22h%22%3A+12%7D%2C+%7B%22component%22%3A+%22layerController%22%2C+%22coordinationScopes%22%3A+%7B%22dataset%22%3A+%22A%22%2C+%22spatialZoom%22%3A+%22A%22%2C+%22spatialTargetX%22%3A+%22A%22%2C+%22spatialTargetY%22%3A+%22A%22%2C+%22spatialSegmentationLayer%22%3A+%22A%22%2C+%22obsSetColor%22%3A+%22A%22%7D%2C+%22x%22%3A+6.0%2C+%22y%22%3A+0.0%2C+%22w%22%3A+6.0%2C+%22h%22%3A+6.0%7D%2C+%7B%22component%22%3A+%22obsSets%22%2C+%22coordinationScopes%22%3A+%7B%22dataset%22%3A+%22A%22%2C+%22obsSetColor%22%3A+%22A%22%7D%2C+%22x%22%3A+6.0%2C+%22y%22%3A+6.0%2C+%22w%22%3A+6.0%2C+%22h%22%3A+6.0%7D%5D%2C+%22initStrategy%22%3A+%22auto%22%7D\" target=\"_blank\">View on Vitessce.io</a>"
            ]
          },
          "metadata": {}
        },
        {
          "output_type": "stream",
          "name": "stdout",
          "text": [
            "\tUpdating 'spatial' component 'width' from 6.0 to 10.0\n",
            "\tUpdating 'layerController' component 'x' from 6.0 to 10.0\n",
            "\tUpdating 'layerController' component 'width' from 6.0 to 2\n",
            "\tUpdating 'obsSets' component 'x' from 6.0 to 10.0\n",
            "\tUpdating 'obsSets' component 'width' from 6.0 to 2\n",
            "29\n",
            "./images/Region_29_mask.pyramid.ome.tif\n"
          ]
        },
        {
          "output_type": "display_data",
          "data": {
            "text/plain": [
              "<IPython.core.display.HTML object>"
            ],
            "text/html": [
              "<a href=\"http://vitessce.io/#?theme=light&url=data:,%7B%22version%22%3A+%221.0.15%22%2C+%22name%22%3A+%22Transcriptomics+example%22%2C+%22description%22%3A+%22%22%2C+%22datasets%22%3A+%5B%7B%22uid%22%3A+%22A%22%2C+%22name%22%3A+%22Cell+segmentations%22%2C+%22files%22%3A+%5B%7B%22fileType%22%3A+%22raster.json%22%2C+%22options%22%3A+%7B%22schemaVersion%22%3A+%220.0.2%22%2C+%22images%22%3A+%5B%7B%22name%22%3A+%22Region+29+Segmentations%22%2C+%22type%22%3A+%22ome-tiff%22%2C+%22url%22%3A+%22http%3A%2F%2Flocalhost%3A8028%2FA%2F0%2F5a2df45e-7db4-48ec-aa17-1941fa16e19a%22%2C+%22metadata%22%3A+%7B%22omeTiffOffsetsUrl%22%3A+%22http%3A%2F%2Flocalhost%3A8028%2FA%2F0%2Fee0a376c-aeb7-4985-bc81-fe9359c76b5e%22%2C+%22isBitmask%22%3A+true%7D%7D%5D%7D%7D%2C+%7B%22fileType%22%3A+%22obsSets.csv%22%2C+%22url%22%3A+%22http%3A%2F%2Flocalhost%3A8028%2FA%2F1%2Fb61c9e7f-e8eb-444b-9e83-4857a5cf23c5%22%2C+%22options%22%3A+%7B%22obsIndex%22%3A+%22cell_id%22%2C+%22obsSets%22%3A+%5B%7B%22name%22%3A+%22Cell+Type%22%2C+%22column%22%3A+%22cell_type%22%7D%5D%7D%7D%5D%7D%5D%2C+%22coordinationSpace%22%3A+%7B%22dataset%22%3A+%7B%22A%22%3A+%22A%22%7D%2C+%22spatialZoom%22%3A+%7B%22A%22%3A+-3%7D%2C+%22spatialTargetX%22%3A+%7B%22A%22%3A+3000%7D%2C+%22spatialTargetY%22%3A+%7B%22A%22%3A+3000%7D%2C+%22spatialSegmentationLayer%22%3A+%7B%22A%22%3A+%5B%7B%22type%22%3A+%22bitmask%22%2C+%22index%22%3A+0%2C+%22visible%22%3A+true%2C+%22colormap%22%3A+null%2C+%22opacity%22%3A+1%2C+%22domainType%22%3A+%22Min%2FMax%22%2C+%22transparentColor%22%3A+null%2C+%22renderingMode%22%3A+%22Additive%22%2C+%22use3d%22%3A+false%2C+%22channels%22%3A+%5B%7B%22selection%22%3A+%7B%22c%22%3A+0%2C+%22t%22%3A+0%2C+%22z%22%3A+0%7D%2C+%22color%22%3A+%5B0%2C+0%2C+0%5D%2C+%22visible%22%3A+true%2C+%22slider%22%3A+%5B0%2C+1%5D%7D%2C+%7B%22selection%22%3A+%7B%22c%22%3A+1%2C+%22t%22%3A+0%2C+%22z%22%3A+0%7D%2C+%22color%22%3A+%5B0%2C+0%2C+0%5D%2C+%22visible%22%3A+true%2C+%22slider%22%3A+%5B1%2C+2%5D%7D%2C+%7B%22selection%22%3A+%7B%22c%22%3A+2%2C+%22t%22%3A+0%2C+%22z%22%3A+0%7D%2C+%22color%22%3A+%5B0%2C+0%2C+0%5D%2C+%22visible%22%3A+true%2C+%22slider%22%3A+%5B2%2C+3%5D%7D%5D%7D%5D%7D%2C+%22obsSetColor%22%3A+%7B%22A%22%3A+%5B%7B%22path%22%3A+%5B%22Cell+Type%22%2C+%22Adatpive+Immune+Enriched%22%5D%2C+%22color%22%3A+%5B255%2C+165%2C+0%5D%7D%2C+%7B%22path%22%3A+%5B%22Cell+Type%22%2C+%22CD66%2B+Mature+Epithelial%22%5D%2C+%22color%22%3A+%5B178%2C+34%2C+34%5D%7D%2C+%7B%22path%22%3A+%5B%22Cell+Type%22%2C+%22CD8%2B+T+Enriched+IEL%22%5D%2C+%22color%22%3A+%5B0%2C+128%2C+0%5D%7D%2C+%7B%22path%22%3A+%5B%22Cell+Type%22%2C+%22Glandular+Epithelial%22%5D%2C+%22color%22%3A+%5B255%2C+140%2C+0%5D%7D%2C+%7B%22path%22%3A+%5B%22Cell+Type%22%2C+%22Innate+Immune+Enriched%22%5D%2C+%22color%22%3A+%5B135%2C+206%2C+235%5D%7D%2C+%7B%22path%22%3A+%5B%22Cell+Type%22%2C+%22Inner+Follicle%22%5D%2C+%22color%22%3A+%5B0%2C+0%2C+255%5D%7D%2C+%7B%22path%22%3A+%5B%22Cell+Type%22%2C+%22Innervated+Smooth+Muscle%22%5D%2C+%22color%22%3A+%5B144%2C+238%2C+144%5D%7D%2C+%7B%22path%22%3A+%5B%22Cell+Type%22%2C+%22Innervated+Stroma%22%5D%2C+%22color%22%3A+%5B138%2C+43%2C+226%5D%7D%2C+%7B%22path%22%3A+%5B%22Cell+Type%22%2C+%22Macrovasculature%22%5D%2C+%22color%22%3A+%5B255%2C+215%2C+0%5D%7D%2C+%7B%22path%22%3A+%5B%22Cell+Type%22%2C+%22Mature+Epithelial%22%5D%2C+%22color%22%3A+%5B255%2C+0%2C+255%5D%7D%2C+%7B%22path%22%3A+%5B%22Cell+Type%22%2C+%22Microvasculature%22%5D%2C+%22color%22%3A+%5B0%2C+0%2C+0%5D%7D%2C+%7B%22path%22%3A+%5B%22Cell+Type%22%2C+%22Outer+Follicle%22%5D%2C+%22color%22%3A+%5B0%2C+0%2C+128%5D%7D%2C+%7B%22path%22%3A+%5B%22Cell+Type%22%2C+%22Paneth+Enriched%22%5D%2C+%22color%22%3A+%5B173%2C+216%2C+230%5D%7D%2C+%7B%22path%22%3A+%5B%22Cell+Type%22%2C+%22Plasma+Cell+Enriched%22%5D%2C+%22color%22%3A+%5B255%2C+255%2C+0%5D%7D%2C+%7B%22path%22%3A+%5B%22Cell+Type%22%2C+%22Secretory+Epithelial%22%5D%2C+%22color%22%3A+%5B154%2C+205%2C+50%5D%7D%2C+%7B%22path%22%3A+%5B%22Cell+Type%22%2C+%22Smooth+Muscle%22%5D%2C+%22color%22%3A+%5B255%2C+0%2C+0%5D%7D%2C+%7B%22path%22%3A+%5B%22Cell+Type%22%2C+%22Smooth+Muscle+%26+Innate+Immune%22%5D%2C+%22color%22%3A+%5B210%2C+180%2C+140%5D%7D%2C+%7B%22path%22%3A+%5B%22Cell+Type%22%2C+%22Stroma%22%5D%2C+%22color%22%3A+%5B128%2C+128%2C+128%5D%7D%2C+%7B%22path%22%3A+%5B%22Cell+Type%22%2C+%22Stroma+%26+Innate+Immune%22%5D%2C+%22color%22%3A+%5B165%2C+42%2C+42%5D%7D%2C+%7B%22path%22%3A+%5B%22Cell+Type%22%2C+%22Transit+Amplifying+Zone%22%5D%2C+%22color%22%3A+%5B0%2C+0%2C+139%5D%7D%5D%7D%7D%2C+%22layout%22%3A+%5B%7B%22component%22%3A+%22spatial%22%2C+%22coordinationScopes%22%3A+%7B%22dataset%22%3A+%22A%22%2C+%22spatialZoom%22%3A+%22A%22%2C+%22spatialTargetX%22%3A+%22A%22%2C+%22spatialTargetY%22%3A+%22A%22%2C+%22spatialSegmentationLayer%22%3A+%22A%22%2C+%22obsSetColor%22%3A+%22A%22%7D%2C+%22x%22%3A+0.0%2C+%22y%22%3A+0%2C+%22w%22%3A+6.0%2C+%22h%22%3A+12%7D%2C+%7B%22component%22%3A+%22layerController%22%2C+%22coordinationScopes%22%3A+%7B%22dataset%22%3A+%22A%22%2C+%22spatialZoom%22%3A+%22A%22%2C+%22spatialTargetX%22%3A+%22A%22%2C+%22spatialTargetY%22%3A+%22A%22%2C+%22spatialSegmentationLayer%22%3A+%22A%22%2C+%22obsSetColor%22%3A+%22A%22%7D%2C+%22x%22%3A+6.0%2C+%22y%22%3A+0.0%2C+%22w%22%3A+6.0%2C+%22h%22%3A+6.0%7D%2C+%7B%22component%22%3A+%22obsSets%22%2C+%22coordinationScopes%22%3A+%7B%22dataset%22%3A+%22A%22%2C+%22obsSetColor%22%3A+%22A%22%7D%2C+%22x%22%3A+6.0%2C+%22y%22%3A+6.0%2C+%22w%22%3A+6.0%2C+%22h%22%3A+6.0%7D%5D%2C+%22initStrategy%22%3A+%22auto%22%7D\" target=\"_blank\">View on Vitessce.io</a>"
            ]
          },
          "metadata": {}
        },
        {
          "output_type": "stream",
          "name": "stdout",
          "text": [
            "\tUpdating 'spatial' component 'width' from 6.0 to 10.0\n",
            "\tUpdating 'layerController' component 'x' from 6.0 to 10.0\n",
            "\tUpdating 'layerController' component 'width' from 6.0 to 2\n",
            "\tUpdating 'obsSets' component 'x' from 6.0 to 10.0\n",
            "\tUpdating 'obsSets' component 'width' from 6.0 to 2\n",
            "30\n",
            "./images/Region_30_mask.pyramid.ome.tif\n"
          ]
        },
        {
          "output_type": "display_data",
          "data": {
            "text/plain": [
              "<IPython.core.display.HTML object>"
            ],
            "text/html": [
              "<a href=\"http://vitessce.io/#?theme=light&url=data:,%7B%22version%22%3A+%221.0.15%22%2C+%22name%22%3A+%22Transcriptomics+example%22%2C+%22description%22%3A+%22%22%2C+%22datasets%22%3A+%5B%7B%22uid%22%3A+%22A%22%2C+%22name%22%3A+%22Cell+segmentations%22%2C+%22files%22%3A+%5B%7B%22fileType%22%3A+%22raster.json%22%2C+%22options%22%3A+%7B%22schemaVersion%22%3A+%220.0.2%22%2C+%22images%22%3A+%5B%7B%22name%22%3A+%22Region+30+Segmentations%22%2C+%22type%22%3A+%22ome-tiff%22%2C+%22url%22%3A+%22http%3A%2F%2Flocalhost%3A8029%2FA%2F0%2F747d2310-7e69-4528-8397-bcfb4e0cc373%22%2C+%22metadata%22%3A+%7B%22omeTiffOffsetsUrl%22%3A+%22http%3A%2F%2Flocalhost%3A8029%2FA%2F0%2F3b295e5d-972e-463a-a816-99e869cd00ce%22%2C+%22isBitmask%22%3A+true%7D%7D%5D%7D%7D%2C+%7B%22fileType%22%3A+%22obsSets.csv%22%2C+%22url%22%3A+%22http%3A%2F%2Flocalhost%3A8029%2FA%2F1%2F3a9538cf-23b9-480a-af4b-c9b1e970bcf0%22%2C+%22options%22%3A+%7B%22obsIndex%22%3A+%22cell_id%22%2C+%22obsSets%22%3A+%5B%7B%22name%22%3A+%22Cell+Type%22%2C+%22column%22%3A+%22cell_type%22%7D%5D%7D%7D%5D%7D%5D%2C+%22coordinationSpace%22%3A+%7B%22dataset%22%3A+%7B%22A%22%3A+%22A%22%7D%2C+%22spatialZoom%22%3A+%7B%22A%22%3A+-3%7D%2C+%22spatialTargetX%22%3A+%7B%22A%22%3A+3000%7D%2C+%22spatialTargetY%22%3A+%7B%22A%22%3A+3000%7D%2C+%22spatialSegmentationLayer%22%3A+%7B%22A%22%3A+%5B%7B%22type%22%3A+%22bitmask%22%2C+%22index%22%3A+0%2C+%22visible%22%3A+true%2C+%22colormap%22%3A+null%2C+%22opacity%22%3A+1%2C+%22domainType%22%3A+%22Min%2FMax%22%2C+%22transparentColor%22%3A+null%2C+%22renderingMode%22%3A+%22Additive%22%2C+%22use3d%22%3A+false%2C+%22channels%22%3A+%5B%7B%22selection%22%3A+%7B%22c%22%3A+0%2C+%22t%22%3A+0%2C+%22z%22%3A+0%7D%2C+%22color%22%3A+%5B0%2C+0%2C+0%5D%2C+%22visible%22%3A+true%2C+%22slider%22%3A+%5B0%2C+1%5D%7D%2C+%7B%22selection%22%3A+%7B%22c%22%3A+1%2C+%22t%22%3A+0%2C+%22z%22%3A+0%7D%2C+%22color%22%3A+%5B0%2C+0%2C+0%5D%2C+%22visible%22%3A+true%2C+%22slider%22%3A+%5B1%2C+2%5D%7D%2C+%7B%22selection%22%3A+%7B%22c%22%3A+2%2C+%22t%22%3A+0%2C+%22z%22%3A+0%7D%2C+%22color%22%3A+%5B0%2C+0%2C+0%5D%2C+%22visible%22%3A+true%2C+%22slider%22%3A+%5B2%2C+3%5D%7D%5D%7D%5D%7D%2C+%22obsSetColor%22%3A+%7B%22A%22%3A+%5B%7B%22path%22%3A+%5B%22Cell+Type%22%2C+%22Adatpive+Immune+Enriched%22%5D%2C+%22color%22%3A+%5B255%2C+165%2C+0%5D%7D%2C+%7B%22path%22%3A+%5B%22Cell+Type%22%2C+%22CD66%2B+Mature+Epithelial%22%5D%2C+%22color%22%3A+%5B178%2C+34%2C+34%5D%7D%2C+%7B%22path%22%3A+%5B%22Cell+Type%22%2C+%22CD8%2B+T+Enriched+IEL%22%5D%2C+%22color%22%3A+%5B0%2C+128%2C+0%5D%7D%2C+%7B%22path%22%3A+%5B%22Cell+Type%22%2C+%22Glandular+Epithelial%22%5D%2C+%22color%22%3A+%5B255%2C+140%2C+0%5D%7D%2C+%7B%22path%22%3A+%5B%22Cell+Type%22%2C+%22Innate+Immune+Enriched%22%5D%2C+%22color%22%3A+%5B135%2C+206%2C+235%5D%7D%2C+%7B%22path%22%3A+%5B%22Cell+Type%22%2C+%22Inner+Follicle%22%5D%2C+%22color%22%3A+%5B0%2C+0%2C+255%5D%7D%2C+%7B%22path%22%3A+%5B%22Cell+Type%22%2C+%22Innervated+Smooth+Muscle%22%5D%2C+%22color%22%3A+%5B144%2C+238%2C+144%5D%7D%2C+%7B%22path%22%3A+%5B%22Cell+Type%22%2C+%22Innervated+Stroma%22%5D%2C+%22color%22%3A+%5B138%2C+43%2C+226%5D%7D%2C+%7B%22path%22%3A+%5B%22Cell+Type%22%2C+%22Macrovasculature%22%5D%2C+%22color%22%3A+%5B255%2C+215%2C+0%5D%7D%2C+%7B%22path%22%3A+%5B%22Cell+Type%22%2C+%22Mature+Epithelial%22%5D%2C+%22color%22%3A+%5B255%2C+0%2C+255%5D%7D%2C+%7B%22path%22%3A+%5B%22Cell+Type%22%2C+%22Microvasculature%22%5D%2C+%22color%22%3A+%5B0%2C+0%2C+0%5D%7D%2C+%7B%22path%22%3A+%5B%22Cell+Type%22%2C+%22Outer+Follicle%22%5D%2C+%22color%22%3A+%5B0%2C+0%2C+128%5D%7D%2C+%7B%22path%22%3A+%5B%22Cell+Type%22%2C+%22Paneth+Enriched%22%5D%2C+%22color%22%3A+%5B173%2C+216%2C+230%5D%7D%2C+%7B%22path%22%3A+%5B%22Cell+Type%22%2C+%22Plasma+Cell+Enriched%22%5D%2C+%22color%22%3A+%5B255%2C+255%2C+0%5D%7D%2C+%7B%22path%22%3A+%5B%22Cell+Type%22%2C+%22Secretory+Epithelial%22%5D%2C+%22color%22%3A+%5B154%2C+205%2C+50%5D%7D%2C+%7B%22path%22%3A+%5B%22Cell+Type%22%2C+%22Smooth+Muscle%22%5D%2C+%22color%22%3A+%5B255%2C+0%2C+0%5D%7D%2C+%7B%22path%22%3A+%5B%22Cell+Type%22%2C+%22Smooth+Muscle+%26+Innate+Immune%22%5D%2C+%22color%22%3A+%5B210%2C+180%2C+140%5D%7D%2C+%7B%22path%22%3A+%5B%22Cell+Type%22%2C+%22Stroma%22%5D%2C+%22color%22%3A+%5B128%2C+128%2C+128%5D%7D%2C+%7B%22path%22%3A+%5B%22Cell+Type%22%2C+%22Stroma+%26+Innate+Immune%22%5D%2C+%22color%22%3A+%5B165%2C+42%2C+42%5D%7D%2C+%7B%22path%22%3A+%5B%22Cell+Type%22%2C+%22Transit+Amplifying+Zone%22%5D%2C+%22color%22%3A+%5B0%2C+0%2C+139%5D%7D%5D%7D%7D%2C+%22layout%22%3A+%5B%7B%22component%22%3A+%22spatial%22%2C+%22coordinationScopes%22%3A+%7B%22dataset%22%3A+%22A%22%2C+%22spatialZoom%22%3A+%22A%22%2C+%22spatialTargetX%22%3A+%22A%22%2C+%22spatialTargetY%22%3A+%22A%22%2C+%22spatialSegmentationLayer%22%3A+%22A%22%2C+%22obsSetColor%22%3A+%22A%22%7D%2C+%22x%22%3A+0.0%2C+%22y%22%3A+0%2C+%22w%22%3A+6.0%2C+%22h%22%3A+12%7D%2C+%7B%22component%22%3A+%22layerController%22%2C+%22coordinationScopes%22%3A+%7B%22dataset%22%3A+%22A%22%2C+%22spatialZoom%22%3A+%22A%22%2C+%22spatialTargetX%22%3A+%22A%22%2C+%22spatialTargetY%22%3A+%22A%22%2C+%22spatialSegmentationLayer%22%3A+%22A%22%2C+%22obsSetColor%22%3A+%22A%22%7D%2C+%22x%22%3A+6.0%2C+%22y%22%3A+0.0%2C+%22w%22%3A+6.0%2C+%22h%22%3A+6.0%7D%2C+%7B%22component%22%3A+%22obsSets%22%2C+%22coordinationScopes%22%3A+%7B%22dataset%22%3A+%22A%22%2C+%22obsSetColor%22%3A+%22A%22%7D%2C+%22x%22%3A+6.0%2C+%22y%22%3A+6.0%2C+%22w%22%3A+6.0%2C+%22h%22%3A+6.0%7D%5D%2C+%22initStrategy%22%3A+%22auto%22%7D\" target=\"_blank\">View on Vitessce.io</a>"
            ]
          },
          "metadata": {}
        },
        {
          "output_type": "stream",
          "name": "stdout",
          "text": [
            "\tUpdating 'spatial' component 'width' from 6.0 to 10.0\n",
            "\tUpdating 'layerController' component 'x' from 6.0 to 10.0\n",
            "\tUpdating 'layerController' component 'width' from 6.0 to 2\n",
            "\tUpdating 'obsSets' component 'x' from 6.0 to 10.0\n",
            "\tUpdating 'obsSets' component 'width' from 6.0 to 2\n",
            "31\n",
            "./images/Region_31_mask.pyramid.ome.tif\n"
          ]
        },
        {
          "output_type": "display_data",
          "data": {
            "text/plain": [
              "<IPython.core.display.HTML object>"
            ],
            "text/html": [
              "<a href=\"http://vitessce.io/#?theme=light&url=data:,%7B%22version%22%3A+%221.0.15%22%2C+%22name%22%3A+%22Transcriptomics+example%22%2C+%22description%22%3A+%22%22%2C+%22datasets%22%3A+%5B%7B%22uid%22%3A+%22A%22%2C+%22name%22%3A+%22Cell+segmentations%22%2C+%22files%22%3A+%5B%7B%22fileType%22%3A+%22raster.json%22%2C+%22options%22%3A+%7B%22schemaVersion%22%3A+%220.0.2%22%2C+%22images%22%3A+%5B%7B%22name%22%3A+%22Region+31+Segmentations%22%2C+%22type%22%3A+%22ome-tiff%22%2C+%22url%22%3A+%22http%3A%2F%2Flocalhost%3A8030%2FA%2F0%2F4d833189-200d-48f5-a671-5f07d7ad5207%22%2C+%22metadata%22%3A+%7B%22omeTiffOffsetsUrl%22%3A+%22http%3A%2F%2Flocalhost%3A8030%2FA%2F0%2Fd13ee0b4-748d-4ace-9df8-8d6f2a86f300%22%2C+%22isBitmask%22%3A+true%7D%7D%5D%7D%7D%2C+%7B%22fileType%22%3A+%22obsSets.csv%22%2C+%22url%22%3A+%22http%3A%2F%2Flocalhost%3A8030%2FA%2F1%2Fea4c7667-22e8-467a-bac2-1f9549f04613%22%2C+%22options%22%3A+%7B%22obsIndex%22%3A+%22cell_id%22%2C+%22obsSets%22%3A+%5B%7B%22name%22%3A+%22Cell+Type%22%2C+%22column%22%3A+%22cell_type%22%7D%5D%7D%7D%5D%7D%5D%2C+%22coordinationSpace%22%3A+%7B%22dataset%22%3A+%7B%22A%22%3A+%22A%22%7D%2C+%22spatialZoom%22%3A+%7B%22A%22%3A+-3%7D%2C+%22spatialTargetX%22%3A+%7B%22A%22%3A+3000%7D%2C+%22spatialTargetY%22%3A+%7B%22A%22%3A+3000%7D%2C+%22spatialSegmentationLayer%22%3A+%7B%22A%22%3A+%5B%7B%22type%22%3A+%22bitmask%22%2C+%22index%22%3A+0%2C+%22visible%22%3A+true%2C+%22colormap%22%3A+null%2C+%22opacity%22%3A+1%2C+%22domainType%22%3A+%22Min%2FMax%22%2C+%22transparentColor%22%3A+null%2C+%22renderingMode%22%3A+%22Additive%22%2C+%22use3d%22%3A+false%2C+%22channels%22%3A+%5B%7B%22selection%22%3A+%7B%22c%22%3A+0%2C+%22t%22%3A+0%2C+%22z%22%3A+0%7D%2C+%22color%22%3A+%5B0%2C+0%2C+0%5D%2C+%22visible%22%3A+true%2C+%22slider%22%3A+%5B0%2C+1%5D%7D%2C+%7B%22selection%22%3A+%7B%22c%22%3A+1%2C+%22t%22%3A+0%2C+%22z%22%3A+0%7D%2C+%22color%22%3A+%5B0%2C+0%2C+0%5D%2C+%22visible%22%3A+true%2C+%22slider%22%3A+%5B1%2C+2%5D%7D%2C+%7B%22selection%22%3A+%7B%22c%22%3A+2%2C+%22t%22%3A+0%2C+%22z%22%3A+0%7D%2C+%22color%22%3A+%5B0%2C+0%2C+0%5D%2C+%22visible%22%3A+true%2C+%22slider%22%3A+%5B2%2C+3%5D%7D%5D%7D%5D%7D%2C+%22obsSetColor%22%3A+%7B%22A%22%3A+%5B%7B%22path%22%3A+%5B%22Cell+Type%22%2C+%22Adatpive+Immune+Enriched%22%5D%2C+%22color%22%3A+%5B255%2C+165%2C+0%5D%7D%2C+%7B%22path%22%3A+%5B%22Cell+Type%22%2C+%22CD66%2B+Mature+Epithelial%22%5D%2C+%22color%22%3A+%5B178%2C+34%2C+34%5D%7D%2C+%7B%22path%22%3A+%5B%22Cell+Type%22%2C+%22CD8%2B+T+Enriched+IEL%22%5D%2C+%22color%22%3A+%5B0%2C+128%2C+0%5D%7D%2C+%7B%22path%22%3A+%5B%22Cell+Type%22%2C+%22Glandular+Epithelial%22%5D%2C+%22color%22%3A+%5B255%2C+140%2C+0%5D%7D%2C+%7B%22path%22%3A+%5B%22Cell+Type%22%2C+%22Innate+Immune+Enriched%22%5D%2C+%22color%22%3A+%5B135%2C+206%2C+235%5D%7D%2C+%7B%22path%22%3A+%5B%22Cell+Type%22%2C+%22Inner+Follicle%22%5D%2C+%22color%22%3A+%5B0%2C+0%2C+255%5D%7D%2C+%7B%22path%22%3A+%5B%22Cell+Type%22%2C+%22Innervated+Smooth+Muscle%22%5D%2C+%22color%22%3A+%5B144%2C+238%2C+144%5D%7D%2C+%7B%22path%22%3A+%5B%22Cell+Type%22%2C+%22Innervated+Stroma%22%5D%2C+%22color%22%3A+%5B138%2C+43%2C+226%5D%7D%2C+%7B%22path%22%3A+%5B%22Cell+Type%22%2C+%22Macrovasculature%22%5D%2C+%22color%22%3A+%5B255%2C+215%2C+0%5D%7D%2C+%7B%22path%22%3A+%5B%22Cell+Type%22%2C+%22Mature+Epithelial%22%5D%2C+%22color%22%3A+%5B255%2C+0%2C+255%5D%7D%2C+%7B%22path%22%3A+%5B%22Cell+Type%22%2C+%22Microvasculature%22%5D%2C+%22color%22%3A+%5B0%2C+0%2C+0%5D%7D%2C+%7B%22path%22%3A+%5B%22Cell+Type%22%2C+%22Outer+Follicle%22%5D%2C+%22color%22%3A+%5B0%2C+0%2C+128%5D%7D%2C+%7B%22path%22%3A+%5B%22Cell+Type%22%2C+%22Paneth+Enriched%22%5D%2C+%22color%22%3A+%5B173%2C+216%2C+230%5D%7D%2C+%7B%22path%22%3A+%5B%22Cell+Type%22%2C+%22Plasma+Cell+Enriched%22%5D%2C+%22color%22%3A+%5B255%2C+255%2C+0%5D%7D%2C+%7B%22path%22%3A+%5B%22Cell+Type%22%2C+%22Secretory+Epithelial%22%5D%2C+%22color%22%3A+%5B154%2C+205%2C+50%5D%7D%2C+%7B%22path%22%3A+%5B%22Cell+Type%22%2C+%22Smooth+Muscle%22%5D%2C+%22color%22%3A+%5B255%2C+0%2C+0%5D%7D%2C+%7B%22path%22%3A+%5B%22Cell+Type%22%2C+%22Smooth+Muscle+%26+Innate+Immune%22%5D%2C+%22color%22%3A+%5B210%2C+180%2C+140%5D%7D%2C+%7B%22path%22%3A+%5B%22Cell+Type%22%2C+%22Stroma%22%5D%2C+%22color%22%3A+%5B128%2C+128%2C+128%5D%7D%2C+%7B%22path%22%3A+%5B%22Cell+Type%22%2C+%22Stroma+%26+Innate+Immune%22%5D%2C+%22color%22%3A+%5B165%2C+42%2C+42%5D%7D%2C+%7B%22path%22%3A+%5B%22Cell+Type%22%2C+%22Transit+Amplifying+Zone%22%5D%2C+%22color%22%3A+%5B0%2C+0%2C+139%5D%7D%5D%7D%7D%2C+%22layout%22%3A+%5B%7B%22component%22%3A+%22spatial%22%2C+%22coordinationScopes%22%3A+%7B%22dataset%22%3A+%22A%22%2C+%22spatialZoom%22%3A+%22A%22%2C+%22spatialTargetX%22%3A+%22A%22%2C+%22spatialTargetY%22%3A+%22A%22%2C+%22spatialSegmentationLayer%22%3A+%22A%22%2C+%22obsSetColor%22%3A+%22A%22%7D%2C+%22x%22%3A+0.0%2C+%22y%22%3A+0%2C+%22w%22%3A+6.0%2C+%22h%22%3A+12%7D%2C+%7B%22component%22%3A+%22layerController%22%2C+%22coordinationScopes%22%3A+%7B%22dataset%22%3A+%22A%22%2C+%22spatialZoom%22%3A+%22A%22%2C+%22spatialTargetX%22%3A+%22A%22%2C+%22spatialTargetY%22%3A+%22A%22%2C+%22spatialSegmentationLayer%22%3A+%22A%22%2C+%22obsSetColor%22%3A+%22A%22%7D%2C+%22x%22%3A+6.0%2C+%22y%22%3A+0.0%2C+%22w%22%3A+6.0%2C+%22h%22%3A+6.0%7D%2C+%7B%22component%22%3A+%22obsSets%22%2C+%22coordinationScopes%22%3A+%7B%22dataset%22%3A+%22A%22%2C+%22obsSetColor%22%3A+%22A%22%7D%2C+%22x%22%3A+6.0%2C+%22y%22%3A+6.0%2C+%22w%22%3A+6.0%2C+%22h%22%3A+6.0%7D%5D%2C+%22initStrategy%22%3A+%22auto%22%7D\" target=\"_blank\">View on Vitessce.io</a>"
            ]
          },
          "metadata": {}
        },
        {
          "output_type": "stream",
          "name": "stdout",
          "text": [
            "\tUpdating 'spatial' component 'width' from 6.0 to 10.0\n",
            "\tUpdating 'layerController' component 'x' from 6.0 to 10.0\n",
            "\tUpdating 'layerController' component 'width' from 6.0 to 2\n",
            "\tUpdating 'obsSets' component 'x' from 6.0 to 10.0\n",
            "\tUpdating 'obsSets' component 'width' from 6.0 to 2\n",
            "32\n",
            "./images/Region_32_mask.pyramid.ome.tif\n"
          ]
        },
        {
          "output_type": "display_data",
          "data": {
            "text/plain": [
              "<IPython.core.display.HTML object>"
            ],
            "text/html": [
              "<a href=\"http://vitessce.io/#?theme=light&url=data:,%7B%22version%22%3A+%221.0.15%22%2C+%22name%22%3A+%22Transcriptomics+example%22%2C+%22description%22%3A+%22%22%2C+%22datasets%22%3A+%5B%7B%22uid%22%3A+%22A%22%2C+%22name%22%3A+%22Cell+segmentations%22%2C+%22files%22%3A+%5B%7B%22fileType%22%3A+%22raster.json%22%2C+%22options%22%3A+%7B%22schemaVersion%22%3A+%220.0.2%22%2C+%22images%22%3A+%5B%7B%22name%22%3A+%22Region+32+Segmentations%22%2C+%22type%22%3A+%22ome-tiff%22%2C+%22url%22%3A+%22http%3A%2F%2Flocalhost%3A8031%2FA%2F0%2F48d6fd80-30e9-4cc5-8557-b130225fd4cc%22%2C+%22metadata%22%3A+%7B%22omeTiffOffsetsUrl%22%3A+%22http%3A%2F%2Flocalhost%3A8031%2FA%2F0%2F2d1d1020-6ff2-446e-b77c-180c1eb34c50%22%2C+%22isBitmask%22%3A+true%7D%7D%5D%7D%7D%2C+%7B%22fileType%22%3A+%22obsSets.csv%22%2C+%22url%22%3A+%22http%3A%2F%2Flocalhost%3A8031%2FA%2F1%2F0d7d6d01-10ef-43d0-a28d-1a57ec80855a%22%2C+%22options%22%3A+%7B%22obsIndex%22%3A+%22cell_id%22%2C+%22obsSets%22%3A+%5B%7B%22name%22%3A+%22Cell+Type%22%2C+%22column%22%3A+%22cell_type%22%7D%5D%7D%7D%5D%7D%5D%2C+%22coordinationSpace%22%3A+%7B%22dataset%22%3A+%7B%22A%22%3A+%22A%22%7D%2C+%22spatialZoom%22%3A+%7B%22A%22%3A+-3%7D%2C+%22spatialTargetX%22%3A+%7B%22A%22%3A+3000%7D%2C+%22spatialTargetY%22%3A+%7B%22A%22%3A+3000%7D%2C+%22spatialSegmentationLayer%22%3A+%7B%22A%22%3A+%5B%7B%22type%22%3A+%22bitmask%22%2C+%22index%22%3A+0%2C+%22visible%22%3A+true%2C+%22colormap%22%3A+null%2C+%22opacity%22%3A+1%2C+%22domainType%22%3A+%22Min%2FMax%22%2C+%22transparentColor%22%3A+null%2C+%22renderingMode%22%3A+%22Additive%22%2C+%22use3d%22%3A+false%2C+%22channels%22%3A+%5B%7B%22selection%22%3A+%7B%22c%22%3A+0%2C+%22t%22%3A+0%2C+%22z%22%3A+0%7D%2C+%22color%22%3A+%5B0%2C+0%2C+0%5D%2C+%22visible%22%3A+true%2C+%22slider%22%3A+%5B0%2C+1%5D%7D%2C+%7B%22selection%22%3A+%7B%22c%22%3A+1%2C+%22t%22%3A+0%2C+%22z%22%3A+0%7D%2C+%22color%22%3A+%5B0%2C+0%2C+0%5D%2C+%22visible%22%3A+true%2C+%22slider%22%3A+%5B1%2C+2%5D%7D%2C+%7B%22selection%22%3A+%7B%22c%22%3A+2%2C+%22t%22%3A+0%2C+%22z%22%3A+0%7D%2C+%22color%22%3A+%5B0%2C+0%2C+0%5D%2C+%22visible%22%3A+true%2C+%22slider%22%3A+%5B2%2C+3%5D%7D%5D%7D%5D%7D%2C+%22obsSetColor%22%3A+%7B%22A%22%3A+%5B%7B%22path%22%3A+%5B%22Cell+Type%22%2C+%22Adatpive+Immune+Enriched%22%5D%2C+%22color%22%3A+%5B255%2C+165%2C+0%5D%7D%2C+%7B%22path%22%3A+%5B%22Cell+Type%22%2C+%22CD66%2B+Mature+Epithelial%22%5D%2C+%22color%22%3A+%5B178%2C+34%2C+34%5D%7D%2C+%7B%22path%22%3A+%5B%22Cell+Type%22%2C+%22CD8%2B+T+Enriched+IEL%22%5D%2C+%22color%22%3A+%5B0%2C+128%2C+0%5D%7D%2C+%7B%22path%22%3A+%5B%22Cell+Type%22%2C+%22Glandular+Epithelial%22%5D%2C+%22color%22%3A+%5B255%2C+140%2C+0%5D%7D%2C+%7B%22path%22%3A+%5B%22Cell+Type%22%2C+%22Innate+Immune+Enriched%22%5D%2C+%22color%22%3A+%5B135%2C+206%2C+235%5D%7D%2C+%7B%22path%22%3A+%5B%22Cell+Type%22%2C+%22Inner+Follicle%22%5D%2C+%22color%22%3A+%5B0%2C+0%2C+255%5D%7D%2C+%7B%22path%22%3A+%5B%22Cell+Type%22%2C+%22Innervated+Smooth+Muscle%22%5D%2C+%22color%22%3A+%5B144%2C+238%2C+144%5D%7D%2C+%7B%22path%22%3A+%5B%22Cell+Type%22%2C+%22Innervated+Stroma%22%5D%2C+%22color%22%3A+%5B138%2C+43%2C+226%5D%7D%2C+%7B%22path%22%3A+%5B%22Cell+Type%22%2C+%22Macrovasculature%22%5D%2C+%22color%22%3A+%5B255%2C+215%2C+0%5D%7D%2C+%7B%22path%22%3A+%5B%22Cell+Type%22%2C+%22Mature+Epithelial%22%5D%2C+%22color%22%3A+%5B255%2C+0%2C+255%5D%7D%2C+%7B%22path%22%3A+%5B%22Cell+Type%22%2C+%22Microvasculature%22%5D%2C+%22color%22%3A+%5B0%2C+0%2C+0%5D%7D%2C+%7B%22path%22%3A+%5B%22Cell+Type%22%2C+%22Outer+Follicle%22%5D%2C+%22color%22%3A+%5B0%2C+0%2C+128%5D%7D%2C+%7B%22path%22%3A+%5B%22Cell+Type%22%2C+%22Paneth+Enriched%22%5D%2C+%22color%22%3A+%5B173%2C+216%2C+230%5D%7D%2C+%7B%22path%22%3A+%5B%22Cell+Type%22%2C+%22Plasma+Cell+Enriched%22%5D%2C+%22color%22%3A+%5B255%2C+255%2C+0%5D%7D%2C+%7B%22path%22%3A+%5B%22Cell+Type%22%2C+%22Secretory+Epithelial%22%5D%2C+%22color%22%3A+%5B154%2C+205%2C+50%5D%7D%2C+%7B%22path%22%3A+%5B%22Cell+Type%22%2C+%22Smooth+Muscle%22%5D%2C+%22color%22%3A+%5B255%2C+0%2C+0%5D%7D%2C+%7B%22path%22%3A+%5B%22Cell+Type%22%2C+%22Smooth+Muscle+%26+Innate+Immune%22%5D%2C+%22color%22%3A+%5B210%2C+180%2C+140%5D%7D%2C+%7B%22path%22%3A+%5B%22Cell+Type%22%2C+%22Stroma%22%5D%2C+%22color%22%3A+%5B128%2C+128%2C+128%5D%7D%2C+%7B%22path%22%3A+%5B%22Cell+Type%22%2C+%22Stroma+%26+Innate+Immune%22%5D%2C+%22color%22%3A+%5B165%2C+42%2C+42%5D%7D%2C+%7B%22path%22%3A+%5B%22Cell+Type%22%2C+%22Transit+Amplifying+Zone%22%5D%2C+%22color%22%3A+%5B0%2C+0%2C+139%5D%7D%5D%7D%7D%2C+%22layout%22%3A+%5B%7B%22component%22%3A+%22spatial%22%2C+%22coordinationScopes%22%3A+%7B%22dataset%22%3A+%22A%22%2C+%22spatialZoom%22%3A+%22A%22%2C+%22spatialTargetX%22%3A+%22A%22%2C+%22spatialTargetY%22%3A+%22A%22%2C+%22spatialSegmentationLayer%22%3A+%22A%22%2C+%22obsSetColor%22%3A+%22A%22%7D%2C+%22x%22%3A+0.0%2C+%22y%22%3A+0%2C+%22w%22%3A+6.0%2C+%22h%22%3A+12%7D%2C+%7B%22component%22%3A+%22layerController%22%2C+%22coordinationScopes%22%3A+%7B%22dataset%22%3A+%22A%22%2C+%22spatialZoom%22%3A+%22A%22%2C+%22spatialTargetX%22%3A+%22A%22%2C+%22spatialTargetY%22%3A+%22A%22%2C+%22spatialSegmentationLayer%22%3A+%22A%22%2C+%22obsSetColor%22%3A+%22A%22%7D%2C+%22x%22%3A+6.0%2C+%22y%22%3A+0.0%2C+%22w%22%3A+6.0%2C+%22h%22%3A+6.0%7D%2C+%7B%22component%22%3A+%22obsSets%22%2C+%22coordinationScopes%22%3A+%7B%22dataset%22%3A+%22A%22%2C+%22obsSetColor%22%3A+%22A%22%7D%2C+%22x%22%3A+6.0%2C+%22y%22%3A+6.0%2C+%22w%22%3A+6.0%2C+%22h%22%3A+6.0%7D%5D%2C+%22initStrategy%22%3A+%22auto%22%7D\" target=\"_blank\">View on Vitessce.io</a>"
            ]
          },
          "metadata": {}
        },
        {
          "output_type": "stream",
          "name": "stdout",
          "text": [
            "\tUpdating 'spatial' component 'width' from 6.0 to 10.0\n",
            "\tUpdating 'layerController' component 'x' from 6.0 to 10.0\n",
            "\tUpdating 'layerController' component 'width' from 6.0 to 2\n",
            "\tUpdating 'obsSets' component 'x' from 6.0 to 10.0\n",
            "\tUpdating 'obsSets' component 'width' from 6.0 to 2\n",
            "33\n",
            "./images/Region_33_mask.pyramid.ome.tif\n"
          ]
        },
        {
          "output_type": "display_data",
          "data": {
            "text/plain": [
              "<IPython.core.display.HTML object>"
            ],
            "text/html": [
              "<a href=\"http://vitessce.io/#?theme=light&url=data:,%7B%22version%22%3A+%221.0.15%22%2C+%22name%22%3A+%22Transcriptomics+example%22%2C+%22description%22%3A+%22%22%2C+%22datasets%22%3A+%5B%7B%22uid%22%3A+%22A%22%2C+%22name%22%3A+%22Cell+segmentations%22%2C+%22files%22%3A+%5B%7B%22fileType%22%3A+%22raster.json%22%2C+%22options%22%3A+%7B%22schemaVersion%22%3A+%220.0.2%22%2C+%22images%22%3A+%5B%7B%22name%22%3A+%22Region+33+Segmentations%22%2C+%22type%22%3A+%22ome-tiff%22%2C+%22url%22%3A+%22http%3A%2F%2Flocalhost%3A8032%2FA%2F0%2Fd379faf4-59fd-4ca6-913f-6c6dcc38dd2f%22%2C+%22metadata%22%3A+%7B%22omeTiffOffsetsUrl%22%3A+%22http%3A%2F%2Flocalhost%3A8032%2FA%2F0%2F6e269d13-8696-43e9-82bf-25cc97829072%22%2C+%22isBitmask%22%3A+true%7D%7D%5D%7D%7D%2C+%7B%22fileType%22%3A+%22obsSets.csv%22%2C+%22url%22%3A+%22http%3A%2F%2Flocalhost%3A8032%2FA%2F1%2F417680d0-742d-44af-bc7e-99129770d9da%22%2C+%22options%22%3A+%7B%22obsIndex%22%3A+%22cell_id%22%2C+%22obsSets%22%3A+%5B%7B%22name%22%3A+%22Cell+Type%22%2C+%22column%22%3A+%22cell_type%22%7D%5D%7D%7D%5D%7D%5D%2C+%22coordinationSpace%22%3A+%7B%22dataset%22%3A+%7B%22A%22%3A+%22A%22%7D%2C+%22spatialZoom%22%3A+%7B%22A%22%3A+-3%7D%2C+%22spatialTargetX%22%3A+%7B%22A%22%3A+3000%7D%2C+%22spatialTargetY%22%3A+%7B%22A%22%3A+3000%7D%2C+%22spatialSegmentationLayer%22%3A+%7B%22A%22%3A+%5B%7B%22type%22%3A+%22bitmask%22%2C+%22index%22%3A+0%2C+%22visible%22%3A+true%2C+%22colormap%22%3A+null%2C+%22opacity%22%3A+1%2C+%22domainType%22%3A+%22Min%2FMax%22%2C+%22transparentColor%22%3A+null%2C+%22renderingMode%22%3A+%22Additive%22%2C+%22use3d%22%3A+false%2C+%22channels%22%3A+%5B%7B%22selection%22%3A+%7B%22c%22%3A+0%2C+%22t%22%3A+0%2C+%22z%22%3A+0%7D%2C+%22color%22%3A+%5B0%2C+0%2C+0%5D%2C+%22visible%22%3A+true%2C+%22slider%22%3A+%5B0%2C+1%5D%7D%2C+%7B%22selection%22%3A+%7B%22c%22%3A+1%2C+%22t%22%3A+0%2C+%22z%22%3A+0%7D%2C+%22color%22%3A+%5B0%2C+0%2C+0%5D%2C+%22visible%22%3A+true%2C+%22slider%22%3A+%5B1%2C+2%5D%7D%2C+%7B%22selection%22%3A+%7B%22c%22%3A+2%2C+%22t%22%3A+0%2C+%22z%22%3A+0%7D%2C+%22color%22%3A+%5B0%2C+0%2C+0%5D%2C+%22visible%22%3A+true%2C+%22slider%22%3A+%5B2%2C+3%5D%7D%5D%7D%5D%7D%2C+%22obsSetColor%22%3A+%7B%22A%22%3A+%5B%7B%22path%22%3A+%5B%22Cell+Type%22%2C+%22Adatpive+Immune+Enriched%22%5D%2C+%22color%22%3A+%5B255%2C+165%2C+0%5D%7D%2C+%7B%22path%22%3A+%5B%22Cell+Type%22%2C+%22CD66%2B+Mature+Epithelial%22%5D%2C+%22color%22%3A+%5B178%2C+34%2C+34%5D%7D%2C+%7B%22path%22%3A+%5B%22Cell+Type%22%2C+%22CD8%2B+T+Enriched+IEL%22%5D%2C+%22color%22%3A+%5B0%2C+128%2C+0%5D%7D%2C+%7B%22path%22%3A+%5B%22Cell+Type%22%2C+%22Glandular+Epithelial%22%5D%2C+%22color%22%3A+%5B255%2C+140%2C+0%5D%7D%2C+%7B%22path%22%3A+%5B%22Cell+Type%22%2C+%22Innate+Immune+Enriched%22%5D%2C+%22color%22%3A+%5B135%2C+206%2C+235%5D%7D%2C+%7B%22path%22%3A+%5B%22Cell+Type%22%2C+%22Inner+Follicle%22%5D%2C+%22color%22%3A+%5B0%2C+0%2C+255%5D%7D%2C+%7B%22path%22%3A+%5B%22Cell+Type%22%2C+%22Innervated+Smooth+Muscle%22%5D%2C+%22color%22%3A+%5B144%2C+238%2C+144%5D%7D%2C+%7B%22path%22%3A+%5B%22Cell+Type%22%2C+%22Innervated+Stroma%22%5D%2C+%22color%22%3A+%5B138%2C+43%2C+226%5D%7D%2C+%7B%22path%22%3A+%5B%22Cell+Type%22%2C+%22Macrovasculature%22%5D%2C+%22color%22%3A+%5B255%2C+215%2C+0%5D%7D%2C+%7B%22path%22%3A+%5B%22Cell+Type%22%2C+%22Mature+Epithelial%22%5D%2C+%22color%22%3A+%5B255%2C+0%2C+255%5D%7D%2C+%7B%22path%22%3A+%5B%22Cell+Type%22%2C+%22Microvasculature%22%5D%2C+%22color%22%3A+%5B0%2C+0%2C+0%5D%7D%2C+%7B%22path%22%3A+%5B%22Cell+Type%22%2C+%22Outer+Follicle%22%5D%2C+%22color%22%3A+%5B0%2C+0%2C+128%5D%7D%2C+%7B%22path%22%3A+%5B%22Cell+Type%22%2C+%22Paneth+Enriched%22%5D%2C+%22color%22%3A+%5B173%2C+216%2C+230%5D%7D%2C+%7B%22path%22%3A+%5B%22Cell+Type%22%2C+%22Plasma+Cell+Enriched%22%5D%2C+%22color%22%3A+%5B255%2C+255%2C+0%5D%7D%2C+%7B%22path%22%3A+%5B%22Cell+Type%22%2C+%22Secretory+Epithelial%22%5D%2C+%22color%22%3A+%5B154%2C+205%2C+50%5D%7D%2C+%7B%22path%22%3A+%5B%22Cell+Type%22%2C+%22Smooth+Muscle%22%5D%2C+%22color%22%3A+%5B255%2C+0%2C+0%5D%7D%2C+%7B%22path%22%3A+%5B%22Cell+Type%22%2C+%22Smooth+Muscle+%26+Innate+Immune%22%5D%2C+%22color%22%3A+%5B210%2C+180%2C+140%5D%7D%2C+%7B%22path%22%3A+%5B%22Cell+Type%22%2C+%22Stroma%22%5D%2C+%22color%22%3A+%5B128%2C+128%2C+128%5D%7D%2C+%7B%22path%22%3A+%5B%22Cell+Type%22%2C+%22Stroma+%26+Innate+Immune%22%5D%2C+%22color%22%3A+%5B165%2C+42%2C+42%5D%7D%2C+%7B%22path%22%3A+%5B%22Cell+Type%22%2C+%22Transit+Amplifying+Zone%22%5D%2C+%22color%22%3A+%5B0%2C+0%2C+139%5D%7D%5D%7D%7D%2C+%22layout%22%3A+%5B%7B%22component%22%3A+%22spatial%22%2C+%22coordinationScopes%22%3A+%7B%22dataset%22%3A+%22A%22%2C+%22spatialZoom%22%3A+%22A%22%2C+%22spatialTargetX%22%3A+%22A%22%2C+%22spatialTargetY%22%3A+%22A%22%2C+%22spatialSegmentationLayer%22%3A+%22A%22%2C+%22obsSetColor%22%3A+%22A%22%7D%2C+%22x%22%3A+0.0%2C+%22y%22%3A+0%2C+%22w%22%3A+6.0%2C+%22h%22%3A+12%7D%2C+%7B%22component%22%3A+%22layerController%22%2C+%22coordinationScopes%22%3A+%7B%22dataset%22%3A+%22A%22%2C+%22spatialZoom%22%3A+%22A%22%2C+%22spatialTargetX%22%3A+%22A%22%2C+%22spatialTargetY%22%3A+%22A%22%2C+%22spatialSegmentationLayer%22%3A+%22A%22%2C+%22obsSetColor%22%3A+%22A%22%7D%2C+%22x%22%3A+6.0%2C+%22y%22%3A+0.0%2C+%22w%22%3A+6.0%2C+%22h%22%3A+6.0%7D%2C+%7B%22component%22%3A+%22obsSets%22%2C+%22coordinationScopes%22%3A+%7B%22dataset%22%3A+%22A%22%2C+%22obsSetColor%22%3A+%22A%22%7D%2C+%22x%22%3A+6.0%2C+%22y%22%3A+6.0%2C+%22w%22%3A+6.0%2C+%22h%22%3A+6.0%7D%5D%2C+%22initStrategy%22%3A+%22auto%22%7D\" target=\"_blank\">View on Vitessce.io</a>"
            ]
          },
          "metadata": {}
        },
        {
          "output_type": "stream",
          "name": "stdout",
          "text": [
            "\tUpdating 'spatial' component 'width' from 6.0 to 10.0\n",
            "\tUpdating 'layerController' component 'x' from 6.0 to 10.0\n",
            "\tUpdating 'layerController' component 'width' from 6.0 to 2\n",
            "\tUpdating 'obsSets' component 'x' from 6.0 to 10.0\n",
            "\tUpdating 'obsSets' component 'width' from 6.0 to 2\n",
            "34\n",
            "./images/Region_34_mask.pyramid.ome.tif\n"
          ]
        },
        {
          "output_type": "display_data",
          "data": {
            "text/plain": [
              "<IPython.core.display.HTML object>"
            ],
            "text/html": [
              "<a href=\"http://vitessce.io/#?theme=light&url=data:,%7B%22version%22%3A+%221.0.15%22%2C+%22name%22%3A+%22Transcriptomics+example%22%2C+%22description%22%3A+%22%22%2C+%22datasets%22%3A+%5B%7B%22uid%22%3A+%22A%22%2C+%22name%22%3A+%22Cell+segmentations%22%2C+%22files%22%3A+%5B%7B%22fileType%22%3A+%22raster.json%22%2C+%22options%22%3A+%7B%22schemaVersion%22%3A+%220.0.2%22%2C+%22images%22%3A+%5B%7B%22name%22%3A+%22Region+34+Segmentations%22%2C+%22type%22%3A+%22ome-tiff%22%2C+%22url%22%3A+%22http%3A%2F%2Flocalhost%3A8033%2FA%2F0%2Fc7a117d7-bf38-4b28-b73c-b146051f329e%22%2C+%22metadata%22%3A+%7B%22omeTiffOffsetsUrl%22%3A+%22http%3A%2F%2Flocalhost%3A8033%2FA%2F0%2F3be0b07c-a546-4229-bb0e-e8889dcf406d%22%2C+%22isBitmask%22%3A+true%7D%7D%5D%7D%7D%2C+%7B%22fileType%22%3A+%22obsSets.csv%22%2C+%22url%22%3A+%22http%3A%2F%2Flocalhost%3A8033%2FA%2F1%2F579e458a-bea6-4376-9cdf-60cb8cee79c7%22%2C+%22options%22%3A+%7B%22obsIndex%22%3A+%22cell_id%22%2C+%22obsSets%22%3A+%5B%7B%22name%22%3A+%22Cell+Type%22%2C+%22column%22%3A+%22cell_type%22%7D%5D%7D%7D%5D%7D%5D%2C+%22coordinationSpace%22%3A+%7B%22dataset%22%3A+%7B%22A%22%3A+%22A%22%7D%2C+%22spatialZoom%22%3A+%7B%22A%22%3A+-3%7D%2C+%22spatialTargetX%22%3A+%7B%22A%22%3A+3000%7D%2C+%22spatialTargetY%22%3A+%7B%22A%22%3A+3000%7D%2C+%22spatialSegmentationLayer%22%3A+%7B%22A%22%3A+%5B%7B%22type%22%3A+%22bitmask%22%2C+%22index%22%3A+0%2C+%22visible%22%3A+true%2C+%22colormap%22%3A+null%2C+%22opacity%22%3A+1%2C+%22domainType%22%3A+%22Min%2FMax%22%2C+%22transparentColor%22%3A+null%2C+%22renderingMode%22%3A+%22Additive%22%2C+%22use3d%22%3A+false%2C+%22channels%22%3A+%5B%7B%22selection%22%3A+%7B%22c%22%3A+0%2C+%22t%22%3A+0%2C+%22z%22%3A+0%7D%2C+%22color%22%3A+%5B0%2C+0%2C+0%5D%2C+%22visible%22%3A+true%2C+%22slider%22%3A+%5B0%2C+1%5D%7D%2C+%7B%22selection%22%3A+%7B%22c%22%3A+1%2C+%22t%22%3A+0%2C+%22z%22%3A+0%7D%2C+%22color%22%3A+%5B0%2C+0%2C+0%5D%2C+%22visible%22%3A+true%2C+%22slider%22%3A+%5B1%2C+2%5D%7D%2C+%7B%22selection%22%3A+%7B%22c%22%3A+2%2C+%22t%22%3A+0%2C+%22z%22%3A+0%7D%2C+%22color%22%3A+%5B0%2C+0%2C+0%5D%2C+%22visible%22%3A+true%2C+%22slider%22%3A+%5B2%2C+3%5D%7D%5D%7D%5D%7D%2C+%22obsSetColor%22%3A+%7B%22A%22%3A+%5B%7B%22path%22%3A+%5B%22Cell+Type%22%2C+%22Adatpive+Immune+Enriched%22%5D%2C+%22color%22%3A+%5B255%2C+165%2C+0%5D%7D%2C+%7B%22path%22%3A+%5B%22Cell+Type%22%2C+%22CD66%2B+Mature+Epithelial%22%5D%2C+%22color%22%3A+%5B178%2C+34%2C+34%5D%7D%2C+%7B%22path%22%3A+%5B%22Cell+Type%22%2C+%22CD8%2B+T+Enriched+IEL%22%5D%2C+%22color%22%3A+%5B0%2C+128%2C+0%5D%7D%2C+%7B%22path%22%3A+%5B%22Cell+Type%22%2C+%22Glandular+Epithelial%22%5D%2C+%22color%22%3A+%5B255%2C+140%2C+0%5D%7D%2C+%7B%22path%22%3A+%5B%22Cell+Type%22%2C+%22Innate+Immune+Enriched%22%5D%2C+%22color%22%3A+%5B135%2C+206%2C+235%5D%7D%2C+%7B%22path%22%3A+%5B%22Cell+Type%22%2C+%22Inner+Follicle%22%5D%2C+%22color%22%3A+%5B0%2C+0%2C+255%5D%7D%2C+%7B%22path%22%3A+%5B%22Cell+Type%22%2C+%22Innervated+Smooth+Muscle%22%5D%2C+%22color%22%3A+%5B144%2C+238%2C+144%5D%7D%2C+%7B%22path%22%3A+%5B%22Cell+Type%22%2C+%22Innervated+Stroma%22%5D%2C+%22color%22%3A+%5B138%2C+43%2C+226%5D%7D%2C+%7B%22path%22%3A+%5B%22Cell+Type%22%2C+%22Macrovasculature%22%5D%2C+%22color%22%3A+%5B255%2C+215%2C+0%5D%7D%2C+%7B%22path%22%3A+%5B%22Cell+Type%22%2C+%22Mature+Epithelial%22%5D%2C+%22color%22%3A+%5B255%2C+0%2C+255%5D%7D%2C+%7B%22path%22%3A+%5B%22Cell+Type%22%2C+%22Microvasculature%22%5D%2C+%22color%22%3A+%5B0%2C+0%2C+0%5D%7D%2C+%7B%22path%22%3A+%5B%22Cell+Type%22%2C+%22Outer+Follicle%22%5D%2C+%22color%22%3A+%5B0%2C+0%2C+128%5D%7D%2C+%7B%22path%22%3A+%5B%22Cell+Type%22%2C+%22Paneth+Enriched%22%5D%2C+%22color%22%3A+%5B173%2C+216%2C+230%5D%7D%2C+%7B%22path%22%3A+%5B%22Cell+Type%22%2C+%22Plasma+Cell+Enriched%22%5D%2C+%22color%22%3A+%5B255%2C+255%2C+0%5D%7D%2C+%7B%22path%22%3A+%5B%22Cell+Type%22%2C+%22Secretory+Epithelial%22%5D%2C+%22color%22%3A+%5B154%2C+205%2C+50%5D%7D%2C+%7B%22path%22%3A+%5B%22Cell+Type%22%2C+%22Smooth+Muscle%22%5D%2C+%22color%22%3A+%5B255%2C+0%2C+0%5D%7D%2C+%7B%22path%22%3A+%5B%22Cell+Type%22%2C+%22Smooth+Muscle+%26+Innate+Immune%22%5D%2C+%22color%22%3A+%5B210%2C+180%2C+140%5D%7D%2C+%7B%22path%22%3A+%5B%22Cell+Type%22%2C+%22Stroma%22%5D%2C+%22color%22%3A+%5B128%2C+128%2C+128%5D%7D%2C+%7B%22path%22%3A+%5B%22Cell+Type%22%2C+%22Stroma+%26+Innate+Immune%22%5D%2C+%22color%22%3A+%5B165%2C+42%2C+42%5D%7D%2C+%7B%22path%22%3A+%5B%22Cell+Type%22%2C+%22Transit+Amplifying+Zone%22%5D%2C+%22color%22%3A+%5B0%2C+0%2C+139%5D%7D%5D%7D%7D%2C+%22layout%22%3A+%5B%7B%22component%22%3A+%22spatial%22%2C+%22coordinationScopes%22%3A+%7B%22dataset%22%3A+%22A%22%2C+%22spatialZoom%22%3A+%22A%22%2C+%22spatialTargetX%22%3A+%22A%22%2C+%22spatialTargetY%22%3A+%22A%22%2C+%22spatialSegmentationLayer%22%3A+%22A%22%2C+%22obsSetColor%22%3A+%22A%22%7D%2C+%22x%22%3A+0.0%2C+%22y%22%3A+0%2C+%22w%22%3A+6.0%2C+%22h%22%3A+12%7D%2C+%7B%22component%22%3A+%22layerController%22%2C+%22coordinationScopes%22%3A+%7B%22dataset%22%3A+%22A%22%2C+%22spatialZoom%22%3A+%22A%22%2C+%22spatialTargetX%22%3A+%22A%22%2C+%22spatialTargetY%22%3A+%22A%22%2C+%22spatialSegmentationLayer%22%3A+%22A%22%2C+%22obsSetColor%22%3A+%22A%22%7D%2C+%22x%22%3A+6.0%2C+%22y%22%3A+0.0%2C+%22w%22%3A+6.0%2C+%22h%22%3A+6.0%7D%2C+%7B%22component%22%3A+%22obsSets%22%2C+%22coordinationScopes%22%3A+%7B%22dataset%22%3A+%22A%22%2C+%22obsSetColor%22%3A+%22A%22%7D%2C+%22x%22%3A+6.0%2C+%22y%22%3A+6.0%2C+%22w%22%3A+6.0%2C+%22h%22%3A+6.0%7D%5D%2C+%22initStrategy%22%3A+%22auto%22%7D\" target=\"_blank\">View on Vitessce.io</a>"
            ]
          },
          "metadata": {}
        },
        {
          "output_type": "stream",
          "name": "stdout",
          "text": [
            "\tUpdating 'spatial' component 'width' from 6.0 to 10.0\n",
            "\tUpdating 'layerController' component 'x' from 6.0 to 10.0\n",
            "\tUpdating 'layerController' component 'width' from 6.0 to 2\n",
            "\tUpdating 'obsSets' component 'x' from 6.0 to 10.0\n",
            "\tUpdating 'obsSets' component 'width' from 6.0 to 2\n",
            "35\n",
            "./images/Region_35_mask.pyramid.ome.tif\n"
          ]
        },
        {
          "output_type": "display_data",
          "data": {
            "text/plain": [
              "<IPython.core.display.HTML object>"
            ],
            "text/html": [
              "<a href=\"http://vitessce.io/#?theme=light&url=data:,%7B%22version%22%3A+%221.0.15%22%2C+%22name%22%3A+%22Transcriptomics+example%22%2C+%22description%22%3A+%22%22%2C+%22datasets%22%3A+%5B%7B%22uid%22%3A+%22A%22%2C+%22name%22%3A+%22Cell+segmentations%22%2C+%22files%22%3A+%5B%7B%22fileType%22%3A+%22raster.json%22%2C+%22options%22%3A+%7B%22schemaVersion%22%3A+%220.0.2%22%2C+%22images%22%3A+%5B%7B%22name%22%3A+%22Region+35+Segmentations%22%2C+%22type%22%3A+%22ome-tiff%22%2C+%22url%22%3A+%22http%3A%2F%2Flocalhost%3A8034%2FA%2F0%2F0678e3ec-794b-4c54-b4de-11ab5ca1a68d%22%2C+%22metadata%22%3A+%7B%22omeTiffOffsetsUrl%22%3A+%22http%3A%2F%2Flocalhost%3A8034%2FA%2F0%2F82b8735b-22fe-46d6-8316-74f165edcd47%22%2C+%22isBitmask%22%3A+true%7D%7D%5D%7D%7D%2C+%7B%22fileType%22%3A+%22obsSets.csv%22%2C+%22url%22%3A+%22http%3A%2F%2Flocalhost%3A8034%2FA%2F1%2F8d843534-7ad8-4169-ad8b-5aa5f2c05a99%22%2C+%22options%22%3A+%7B%22obsIndex%22%3A+%22cell_id%22%2C+%22obsSets%22%3A+%5B%7B%22name%22%3A+%22Cell+Type%22%2C+%22column%22%3A+%22cell_type%22%7D%5D%7D%7D%5D%7D%5D%2C+%22coordinationSpace%22%3A+%7B%22dataset%22%3A+%7B%22A%22%3A+%22A%22%7D%2C+%22spatialZoom%22%3A+%7B%22A%22%3A+-3%7D%2C+%22spatialTargetX%22%3A+%7B%22A%22%3A+3000%7D%2C+%22spatialTargetY%22%3A+%7B%22A%22%3A+3000%7D%2C+%22spatialSegmentationLayer%22%3A+%7B%22A%22%3A+%5B%7B%22type%22%3A+%22bitmask%22%2C+%22index%22%3A+0%2C+%22visible%22%3A+true%2C+%22colormap%22%3A+null%2C+%22opacity%22%3A+1%2C+%22domainType%22%3A+%22Min%2FMax%22%2C+%22transparentColor%22%3A+null%2C+%22renderingMode%22%3A+%22Additive%22%2C+%22use3d%22%3A+false%2C+%22channels%22%3A+%5B%7B%22selection%22%3A+%7B%22c%22%3A+0%2C+%22t%22%3A+0%2C+%22z%22%3A+0%7D%2C+%22color%22%3A+%5B0%2C+0%2C+0%5D%2C+%22visible%22%3A+true%2C+%22slider%22%3A+%5B0%2C+1%5D%7D%2C+%7B%22selection%22%3A+%7B%22c%22%3A+1%2C+%22t%22%3A+0%2C+%22z%22%3A+0%7D%2C+%22color%22%3A+%5B0%2C+0%2C+0%5D%2C+%22visible%22%3A+true%2C+%22slider%22%3A+%5B1%2C+2%5D%7D%2C+%7B%22selection%22%3A+%7B%22c%22%3A+2%2C+%22t%22%3A+0%2C+%22z%22%3A+0%7D%2C+%22color%22%3A+%5B0%2C+0%2C+0%5D%2C+%22visible%22%3A+true%2C+%22slider%22%3A+%5B2%2C+3%5D%7D%5D%7D%5D%7D%2C+%22obsSetColor%22%3A+%7B%22A%22%3A+%5B%7B%22path%22%3A+%5B%22Cell+Type%22%2C+%22Adatpive+Immune+Enriched%22%5D%2C+%22color%22%3A+%5B255%2C+165%2C+0%5D%7D%2C+%7B%22path%22%3A+%5B%22Cell+Type%22%2C+%22CD66%2B+Mature+Epithelial%22%5D%2C+%22color%22%3A+%5B178%2C+34%2C+34%5D%7D%2C+%7B%22path%22%3A+%5B%22Cell+Type%22%2C+%22CD8%2B+T+Enriched+IEL%22%5D%2C+%22color%22%3A+%5B0%2C+128%2C+0%5D%7D%2C+%7B%22path%22%3A+%5B%22Cell+Type%22%2C+%22Glandular+Epithelial%22%5D%2C+%22color%22%3A+%5B255%2C+140%2C+0%5D%7D%2C+%7B%22path%22%3A+%5B%22Cell+Type%22%2C+%22Innate+Immune+Enriched%22%5D%2C+%22color%22%3A+%5B135%2C+206%2C+235%5D%7D%2C+%7B%22path%22%3A+%5B%22Cell+Type%22%2C+%22Inner+Follicle%22%5D%2C+%22color%22%3A+%5B0%2C+0%2C+255%5D%7D%2C+%7B%22path%22%3A+%5B%22Cell+Type%22%2C+%22Innervated+Smooth+Muscle%22%5D%2C+%22color%22%3A+%5B144%2C+238%2C+144%5D%7D%2C+%7B%22path%22%3A+%5B%22Cell+Type%22%2C+%22Innervated+Stroma%22%5D%2C+%22color%22%3A+%5B138%2C+43%2C+226%5D%7D%2C+%7B%22path%22%3A+%5B%22Cell+Type%22%2C+%22Macrovasculature%22%5D%2C+%22color%22%3A+%5B255%2C+215%2C+0%5D%7D%2C+%7B%22path%22%3A+%5B%22Cell+Type%22%2C+%22Mature+Epithelial%22%5D%2C+%22color%22%3A+%5B255%2C+0%2C+255%5D%7D%2C+%7B%22path%22%3A+%5B%22Cell+Type%22%2C+%22Microvasculature%22%5D%2C+%22color%22%3A+%5B0%2C+0%2C+0%5D%7D%2C+%7B%22path%22%3A+%5B%22Cell+Type%22%2C+%22Outer+Follicle%22%5D%2C+%22color%22%3A+%5B0%2C+0%2C+128%5D%7D%2C+%7B%22path%22%3A+%5B%22Cell+Type%22%2C+%22Paneth+Enriched%22%5D%2C+%22color%22%3A+%5B173%2C+216%2C+230%5D%7D%2C+%7B%22path%22%3A+%5B%22Cell+Type%22%2C+%22Plasma+Cell+Enriched%22%5D%2C+%22color%22%3A+%5B255%2C+255%2C+0%5D%7D%2C+%7B%22path%22%3A+%5B%22Cell+Type%22%2C+%22Secretory+Epithelial%22%5D%2C+%22color%22%3A+%5B154%2C+205%2C+50%5D%7D%2C+%7B%22path%22%3A+%5B%22Cell+Type%22%2C+%22Smooth+Muscle%22%5D%2C+%22color%22%3A+%5B255%2C+0%2C+0%5D%7D%2C+%7B%22path%22%3A+%5B%22Cell+Type%22%2C+%22Smooth+Muscle+%26+Innate+Immune%22%5D%2C+%22color%22%3A+%5B210%2C+180%2C+140%5D%7D%2C+%7B%22path%22%3A+%5B%22Cell+Type%22%2C+%22Stroma%22%5D%2C+%22color%22%3A+%5B128%2C+128%2C+128%5D%7D%2C+%7B%22path%22%3A+%5B%22Cell+Type%22%2C+%22Stroma+%26+Innate+Immune%22%5D%2C+%22color%22%3A+%5B165%2C+42%2C+42%5D%7D%2C+%7B%22path%22%3A+%5B%22Cell+Type%22%2C+%22Transit+Amplifying+Zone%22%5D%2C+%22color%22%3A+%5B0%2C+0%2C+139%5D%7D%5D%7D%7D%2C+%22layout%22%3A+%5B%7B%22component%22%3A+%22spatial%22%2C+%22coordinationScopes%22%3A+%7B%22dataset%22%3A+%22A%22%2C+%22spatialZoom%22%3A+%22A%22%2C+%22spatialTargetX%22%3A+%22A%22%2C+%22spatialTargetY%22%3A+%22A%22%2C+%22spatialSegmentationLayer%22%3A+%22A%22%2C+%22obsSetColor%22%3A+%22A%22%7D%2C+%22x%22%3A+0.0%2C+%22y%22%3A+0%2C+%22w%22%3A+6.0%2C+%22h%22%3A+12%7D%2C+%7B%22component%22%3A+%22layerController%22%2C+%22coordinationScopes%22%3A+%7B%22dataset%22%3A+%22A%22%2C+%22spatialZoom%22%3A+%22A%22%2C+%22spatialTargetX%22%3A+%22A%22%2C+%22spatialTargetY%22%3A+%22A%22%2C+%22spatialSegmentationLayer%22%3A+%22A%22%2C+%22obsSetColor%22%3A+%22A%22%7D%2C+%22x%22%3A+6.0%2C+%22y%22%3A+0.0%2C+%22w%22%3A+6.0%2C+%22h%22%3A+6.0%7D%2C+%7B%22component%22%3A+%22obsSets%22%2C+%22coordinationScopes%22%3A+%7B%22dataset%22%3A+%22A%22%2C+%22obsSetColor%22%3A+%22A%22%7D%2C+%22x%22%3A+6.0%2C+%22y%22%3A+6.0%2C+%22w%22%3A+6.0%2C+%22h%22%3A+6.0%7D%5D%2C+%22initStrategy%22%3A+%22auto%22%7D\" target=\"_blank\">View on Vitessce.io</a>"
            ]
          },
          "metadata": {}
        },
        {
          "output_type": "stream",
          "name": "stdout",
          "text": [
            "\tUpdating 'spatial' component 'width' from 6.0 to 10.0\n",
            "\tUpdating 'layerController' component 'x' from 6.0 to 10.0\n",
            "\tUpdating 'layerController' component 'width' from 6.0 to 2\n",
            "\tUpdating 'obsSets' component 'x' from 6.0 to 10.0\n",
            "\tUpdating 'obsSets' component 'width' from 6.0 to 2\n",
            "36\n",
            "./images/Region_36_mask.pyramid.ome.tif\n"
          ]
        },
        {
          "output_type": "display_data",
          "data": {
            "text/plain": [
              "<IPython.core.display.HTML object>"
            ],
            "text/html": [
              "<a href=\"http://vitessce.io/#?theme=light&url=data:,%7B%22version%22%3A+%221.0.15%22%2C+%22name%22%3A+%22Transcriptomics+example%22%2C+%22description%22%3A+%22%22%2C+%22datasets%22%3A+%5B%7B%22uid%22%3A+%22A%22%2C+%22name%22%3A+%22Cell+segmentations%22%2C+%22files%22%3A+%5B%7B%22fileType%22%3A+%22raster.json%22%2C+%22options%22%3A+%7B%22schemaVersion%22%3A+%220.0.2%22%2C+%22images%22%3A+%5B%7B%22name%22%3A+%22Region+36+Segmentations%22%2C+%22type%22%3A+%22ome-tiff%22%2C+%22url%22%3A+%22http%3A%2F%2Flocalhost%3A8035%2FA%2F0%2F8c421df7-641d-414b-879c-f3762d2c863c%22%2C+%22metadata%22%3A+%7B%22omeTiffOffsetsUrl%22%3A+%22http%3A%2F%2Flocalhost%3A8035%2FA%2F0%2F486b8229-aae3-47e8-8fcf-abd52e701552%22%2C+%22isBitmask%22%3A+true%7D%7D%5D%7D%7D%2C+%7B%22fileType%22%3A+%22obsSets.csv%22%2C+%22url%22%3A+%22http%3A%2F%2Flocalhost%3A8035%2FA%2F1%2Fb8863cd0-1cfd-4ef5-9c22-45c3d24b7d45%22%2C+%22options%22%3A+%7B%22obsIndex%22%3A+%22cell_id%22%2C+%22obsSets%22%3A+%5B%7B%22name%22%3A+%22Cell+Type%22%2C+%22column%22%3A+%22cell_type%22%7D%5D%7D%7D%5D%7D%5D%2C+%22coordinationSpace%22%3A+%7B%22dataset%22%3A+%7B%22A%22%3A+%22A%22%7D%2C+%22spatialZoom%22%3A+%7B%22A%22%3A+-3%7D%2C+%22spatialTargetX%22%3A+%7B%22A%22%3A+3000%7D%2C+%22spatialTargetY%22%3A+%7B%22A%22%3A+3000%7D%2C+%22spatialSegmentationLayer%22%3A+%7B%22A%22%3A+%5B%7B%22type%22%3A+%22bitmask%22%2C+%22index%22%3A+0%2C+%22visible%22%3A+true%2C+%22colormap%22%3A+null%2C+%22opacity%22%3A+1%2C+%22domainType%22%3A+%22Min%2FMax%22%2C+%22transparentColor%22%3A+null%2C+%22renderingMode%22%3A+%22Additive%22%2C+%22use3d%22%3A+false%2C+%22channels%22%3A+%5B%7B%22selection%22%3A+%7B%22c%22%3A+0%2C+%22t%22%3A+0%2C+%22z%22%3A+0%7D%2C+%22color%22%3A+%5B0%2C+0%2C+0%5D%2C+%22visible%22%3A+true%2C+%22slider%22%3A+%5B0%2C+1%5D%7D%2C+%7B%22selection%22%3A+%7B%22c%22%3A+1%2C+%22t%22%3A+0%2C+%22z%22%3A+0%7D%2C+%22color%22%3A+%5B0%2C+0%2C+0%5D%2C+%22visible%22%3A+true%2C+%22slider%22%3A+%5B1%2C+2%5D%7D%2C+%7B%22selection%22%3A+%7B%22c%22%3A+2%2C+%22t%22%3A+0%2C+%22z%22%3A+0%7D%2C+%22color%22%3A+%5B0%2C+0%2C+0%5D%2C+%22visible%22%3A+true%2C+%22slider%22%3A+%5B2%2C+3%5D%7D%5D%7D%5D%7D%2C+%22obsSetColor%22%3A+%7B%22A%22%3A+%5B%7B%22path%22%3A+%5B%22Cell+Type%22%2C+%22Adatpive+Immune+Enriched%22%5D%2C+%22color%22%3A+%5B255%2C+165%2C+0%5D%7D%2C+%7B%22path%22%3A+%5B%22Cell+Type%22%2C+%22CD66%2B+Mature+Epithelial%22%5D%2C+%22color%22%3A+%5B178%2C+34%2C+34%5D%7D%2C+%7B%22path%22%3A+%5B%22Cell+Type%22%2C+%22CD8%2B+T+Enriched+IEL%22%5D%2C+%22color%22%3A+%5B0%2C+128%2C+0%5D%7D%2C+%7B%22path%22%3A+%5B%22Cell+Type%22%2C+%22Glandular+Epithelial%22%5D%2C+%22color%22%3A+%5B255%2C+140%2C+0%5D%7D%2C+%7B%22path%22%3A+%5B%22Cell+Type%22%2C+%22Innate+Immune+Enriched%22%5D%2C+%22color%22%3A+%5B135%2C+206%2C+235%5D%7D%2C+%7B%22path%22%3A+%5B%22Cell+Type%22%2C+%22Inner+Follicle%22%5D%2C+%22color%22%3A+%5B0%2C+0%2C+255%5D%7D%2C+%7B%22path%22%3A+%5B%22Cell+Type%22%2C+%22Innervated+Smooth+Muscle%22%5D%2C+%22color%22%3A+%5B144%2C+238%2C+144%5D%7D%2C+%7B%22path%22%3A+%5B%22Cell+Type%22%2C+%22Innervated+Stroma%22%5D%2C+%22color%22%3A+%5B138%2C+43%2C+226%5D%7D%2C+%7B%22path%22%3A+%5B%22Cell+Type%22%2C+%22Macrovasculature%22%5D%2C+%22color%22%3A+%5B255%2C+215%2C+0%5D%7D%2C+%7B%22path%22%3A+%5B%22Cell+Type%22%2C+%22Mature+Epithelial%22%5D%2C+%22color%22%3A+%5B255%2C+0%2C+255%5D%7D%2C+%7B%22path%22%3A+%5B%22Cell+Type%22%2C+%22Microvasculature%22%5D%2C+%22color%22%3A+%5B0%2C+0%2C+0%5D%7D%2C+%7B%22path%22%3A+%5B%22Cell+Type%22%2C+%22Outer+Follicle%22%5D%2C+%22color%22%3A+%5B0%2C+0%2C+128%5D%7D%2C+%7B%22path%22%3A+%5B%22Cell+Type%22%2C+%22Paneth+Enriched%22%5D%2C+%22color%22%3A+%5B173%2C+216%2C+230%5D%7D%2C+%7B%22path%22%3A+%5B%22Cell+Type%22%2C+%22Plasma+Cell+Enriched%22%5D%2C+%22color%22%3A+%5B255%2C+255%2C+0%5D%7D%2C+%7B%22path%22%3A+%5B%22Cell+Type%22%2C+%22Secretory+Epithelial%22%5D%2C+%22color%22%3A+%5B154%2C+205%2C+50%5D%7D%2C+%7B%22path%22%3A+%5B%22Cell+Type%22%2C+%22Smooth+Muscle%22%5D%2C+%22color%22%3A+%5B255%2C+0%2C+0%5D%7D%2C+%7B%22path%22%3A+%5B%22Cell+Type%22%2C+%22Smooth+Muscle+%26+Innate+Immune%22%5D%2C+%22color%22%3A+%5B210%2C+180%2C+140%5D%7D%2C+%7B%22path%22%3A+%5B%22Cell+Type%22%2C+%22Stroma%22%5D%2C+%22color%22%3A+%5B128%2C+128%2C+128%5D%7D%2C+%7B%22path%22%3A+%5B%22Cell+Type%22%2C+%22Stroma+%26+Innate+Immune%22%5D%2C+%22color%22%3A+%5B165%2C+42%2C+42%5D%7D%2C+%7B%22path%22%3A+%5B%22Cell+Type%22%2C+%22Transit+Amplifying+Zone%22%5D%2C+%22color%22%3A+%5B0%2C+0%2C+139%5D%7D%5D%7D%7D%2C+%22layout%22%3A+%5B%7B%22component%22%3A+%22spatial%22%2C+%22coordinationScopes%22%3A+%7B%22dataset%22%3A+%22A%22%2C+%22spatialZoom%22%3A+%22A%22%2C+%22spatialTargetX%22%3A+%22A%22%2C+%22spatialTargetY%22%3A+%22A%22%2C+%22spatialSegmentationLayer%22%3A+%22A%22%2C+%22obsSetColor%22%3A+%22A%22%7D%2C+%22x%22%3A+0.0%2C+%22y%22%3A+0%2C+%22w%22%3A+6.0%2C+%22h%22%3A+12%7D%2C+%7B%22component%22%3A+%22layerController%22%2C+%22coordinationScopes%22%3A+%7B%22dataset%22%3A+%22A%22%2C+%22spatialZoom%22%3A+%22A%22%2C+%22spatialTargetX%22%3A+%22A%22%2C+%22spatialTargetY%22%3A+%22A%22%2C+%22spatialSegmentationLayer%22%3A+%22A%22%2C+%22obsSetColor%22%3A+%22A%22%7D%2C+%22x%22%3A+6.0%2C+%22y%22%3A+0.0%2C+%22w%22%3A+6.0%2C+%22h%22%3A+6.0%7D%2C+%7B%22component%22%3A+%22obsSets%22%2C+%22coordinationScopes%22%3A+%7B%22dataset%22%3A+%22A%22%2C+%22obsSetColor%22%3A+%22A%22%7D%2C+%22x%22%3A+6.0%2C+%22y%22%3A+6.0%2C+%22w%22%3A+6.0%2C+%22h%22%3A+6.0%7D%5D%2C+%22initStrategy%22%3A+%22auto%22%7D\" target=\"_blank\">View on Vitessce.io</a>"
            ]
          },
          "metadata": {}
        },
        {
          "output_type": "stream",
          "name": "stdout",
          "text": [
            "\tUpdating 'spatial' component 'width' from 6.0 to 10.0\n",
            "\tUpdating 'layerController' component 'x' from 6.0 to 10.0\n",
            "\tUpdating 'layerController' component 'width' from 6.0 to 2\n",
            "\tUpdating 'obsSets' component 'x' from 6.0 to 10.0\n",
            "\tUpdating 'obsSets' component 'width' from 6.0 to 2\n",
            "37\n",
            "./images/Region_37_mask.pyramid.ome.tif\n"
          ]
        },
        {
          "output_type": "display_data",
          "data": {
            "text/plain": [
              "<IPython.core.display.HTML object>"
            ],
            "text/html": [
              "<a href=\"http://vitessce.io/#?theme=light&url=data:,%7B%22version%22%3A+%221.0.15%22%2C+%22name%22%3A+%22Transcriptomics+example%22%2C+%22description%22%3A+%22%22%2C+%22datasets%22%3A+%5B%7B%22uid%22%3A+%22A%22%2C+%22name%22%3A+%22Cell+segmentations%22%2C+%22files%22%3A+%5B%7B%22fileType%22%3A+%22raster.json%22%2C+%22options%22%3A+%7B%22schemaVersion%22%3A+%220.0.2%22%2C+%22images%22%3A+%5B%7B%22name%22%3A+%22Region+37+Segmentations%22%2C+%22type%22%3A+%22ome-tiff%22%2C+%22url%22%3A+%22http%3A%2F%2Flocalhost%3A8036%2FA%2F0%2Fc4b44faa-54c5-4600-933c-cc4fd01ba424%22%2C+%22metadata%22%3A+%7B%22omeTiffOffsetsUrl%22%3A+%22http%3A%2F%2Flocalhost%3A8036%2FA%2F0%2F66300ccf-4fdf-49a9-ad3f-46154ff9c9ee%22%2C+%22isBitmask%22%3A+true%7D%7D%5D%7D%7D%2C+%7B%22fileType%22%3A+%22obsSets.csv%22%2C+%22url%22%3A+%22http%3A%2F%2Flocalhost%3A8036%2FA%2F1%2F7281261e-a37c-493a-9f82-d001f2166636%22%2C+%22options%22%3A+%7B%22obsIndex%22%3A+%22cell_id%22%2C+%22obsSets%22%3A+%5B%7B%22name%22%3A+%22Cell+Type%22%2C+%22column%22%3A+%22cell_type%22%7D%5D%7D%7D%5D%7D%5D%2C+%22coordinationSpace%22%3A+%7B%22dataset%22%3A+%7B%22A%22%3A+%22A%22%7D%2C+%22spatialZoom%22%3A+%7B%22A%22%3A+-3%7D%2C+%22spatialTargetX%22%3A+%7B%22A%22%3A+3000%7D%2C+%22spatialTargetY%22%3A+%7B%22A%22%3A+3000%7D%2C+%22spatialSegmentationLayer%22%3A+%7B%22A%22%3A+%5B%7B%22type%22%3A+%22bitmask%22%2C+%22index%22%3A+0%2C+%22visible%22%3A+true%2C+%22colormap%22%3A+null%2C+%22opacity%22%3A+1%2C+%22domainType%22%3A+%22Min%2FMax%22%2C+%22transparentColor%22%3A+null%2C+%22renderingMode%22%3A+%22Additive%22%2C+%22use3d%22%3A+false%2C+%22channels%22%3A+%5B%7B%22selection%22%3A+%7B%22c%22%3A+0%2C+%22t%22%3A+0%2C+%22z%22%3A+0%7D%2C+%22color%22%3A+%5B0%2C+0%2C+0%5D%2C+%22visible%22%3A+true%2C+%22slider%22%3A+%5B0%2C+1%5D%7D%2C+%7B%22selection%22%3A+%7B%22c%22%3A+1%2C+%22t%22%3A+0%2C+%22z%22%3A+0%7D%2C+%22color%22%3A+%5B0%2C+0%2C+0%5D%2C+%22visible%22%3A+true%2C+%22slider%22%3A+%5B1%2C+2%5D%7D%2C+%7B%22selection%22%3A+%7B%22c%22%3A+2%2C+%22t%22%3A+0%2C+%22z%22%3A+0%7D%2C+%22color%22%3A+%5B0%2C+0%2C+0%5D%2C+%22visible%22%3A+true%2C+%22slider%22%3A+%5B2%2C+3%5D%7D%5D%7D%5D%7D%2C+%22obsSetColor%22%3A+%7B%22A%22%3A+%5B%7B%22path%22%3A+%5B%22Cell+Type%22%2C+%22Adatpive+Immune+Enriched%22%5D%2C+%22color%22%3A+%5B255%2C+165%2C+0%5D%7D%2C+%7B%22path%22%3A+%5B%22Cell+Type%22%2C+%22CD66%2B+Mature+Epithelial%22%5D%2C+%22color%22%3A+%5B178%2C+34%2C+34%5D%7D%2C+%7B%22path%22%3A+%5B%22Cell+Type%22%2C+%22CD8%2B+T+Enriched+IEL%22%5D%2C+%22color%22%3A+%5B0%2C+128%2C+0%5D%7D%2C+%7B%22path%22%3A+%5B%22Cell+Type%22%2C+%22Glandular+Epithelial%22%5D%2C+%22color%22%3A+%5B255%2C+140%2C+0%5D%7D%2C+%7B%22path%22%3A+%5B%22Cell+Type%22%2C+%22Innate+Immune+Enriched%22%5D%2C+%22color%22%3A+%5B135%2C+206%2C+235%5D%7D%2C+%7B%22path%22%3A+%5B%22Cell+Type%22%2C+%22Inner+Follicle%22%5D%2C+%22color%22%3A+%5B0%2C+0%2C+255%5D%7D%2C+%7B%22path%22%3A+%5B%22Cell+Type%22%2C+%22Innervated+Smooth+Muscle%22%5D%2C+%22color%22%3A+%5B144%2C+238%2C+144%5D%7D%2C+%7B%22path%22%3A+%5B%22Cell+Type%22%2C+%22Innervated+Stroma%22%5D%2C+%22color%22%3A+%5B138%2C+43%2C+226%5D%7D%2C+%7B%22path%22%3A+%5B%22Cell+Type%22%2C+%22Macrovasculature%22%5D%2C+%22color%22%3A+%5B255%2C+215%2C+0%5D%7D%2C+%7B%22path%22%3A+%5B%22Cell+Type%22%2C+%22Mature+Epithelial%22%5D%2C+%22color%22%3A+%5B255%2C+0%2C+255%5D%7D%2C+%7B%22path%22%3A+%5B%22Cell+Type%22%2C+%22Microvasculature%22%5D%2C+%22color%22%3A+%5B0%2C+0%2C+0%5D%7D%2C+%7B%22path%22%3A+%5B%22Cell+Type%22%2C+%22Outer+Follicle%22%5D%2C+%22color%22%3A+%5B0%2C+0%2C+128%5D%7D%2C+%7B%22path%22%3A+%5B%22Cell+Type%22%2C+%22Paneth+Enriched%22%5D%2C+%22color%22%3A+%5B173%2C+216%2C+230%5D%7D%2C+%7B%22path%22%3A+%5B%22Cell+Type%22%2C+%22Plasma+Cell+Enriched%22%5D%2C+%22color%22%3A+%5B255%2C+255%2C+0%5D%7D%2C+%7B%22path%22%3A+%5B%22Cell+Type%22%2C+%22Secretory+Epithelial%22%5D%2C+%22color%22%3A+%5B154%2C+205%2C+50%5D%7D%2C+%7B%22path%22%3A+%5B%22Cell+Type%22%2C+%22Smooth+Muscle%22%5D%2C+%22color%22%3A+%5B255%2C+0%2C+0%5D%7D%2C+%7B%22path%22%3A+%5B%22Cell+Type%22%2C+%22Smooth+Muscle+%26+Innate+Immune%22%5D%2C+%22color%22%3A+%5B210%2C+180%2C+140%5D%7D%2C+%7B%22path%22%3A+%5B%22Cell+Type%22%2C+%22Stroma%22%5D%2C+%22color%22%3A+%5B128%2C+128%2C+128%5D%7D%2C+%7B%22path%22%3A+%5B%22Cell+Type%22%2C+%22Stroma+%26+Innate+Immune%22%5D%2C+%22color%22%3A+%5B165%2C+42%2C+42%5D%7D%2C+%7B%22path%22%3A+%5B%22Cell+Type%22%2C+%22Transit+Amplifying+Zone%22%5D%2C+%22color%22%3A+%5B0%2C+0%2C+139%5D%7D%5D%7D%7D%2C+%22layout%22%3A+%5B%7B%22component%22%3A+%22spatial%22%2C+%22coordinationScopes%22%3A+%7B%22dataset%22%3A+%22A%22%2C+%22spatialZoom%22%3A+%22A%22%2C+%22spatialTargetX%22%3A+%22A%22%2C+%22spatialTargetY%22%3A+%22A%22%2C+%22spatialSegmentationLayer%22%3A+%22A%22%2C+%22obsSetColor%22%3A+%22A%22%7D%2C+%22x%22%3A+0.0%2C+%22y%22%3A+0%2C+%22w%22%3A+6.0%2C+%22h%22%3A+12%7D%2C+%7B%22component%22%3A+%22layerController%22%2C+%22coordinationScopes%22%3A+%7B%22dataset%22%3A+%22A%22%2C+%22spatialZoom%22%3A+%22A%22%2C+%22spatialTargetX%22%3A+%22A%22%2C+%22spatialTargetY%22%3A+%22A%22%2C+%22spatialSegmentationLayer%22%3A+%22A%22%2C+%22obsSetColor%22%3A+%22A%22%7D%2C+%22x%22%3A+6.0%2C+%22y%22%3A+0.0%2C+%22w%22%3A+6.0%2C+%22h%22%3A+6.0%7D%2C+%7B%22component%22%3A+%22obsSets%22%2C+%22coordinationScopes%22%3A+%7B%22dataset%22%3A+%22A%22%2C+%22obsSetColor%22%3A+%22A%22%7D%2C+%22x%22%3A+6.0%2C+%22y%22%3A+6.0%2C+%22w%22%3A+6.0%2C+%22h%22%3A+6.0%7D%5D%2C+%22initStrategy%22%3A+%22auto%22%7D\" target=\"_blank\">View on Vitessce.io</a>"
            ]
          },
          "metadata": {}
        },
        {
          "output_type": "stream",
          "name": "stdout",
          "text": [
            "\tUpdating 'spatial' component 'width' from 6.0 to 10.0\n",
            "\tUpdating 'layerController' component 'x' from 6.0 to 10.0\n",
            "\tUpdating 'layerController' component 'width' from 6.0 to 2\n",
            "\tUpdating 'obsSets' component 'x' from 6.0 to 10.0\n",
            "\tUpdating 'obsSets' component 'width' from 6.0 to 2\n",
            "38\n",
            "./images/Region_38_mask.pyramid.ome.tif\n"
          ]
        },
        {
          "output_type": "display_data",
          "data": {
            "text/plain": [
              "<IPython.core.display.HTML object>"
            ],
            "text/html": [
              "<a href=\"http://vitessce.io/#?theme=light&url=data:,%7B%22version%22%3A+%221.0.15%22%2C+%22name%22%3A+%22Transcriptomics+example%22%2C+%22description%22%3A+%22%22%2C+%22datasets%22%3A+%5B%7B%22uid%22%3A+%22A%22%2C+%22name%22%3A+%22Cell+segmentations%22%2C+%22files%22%3A+%5B%7B%22fileType%22%3A+%22raster.json%22%2C+%22options%22%3A+%7B%22schemaVersion%22%3A+%220.0.2%22%2C+%22images%22%3A+%5B%7B%22name%22%3A+%22Region+38+Segmentations%22%2C+%22type%22%3A+%22ome-tiff%22%2C+%22url%22%3A+%22http%3A%2F%2Flocalhost%3A8037%2FA%2F0%2Fa1289b9e-275a-4f4b-b50c-c471a0479272%22%2C+%22metadata%22%3A+%7B%22omeTiffOffsetsUrl%22%3A+%22http%3A%2F%2Flocalhost%3A8037%2FA%2F0%2Fbabbe5cf-0d3f-4c6d-b47d-77141263746e%22%2C+%22isBitmask%22%3A+true%7D%7D%5D%7D%7D%2C+%7B%22fileType%22%3A+%22obsSets.csv%22%2C+%22url%22%3A+%22http%3A%2F%2Flocalhost%3A8037%2FA%2F1%2Fb968f623-d4ec-4e2d-8dfa-2c6776652943%22%2C+%22options%22%3A+%7B%22obsIndex%22%3A+%22cell_id%22%2C+%22obsSets%22%3A+%5B%7B%22name%22%3A+%22Cell+Type%22%2C+%22column%22%3A+%22cell_type%22%7D%5D%7D%7D%5D%7D%5D%2C+%22coordinationSpace%22%3A+%7B%22dataset%22%3A+%7B%22A%22%3A+%22A%22%7D%2C+%22spatialZoom%22%3A+%7B%22A%22%3A+-3%7D%2C+%22spatialTargetX%22%3A+%7B%22A%22%3A+3000%7D%2C+%22spatialTargetY%22%3A+%7B%22A%22%3A+3000%7D%2C+%22spatialSegmentationLayer%22%3A+%7B%22A%22%3A+%5B%7B%22type%22%3A+%22bitmask%22%2C+%22index%22%3A+0%2C+%22visible%22%3A+true%2C+%22colormap%22%3A+null%2C+%22opacity%22%3A+1%2C+%22domainType%22%3A+%22Min%2FMax%22%2C+%22transparentColor%22%3A+null%2C+%22renderingMode%22%3A+%22Additive%22%2C+%22use3d%22%3A+false%2C+%22channels%22%3A+%5B%7B%22selection%22%3A+%7B%22c%22%3A+0%2C+%22t%22%3A+0%2C+%22z%22%3A+0%7D%2C+%22color%22%3A+%5B0%2C+0%2C+0%5D%2C+%22visible%22%3A+true%2C+%22slider%22%3A+%5B0%2C+1%5D%7D%2C+%7B%22selection%22%3A+%7B%22c%22%3A+1%2C+%22t%22%3A+0%2C+%22z%22%3A+0%7D%2C+%22color%22%3A+%5B0%2C+0%2C+0%5D%2C+%22visible%22%3A+true%2C+%22slider%22%3A+%5B1%2C+2%5D%7D%2C+%7B%22selection%22%3A+%7B%22c%22%3A+2%2C+%22t%22%3A+0%2C+%22z%22%3A+0%7D%2C+%22color%22%3A+%5B0%2C+0%2C+0%5D%2C+%22visible%22%3A+true%2C+%22slider%22%3A+%5B2%2C+3%5D%7D%5D%7D%5D%7D%2C+%22obsSetColor%22%3A+%7B%22A%22%3A+%5B%7B%22path%22%3A+%5B%22Cell+Type%22%2C+%22Adatpive+Immune+Enriched%22%5D%2C+%22color%22%3A+%5B255%2C+165%2C+0%5D%7D%2C+%7B%22path%22%3A+%5B%22Cell+Type%22%2C+%22CD66%2B+Mature+Epithelial%22%5D%2C+%22color%22%3A+%5B178%2C+34%2C+34%5D%7D%2C+%7B%22path%22%3A+%5B%22Cell+Type%22%2C+%22CD8%2B+T+Enriched+IEL%22%5D%2C+%22color%22%3A+%5B0%2C+128%2C+0%5D%7D%2C+%7B%22path%22%3A+%5B%22Cell+Type%22%2C+%22Glandular+Epithelial%22%5D%2C+%22color%22%3A+%5B255%2C+140%2C+0%5D%7D%2C+%7B%22path%22%3A+%5B%22Cell+Type%22%2C+%22Innate+Immune+Enriched%22%5D%2C+%22color%22%3A+%5B135%2C+206%2C+235%5D%7D%2C+%7B%22path%22%3A+%5B%22Cell+Type%22%2C+%22Inner+Follicle%22%5D%2C+%22color%22%3A+%5B0%2C+0%2C+255%5D%7D%2C+%7B%22path%22%3A+%5B%22Cell+Type%22%2C+%22Innervated+Smooth+Muscle%22%5D%2C+%22color%22%3A+%5B144%2C+238%2C+144%5D%7D%2C+%7B%22path%22%3A+%5B%22Cell+Type%22%2C+%22Innervated+Stroma%22%5D%2C+%22color%22%3A+%5B138%2C+43%2C+226%5D%7D%2C+%7B%22path%22%3A+%5B%22Cell+Type%22%2C+%22Macrovasculature%22%5D%2C+%22color%22%3A+%5B255%2C+215%2C+0%5D%7D%2C+%7B%22path%22%3A+%5B%22Cell+Type%22%2C+%22Mature+Epithelial%22%5D%2C+%22color%22%3A+%5B255%2C+0%2C+255%5D%7D%2C+%7B%22path%22%3A+%5B%22Cell+Type%22%2C+%22Microvasculature%22%5D%2C+%22color%22%3A+%5B0%2C+0%2C+0%5D%7D%2C+%7B%22path%22%3A+%5B%22Cell+Type%22%2C+%22Outer+Follicle%22%5D%2C+%22color%22%3A+%5B0%2C+0%2C+128%5D%7D%2C+%7B%22path%22%3A+%5B%22Cell+Type%22%2C+%22Paneth+Enriched%22%5D%2C+%22color%22%3A+%5B173%2C+216%2C+230%5D%7D%2C+%7B%22path%22%3A+%5B%22Cell+Type%22%2C+%22Plasma+Cell+Enriched%22%5D%2C+%22color%22%3A+%5B255%2C+255%2C+0%5D%7D%2C+%7B%22path%22%3A+%5B%22Cell+Type%22%2C+%22Secretory+Epithelial%22%5D%2C+%22color%22%3A+%5B154%2C+205%2C+50%5D%7D%2C+%7B%22path%22%3A+%5B%22Cell+Type%22%2C+%22Smooth+Muscle%22%5D%2C+%22color%22%3A+%5B255%2C+0%2C+0%5D%7D%2C+%7B%22path%22%3A+%5B%22Cell+Type%22%2C+%22Smooth+Muscle+%26+Innate+Immune%22%5D%2C+%22color%22%3A+%5B210%2C+180%2C+140%5D%7D%2C+%7B%22path%22%3A+%5B%22Cell+Type%22%2C+%22Stroma%22%5D%2C+%22color%22%3A+%5B128%2C+128%2C+128%5D%7D%2C+%7B%22path%22%3A+%5B%22Cell+Type%22%2C+%22Stroma+%26+Innate+Immune%22%5D%2C+%22color%22%3A+%5B165%2C+42%2C+42%5D%7D%2C+%7B%22path%22%3A+%5B%22Cell+Type%22%2C+%22Transit+Amplifying+Zone%22%5D%2C+%22color%22%3A+%5B0%2C+0%2C+139%5D%7D%5D%7D%7D%2C+%22layout%22%3A+%5B%7B%22component%22%3A+%22spatial%22%2C+%22coordinationScopes%22%3A+%7B%22dataset%22%3A+%22A%22%2C+%22spatialZoom%22%3A+%22A%22%2C+%22spatialTargetX%22%3A+%22A%22%2C+%22spatialTargetY%22%3A+%22A%22%2C+%22spatialSegmentationLayer%22%3A+%22A%22%2C+%22obsSetColor%22%3A+%22A%22%7D%2C+%22x%22%3A+0.0%2C+%22y%22%3A+0%2C+%22w%22%3A+6.0%2C+%22h%22%3A+12%7D%2C+%7B%22component%22%3A+%22layerController%22%2C+%22coordinationScopes%22%3A+%7B%22dataset%22%3A+%22A%22%2C+%22spatialZoom%22%3A+%22A%22%2C+%22spatialTargetX%22%3A+%22A%22%2C+%22spatialTargetY%22%3A+%22A%22%2C+%22spatialSegmentationLayer%22%3A+%22A%22%2C+%22obsSetColor%22%3A+%22A%22%7D%2C+%22x%22%3A+6.0%2C+%22y%22%3A+0.0%2C+%22w%22%3A+6.0%2C+%22h%22%3A+6.0%7D%2C+%7B%22component%22%3A+%22obsSets%22%2C+%22coordinationScopes%22%3A+%7B%22dataset%22%3A+%22A%22%2C+%22obsSetColor%22%3A+%22A%22%7D%2C+%22x%22%3A+6.0%2C+%22y%22%3A+6.0%2C+%22w%22%3A+6.0%2C+%22h%22%3A+6.0%7D%5D%2C+%22initStrategy%22%3A+%22auto%22%7D\" target=\"_blank\">View on Vitessce.io</a>"
            ]
          },
          "metadata": {}
        },
        {
          "output_type": "stream",
          "name": "stdout",
          "text": [
            "\tUpdating 'spatial' component 'width' from 6.0 to 10.0\n",
            "\tUpdating 'layerController' component 'x' from 6.0 to 10.0\n",
            "\tUpdating 'layerController' component 'width' from 6.0 to 2\n",
            "\tUpdating 'obsSets' component 'x' from 6.0 to 10.0\n",
            "\tUpdating 'obsSets' component 'width' from 6.0 to 2\n",
            "39\n",
            "./images/Region_39_mask.pyramid.ome.tif\n"
          ]
        },
        {
          "output_type": "display_data",
          "data": {
            "text/plain": [
              "<IPython.core.display.HTML object>"
            ],
            "text/html": [
              "<a href=\"http://vitessce.io/#?theme=light&url=data:,%7B%22version%22%3A+%221.0.15%22%2C+%22name%22%3A+%22Transcriptomics+example%22%2C+%22description%22%3A+%22%22%2C+%22datasets%22%3A+%5B%7B%22uid%22%3A+%22A%22%2C+%22name%22%3A+%22Cell+segmentations%22%2C+%22files%22%3A+%5B%7B%22fileType%22%3A+%22raster.json%22%2C+%22options%22%3A+%7B%22schemaVersion%22%3A+%220.0.2%22%2C+%22images%22%3A+%5B%7B%22name%22%3A+%22Region+39+Segmentations%22%2C+%22type%22%3A+%22ome-tiff%22%2C+%22url%22%3A+%22http%3A%2F%2Flocalhost%3A8038%2FA%2F0%2Fab6a7b45-6b9d-41c2-98e3-a6973469c187%22%2C+%22metadata%22%3A+%7B%22omeTiffOffsetsUrl%22%3A+%22http%3A%2F%2Flocalhost%3A8038%2FA%2F0%2F3b5232a4-1710-4149-bc5d-b2bd5fa53bd4%22%2C+%22isBitmask%22%3A+true%7D%7D%5D%7D%7D%2C+%7B%22fileType%22%3A+%22obsSets.csv%22%2C+%22url%22%3A+%22http%3A%2F%2Flocalhost%3A8038%2FA%2F1%2F1968eb52-fc45-4950-b8e3-844a2d2c8add%22%2C+%22options%22%3A+%7B%22obsIndex%22%3A+%22cell_id%22%2C+%22obsSets%22%3A+%5B%7B%22name%22%3A+%22Cell+Type%22%2C+%22column%22%3A+%22cell_type%22%7D%5D%7D%7D%5D%7D%5D%2C+%22coordinationSpace%22%3A+%7B%22dataset%22%3A+%7B%22A%22%3A+%22A%22%7D%2C+%22spatialZoom%22%3A+%7B%22A%22%3A+-3%7D%2C+%22spatialTargetX%22%3A+%7B%22A%22%3A+3000%7D%2C+%22spatialTargetY%22%3A+%7B%22A%22%3A+3000%7D%2C+%22spatialSegmentationLayer%22%3A+%7B%22A%22%3A+%5B%7B%22type%22%3A+%22bitmask%22%2C+%22index%22%3A+0%2C+%22visible%22%3A+true%2C+%22colormap%22%3A+null%2C+%22opacity%22%3A+1%2C+%22domainType%22%3A+%22Min%2FMax%22%2C+%22transparentColor%22%3A+null%2C+%22renderingMode%22%3A+%22Additive%22%2C+%22use3d%22%3A+false%2C+%22channels%22%3A+%5B%7B%22selection%22%3A+%7B%22c%22%3A+0%2C+%22t%22%3A+0%2C+%22z%22%3A+0%7D%2C+%22color%22%3A+%5B0%2C+0%2C+0%5D%2C+%22visible%22%3A+true%2C+%22slider%22%3A+%5B0%2C+1%5D%7D%2C+%7B%22selection%22%3A+%7B%22c%22%3A+1%2C+%22t%22%3A+0%2C+%22z%22%3A+0%7D%2C+%22color%22%3A+%5B0%2C+0%2C+0%5D%2C+%22visible%22%3A+true%2C+%22slider%22%3A+%5B1%2C+2%5D%7D%2C+%7B%22selection%22%3A+%7B%22c%22%3A+2%2C+%22t%22%3A+0%2C+%22z%22%3A+0%7D%2C+%22color%22%3A+%5B0%2C+0%2C+0%5D%2C+%22visible%22%3A+true%2C+%22slider%22%3A+%5B2%2C+3%5D%7D%5D%7D%5D%7D%2C+%22obsSetColor%22%3A+%7B%22A%22%3A+%5B%7B%22path%22%3A+%5B%22Cell+Type%22%2C+%22Adatpive+Immune+Enriched%22%5D%2C+%22color%22%3A+%5B255%2C+165%2C+0%5D%7D%2C+%7B%22path%22%3A+%5B%22Cell+Type%22%2C+%22CD66%2B+Mature+Epithelial%22%5D%2C+%22color%22%3A+%5B178%2C+34%2C+34%5D%7D%2C+%7B%22path%22%3A+%5B%22Cell+Type%22%2C+%22CD8%2B+T+Enriched+IEL%22%5D%2C+%22color%22%3A+%5B0%2C+128%2C+0%5D%7D%2C+%7B%22path%22%3A+%5B%22Cell+Type%22%2C+%22Glandular+Epithelial%22%5D%2C+%22color%22%3A+%5B255%2C+140%2C+0%5D%7D%2C+%7B%22path%22%3A+%5B%22Cell+Type%22%2C+%22Innate+Immune+Enriched%22%5D%2C+%22color%22%3A+%5B135%2C+206%2C+235%5D%7D%2C+%7B%22path%22%3A+%5B%22Cell+Type%22%2C+%22Inner+Follicle%22%5D%2C+%22color%22%3A+%5B0%2C+0%2C+255%5D%7D%2C+%7B%22path%22%3A+%5B%22Cell+Type%22%2C+%22Innervated+Smooth+Muscle%22%5D%2C+%22color%22%3A+%5B144%2C+238%2C+144%5D%7D%2C+%7B%22path%22%3A+%5B%22Cell+Type%22%2C+%22Innervated+Stroma%22%5D%2C+%22color%22%3A+%5B138%2C+43%2C+226%5D%7D%2C+%7B%22path%22%3A+%5B%22Cell+Type%22%2C+%22Macrovasculature%22%5D%2C+%22color%22%3A+%5B255%2C+215%2C+0%5D%7D%2C+%7B%22path%22%3A+%5B%22Cell+Type%22%2C+%22Mature+Epithelial%22%5D%2C+%22color%22%3A+%5B255%2C+0%2C+255%5D%7D%2C+%7B%22path%22%3A+%5B%22Cell+Type%22%2C+%22Microvasculature%22%5D%2C+%22color%22%3A+%5B0%2C+0%2C+0%5D%7D%2C+%7B%22path%22%3A+%5B%22Cell+Type%22%2C+%22Outer+Follicle%22%5D%2C+%22color%22%3A+%5B0%2C+0%2C+128%5D%7D%2C+%7B%22path%22%3A+%5B%22Cell+Type%22%2C+%22Paneth+Enriched%22%5D%2C+%22color%22%3A+%5B173%2C+216%2C+230%5D%7D%2C+%7B%22path%22%3A+%5B%22Cell+Type%22%2C+%22Plasma+Cell+Enriched%22%5D%2C+%22color%22%3A+%5B255%2C+255%2C+0%5D%7D%2C+%7B%22path%22%3A+%5B%22Cell+Type%22%2C+%22Secretory+Epithelial%22%5D%2C+%22color%22%3A+%5B154%2C+205%2C+50%5D%7D%2C+%7B%22path%22%3A+%5B%22Cell+Type%22%2C+%22Smooth+Muscle%22%5D%2C+%22color%22%3A+%5B255%2C+0%2C+0%5D%7D%2C+%7B%22path%22%3A+%5B%22Cell+Type%22%2C+%22Smooth+Muscle+%26+Innate+Immune%22%5D%2C+%22color%22%3A+%5B210%2C+180%2C+140%5D%7D%2C+%7B%22path%22%3A+%5B%22Cell+Type%22%2C+%22Stroma%22%5D%2C+%22color%22%3A+%5B128%2C+128%2C+128%5D%7D%2C+%7B%22path%22%3A+%5B%22Cell+Type%22%2C+%22Stroma+%26+Innate+Immune%22%5D%2C+%22color%22%3A+%5B165%2C+42%2C+42%5D%7D%2C+%7B%22path%22%3A+%5B%22Cell+Type%22%2C+%22Transit+Amplifying+Zone%22%5D%2C+%22color%22%3A+%5B0%2C+0%2C+139%5D%7D%5D%7D%7D%2C+%22layout%22%3A+%5B%7B%22component%22%3A+%22spatial%22%2C+%22coordinationScopes%22%3A+%7B%22dataset%22%3A+%22A%22%2C+%22spatialZoom%22%3A+%22A%22%2C+%22spatialTargetX%22%3A+%22A%22%2C+%22spatialTargetY%22%3A+%22A%22%2C+%22spatialSegmentationLayer%22%3A+%22A%22%2C+%22obsSetColor%22%3A+%22A%22%7D%2C+%22x%22%3A+0.0%2C+%22y%22%3A+0%2C+%22w%22%3A+6.0%2C+%22h%22%3A+12%7D%2C+%7B%22component%22%3A+%22layerController%22%2C+%22coordinationScopes%22%3A+%7B%22dataset%22%3A+%22A%22%2C+%22spatialZoom%22%3A+%22A%22%2C+%22spatialTargetX%22%3A+%22A%22%2C+%22spatialTargetY%22%3A+%22A%22%2C+%22spatialSegmentationLayer%22%3A+%22A%22%2C+%22obsSetColor%22%3A+%22A%22%7D%2C+%22x%22%3A+6.0%2C+%22y%22%3A+0.0%2C+%22w%22%3A+6.0%2C+%22h%22%3A+6.0%7D%2C+%7B%22component%22%3A+%22obsSets%22%2C+%22coordinationScopes%22%3A+%7B%22dataset%22%3A+%22A%22%2C+%22obsSetColor%22%3A+%22A%22%7D%2C+%22x%22%3A+6.0%2C+%22y%22%3A+6.0%2C+%22w%22%3A+6.0%2C+%22h%22%3A+6.0%7D%5D%2C+%22initStrategy%22%3A+%22auto%22%7D\" target=\"_blank\">View on Vitessce.io</a>"
            ]
          },
          "metadata": {}
        },
        {
          "output_type": "stream",
          "name": "stdout",
          "text": [
            "\tUpdating 'spatial' component 'width' from 6.0 to 10.0\n",
            "\tUpdating 'layerController' component 'x' from 6.0 to 10.0\n",
            "\tUpdating 'layerController' component 'width' from 6.0 to 2\n",
            "\tUpdating 'obsSets' component 'x' from 6.0 to 10.0\n",
            "\tUpdating 'obsSets' component 'width' from 6.0 to 2\n",
            "40\n",
            "./images/Region_40_mask.pyramid.ome.tif\n"
          ]
        },
        {
          "output_type": "display_data",
          "data": {
            "text/plain": [
              "<IPython.core.display.HTML object>"
            ],
            "text/html": [
              "<a href=\"http://vitessce.io/#?theme=light&url=data:,%7B%22version%22%3A+%221.0.15%22%2C+%22name%22%3A+%22Transcriptomics+example%22%2C+%22description%22%3A+%22%22%2C+%22datasets%22%3A+%5B%7B%22uid%22%3A+%22A%22%2C+%22name%22%3A+%22Cell+segmentations%22%2C+%22files%22%3A+%5B%7B%22fileType%22%3A+%22raster.json%22%2C+%22options%22%3A+%7B%22schemaVersion%22%3A+%220.0.2%22%2C+%22images%22%3A+%5B%7B%22name%22%3A+%22Region+40+Segmentations%22%2C+%22type%22%3A+%22ome-tiff%22%2C+%22url%22%3A+%22http%3A%2F%2Flocalhost%3A8039%2FA%2F0%2Fafb54de5-4cda-45b0-805f-11b3e163a0c2%22%2C+%22metadata%22%3A+%7B%22omeTiffOffsetsUrl%22%3A+%22http%3A%2F%2Flocalhost%3A8039%2FA%2F0%2Fc02dacd2-3246-41a3-8099-580b7e4d6b0e%22%2C+%22isBitmask%22%3A+true%7D%7D%5D%7D%7D%2C+%7B%22fileType%22%3A+%22obsSets.csv%22%2C+%22url%22%3A+%22http%3A%2F%2Flocalhost%3A8039%2FA%2F1%2F351443cf-fd93-4fa9-9275-105c8b4eac35%22%2C+%22options%22%3A+%7B%22obsIndex%22%3A+%22cell_id%22%2C+%22obsSets%22%3A+%5B%7B%22name%22%3A+%22Cell+Type%22%2C+%22column%22%3A+%22cell_type%22%7D%5D%7D%7D%5D%7D%5D%2C+%22coordinationSpace%22%3A+%7B%22dataset%22%3A+%7B%22A%22%3A+%22A%22%7D%2C+%22spatialZoom%22%3A+%7B%22A%22%3A+-3%7D%2C+%22spatialTargetX%22%3A+%7B%22A%22%3A+3000%7D%2C+%22spatialTargetY%22%3A+%7B%22A%22%3A+3000%7D%2C+%22spatialSegmentationLayer%22%3A+%7B%22A%22%3A+%5B%7B%22type%22%3A+%22bitmask%22%2C+%22index%22%3A+0%2C+%22visible%22%3A+true%2C+%22colormap%22%3A+null%2C+%22opacity%22%3A+1%2C+%22domainType%22%3A+%22Min%2FMax%22%2C+%22transparentColor%22%3A+null%2C+%22renderingMode%22%3A+%22Additive%22%2C+%22use3d%22%3A+false%2C+%22channels%22%3A+%5B%7B%22selection%22%3A+%7B%22c%22%3A+0%2C+%22t%22%3A+0%2C+%22z%22%3A+0%7D%2C+%22color%22%3A+%5B0%2C+0%2C+0%5D%2C+%22visible%22%3A+true%2C+%22slider%22%3A+%5B0%2C+1%5D%7D%2C+%7B%22selection%22%3A+%7B%22c%22%3A+1%2C+%22t%22%3A+0%2C+%22z%22%3A+0%7D%2C+%22color%22%3A+%5B0%2C+0%2C+0%5D%2C+%22visible%22%3A+true%2C+%22slider%22%3A+%5B1%2C+2%5D%7D%2C+%7B%22selection%22%3A+%7B%22c%22%3A+2%2C+%22t%22%3A+0%2C+%22z%22%3A+0%7D%2C+%22color%22%3A+%5B0%2C+0%2C+0%5D%2C+%22visible%22%3A+true%2C+%22slider%22%3A+%5B2%2C+3%5D%7D%5D%7D%5D%7D%2C+%22obsSetColor%22%3A+%7B%22A%22%3A+%5B%7B%22path%22%3A+%5B%22Cell+Type%22%2C+%22Adatpive+Immune+Enriched%22%5D%2C+%22color%22%3A+%5B255%2C+165%2C+0%5D%7D%2C+%7B%22path%22%3A+%5B%22Cell+Type%22%2C+%22CD66%2B+Mature+Epithelial%22%5D%2C+%22color%22%3A+%5B178%2C+34%2C+34%5D%7D%2C+%7B%22path%22%3A+%5B%22Cell+Type%22%2C+%22CD8%2B+T+Enriched+IEL%22%5D%2C+%22color%22%3A+%5B0%2C+128%2C+0%5D%7D%2C+%7B%22path%22%3A+%5B%22Cell+Type%22%2C+%22Glandular+Epithelial%22%5D%2C+%22color%22%3A+%5B255%2C+140%2C+0%5D%7D%2C+%7B%22path%22%3A+%5B%22Cell+Type%22%2C+%22Innate+Immune+Enriched%22%5D%2C+%22color%22%3A+%5B135%2C+206%2C+235%5D%7D%2C+%7B%22path%22%3A+%5B%22Cell+Type%22%2C+%22Inner+Follicle%22%5D%2C+%22color%22%3A+%5B0%2C+0%2C+255%5D%7D%2C+%7B%22path%22%3A+%5B%22Cell+Type%22%2C+%22Innervated+Smooth+Muscle%22%5D%2C+%22color%22%3A+%5B144%2C+238%2C+144%5D%7D%2C+%7B%22path%22%3A+%5B%22Cell+Type%22%2C+%22Innervated+Stroma%22%5D%2C+%22color%22%3A+%5B138%2C+43%2C+226%5D%7D%2C+%7B%22path%22%3A+%5B%22Cell+Type%22%2C+%22Macrovasculature%22%5D%2C+%22color%22%3A+%5B255%2C+215%2C+0%5D%7D%2C+%7B%22path%22%3A+%5B%22Cell+Type%22%2C+%22Mature+Epithelial%22%5D%2C+%22color%22%3A+%5B255%2C+0%2C+255%5D%7D%2C+%7B%22path%22%3A+%5B%22Cell+Type%22%2C+%22Microvasculature%22%5D%2C+%22color%22%3A+%5B0%2C+0%2C+0%5D%7D%2C+%7B%22path%22%3A+%5B%22Cell+Type%22%2C+%22Outer+Follicle%22%5D%2C+%22color%22%3A+%5B0%2C+0%2C+128%5D%7D%2C+%7B%22path%22%3A+%5B%22Cell+Type%22%2C+%22Paneth+Enriched%22%5D%2C+%22color%22%3A+%5B173%2C+216%2C+230%5D%7D%2C+%7B%22path%22%3A+%5B%22Cell+Type%22%2C+%22Plasma+Cell+Enriched%22%5D%2C+%22color%22%3A+%5B255%2C+255%2C+0%5D%7D%2C+%7B%22path%22%3A+%5B%22Cell+Type%22%2C+%22Secretory+Epithelial%22%5D%2C+%22color%22%3A+%5B154%2C+205%2C+50%5D%7D%2C+%7B%22path%22%3A+%5B%22Cell+Type%22%2C+%22Smooth+Muscle%22%5D%2C+%22color%22%3A+%5B255%2C+0%2C+0%5D%7D%2C+%7B%22path%22%3A+%5B%22Cell+Type%22%2C+%22Smooth+Muscle+%26+Innate+Immune%22%5D%2C+%22color%22%3A+%5B210%2C+180%2C+140%5D%7D%2C+%7B%22path%22%3A+%5B%22Cell+Type%22%2C+%22Stroma%22%5D%2C+%22color%22%3A+%5B128%2C+128%2C+128%5D%7D%2C+%7B%22path%22%3A+%5B%22Cell+Type%22%2C+%22Stroma+%26+Innate+Immune%22%5D%2C+%22color%22%3A+%5B165%2C+42%2C+42%5D%7D%2C+%7B%22path%22%3A+%5B%22Cell+Type%22%2C+%22Transit+Amplifying+Zone%22%5D%2C+%22color%22%3A+%5B0%2C+0%2C+139%5D%7D%5D%7D%7D%2C+%22layout%22%3A+%5B%7B%22component%22%3A+%22spatial%22%2C+%22coordinationScopes%22%3A+%7B%22dataset%22%3A+%22A%22%2C+%22spatialZoom%22%3A+%22A%22%2C+%22spatialTargetX%22%3A+%22A%22%2C+%22spatialTargetY%22%3A+%22A%22%2C+%22spatialSegmentationLayer%22%3A+%22A%22%2C+%22obsSetColor%22%3A+%22A%22%7D%2C+%22x%22%3A+0.0%2C+%22y%22%3A+0%2C+%22w%22%3A+6.0%2C+%22h%22%3A+12%7D%2C+%7B%22component%22%3A+%22layerController%22%2C+%22coordinationScopes%22%3A+%7B%22dataset%22%3A+%22A%22%2C+%22spatialZoom%22%3A+%22A%22%2C+%22spatialTargetX%22%3A+%22A%22%2C+%22spatialTargetY%22%3A+%22A%22%2C+%22spatialSegmentationLayer%22%3A+%22A%22%2C+%22obsSetColor%22%3A+%22A%22%7D%2C+%22x%22%3A+6.0%2C+%22y%22%3A+0.0%2C+%22w%22%3A+6.0%2C+%22h%22%3A+6.0%7D%2C+%7B%22component%22%3A+%22obsSets%22%2C+%22coordinationScopes%22%3A+%7B%22dataset%22%3A+%22A%22%2C+%22obsSetColor%22%3A+%22A%22%7D%2C+%22x%22%3A+6.0%2C+%22y%22%3A+6.0%2C+%22w%22%3A+6.0%2C+%22h%22%3A+6.0%7D%5D%2C+%22initStrategy%22%3A+%22auto%22%7D\" target=\"_blank\">View on Vitessce.io</a>"
            ]
          },
          "metadata": {}
        },
        {
          "output_type": "stream",
          "name": "stdout",
          "text": [
            "\tUpdating 'spatial' component 'width' from 6.0 to 10.0\n",
            "\tUpdating 'layerController' component 'x' from 6.0 to 10.0\n",
            "\tUpdating 'layerController' component 'width' from 6.0 to 2\n",
            "\tUpdating 'obsSets' component 'x' from 6.0 to 10.0\n",
            "\tUpdating 'obsSets' component 'width' from 6.0 to 2\n",
            "41\n",
            "./images/Region_41_mask.pyramid.ome.tif\n"
          ]
        },
        {
          "output_type": "display_data",
          "data": {
            "text/plain": [
              "<IPython.core.display.HTML object>"
            ],
            "text/html": [
              "<a href=\"http://vitessce.io/#?theme=light&url=data:,%7B%22version%22%3A+%221.0.15%22%2C+%22name%22%3A+%22Transcriptomics+example%22%2C+%22description%22%3A+%22%22%2C+%22datasets%22%3A+%5B%7B%22uid%22%3A+%22A%22%2C+%22name%22%3A+%22Cell+segmentations%22%2C+%22files%22%3A+%5B%7B%22fileType%22%3A+%22raster.json%22%2C+%22options%22%3A+%7B%22schemaVersion%22%3A+%220.0.2%22%2C+%22images%22%3A+%5B%7B%22name%22%3A+%22Region+41+Segmentations%22%2C+%22type%22%3A+%22ome-tiff%22%2C+%22url%22%3A+%22http%3A%2F%2Flocalhost%3A8040%2FA%2F0%2Fc93480a1-2cab-4580-830e-0e9a66d715ae%22%2C+%22metadata%22%3A+%7B%22omeTiffOffsetsUrl%22%3A+%22http%3A%2F%2Flocalhost%3A8040%2FA%2F0%2Fd0d9f43f-e88d-4b4f-b4bf-92fff37e17e8%22%2C+%22isBitmask%22%3A+true%7D%7D%5D%7D%7D%2C+%7B%22fileType%22%3A+%22obsSets.csv%22%2C+%22url%22%3A+%22http%3A%2F%2Flocalhost%3A8040%2FA%2F1%2F9030d56b-cc3d-4e4f-bc01-10ef889766f0%22%2C+%22options%22%3A+%7B%22obsIndex%22%3A+%22cell_id%22%2C+%22obsSets%22%3A+%5B%7B%22name%22%3A+%22Cell+Type%22%2C+%22column%22%3A+%22cell_type%22%7D%5D%7D%7D%5D%7D%5D%2C+%22coordinationSpace%22%3A+%7B%22dataset%22%3A+%7B%22A%22%3A+%22A%22%7D%2C+%22spatialZoom%22%3A+%7B%22A%22%3A+-3%7D%2C+%22spatialTargetX%22%3A+%7B%22A%22%3A+3000%7D%2C+%22spatialTargetY%22%3A+%7B%22A%22%3A+3000%7D%2C+%22spatialSegmentationLayer%22%3A+%7B%22A%22%3A+%5B%7B%22type%22%3A+%22bitmask%22%2C+%22index%22%3A+0%2C+%22visible%22%3A+true%2C+%22colormap%22%3A+null%2C+%22opacity%22%3A+1%2C+%22domainType%22%3A+%22Min%2FMax%22%2C+%22transparentColor%22%3A+null%2C+%22renderingMode%22%3A+%22Additive%22%2C+%22use3d%22%3A+false%2C+%22channels%22%3A+%5B%7B%22selection%22%3A+%7B%22c%22%3A+0%2C+%22t%22%3A+0%2C+%22z%22%3A+0%7D%2C+%22color%22%3A+%5B0%2C+0%2C+0%5D%2C+%22visible%22%3A+true%2C+%22slider%22%3A+%5B0%2C+1%5D%7D%2C+%7B%22selection%22%3A+%7B%22c%22%3A+1%2C+%22t%22%3A+0%2C+%22z%22%3A+0%7D%2C+%22color%22%3A+%5B0%2C+0%2C+0%5D%2C+%22visible%22%3A+true%2C+%22slider%22%3A+%5B1%2C+2%5D%7D%2C+%7B%22selection%22%3A+%7B%22c%22%3A+2%2C+%22t%22%3A+0%2C+%22z%22%3A+0%7D%2C+%22color%22%3A+%5B0%2C+0%2C+0%5D%2C+%22visible%22%3A+true%2C+%22slider%22%3A+%5B2%2C+3%5D%7D%5D%7D%5D%7D%2C+%22obsSetColor%22%3A+%7B%22A%22%3A+%5B%7B%22path%22%3A+%5B%22Cell+Type%22%2C+%22Adatpive+Immune+Enriched%22%5D%2C+%22color%22%3A+%5B255%2C+165%2C+0%5D%7D%2C+%7B%22path%22%3A+%5B%22Cell+Type%22%2C+%22CD66%2B+Mature+Epithelial%22%5D%2C+%22color%22%3A+%5B178%2C+34%2C+34%5D%7D%2C+%7B%22path%22%3A+%5B%22Cell+Type%22%2C+%22CD8%2B+T+Enriched+IEL%22%5D%2C+%22color%22%3A+%5B0%2C+128%2C+0%5D%7D%2C+%7B%22path%22%3A+%5B%22Cell+Type%22%2C+%22Glandular+Epithelial%22%5D%2C+%22color%22%3A+%5B255%2C+140%2C+0%5D%7D%2C+%7B%22path%22%3A+%5B%22Cell+Type%22%2C+%22Innate+Immune+Enriched%22%5D%2C+%22color%22%3A+%5B135%2C+206%2C+235%5D%7D%2C+%7B%22path%22%3A+%5B%22Cell+Type%22%2C+%22Inner+Follicle%22%5D%2C+%22color%22%3A+%5B0%2C+0%2C+255%5D%7D%2C+%7B%22path%22%3A+%5B%22Cell+Type%22%2C+%22Innervated+Smooth+Muscle%22%5D%2C+%22color%22%3A+%5B144%2C+238%2C+144%5D%7D%2C+%7B%22path%22%3A+%5B%22Cell+Type%22%2C+%22Innervated+Stroma%22%5D%2C+%22color%22%3A+%5B138%2C+43%2C+226%5D%7D%2C+%7B%22path%22%3A+%5B%22Cell+Type%22%2C+%22Macrovasculature%22%5D%2C+%22color%22%3A+%5B255%2C+215%2C+0%5D%7D%2C+%7B%22path%22%3A+%5B%22Cell+Type%22%2C+%22Mature+Epithelial%22%5D%2C+%22color%22%3A+%5B255%2C+0%2C+255%5D%7D%2C+%7B%22path%22%3A+%5B%22Cell+Type%22%2C+%22Microvasculature%22%5D%2C+%22color%22%3A+%5B0%2C+0%2C+0%5D%7D%2C+%7B%22path%22%3A+%5B%22Cell+Type%22%2C+%22Outer+Follicle%22%5D%2C+%22color%22%3A+%5B0%2C+0%2C+128%5D%7D%2C+%7B%22path%22%3A+%5B%22Cell+Type%22%2C+%22Paneth+Enriched%22%5D%2C+%22color%22%3A+%5B173%2C+216%2C+230%5D%7D%2C+%7B%22path%22%3A+%5B%22Cell+Type%22%2C+%22Plasma+Cell+Enriched%22%5D%2C+%22color%22%3A+%5B255%2C+255%2C+0%5D%7D%2C+%7B%22path%22%3A+%5B%22Cell+Type%22%2C+%22Secretory+Epithelial%22%5D%2C+%22color%22%3A+%5B154%2C+205%2C+50%5D%7D%2C+%7B%22path%22%3A+%5B%22Cell+Type%22%2C+%22Smooth+Muscle%22%5D%2C+%22color%22%3A+%5B255%2C+0%2C+0%5D%7D%2C+%7B%22path%22%3A+%5B%22Cell+Type%22%2C+%22Smooth+Muscle+%26+Innate+Immune%22%5D%2C+%22color%22%3A+%5B210%2C+180%2C+140%5D%7D%2C+%7B%22path%22%3A+%5B%22Cell+Type%22%2C+%22Stroma%22%5D%2C+%22color%22%3A+%5B128%2C+128%2C+128%5D%7D%2C+%7B%22path%22%3A+%5B%22Cell+Type%22%2C+%22Stroma+%26+Innate+Immune%22%5D%2C+%22color%22%3A+%5B165%2C+42%2C+42%5D%7D%2C+%7B%22path%22%3A+%5B%22Cell+Type%22%2C+%22Transit+Amplifying+Zone%22%5D%2C+%22color%22%3A+%5B0%2C+0%2C+139%5D%7D%5D%7D%7D%2C+%22layout%22%3A+%5B%7B%22component%22%3A+%22spatial%22%2C+%22coordinationScopes%22%3A+%7B%22dataset%22%3A+%22A%22%2C+%22spatialZoom%22%3A+%22A%22%2C+%22spatialTargetX%22%3A+%22A%22%2C+%22spatialTargetY%22%3A+%22A%22%2C+%22spatialSegmentationLayer%22%3A+%22A%22%2C+%22obsSetColor%22%3A+%22A%22%7D%2C+%22x%22%3A+0.0%2C+%22y%22%3A+0%2C+%22w%22%3A+6.0%2C+%22h%22%3A+12%7D%2C+%7B%22component%22%3A+%22layerController%22%2C+%22coordinationScopes%22%3A+%7B%22dataset%22%3A+%22A%22%2C+%22spatialZoom%22%3A+%22A%22%2C+%22spatialTargetX%22%3A+%22A%22%2C+%22spatialTargetY%22%3A+%22A%22%2C+%22spatialSegmentationLayer%22%3A+%22A%22%2C+%22obsSetColor%22%3A+%22A%22%7D%2C+%22x%22%3A+6.0%2C+%22y%22%3A+0.0%2C+%22w%22%3A+6.0%2C+%22h%22%3A+6.0%7D%2C+%7B%22component%22%3A+%22obsSets%22%2C+%22coordinationScopes%22%3A+%7B%22dataset%22%3A+%22A%22%2C+%22obsSetColor%22%3A+%22A%22%7D%2C+%22x%22%3A+6.0%2C+%22y%22%3A+6.0%2C+%22w%22%3A+6.0%2C+%22h%22%3A+6.0%7D%5D%2C+%22initStrategy%22%3A+%22auto%22%7D\" target=\"_blank\">View on Vitessce.io</a>"
            ]
          },
          "metadata": {}
        },
        {
          "output_type": "stream",
          "name": "stdout",
          "text": [
            "\tUpdating 'spatial' component 'width' from 6.0 to 10.0\n",
            "\tUpdating 'layerController' component 'x' from 6.0 to 10.0\n",
            "\tUpdating 'layerController' component 'width' from 6.0 to 2\n",
            "\tUpdating 'obsSets' component 'x' from 6.0 to 10.0\n",
            "\tUpdating 'obsSets' component 'width' from 6.0 to 2\n",
            "42\n",
            "./images/Region_42_mask.pyramid.ome.tif\n"
          ]
        },
        {
          "output_type": "display_data",
          "data": {
            "text/plain": [
              "<IPython.core.display.HTML object>"
            ],
            "text/html": [
              "<a href=\"http://vitessce.io/#?theme=light&url=data:,%7B%22version%22%3A+%221.0.15%22%2C+%22name%22%3A+%22Transcriptomics+example%22%2C+%22description%22%3A+%22%22%2C+%22datasets%22%3A+%5B%7B%22uid%22%3A+%22A%22%2C+%22name%22%3A+%22Cell+segmentations%22%2C+%22files%22%3A+%5B%7B%22fileType%22%3A+%22raster.json%22%2C+%22options%22%3A+%7B%22schemaVersion%22%3A+%220.0.2%22%2C+%22images%22%3A+%5B%7B%22name%22%3A+%22Region+42+Segmentations%22%2C+%22type%22%3A+%22ome-tiff%22%2C+%22url%22%3A+%22http%3A%2F%2Flocalhost%3A8041%2FA%2F0%2Fb3270c4f-ed9b-42d4-9c67-03625ec34986%22%2C+%22metadata%22%3A+%7B%22omeTiffOffsetsUrl%22%3A+%22http%3A%2F%2Flocalhost%3A8041%2FA%2F0%2F72a9673e-4633-49c6-929c-a4e762374d6f%22%2C+%22isBitmask%22%3A+true%7D%7D%5D%7D%7D%2C+%7B%22fileType%22%3A+%22obsSets.csv%22%2C+%22url%22%3A+%22http%3A%2F%2Flocalhost%3A8041%2FA%2F1%2Fa0baa3e8-e1f0-46ab-beee-aa7df4f1acd1%22%2C+%22options%22%3A+%7B%22obsIndex%22%3A+%22cell_id%22%2C+%22obsSets%22%3A+%5B%7B%22name%22%3A+%22Cell+Type%22%2C+%22column%22%3A+%22cell_type%22%7D%5D%7D%7D%5D%7D%5D%2C+%22coordinationSpace%22%3A+%7B%22dataset%22%3A+%7B%22A%22%3A+%22A%22%7D%2C+%22spatialZoom%22%3A+%7B%22A%22%3A+-3%7D%2C+%22spatialTargetX%22%3A+%7B%22A%22%3A+3000%7D%2C+%22spatialTargetY%22%3A+%7B%22A%22%3A+3000%7D%2C+%22spatialSegmentationLayer%22%3A+%7B%22A%22%3A+%5B%7B%22type%22%3A+%22bitmask%22%2C+%22index%22%3A+0%2C+%22visible%22%3A+true%2C+%22colormap%22%3A+null%2C+%22opacity%22%3A+1%2C+%22domainType%22%3A+%22Min%2FMax%22%2C+%22transparentColor%22%3A+null%2C+%22renderingMode%22%3A+%22Additive%22%2C+%22use3d%22%3A+false%2C+%22channels%22%3A+%5B%7B%22selection%22%3A+%7B%22c%22%3A+0%2C+%22t%22%3A+0%2C+%22z%22%3A+0%7D%2C+%22color%22%3A+%5B0%2C+0%2C+0%5D%2C+%22visible%22%3A+true%2C+%22slider%22%3A+%5B0%2C+1%5D%7D%2C+%7B%22selection%22%3A+%7B%22c%22%3A+1%2C+%22t%22%3A+0%2C+%22z%22%3A+0%7D%2C+%22color%22%3A+%5B0%2C+0%2C+0%5D%2C+%22visible%22%3A+true%2C+%22slider%22%3A+%5B1%2C+2%5D%7D%2C+%7B%22selection%22%3A+%7B%22c%22%3A+2%2C+%22t%22%3A+0%2C+%22z%22%3A+0%7D%2C+%22color%22%3A+%5B0%2C+0%2C+0%5D%2C+%22visible%22%3A+true%2C+%22slider%22%3A+%5B2%2C+3%5D%7D%5D%7D%5D%7D%2C+%22obsSetColor%22%3A+%7B%22A%22%3A+%5B%7B%22path%22%3A+%5B%22Cell+Type%22%2C+%22Adatpive+Immune+Enriched%22%5D%2C+%22color%22%3A+%5B255%2C+165%2C+0%5D%7D%2C+%7B%22path%22%3A+%5B%22Cell+Type%22%2C+%22CD66%2B+Mature+Epithelial%22%5D%2C+%22color%22%3A+%5B178%2C+34%2C+34%5D%7D%2C+%7B%22path%22%3A+%5B%22Cell+Type%22%2C+%22CD8%2B+T+Enriched+IEL%22%5D%2C+%22color%22%3A+%5B0%2C+128%2C+0%5D%7D%2C+%7B%22path%22%3A+%5B%22Cell+Type%22%2C+%22Glandular+Epithelial%22%5D%2C+%22color%22%3A+%5B255%2C+140%2C+0%5D%7D%2C+%7B%22path%22%3A+%5B%22Cell+Type%22%2C+%22Innate+Immune+Enriched%22%5D%2C+%22color%22%3A+%5B135%2C+206%2C+235%5D%7D%2C+%7B%22path%22%3A+%5B%22Cell+Type%22%2C+%22Inner+Follicle%22%5D%2C+%22color%22%3A+%5B0%2C+0%2C+255%5D%7D%2C+%7B%22path%22%3A+%5B%22Cell+Type%22%2C+%22Innervated+Smooth+Muscle%22%5D%2C+%22color%22%3A+%5B144%2C+238%2C+144%5D%7D%2C+%7B%22path%22%3A+%5B%22Cell+Type%22%2C+%22Innervated+Stroma%22%5D%2C+%22color%22%3A+%5B138%2C+43%2C+226%5D%7D%2C+%7B%22path%22%3A+%5B%22Cell+Type%22%2C+%22Macrovasculature%22%5D%2C+%22color%22%3A+%5B255%2C+215%2C+0%5D%7D%2C+%7B%22path%22%3A+%5B%22Cell+Type%22%2C+%22Mature+Epithelial%22%5D%2C+%22color%22%3A+%5B255%2C+0%2C+255%5D%7D%2C+%7B%22path%22%3A+%5B%22Cell+Type%22%2C+%22Microvasculature%22%5D%2C+%22color%22%3A+%5B0%2C+0%2C+0%5D%7D%2C+%7B%22path%22%3A+%5B%22Cell+Type%22%2C+%22Outer+Follicle%22%5D%2C+%22color%22%3A+%5B0%2C+0%2C+128%5D%7D%2C+%7B%22path%22%3A+%5B%22Cell+Type%22%2C+%22Paneth+Enriched%22%5D%2C+%22color%22%3A+%5B173%2C+216%2C+230%5D%7D%2C+%7B%22path%22%3A+%5B%22Cell+Type%22%2C+%22Plasma+Cell+Enriched%22%5D%2C+%22color%22%3A+%5B255%2C+255%2C+0%5D%7D%2C+%7B%22path%22%3A+%5B%22Cell+Type%22%2C+%22Secretory+Epithelial%22%5D%2C+%22color%22%3A+%5B154%2C+205%2C+50%5D%7D%2C+%7B%22path%22%3A+%5B%22Cell+Type%22%2C+%22Smooth+Muscle%22%5D%2C+%22color%22%3A+%5B255%2C+0%2C+0%5D%7D%2C+%7B%22path%22%3A+%5B%22Cell+Type%22%2C+%22Smooth+Muscle+%26+Innate+Immune%22%5D%2C+%22color%22%3A+%5B210%2C+180%2C+140%5D%7D%2C+%7B%22path%22%3A+%5B%22Cell+Type%22%2C+%22Stroma%22%5D%2C+%22color%22%3A+%5B128%2C+128%2C+128%5D%7D%2C+%7B%22path%22%3A+%5B%22Cell+Type%22%2C+%22Stroma+%26+Innate+Immune%22%5D%2C+%22color%22%3A+%5B165%2C+42%2C+42%5D%7D%2C+%7B%22path%22%3A+%5B%22Cell+Type%22%2C+%22Transit+Amplifying+Zone%22%5D%2C+%22color%22%3A+%5B0%2C+0%2C+139%5D%7D%5D%7D%7D%2C+%22layout%22%3A+%5B%7B%22component%22%3A+%22spatial%22%2C+%22coordinationScopes%22%3A+%7B%22dataset%22%3A+%22A%22%2C+%22spatialZoom%22%3A+%22A%22%2C+%22spatialTargetX%22%3A+%22A%22%2C+%22spatialTargetY%22%3A+%22A%22%2C+%22spatialSegmentationLayer%22%3A+%22A%22%2C+%22obsSetColor%22%3A+%22A%22%7D%2C+%22x%22%3A+0.0%2C+%22y%22%3A+0%2C+%22w%22%3A+6.0%2C+%22h%22%3A+12%7D%2C+%7B%22component%22%3A+%22layerController%22%2C+%22coordinationScopes%22%3A+%7B%22dataset%22%3A+%22A%22%2C+%22spatialZoom%22%3A+%22A%22%2C+%22spatialTargetX%22%3A+%22A%22%2C+%22spatialTargetY%22%3A+%22A%22%2C+%22spatialSegmentationLayer%22%3A+%22A%22%2C+%22obsSetColor%22%3A+%22A%22%7D%2C+%22x%22%3A+6.0%2C+%22y%22%3A+0.0%2C+%22w%22%3A+6.0%2C+%22h%22%3A+6.0%7D%2C+%7B%22component%22%3A+%22obsSets%22%2C+%22coordinationScopes%22%3A+%7B%22dataset%22%3A+%22A%22%2C+%22obsSetColor%22%3A+%22A%22%7D%2C+%22x%22%3A+6.0%2C+%22y%22%3A+6.0%2C+%22w%22%3A+6.0%2C+%22h%22%3A+6.0%7D%5D%2C+%22initStrategy%22%3A+%22auto%22%7D\" target=\"_blank\">View on Vitessce.io</a>"
            ]
          },
          "metadata": {}
        },
        {
          "output_type": "stream",
          "name": "stdout",
          "text": [
            "\tUpdating 'spatial' component 'width' from 6.0 to 10.0\n",
            "\tUpdating 'layerController' component 'x' from 6.0 to 10.0\n",
            "\tUpdating 'layerController' component 'width' from 6.0 to 2\n",
            "\tUpdating 'obsSets' component 'x' from 6.0 to 10.0\n",
            "\tUpdating 'obsSets' component 'width' from 6.0 to 2\n",
            "43\n",
            "./images/Region_43_mask.pyramid.ome.tif\n"
          ]
        },
        {
          "output_type": "display_data",
          "data": {
            "text/plain": [
              "<IPython.core.display.HTML object>"
            ],
            "text/html": [
              "<a href=\"http://vitessce.io/#?theme=light&url=data:,%7B%22version%22%3A+%221.0.15%22%2C+%22name%22%3A+%22Transcriptomics+example%22%2C+%22description%22%3A+%22%22%2C+%22datasets%22%3A+%5B%7B%22uid%22%3A+%22A%22%2C+%22name%22%3A+%22Cell+segmentations%22%2C+%22files%22%3A+%5B%7B%22fileType%22%3A+%22raster.json%22%2C+%22options%22%3A+%7B%22schemaVersion%22%3A+%220.0.2%22%2C+%22images%22%3A+%5B%7B%22name%22%3A+%22Region+43+Segmentations%22%2C+%22type%22%3A+%22ome-tiff%22%2C+%22url%22%3A+%22http%3A%2F%2Flocalhost%3A8042%2FA%2F0%2F741e18a9-8e9e-4c1e-b776-2b6d8eb3821a%22%2C+%22metadata%22%3A+%7B%22omeTiffOffsetsUrl%22%3A+%22http%3A%2F%2Flocalhost%3A8042%2FA%2F0%2F1289b2df-dfa7-4493-92e5-c40d1ce91aad%22%2C+%22isBitmask%22%3A+true%7D%7D%5D%7D%7D%2C+%7B%22fileType%22%3A+%22obsSets.csv%22%2C+%22url%22%3A+%22http%3A%2F%2Flocalhost%3A8042%2FA%2F1%2F22ee8ff4-b69f-428b-b625-06a268313f1a%22%2C+%22options%22%3A+%7B%22obsIndex%22%3A+%22cell_id%22%2C+%22obsSets%22%3A+%5B%7B%22name%22%3A+%22Cell+Type%22%2C+%22column%22%3A+%22cell_type%22%7D%5D%7D%7D%5D%7D%5D%2C+%22coordinationSpace%22%3A+%7B%22dataset%22%3A+%7B%22A%22%3A+%22A%22%7D%2C+%22spatialZoom%22%3A+%7B%22A%22%3A+-3%7D%2C+%22spatialTargetX%22%3A+%7B%22A%22%3A+3000%7D%2C+%22spatialTargetY%22%3A+%7B%22A%22%3A+3000%7D%2C+%22spatialSegmentationLayer%22%3A+%7B%22A%22%3A+%5B%7B%22type%22%3A+%22bitmask%22%2C+%22index%22%3A+0%2C+%22visible%22%3A+true%2C+%22colormap%22%3A+null%2C+%22opacity%22%3A+1%2C+%22domainType%22%3A+%22Min%2FMax%22%2C+%22transparentColor%22%3A+null%2C+%22renderingMode%22%3A+%22Additive%22%2C+%22use3d%22%3A+false%2C+%22channels%22%3A+%5B%7B%22selection%22%3A+%7B%22c%22%3A+0%2C+%22t%22%3A+0%2C+%22z%22%3A+0%7D%2C+%22color%22%3A+%5B0%2C+0%2C+0%5D%2C+%22visible%22%3A+true%2C+%22slider%22%3A+%5B0%2C+1%5D%7D%2C+%7B%22selection%22%3A+%7B%22c%22%3A+1%2C+%22t%22%3A+0%2C+%22z%22%3A+0%7D%2C+%22color%22%3A+%5B0%2C+0%2C+0%5D%2C+%22visible%22%3A+true%2C+%22slider%22%3A+%5B1%2C+2%5D%7D%2C+%7B%22selection%22%3A+%7B%22c%22%3A+2%2C+%22t%22%3A+0%2C+%22z%22%3A+0%7D%2C+%22color%22%3A+%5B0%2C+0%2C+0%5D%2C+%22visible%22%3A+true%2C+%22slider%22%3A+%5B2%2C+3%5D%7D%5D%7D%5D%7D%2C+%22obsSetColor%22%3A+%7B%22A%22%3A+%5B%7B%22path%22%3A+%5B%22Cell+Type%22%2C+%22Adatpive+Immune+Enriched%22%5D%2C+%22color%22%3A+%5B255%2C+165%2C+0%5D%7D%2C+%7B%22path%22%3A+%5B%22Cell+Type%22%2C+%22CD66%2B+Mature+Epithelial%22%5D%2C+%22color%22%3A+%5B178%2C+34%2C+34%5D%7D%2C+%7B%22path%22%3A+%5B%22Cell+Type%22%2C+%22CD8%2B+T+Enriched+IEL%22%5D%2C+%22color%22%3A+%5B0%2C+128%2C+0%5D%7D%2C+%7B%22path%22%3A+%5B%22Cell+Type%22%2C+%22Glandular+Epithelial%22%5D%2C+%22color%22%3A+%5B255%2C+140%2C+0%5D%7D%2C+%7B%22path%22%3A+%5B%22Cell+Type%22%2C+%22Innate+Immune+Enriched%22%5D%2C+%22color%22%3A+%5B135%2C+206%2C+235%5D%7D%2C+%7B%22path%22%3A+%5B%22Cell+Type%22%2C+%22Inner+Follicle%22%5D%2C+%22color%22%3A+%5B0%2C+0%2C+255%5D%7D%2C+%7B%22path%22%3A+%5B%22Cell+Type%22%2C+%22Innervated+Smooth+Muscle%22%5D%2C+%22color%22%3A+%5B144%2C+238%2C+144%5D%7D%2C+%7B%22path%22%3A+%5B%22Cell+Type%22%2C+%22Innervated+Stroma%22%5D%2C+%22color%22%3A+%5B138%2C+43%2C+226%5D%7D%2C+%7B%22path%22%3A+%5B%22Cell+Type%22%2C+%22Macrovasculature%22%5D%2C+%22color%22%3A+%5B255%2C+215%2C+0%5D%7D%2C+%7B%22path%22%3A+%5B%22Cell+Type%22%2C+%22Mature+Epithelial%22%5D%2C+%22color%22%3A+%5B255%2C+0%2C+255%5D%7D%2C+%7B%22path%22%3A+%5B%22Cell+Type%22%2C+%22Microvasculature%22%5D%2C+%22color%22%3A+%5B0%2C+0%2C+0%5D%7D%2C+%7B%22path%22%3A+%5B%22Cell+Type%22%2C+%22Outer+Follicle%22%5D%2C+%22color%22%3A+%5B0%2C+0%2C+128%5D%7D%2C+%7B%22path%22%3A+%5B%22Cell+Type%22%2C+%22Paneth+Enriched%22%5D%2C+%22color%22%3A+%5B173%2C+216%2C+230%5D%7D%2C+%7B%22path%22%3A+%5B%22Cell+Type%22%2C+%22Plasma+Cell+Enriched%22%5D%2C+%22color%22%3A+%5B255%2C+255%2C+0%5D%7D%2C+%7B%22path%22%3A+%5B%22Cell+Type%22%2C+%22Secretory+Epithelial%22%5D%2C+%22color%22%3A+%5B154%2C+205%2C+50%5D%7D%2C+%7B%22path%22%3A+%5B%22Cell+Type%22%2C+%22Smooth+Muscle%22%5D%2C+%22color%22%3A+%5B255%2C+0%2C+0%5D%7D%2C+%7B%22path%22%3A+%5B%22Cell+Type%22%2C+%22Smooth+Muscle+%26+Innate+Immune%22%5D%2C+%22color%22%3A+%5B210%2C+180%2C+140%5D%7D%2C+%7B%22path%22%3A+%5B%22Cell+Type%22%2C+%22Stroma%22%5D%2C+%22color%22%3A+%5B128%2C+128%2C+128%5D%7D%2C+%7B%22path%22%3A+%5B%22Cell+Type%22%2C+%22Stroma+%26+Innate+Immune%22%5D%2C+%22color%22%3A+%5B165%2C+42%2C+42%5D%7D%2C+%7B%22path%22%3A+%5B%22Cell+Type%22%2C+%22Transit+Amplifying+Zone%22%5D%2C+%22color%22%3A+%5B0%2C+0%2C+139%5D%7D%5D%7D%7D%2C+%22layout%22%3A+%5B%7B%22component%22%3A+%22spatial%22%2C+%22coordinationScopes%22%3A+%7B%22dataset%22%3A+%22A%22%2C+%22spatialZoom%22%3A+%22A%22%2C+%22spatialTargetX%22%3A+%22A%22%2C+%22spatialTargetY%22%3A+%22A%22%2C+%22spatialSegmentationLayer%22%3A+%22A%22%2C+%22obsSetColor%22%3A+%22A%22%7D%2C+%22x%22%3A+0.0%2C+%22y%22%3A+0%2C+%22w%22%3A+6.0%2C+%22h%22%3A+12%7D%2C+%7B%22component%22%3A+%22layerController%22%2C+%22coordinationScopes%22%3A+%7B%22dataset%22%3A+%22A%22%2C+%22spatialZoom%22%3A+%22A%22%2C+%22spatialTargetX%22%3A+%22A%22%2C+%22spatialTargetY%22%3A+%22A%22%2C+%22spatialSegmentationLayer%22%3A+%22A%22%2C+%22obsSetColor%22%3A+%22A%22%7D%2C+%22x%22%3A+6.0%2C+%22y%22%3A+0.0%2C+%22w%22%3A+6.0%2C+%22h%22%3A+6.0%7D%2C+%7B%22component%22%3A+%22obsSets%22%2C+%22coordinationScopes%22%3A+%7B%22dataset%22%3A+%22A%22%2C+%22obsSetColor%22%3A+%22A%22%7D%2C+%22x%22%3A+6.0%2C+%22y%22%3A+6.0%2C+%22w%22%3A+6.0%2C+%22h%22%3A+6.0%7D%5D%2C+%22initStrategy%22%3A+%22auto%22%7D\" target=\"_blank\">View on Vitessce.io</a>"
            ]
          },
          "metadata": {}
        },
        {
          "output_type": "stream",
          "name": "stdout",
          "text": [
            "\tUpdating 'spatial' component 'width' from 6.0 to 10.0\n",
            "\tUpdating 'layerController' component 'x' from 6.0 to 10.0\n",
            "\tUpdating 'layerController' component 'width' from 6.0 to 2\n",
            "\tUpdating 'obsSets' component 'x' from 6.0 to 10.0\n",
            "\tUpdating 'obsSets' component 'width' from 6.0 to 2\n",
            "44\n",
            "./images/Region_44_mask.pyramid.ome.tif\n"
          ]
        },
        {
          "output_type": "display_data",
          "data": {
            "text/plain": [
              "<IPython.core.display.HTML object>"
            ],
            "text/html": [
              "<a href=\"http://vitessce.io/#?theme=light&url=data:,%7B%22version%22%3A+%221.0.15%22%2C+%22name%22%3A+%22Transcriptomics+example%22%2C+%22description%22%3A+%22%22%2C+%22datasets%22%3A+%5B%7B%22uid%22%3A+%22A%22%2C+%22name%22%3A+%22Cell+segmentations%22%2C+%22files%22%3A+%5B%7B%22fileType%22%3A+%22raster.json%22%2C+%22options%22%3A+%7B%22schemaVersion%22%3A+%220.0.2%22%2C+%22images%22%3A+%5B%7B%22name%22%3A+%22Region+44+Segmentations%22%2C+%22type%22%3A+%22ome-tiff%22%2C+%22url%22%3A+%22http%3A%2F%2Flocalhost%3A8043%2FA%2F0%2F7320ea47-9146-4543-92e6-22a447835468%22%2C+%22metadata%22%3A+%7B%22omeTiffOffsetsUrl%22%3A+%22http%3A%2F%2Flocalhost%3A8043%2FA%2F0%2F4fbfee24-6f01-4603-a267-ea4948ca084c%22%2C+%22isBitmask%22%3A+true%7D%7D%5D%7D%7D%2C+%7B%22fileType%22%3A+%22obsSets.csv%22%2C+%22url%22%3A+%22http%3A%2F%2Flocalhost%3A8043%2FA%2F1%2F3384612e-646e-4ab2-85d0-bb02c7241b4d%22%2C+%22options%22%3A+%7B%22obsIndex%22%3A+%22cell_id%22%2C+%22obsSets%22%3A+%5B%7B%22name%22%3A+%22Cell+Type%22%2C+%22column%22%3A+%22cell_type%22%7D%5D%7D%7D%5D%7D%5D%2C+%22coordinationSpace%22%3A+%7B%22dataset%22%3A+%7B%22A%22%3A+%22A%22%7D%2C+%22spatialZoom%22%3A+%7B%22A%22%3A+-3%7D%2C+%22spatialTargetX%22%3A+%7B%22A%22%3A+3000%7D%2C+%22spatialTargetY%22%3A+%7B%22A%22%3A+3000%7D%2C+%22spatialSegmentationLayer%22%3A+%7B%22A%22%3A+%5B%7B%22type%22%3A+%22bitmask%22%2C+%22index%22%3A+0%2C+%22visible%22%3A+true%2C+%22colormap%22%3A+null%2C+%22opacity%22%3A+1%2C+%22domainType%22%3A+%22Min%2FMax%22%2C+%22transparentColor%22%3A+null%2C+%22renderingMode%22%3A+%22Additive%22%2C+%22use3d%22%3A+false%2C+%22channels%22%3A+%5B%7B%22selection%22%3A+%7B%22c%22%3A+0%2C+%22t%22%3A+0%2C+%22z%22%3A+0%7D%2C+%22color%22%3A+%5B0%2C+0%2C+0%5D%2C+%22visible%22%3A+true%2C+%22slider%22%3A+%5B0%2C+1%5D%7D%2C+%7B%22selection%22%3A+%7B%22c%22%3A+1%2C+%22t%22%3A+0%2C+%22z%22%3A+0%7D%2C+%22color%22%3A+%5B0%2C+0%2C+0%5D%2C+%22visible%22%3A+true%2C+%22slider%22%3A+%5B1%2C+2%5D%7D%2C+%7B%22selection%22%3A+%7B%22c%22%3A+2%2C+%22t%22%3A+0%2C+%22z%22%3A+0%7D%2C+%22color%22%3A+%5B0%2C+0%2C+0%5D%2C+%22visible%22%3A+true%2C+%22slider%22%3A+%5B2%2C+3%5D%7D%5D%7D%5D%7D%2C+%22obsSetColor%22%3A+%7B%22A%22%3A+%5B%7B%22path%22%3A+%5B%22Cell+Type%22%2C+%22Adatpive+Immune+Enriched%22%5D%2C+%22color%22%3A+%5B255%2C+165%2C+0%5D%7D%2C+%7B%22path%22%3A+%5B%22Cell+Type%22%2C+%22CD66%2B+Mature+Epithelial%22%5D%2C+%22color%22%3A+%5B178%2C+34%2C+34%5D%7D%2C+%7B%22path%22%3A+%5B%22Cell+Type%22%2C+%22CD8%2B+T+Enriched+IEL%22%5D%2C+%22color%22%3A+%5B0%2C+128%2C+0%5D%7D%2C+%7B%22path%22%3A+%5B%22Cell+Type%22%2C+%22Glandular+Epithelial%22%5D%2C+%22color%22%3A+%5B255%2C+140%2C+0%5D%7D%2C+%7B%22path%22%3A+%5B%22Cell+Type%22%2C+%22Innate+Immune+Enriched%22%5D%2C+%22color%22%3A+%5B135%2C+206%2C+235%5D%7D%2C+%7B%22path%22%3A+%5B%22Cell+Type%22%2C+%22Inner+Follicle%22%5D%2C+%22color%22%3A+%5B0%2C+0%2C+255%5D%7D%2C+%7B%22path%22%3A+%5B%22Cell+Type%22%2C+%22Innervated+Smooth+Muscle%22%5D%2C+%22color%22%3A+%5B144%2C+238%2C+144%5D%7D%2C+%7B%22path%22%3A+%5B%22Cell+Type%22%2C+%22Innervated+Stroma%22%5D%2C+%22color%22%3A+%5B138%2C+43%2C+226%5D%7D%2C+%7B%22path%22%3A+%5B%22Cell+Type%22%2C+%22Macrovasculature%22%5D%2C+%22color%22%3A+%5B255%2C+215%2C+0%5D%7D%2C+%7B%22path%22%3A+%5B%22Cell+Type%22%2C+%22Mature+Epithelial%22%5D%2C+%22color%22%3A+%5B255%2C+0%2C+255%5D%7D%2C+%7B%22path%22%3A+%5B%22Cell+Type%22%2C+%22Microvasculature%22%5D%2C+%22color%22%3A+%5B0%2C+0%2C+0%5D%7D%2C+%7B%22path%22%3A+%5B%22Cell+Type%22%2C+%22Outer+Follicle%22%5D%2C+%22color%22%3A+%5B0%2C+0%2C+128%5D%7D%2C+%7B%22path%22%3A+%5B%22Cell+Type%22%2C+%22Paneth+Enriched%22%5D%2C+%22color%22%3A+%5B173%2C+216%2C+230%5D%7D%2C+%7B%22path%22%3A+%5B%22Cell+Type%22%2C+%22Plasma+Cell+Enriched%22%5D%2C+%22color%22%3A+%5B255%2C+255%2C+0%5D%7D%2C+%7B%22path%22%3A+%5B%22Cell+Type%22%2C+%22Secretory+Epithelial%22%5D%2C+%22color%22%3A+%5B154%2C+205%2C+50%5D%7D%2C+%7B%22path%22%3A+%5B%22Cell+Type%22%2C+%22Smooth+Muscle%22%5D%2C+%22color%22%3A+%5B255%2C+0%2C+0%5D%7D%2C+%7B%22path%22%3A+%5B%22Cell+Type%22%2C+%22Smooth+Muscle+%26+Innate+Immune%22%5D%2C+%22color%22%3A+%5B210%2C+180%2C+140%5D%7D%2C+%7B%22path%22%3A+%5B%22Cell+Type%22%2C+%22Stroma%22%5D%2C+%22color%22%3A+%5B128%2C+128%2C+128%5D%7D%2C+%7B%22path%22%3A+%5B%22Cell+Type%22%2C+%22Stroma+%26+Innate+Immune%22%5D%2C+%22color%22%3A+%5B165%2C+42%2C+42%5D%7D%2C+%7B%22path%22%3A+%5B%22Cell+Type%22%2C+%22Transit+Amplifying+Zone%22%5D%2C+%22color%22%3A+%5B0%2C+0%2C+139%5D%7D%5D%7D%7D%2C+%22layout%22%3A+%5B%7B%22component%22%3A+%22spatial%22%2C+%22coordinationScopes%22%3A+%7B%22dataset%22%3A+%22A%22%2C+%22spatialZoom%22%3A+%22A%22%2C+%22spatialTargetX%22%3A+%22A%22%2C+%22spatialTargetY%22%3A+%22A%22%2C+%22spatialSegmentationLayer%22%3A+%22A%22%2C+%22obsSetColor%22%3A+%22A%22%7D%2C+%22x%22%3A+0.0%2C+%22y%22%3A+0%2C+%22w%22%3A+6.0%2C+%22h%22%3A+12%7D%2C+%7B%22component%22%3A+%22layerController%22%2C+%22coordinationScopes%22%3A+%7B%22dataset%22%3A+%22A%22%2C+%22spatialZoom%22%3A+%22A%22%2C+%22spatialTargetX%22%3A+%22A%22%2C+%22spatialTargetY%22%3A+%22A%22%2C+%22spatialSegmentationLayer%22%3A+%22A%22%2C+%22obsSetColor%22%3A+%22A%22%7D%2C+%22x%22%3A+6.0%2C+%22y%22%3A+0.0%2C+%22w%22%3A+6.0%2C+%22h%22%3A+6.0%7D%2C+%7B%22component%22%3A+%22obsSets%22%2C+%22coordinationScopes%22%3A+%7B%22dataset%22%3A+%22A%22%2C+%22obsSetColor%22%3A+%22A%22%7D%2C+%22x%22%3A+6.0%2C+%22y%22%3A+6.0%2C+%22w%22%3A+6.0%2C+%22h%22%3A+6.0%7D%5D%2C+%22initStrategy%22%3A+%22auto%22%7D\" target=\"_blank\">View on Vitessce.io</a>"
            ]
          },
          "metadata": {}
        },
        {
          "output_type": "stream",
          "name": "stdout",
          "text": [
            "\tUpdating 'spatial' component 'width' from 6.0 to 10.0\n",
            "\tUpdating 'layerController' component 'x' from 6.0 to 10.0\n",
            "\tUpdating 'layerController' component 'width' from 6.0 to 2\n",
            "\tUpdating 'obsSets' component 'x' from 6.0 to 10.0\n",
            "\tUpdating 'obsSets' component 'width' from 6.0 to 2\n",
            "45\n",
            "./images/Region_45_mask.pyramid.ome.tif\n"
          ]
        },
        {
          "output_type": "display_data",
          "data": {
            "text/plain": [
              "<IPython.core.display.HTML object>"
            ],
            "text/html": [
              "<a href=\"http://vitessce.io/#?theme=light&url=data:,%7B%22version%22%3A+%221.0.15%22%2C+%22name%22%3A+%22Transcriptomics+example%22%2C+%22description%22%3A+%22%22%2C+%22datasets%22%3A+%5B%7B%22uid%22%3A+%22A%22%2C+%22name%22%3A+%22Cell+segmentations%22%2C+%22files%22%3A+%5B%7B%22fileType%22%3A+%22raster.json%22%2C+%22options%22%3A+%7B%22schemaVersion%22%3A+%220.0.2%22%2C+%22images%22%3A+%5B%7B%22name%22%3A+%22Region+45+Segmentations%22%2C+%22type%22%3A+%22ome-tiff%22%2C+%22url%22%3A+%22http%3A%2F%2Flocalhost%3A8044%2FA%2F0%2F1c48009d-543c-46a9-a3a3-ab5aa676f075%22%2C+%22metadata%22%3A+%7B%22omeTiffOffsetsUrl%22%3A+%22http%3A%2F%2Flocalhost%3A8044%2FA%2F0%2F2bba800c-4ed5-4ca3-905a-e16b28b174af%22%2C+%22isBitmask%22%3A+true%7D%7D%5D%7D%7D%2C+%7B%22fileType%22%3A+%22obsSets.csv%22%2C+%22url%22%3A+%22http%3A%2F%2Flocalhost%3A8044%2FA%2F1%2Feffef847-d510-4d66-9aba-de3c14b5f988%22%2C+%22options%22%3A+%7B%22obsIndex%22%3A+%22cell_id%22%2C+%22obsSets%22%3A+%5B%7B%22name%22%3A+%22Cell+Type%22%2C+%22column%22%3A+%22cell_type%22%7D%5D%7D%7D%5D%7D%5D%2C+%22coordinationSpace%22%3A+%7B%22dataset%22%3A+%7B%22A%22%3A+%22A%22%7D%2C+%22spatialZoom%22%3A+%7B%22A%22%3A+-3%7D%2C+%22spatialTargetX%22%3A+%7B%22A%22%3A+3000%7D%2C+%22spatialTargetY%22%3A+%7B%22A%22%3A+3000%7D%2C+%22spatialSegmentationLayer%22%3A+%7B%22A%22%3A+%5B%7B%22type%22%3A+%22bitmask%22%2C+%22index%22%3A+0%2C+%22visible%22%3A+true%2C+%22colormap%22%3A+null%2C+%22opacity%22%3A+1%2C+%22domainType%22%3A+%22Min%2FMax%22%2C+%22transparentColor%22%3A+null%2C+%22renderingMode%22%3A+%22Additive%22%2C+%22use3d%22%3A+false%2C+%22channels%22%3A+%5B%7B%22selection%22%3A+%7B%22c%22%3A+0%2C+%22t%22%3A+0%2C+%22z%22%3A+0%7D%2C+%22color%22%3A+%5B0%2C+0%2C+0%5D%2C+%22visible%22%3A+true%2C+%22slider%22%3A+%5B0%2C+1%5D%7D%2C+%7B%22selection%22%3A+%7B%22c%22%3A+1%2C+%22t%22%3A+0%2C+%22z%22%3A+0%7D%2C+%22color%22%3A+%5B0%2C+0%2C+0%5D%2C+%22visible%22%3A+true%2C+%22slider%22%3A+%5B1%2C+2%5D%7D%2C+%7B%22selection%22%3A+%7B%22c%22%3A+2%2C+%22t%22%3A+0%2C+%22z%22%3A+0%7D%2C+%22color%22%3A+%5B0%2C+0%2C+0%5D%2C+%22visible%22%3A+true%2C+%22slider%22%3A+%5B2%2C+3%5D%7D%5D%7D%5D%7D%2C+%22obsSetColor%22%3A+%7B%22A%22%3A+%5B%7B%22path%22%3A+%5B%22Cell+Type%22%2C+%22Adatpive+Immune+Enriched%22%5D%2C+%22color%22%3A+%5B255%2C+165%2C+0%5D%7D%2C+%7B%22path%22%3A+%5B%22Cell+Type%22%2C+%22CD66%2B+Mature+Epithelial%22%5D%2C+%22color%22%3A+%5B178%2C+34%2C+34%5D%7D%2C+%7B%22path%22%3A+%5B%22Cell+Type%22%2C+%22CD8%2B+T+Enriched+IEL%22%5D%2C+%22color%22%3A+%5B0%2C+128%2C+0%5D%7D%2C+%7B%22path%22%3A+%5B%22Cell+Type%22%2C+%22Glandular+Epithelial%22%5D%2C+%22color%22%3A+%5B255%2C+140%2C+0%5D%7D%2C+%7B%22path%22%3A+%5B%22Cell+Type%22%2C+%22Innate+Immune+Enriched%22%5D%2C+%22color%22%3A+%5B135%2C+206%2C+235%5D%7D%2C+%7B%22path%22%3A+%5B%22Cell+Type%22%2C+%22Inner+Follicle%22%5D%2C+%22color%22%3A+%5B0%2C+0%2C+255%5D%7D%2C+%7B%22path%22%3A+%5B%22Cell+Type%22%2C+%22Innervated+Smooth+Muscle%22%5D%2C+%22color%22%3A+%5B144%2C+238%2C+144%5D%7D%2C+%7B%22path%22%3A+%5B%22Cell+Type%22%2C+%22Innervated+Stroma%22%5D%2C+%22color%22%3A+%5B138%2C+43%2C+226%5D%7D%2C+%7B%22path%22%3A+%5B%22Cell+Type%22%2C+%22Macrovasculature%22%5D%2C+%22color%22%3A+%5B255%2C+215%2C+0%5D%7D%2C+%7B%22path%22%3A+%5B%22Cell+Type%22%2C+%22Mature+Epithelial%22%5D%2C+%22color%22%3A+%5B255%2C+0%2C+255%5D%7D%2C+%7B%22path%22%3A+%5B%22Cell+Type%22%2C+%22Microvasculature%22%5D%2C+%22color%22%3A+%5B0%2C+0%2C+0%5D%7D%2C+%7B%22path%22%3A+%5B%22Cell+Type%22%2C+%22Outer+Follicle%22%5D%2C+%22color%22%3A+%5B0%2C+0%2C+128%5D%7D%2C+%7B%22path%22%3A+%5B%22Cell+Type%22%2C+%22Paneth+Enriched%22%5D%2C+%22color%22%3A+%5B173%2C+216%2C+230%5D%7D%2C+%7B%22path%22%3A+%5B%22Cell+Type%22%2C+%22Plasma+Cell+Enriched%22%5D%2C+%22color%22%3A+%5B255%2C+255%2C+0%5D%7D%2C+%7B%22path%22%3A+%5B%22Cell+Type%22%2C+%22Secretory+Epithelial%22%5D%2C+%22color%22%3A+%5B154%2C+205%2C+50%5D%7D%2C+%7B%22path%22%3A+%5B%22Cell+Type%22%2C+%22Smooth+Muscle%22%5D%2C+%22color%22%3A+%5B255%2C+0%2C+0%5D%7D%2C+%7B%22path%22%3A+%5B%22Cell+Type%22%2C+%22Smooth+Muscle+%26+Innate+Immune%22%5D%2C+%22color%22%3A+%5B210%2C+180%2C+140%5D%7D%2C+%7B%22path%22%3A+%5B%22Cell+Type%22%2C+%22Stroma%22%5D%2C+%22color%22%3A+%5B128%2C+128%2C+128%5D%7D%2C+%7B%22path%22%3A+%5B%22Cell+Type%22%2C+%22Stroma+%26+Innate+Immune%22%5D%2C+%22color%22%3A+%5B165%2C+42%2C+42%5D%7D%2C+%7B%22path%22%3A+%5B%22Cell+Type%22%2C+%22Transit+Amplifying+Zone%22%5D%2C+%22color%22%3A+%5B0%2C+0%2C+139%5D%7D%5D%7D%7D%2C+%22layout%22%3A+%5B%7B%22component%22%3A+%22spatial%22%2C+%22coordinationScopes%22%3A+%7B%22dataset%22%3A+%22A%22%2C+%22spatialZoom%22%3A+%22A%22%2C+%22spatialTargetX%22%3A+%22A%22%2C+%22spatialTargetY%22%3A+%22A%22%2C+%22spatialSegmentationLayer%22%3A+%22A%22%2C+%22obsSetColor%22%3A+%22A%22%7D%2C+%22x%22%3A+0.0%2C+%22y%22%3A+0%2C+%22w%22%3A+6.0%2C+%22h%22%3A+12%7D%2C+%7B%22component%22%3A+%22layerController%22%2C+%22coordinationScopes%22%3A+%7B%22dataset%22%3A+%22A%22%2C+%22spatialZoom%22%3A+%22A%22%2C+%22spatialTargetX%22%3A+%22A%22%2C+%22spatialTargetY%22%3A+%22A%22%2C+%22spatialSegmentationLayer%22%3A+%22A%22%2C+%22obsSetColor%22%3A+%22A%22%7D%2C+%22x%22%3A+6.0%2C+%22y%22%3A+0.0%2C+%22w%22%3A+6.0%2C+%22h%22%3A+6.0%7D%2C+%7B%22component%22%3A+%22obsSets%22%2C+%22coordinationScopes%22%3A+%7B%22dataset%22%3A+%22A%22%2C+%22obsSetColor%22%3A+%22A%22%7D%2C+%22x%22%3A+6.0%2C+%22y%22%3A+6.0%2C+%22w%22%3A+6.0%2C+%22h%22%3A+6.0%7D%5D%2C+%22initStrategy%22%3A+%22auto%22%7D\" target=\"_blank\">View on Vitessce.io</a>"
            ]
          },
          "metadata": {}
        },
        {
          "output_type": "stream",
          "name": "stdout",
          "text": [
            "\tUpdating 'spatial' component 'width' from 6.0 to 10.0\n",
            "\tUpdating 'layerController' component 'x' from 6.0 to 10.0\n",
            "\tUpdating 'layerController' component 'width' from 6.0 to 2\n",
            "\tUpdating 'obsSets' component 'x' from 6.0 to 10.0\n",
            "\tUpdating 'obsSets' component 'width' from 6.0 to 2\n",
            "46\n",
            "./images/Region_46_mask.pyramid.ome.tif\n"
          ]
        },
        {
          "output_type": "display_data",
          "data": {
            "text/plain": [
              "<IPython.core.display.HTML object>"
            ],
            "text/html": [
              "<a href=\"http://vitessce.io/#?theme=light&url=data:,%7B%22version%22%3A+%221.0.15%22%2C+%22name%22%3A+%22Transcriptomics+example%22%2C+%22description%22%3A+%22%22%2C+%22datasets%22%3A+%5B%7B%22uid%22%3A+%22A%22%2C+%22name%22%3A+%22Cell+segmentations%22%2C+%22files%22%3A+%5B%7B%22fileType%22%3A+%22raster.json%22%2C+%22options%22%3A+%7B%22schemaVersion%22%3A+%220.0.2%22%2C+%22images%22%3A+%5B%7B%22name%22%3A+%22Region+46+Segmentations%22%2C+%22type%22%3A+%22ome-tiff%22%2C+%22url%22%3A+%22http%3A%2F%2Flocalhost%3A8045%2FA%2F0%2Fd2111fe1-8d02-4725-8464-fd18e5d1b396%22%2C+%22metadata%22%3A+%7B%22omeTiffOffsetsUrl%22%3A+%22http%3A%2F%2Flocalhost%3A8045%2FA%2F0%2F449b6879-af6a-4b39-9b1d-8ba0f45691ce%22%2C+%22isBitmask%22%3A+true%7D%7D%5D%7D%7D%2C+%7B%22fileType%22%3A+%22obsSets.csv%22%2C+%22url%22%3A+%22http%3A%2F%2Flocalhost%3A8045%2FA%2F1%2Fba1e7982-a2eb-4fe4-af05-4838aeb7bb77%22%2C+%22options%22%3A+%7B%22obsIndex%22%3A+%22cell_id%22%2C+%22obsSets%22%3A+%5B%7B%22name%22%3A+%22Cell+Type%22%2C+%22column%22%3A+%22cell_type%22%7D%5D%7D%7D%5D%7D%5D%2C+%22coordinationSpace%22%3A+%7B%22dataset%22%3A+%7B%22A%22%3A+%22A%22%7D%2C+%22spatialZoom%22%3A+%7B%22A%22%3A+-3%7D%2C+%22spatialTargetX%22%3A+%7B%22A%22%3A+3000%7D%2C+%22spatialTargetY%22%3A+%7B%22A%22%3A+3000%7D%2C+%22spatialSegmentationLayer%22%3A+%7B%22A%22%3A+%5B%7B%22type%22%3A+%22bitmask%22%2C+%22index%22%3A+0%2C+%22visible%22%3A+true%2C+%22colormap%22%3A+null%2C+%22opacity%22%3A+1%2C+%22domainType%22%3A+%22Min%2FMax%22%2C+%22transparentColor%22%3A+null%2C+%22renderingMode%22%3A+%22Additive%22%2C+%22use3d%22%3A+false%2C+%22channels%22%3A+%5B%7B%22selection%22%3A+%7B%22c%22%3A+0%2C+%22t%22%3A+0%2C+%22z%22%3A+0%7D%2C+%22color%22%3A+%5B0%2C+0%2C+0%5D%2C+%22visible%22%3A+true%2C+%22slider%22%3A+%5B0%2C+1%5D%7D%2C+%7B%22selection%22%3A+%7B%22c%22%3A+1%2C+%22t%22%3A+0%2C+%22z%22%3A+0%7D%2C+%22color%22%3A+%5B0%2C+0%2C+0%5D%2C+%22visible%22%3A+true%2C+%22slider%22%3A+%5B1%2C+2%5D%7D%2C+%7B%22selection%22%3A+%7B%22c%22%3A+2%2C+%22t%22%3A+0%2C+%22z%22%3A+0%7D%2C+%22color%22%3A+%5B0%2C+0%2C+0%5D%2C+%22visible%22%3A+true%2C+%22slider%22%3A+%5B2%2C+3%5D%7D%5D%7D%5D%7D%2C+%22obsSetColor%22%3A+%7B%22A%22%3A+%5B%7B%22path%22%3A+%5B%22Cell+Type%22%2C+%22Adatpive+Immune+Enriched%22%5D%2C+%22color%22%3A+%5B255%2C+165%2C+0%5D%7D%2C+%7B%22path%22%3A+%5B%22Cell+Type%22%2C+%22CD66%2B+Mature+Epithelial%22%5D%2C+%22color%22%3A+%5B178%2C+34%2C+34%5D%7D%2C+%7B%22path%22%3A+%5B%22Cell+Type%22%2C+%22CD8%2B+T+Enriched+IEL%22%5D%2C+%22color%22%3A+%5B0%2C+128%2C+0%5D%7D%2C+%7B%22path%22%3A+%5B%22Cell+Type%22%2C+%22Glandular+Epithelial%22%5D%2C+%22color%22%3A+%5B255%2C+140%2C+0%5D%7D%2C+%7B%22path%22%3A+%5B%22Cell+Type%22%2C+%22Innate+Immune+Enriched%22%5D%2C+%22color%22%3A+%5B135%2C+206%2C+235%5D%7D%2C+%7B%22path%22%3A+%5B%22Cell+Type%22%2C+%22Inner+Follicle%22%5D%2C+%22color%22%3A+%5B0%2C+0%2C+255%5D%7D%2C+%7B%22path%22%3A+%5B%22Cell+Type%22%2C+%22Innervated+Smooth+Muscle%22%5D%2C+%22color%22%3A+%5B144%2C+238%2C+144%5D%7D%2C+%7B%22path%22%3A+%5B%22Cell+Type%22%2C+%22Innervated+Stroma%22%5D%2C+%22color%22%3A+%5B138%2C+43%2C+226%5D%7D%2C+%7B%22path%22%3A+%5B%22Cell+Type%22%2C+%22Macrovasculature%22%5D%2C+%22color%22%3A+%5B255%2C+215%2C+0%5D%7D%2C+%7B%22path%22%3A+%5B%22Cell+Type%22%2C+%22Mature+Epithelial%22%5D%2C+%22color%22%3A+%5B255%2C+0%2C+255%5D%7D%2C+%7B%22path%22%3A+%5B%22Cell+Type%22%2C+%22Microvasculature%22%5D%2C+%22color%22%3A+%5B0%2C+0%2C+0%5D%7D%2C+%7B%22path%22%3A+%5B%22Cell+Type%22%2C+%22Outer+Follicle%22%5D%2C+%22color%22%3A+%5B0%2C+0%2C+128%5D%7D%2C+%7B%22path%22%3A+%5B%22Cell+Type%22%2C+%22Paneth+Enriched%22%5D%2C+%22color%22%3A+%5B173%2C+216%2C+230%5D%7D%2C+%7B%22path%22%3A+%5B%22Cell+Type%22%2C+%22Plasma+Cell+Enriched%22%5D%2C+%22color%22%3A+%5B255%2C+255%2C+0%5D%7D%2C+%7B%22path%22%3A+%5B%22Cell+Type%22%2C+%22Secretory+Epithelial%22%5D%2C+%22color%22%3A+%5B154%2C+205%2C+50%5D%7D%2C+%7B%22path%22%3A+%5B%22Cell+Type%22%2C+%22Smooth+Muscle%22%5D%2C+%22color%22%3A+%5B255%2C+0%2C+0%5D%7D%2C+%7B%22path%22%3A+%5B%22Cell+Type%22%2C+%22Smooth+Muscle+%26+Innate+Immune%22%5D%2C+%22color%22%3A+%5B210%2C+180%2C+140%5D%7D%2C+%7B%22path%22%3A+%5B%22Cell+Type%22%2C+%22Stroma%22%5D%2C+%22color%22%3A+%5B128%2C+128%2C+128%5D%7D%2C+%7B%22path%22%3A+%5B%22Cell+Type%22%2C+%22Stroma+%26+Innate+Immune%22%5D%2C+%22color%22%3A+%5B165%2C+42%2C+42%5D%7D%2C+%7B%22path%22%3A+%5B%22Cell+Type%22%2C+%22Transit+Amplifying+Zone%22%5D%2C+%22color%22%3A+%5B0%2C+0%2C+139%5D%7D%5D%7D%7D%2C+%22layout%22%3A+%5B%7B%22component%22%3A+%22spatial%22%2C+%22coordinationScopes%22%3A+%7B%22dataset%22%3A+%22A%22%2C+%22spatialZoom%22%3A+%22A%22%2C+%22spatialTargetX%22%3A+%22A%22%2C+%22spatialTargetY%22%3A+%22A%22%2C+%22spatialSegmentationLayer%22%3A+%22A%22%2C+%22obsSetColor%22%3A+%22A%22%7D%2C+%22x%22%3A+0.0%2C+%22y%22%3A+0%2C+%22w%22%3A+6.0%2C+%22h%22%3A+12%7D%2C+%7B%22component%22%3A+%22layerController%22%2C+%22coordinationScopes%22%3A+%7B%22dataset%22%3A+%22A%22%2C+%22spatialZoom%22%3A+%22A%22%2C+%22spatialTargetX%22%3A+%22A%22%2C+%22spatialTargetY%22%3A+%22A%22%2C+%22spatialSegmentationLayer%22%3A+%22A%22%2C+%22obsSetColor%22%3A+%22A%22%7D%2C+%22x%22%3A+6.0%2C+%22y%22%3A+0.0%2C+%22w%22%3A+6.0%2C+%22h%22%3A+6.0%7D%2C+%7B%22component%22%3A+%22obsSets%22%2C+%22coordinationScopes%22%3A+%7B%22dataset%22%3A+%22A%22%2C+%22obsSetColor%22%3A+%22A%22%7D%2C+%22x%22%3A+6.0%2C+%22y%22%3A+6.0%2C+%22w%22%3A+6.0%2C+%22h%22%3A+6.0%7D%5D%2C+%22initStrategy%22%3A+%22auto%22%7D\" target=\"_blank\">View on Vitessce.io</a>"
            ]
          },
          "metadata": {}
        },
        {
          "output_type": "stream",
          "name": "stdout",
          "text": [
            "\tUpdating 'spatial' component 'width' from 6.0 to 10.0\n",
            "\tUpdating 'layerController' component 'x' from 6.0 to 10.0\n",
            "\tUpdating 'layerController' component 'width' from 6.0 to 2\n",
            "\tUpdating 'obsSets' component 'x' from 6.0 to 10.0\n",
            "\tUpdating 'obsSets' component 'width' from 6.0 to 2\n",
            "47\n",
            "./images/Region_47_mask.pyramid.ome.tif\n"
          ]
        },
        {
          "output_type": "display_data",
          "data": {
            "text/plain": [
              "<IPython.core.display.HTML object>"
            ],
            "text/html": [
              "<a href=\"http://vitessce.io/#?theme=light&url=data:,%7B%22version%22%3A+%221.0.15%22%2C+%22name%22%3A+%22Transcriptomics+example%22%2C+%22description%22%3A+%22%22%2C+%22datasets%22%3A+%5B%7B%22uid%22%3A+%22A%22%2C+%22name%22%3A+%22Cell+segmentations%22%2C+%22files%22%3A+%5B%7B%22fileType%22%3A+%22raster.json%22%2C+%22options%22%3A+%7B%22schemaVersion%22%3A+%220.0.2%22%2C+%22images%22%3A+%5B%7B%22name%22%3A+%22Region+47+Segmentations%22%2C+%22type%22%3A+%22ome-tiff%22%2C+%22url%22%3A+%22http%3A%2F%2Flocalhost%3A8046%2FA%2F0%2Fb49a5bcf-8ee8-4547-b659-6aa94a4ac8ce%22%2C+%22metadata%22%3A+%7B%22omeTiffOffsetsUrl%22%3A+%22http%3A%2F%2Flocalhost%3A8046%2FA%2F0%2F0c40f2f1-1cfa-4972-a5a7-eaa3ca77271f%22%2C+%22isBitmask%22%3A+true%7D%7D%5D%7D%7D%2C+%7B%22fileType%22%3A+%22obsSets.csv%22%2C+%22url%22%3A+%22http%3A%2F%2Flocalhost%3A8046%2FA%2F1%2Ff4e42aa9-8891-43c2-af35-0ad9187b3734%22%2C+%22options%22%3A+%7B%22obsIndex%22%3A+%22cell_id%22%2C+%22obsSets%22%3A+%5B%7B%22name%22%3A+%22Cell+Type%22%2C+%22column%22%3A+%22cell_type%22%7D%5D%7D%7D%5D%7D%5D%2C+%22coordinationSpace%22%3A+%7B%22dataset%22%3A+%7B%22A%22%3A+%22A%22%7D%2C+%22spatialZoom%22%3A+%7B%22A%22%3A+-3%7D%2C+%22spatialTargetX%22%3A+%7B%22A%22%3A+3000%7D%2C+%22spatialTargetY%22%3A+%7B%22A%22%3A+3000%7D%2C+%22spatialSegmentationLayer%22%3A+%7B%22A%22%3A+%5B%7B%22type%22%3A+%22bitmask%22%2C+%22index%22%3A+0%2C+%22visible%22%3A+true%2C+%22colormap%22%3A+null%2C+%22opacity%22%3A+1%2C+%22domainType%22%3A+%22Min%2FMax%22%2C+%22transparentColor%22%3A+null%2C+%22renderingMode%22%3A+%22Additive%22%2C+%22use3d%22%3A+false%2C+%22channels%22%3A+%5B%7B%22selection%22%3A+%7B%22c%22%3A+0%2C+%22t%22%3A+0%2C+%22z%22%3A+0%7D%2C+%22color%22%3A+%5B0%2C+0%2C+0%5D%2C+%22visible%22%3A+true%2C+%22slider%22%3A+%5B0%2C+1%5D%7D%2C+%7B%22selection%22%3A+%7B%22c%22%3A+1%2C+%22t%22%3A+0%2C+%22z%22%3A+0%7D%2C+%22color%22%3A+%5B0%2C+0%2C+0%5D%2C+%22visible%22%3A+true%2C+%22slider%22%3A+%5B1%2C+2%5D%7D%2C+%7B%22selection%22%3A+%7B%22c%22%3A+2%2C+%22t%22%3A+0%2C+%22z%22%3A+0%7D%2C+%22color%22%3A+%5B0%2C+0%2C+0%5D%2C+%22visible%22%3A+true%2C+%22slider%22%3A+%5B2%2C+3%5D%7D%5D%7D%5D%7D%2C+%22obsSetColor%22%3A+%7B%22A%22%3A+%5B%7B%22path%22%3A+%5B%22Cell+Type%22%2C+%22Adatpive+Immune+Enriched%22%5D%2C+%22color%22%3A+%5B255%2C+165%2C+0%5D%7D%2C+%7B%22path%22%3A+%5B%22Cell+Type%22%2C+%22CD66%2B+Mature+Epithelial%22%5D%2C+%22color%22%3A+%5B178%2C+34%2C+34%5D%7D%2C+%7B%22path%22%3A+%5B%22Cell+Type%22%2C+%22CD8%2B+T+Enriched+IEL%22%5D%2C+%22color%22%3A+%5B0%2C+128%2C+0%5D%7D%2C+%7B%22path%22%3A+%5B%22Cell+Type%22%2C+%22Glandular+Epithelial%22%5D%2C+%22color%22%3A+%5B255%2C+140%2C+0%5D%7D%2C+%7B%22path%22%3A+%5B%22Cell+Type%22%2C+%22Innate+Immune+Enriched%22%5D%2C+%22color%22%3A+%5B135%2C+206%2C+235%5D%7D%2C+%7B%22path%22%3A+%5B%22Cell+Type%22%2C+%22Inner+Follicle%22%5D%2C+%22color%22%3A+%5B0%2C+0%2C+255%5D%7D%2C+%7B%22path%22%3A+%5B%22Cell+Type%22%2C+%22Innervated+Smooth+Muscle%22%5D%2C+%22color%22%3A+%5B144%2C+238%2C+144%5D%7D%2C+%7B%22path%22%3A+%5B%22Cell+Type%22%2C+%22Innervated+Stroma%22%5D%2C+%22color%22%3A+%5B138%2C+43%2C+226%5D%7D%2C+%7B%22path%22%3A+%5B%22Cell+Type%22%2C+%22Macrovasculature%22%5D%2C+%22color%22%3A+%5B255%2C+215%2C+0%5D%7D%2C+%7B%22path%22%3A+%5B%22Cell+Type%22%2C+%22Mature+Epithelial%22%5D%2C+%22color%22%3A+%5B255%2C+0%2C+255%5D%7D%2C+%7B%22path%22%3A+%5B%22Cell+Type%22%2C+%22Microvasculature%22%5D%2C+%22color%22%3A+%5B0%2C+0%2C+0%5D%7D%2C+%7B%22path%22%3A+%5B%22Cell+Type%22%2C+%22Outer+Follicle%22%5D%2C+%22color%22%3A+%5B0%2C+0%2C+128%5D%7D%2C+%7B%22path%22%3A+%5B%22Cell+Type%22%2C+%22Paneth+Enriched%22%5D%2C+%22color%22%3A+%5B173%2C+216%2C+230%5D%7D%2C+%7B%22path%22%3A+%5B%22Cell+Type%22%2C+%22Plasma+Cell+Enriched%22%5D%2C+%22color%22%3A+%5B255%2C+255%2C+0%5D%7D%2C+%7B%22path%22%3A+%5B%22Cell+Type%22%2C+%22Secretory+Epithelial%22%5D%2C+%22color%22%3A+%5B154%2C+205%2C+50%5D%7D%2C+%7B%22path%22%3A+%5B%22Cell+Type%22%2C+%22Smooth+Muscle%22%5D%2C+%22color%22%3A+%5B255%2C+0%2C+0%5D%7D%2C+%7B%22path%22%3A+%5B%22Cell+Type%22%2C+%22Smooth+Muscle+%26+Innate+Immune%22%5D%2C+%22color%22%3A+%5B210%2C+180%2C+140%5D%7D%2C+%7B%22path%22%3A+%5B%22Cell+Type%22%2C+%22Stroma%22%5D%2C+%22color%22%3A+%5B128%2C+128%2C+128%5D%7D%2C+%7B%22path%22%3A+%5B%22Cell+Type%22%2C+%22Stroma+%26+Innate+Immune%22%5D%2C+%22color%22%3A+%5B165%2C+42%2C+42%5D%7D%2C+%7B%22path%22%3A+%5B%22Cell+Type%22%2C+%22Transit+Amplifying+Zone%22%5D%2C+%22color%22%3A+%5B0%2C+0%2C+139%5D%7D%5D%7D%7D%2C+%22layout%22%3A+%5B%7B%22component%22%3A+%22spatial%22%2C+%22coordinationScopes%22%3A+%7B%22dataset%22%3A+%22A%22%2C+%22spatialZoom%22%3A+%22A%22%2C+%22spatialTargetX%22%3A+%22A%22%2C+%22spatialTargetY%22%3A+%22A%22%2C+%22spatialSegmentationLayer%22%3A+%22A%22%2C+%22obsSetColor%22%3A+%22A%22%7D%2C+%22x%22%3A+0.0%2C+%22y%22%3A+0%2C+%22w%22%3A+6.0%2C+%22h%22%3A+12%7D%2C+%7B%22component%22%3A+%22layerController%22%2C+%22coordinationScopes%22%3A+%7B%22dataset%22%3A+%22A%22%2C+%22spatialZoom%22%3A+%22A%22%2C+%22spatialTargetX%22%3A+%22A%22%2C+%22spatialTargetY%22%3A+%22A%22%2C+%22spatialSegmentationLayer%22%3A+%22A%22%2C+%22obsSetColor%22%3A+%22A%22%7D%2C+%22x%22%3A+6.0%2C+%22y%22%3A+0.0%2C+%22w%22%3A+6.0%2C+%22h%22%3A+6.0%7D%2C+%7B%22component%22%3A+%22obsSets%22%2C+%22coordinationScopes%22%3A+%7B%22dataset%22%3A+%22A%22%2C+%22obsSetColor%22%3A+%22A%22%7D%2C+%22x%22%3A+6.0%2C+%22y%22%3A+6.0%2C+%22w%22%3A+6.0%2C+%22h%22%3A+6.0%7D%5D%2C+%22initStrategy%22%3A+%22auto%22%7D\" target=\"_blank\">View on Vitessce.io</a>"
            ]
          },
          "metadata": {}
        },
        {
          "output_type": "stream",
          "name": "stdout",
          "text": [
            "\tUpdating 'spatial' component 'width' from 6.0 to 10.0\n",
            "\tUpdating 'layerController' component 'x' from 6.0 to 10.0\n",
            "\tUpdating 'layerController' component 'width' from 6.0 to 2\n",
            "\tUpdating 'obsSets' component 'x' from 6.0 to 10.0\n",
            "\tUpdating 'obsSets' component 'width' from 6.0 to 2\n",
            "48\n",
            "./images/Region_48_mask.pyramid.ome.tif\n"
          ]
        },
        {
          "output_type": "display_data",
          "data": {
            "text/plain": [
              "<IPython.core.display.HTML object>"
            ],
            "text/html": [
              "<a href=\"http://vitessce.io/#?theme=light&url=data:,%7B%22version%22%3A+%221.0.15%22%2C+%22name%22%3A+%22Transcriptomics+example%22%2C+%22description%22%3A+%22%22%2C+%22datasets%22%3A+%5B%7B%22uid%22%3A+%22A%22%2C+%22name%22%3A+%22Cell+segmentations%22%2C+%22files%22%3A+%5B%7B%22fileType%22%3A+%22raster.json%22%2C+%22options%22%3A+%7B%22schemaVersion%22%3A+%220.0.2%22%2C+%22images%22%3A+%5B%7B%22name%22%3A+%22Region+48+Segmentations%22%2C+%22type%22%3A+%22ome-tiff%22%2C+%22url%22%3A+%22http%3A%2F%2Flocalhost%3A8047%2FA%2F0%2F2529090f-f486-4f3d-90af-21265350b7a2%22%2C+%22metadata%22%3A+%7B%22omeTiffOffsetsUrl%22%3A+%22http%3A%2F%2Flocalhost%3A8047%2FA%2F0%2F56383913-7852-4a44-8a76-4fd9490678ad%22%2C+%22isBitmask%22%3A+true%7D%7D%5D%7D%7D%2C+%7B%22fileType%22%3A+%22obsSets.csv%22%2C+%22url%22%3A+%22http%3A%2F%2Flocalhost%3A8047%2FA%2F1%2Fc99f6c7a-3e08-45a0-aafc-98dfa1de1c27%22%2C+%22options%22%3A+%7B%22obsIndex%22%3A+%22cell_id%22%2C+%22obsSets%22%3A+%5B%7B%22name%22%3A+%22Cell+Type%22%2C+%22column%22%3A+%22cell_type%22%7D%5D%7D%7D%5D%7D%5D%2C+%22coordinationSpace%22%3A+%7B%22dataset%22%3A+%7B%22A%22%3A+%22A%22%7D%2C+%22spatialZoom%22%3A+%7B%22A%22%3A+-3%7D%2C+%22spatialTargetX%22%3A+%7B%22A%22%3A+3000%7D%2C+%22spatialTargetY%22%3A+%7B%22A%22%3A+3000%7D%2C+%22spatialSegmentationLayer%22%3A+%7B%22A%22%3A+%5B%7B%22type%22%3A+%22bitmask%22%2C+%22index%22%3A+0%2C+%22visible%22%3A+true%2C+%22colormap%22%3A+null%2C+%22opacity%22%3A+1%2C+%22domainType%22%3A+%22Min%2FMax%22%2C+%22transparentColor%22%3A+null%2C+%22renderingMode%22%3A+%22Additive%22%2C+%22use3d%22%3A+false%2C+%22channels%22%3A+%5B%7B%22selection%22%3A+%7B%22c%22%3A+0%2C+%22t%22%3A+0%2C+%22z%22%3A+0%7D%2C+%22color%22%3A+%5B0%2C+0%2C+0%5D%2C+%22visible%22%3A+true%2C+%22slider%22%3A+%5B0%2C+1%5D%7D%2C+%7B%22selection%22%3A+%7B%22c%22%3A+1%2C+%22t%22%3A+0%2C+%22z%22%3A+0%7D%2C+%22color%22%3A+%5B0%2C+0%2C+0%5D%2C+%22visible%22%3A+true%2C+%22slider%22%3A+%5B1%2C+2%5D%7D%2C+%7B%22selection%22%3A+%7B%22c%22%3A+2%2C+%22t%22%3A+0%2C+%22z%22%3A+0%7D%2C+%22color%22%3A+%5B0%2C+0%2C+0%5D%2C+%22visible%22%3A+true%2C+%22slider%22%3A+%5B2%2C+3%5D%7D%5D%7D%5D%7D%2C+%22obsSetColor%22%3A+%7B%22A%22%3A+%5B%7B%22path%22%3A+%5B%22Cell+Type%22%2C+%22Adatpive+Immune+Enriched%22%5D%2C+%22color%22%3A+%5B255%2C+165%2C+0%5D%7D%2C+%7B%22path%22%3A+%5B%22Cell+Type%22%2C+%22CD66%2B+Mature+Epithelial%22%5D%2C+%22color%22%3A+%5B178%2C+34%2C+34%5D%7D%2C+%7B%22path%22%3A+%5B%22Cell+Type%22%2C+%22CD8%2B+T+Enriched+IEL%22%5D%2C+%22color%22%3A+%5B0%2C+128%2C+0%5D%7D%2C+%7B%22path%22%3A+%5B%22Cell+Type%22%2C+%22Glandular+Epithelial%22%5D%2C+%22color%22%3A+%5B255%2C+140%2C+0%5D%7D%2C+%7B%22path%22%3A+%5B%22Cell+Type%22%2C+%22Innate+Immune+Enriched%22%5D%2C+%22color%22%3A+%5B135%2C+206%2C+235%5D%7D%2C+%7B%22path%22%3A+%5B%22Cell+Type%22%2C+%22Inner+Follicle%22%5D%2C+%22color%22%3A+%5B0%2C+0%2C+255%5D%7D%2C+%7B%22path%22%3A+%5B%22Cell+Type%22%2C+%22Innervated+Smooth+Muscle%22%5D%2C+%22color%22%3A+%5B144%2C+238%2C+144%5D%7D%2C+%7B%22path%22%3A+%5B%22Cell+Type%22%2C+%22Innervated+Stroma%22%5D%2C+%22color%22%3A+%5B138%2C+43%2C+226%5D%7D%2C+%7B%22path%22%3A+%5B%22Cell+Type%22%2C+%22Macrovasculature%22%5D%2C+%22color%22%3A+%5B255%2C+215%2C+0%5D%7D%2C+%7B%22path%22%3A+%5B%22Cell+Type%22%2C+%22Mature+Epithelial%22%5D%2C+%22color%22%3A+%5B255%2C+0%2C+255%5D%7D%2C+%7B%22path%22%3A+%5B%22Cell+Type%22%2C+%22Microvasculature%22%5D%2C+%22color%22%3A+%5B0%2C+0%2C+0%5D%7D%2C+%7B%22path%22%3A+%5B%22Cell+Type%22%2C+%22Outer+Follicle%22%5D%2C+%22color%22%3A+%5B0%2C+0%2C+128%5D%7D%2C+%7B%22path%22%3A+%5B%22Cell+Type%22%2C+%22Paneth+Enriched%22%5D%2C+%22color%22%3A+%5B173%2C+216%2C+230%5D%7D%2C+%7B%22path%22%3A+%5B%22Cell+Type%22%2C+%22Plasma+Cell+Enriched%22%5D%2C+%22color%22%3A+%5B255%2C+255%2C+0%5D%7D%2C+%7B%22path%22%3A+%5B%22Cell+Type%22%2C+%22Secretory+Epithelial%22%5D%2C+%22color%22%3A+%5B154%2C+205%2C+50%5D%7D%2C+%7B%22path%22%3A+%5B%22Cell+Type%22%2C+%22Smooth+Muscle%22%5D%2C+%22color%22%3A+%5B255%2C+0%2C+0%5D%7D%2C+%7B%22path%22%3A+%5B%22Cell+Type%22%2C+%22Smooth+Muscle+%26+Innate+Immune%22%5D%2C+%22color%22%3A+%5B210%2C+180%2C+140%5D%7D%2C+%7B%22path%22%3A+%5B%22Cell+Type%22%2C+%22Stroma%22%5D%2C+%22color%22%3A+%5B128%2C+128%2C+128%5D%7D%2C+%7B%22path%22%3A+%5B%22Cell+Type%22%2C+%22Stroma+%26+Innate+Immune%22%5D%2C+%22color%22%3A+%5B165%2C+42%2C+42%5D%7D%2C+%7B%22path%22%3A+%5B%22Cell+Type%22%2C+%22Transit+Amplifying+Zone%22%5D%2C+%22color%22%3A+%5B0%2C+0%2C+139%5D%7D%5D%7D%7D%2C+%22layout%22%3A+%5B%7B%22component%22%3A+%22spatial%22%2C+%22coordinationScopes%22%3A+%7B%22dataset%22%3A+%22A%22%2C+%22spatialZoom%22%3A+%22A%22%2C+%22spatialTargetX%22%3A+%22A%22%2C+%22spatialTargetY%22%3A+%22A%22%2C+%22spatialSegmentationLayer%22%3A+%22A%22%2C+%22obsSetColor%22%3A+%22A%22%7D%2C+%22x%22%3A+0.0%2C+%22y%22%3A+0%2C+%22w%22%3A+6.0%2C+%22h%22%3A+12%7D%2C+%7B%22component%22%3A+%22layerController%22%2C+%22coordinationScopes%22%3A+%7B%22dataset%22%3A+%22A%22%2C+%22spatialZoom%22%3A+%22A%22%2C+%22spatialTargetX%22%3A+%22A%22%2C+%22spatialTargetY%22%3A+%22A%22%2C+%22spatialSegmentationLayer%22%3A+%22A%22%2C+%22obsSetColor%22%3A+%22A%22%7D%2C+%22x%22%3A+6.0%2C+%22y%22%3A+0.0%2C+%22w%22%3A+6.0%2C+%22h%22%3A+6.0%7D%2C+%7B%22component%22%3A+%22obsSets%22%2C+%22coordinationScopes%22%3A+%7B%22dataset%22%3A+%22A%22%2C+%22obsSetColor%22%3A+%22A%22%7D%2C+%22x%22%3A+6.0%2C+%22y%22%3A+6.0%2C+%22w%22%3A+6.0%2C+%22h%22%3A+6.0%7D%5D%2C+%22initStrategy%22%3A+%22auto%22%7D\" target=\"_blank\">View on Vitessce.io</a>"
            ]
          },
          "metadata": {}
        },
        {
          "output_type": "stream",
          "name": "stdout",
          "text": [
            "\tUpdating 'spatial' component 'width' from 6.0 to 10.0\n",
            "\tUpdating 'layerController' component 'x' from 6.0 to 10.0\n",
            "\tUpdating 'layerController' component 'width' from 6.0 to 2\n",
            "\tUpdating 'obsSets' component 'x' from 6.0 to 10.0\n",
            "\tUpdating 'obsSets' component 'width' from 6.0 to 2\n",
            "49\n",
            "./images/Region_49_mask.pyramid.ome.tif\n"
          ]
        },
        {
          "output_type": "display_data",
          "data": {
            "text/plain": [
              "<IPython.core.display.HTML object>"
            ],
            "text/html": [
              "<a href=\"http://vitessce.io/#?theme=light&url=data:,%7B%22version%22%3A+%221.0.15%22%2C+%22name%22%3A+%22Transcriptomics+example%22%2C+%22description%22%3A+%22%22%2C+%22datasets%22%3A+%5B%7B%22uid%22%3A+%22A%22%2C+%22name%22%3A+%22Cell+segmentations%22%2C+%22files%22%3A+%5B%7B%22fileType%22%3A+%22raster.json%22%2C+%22options%22%3A+%7B%22schemaVersion%22%3A+%220.0.2%22%2C+%22images%22%3A+%5B%7B%22name%22%3A+%22Region+49+Segmentations%22%2C+%22type%22%3A+%22ome-tiff%22%2C+%22url%22%3A+%22http%3A%2F%2Flocalhost%3A8048%2FA%2F0%2Ffcf6909c-5abb-4fd5-bf19-9b48001ca75f%22%2C+%22metadata%22%3A+%7B%22omeTiffOffsetsUrl%22%3A+%22http%3A%2F%2Flocalhost%3A8048%2FA%2F0%2Fb228ab2b-63fd-46c9-a95a-325d7e73656f%22%2C+%22isBitmask%22%3A+true%7D%7D%5D%7D%7D%2C+%7B%22fileType%22%3A+%22obsSets.csv%22%2C+%22url%22%3A+%22http%3A%2F%2Flocalhost%3A8048%2FA%2F1%2Fe5a7a41c-8b7a-416a-9cbc-8714f6a6c5de%22%2C+%22options%22%3A+%7B%22obsIndex%22%3A+%22cell_id%22%2C+%22obsSets%22%3A+%5B%7B%22name%22%3A+%22Cell+Type%22%2C+%22column%22%3A+%22cell_type%22%7D%5D%7D%7D%5D%7D%5D%2C+%22coordinationSpace%22%3A+%7B%22dataset%22%3A+%7B%22A%22%3A+%22A%22%7D%2C+%22spatialZoom%22%3A+%7B%22A%22%3A+-3%7D%2C+%22spatialTargetX%22%3A+%7B%22A%22%3A+3000%7D%2C+%22spatialTargetY%22%3A+%7B%22A%22%3A+3000%7D%2C+%22spatialSegmentationLayer%22%3A+%7B%22A%22%3A+%5B%7B%22type%22%3A+%22bitmask%22%2C+%22index%22%3A+0%2C+%22visible%22%3A+true%2C+%22colormap%22%3A+null%2C+%22opacity%22%3A+1%2C+%22domainType%22%3A+%22Min%2FMax%22%2C+%22transparentColor%22%3A+null%2C+%22renderingMode%22%3A+%22Additive%22%2C+%22use3d%22%3A+false%2C+%22channels%22%3A+%5B%7B%22selection%22%3A+%7B%22c%22%3A+0%2C+%22t%22%3A+0%2C+%22z%22%3A+0%7D%2C+%22color%22%3A+%5B0%2C+0%2C+0%5D%2C+%22visible%22%3A+true%2C+%22slider%22%3A+%5B0%2C+1%5D%7D%2C+%7B%22selection%22%3A+%7B%22c%22%3A+1%2C+%22t%22%3A+0%2C+%22z%22%3A+0%7D%2C+%22color%22%3A+%5B0%2C+0%2C+0%5D%2C+%22visible%22%3A+true%2C+%22slider%22%3A+%5B1%2C+2%5D%7D%2C+%7B%22selection%22%3A+%7B%22c%22%3A+2%2C+%22t%22%3A+0%2C+%22z%22%3A+0%7D%2C+%22color%22%3A+%5B0%2C+0%2C+0%5D%2C+%22visible%22%3A+true%2C+%22slider%22%3A+%5B2%2C+3%5D%7D%5D%7D%5D%7D%2C+%22obsSetColor%22%3A+%7B%22A%22%3A+%5B%7B%22path%22%3A+%5B%22Cell+Type%22%2C+%22Adatpive+Immune+Enriched%22%5D%2C+%22color%22%3A+%5B255%2C+165%2C+0%5D%7D%2C+%7B%22path%22%3A+%5B%22Cell+Type%22%2C+%22CD66%2B+Mature+Epithelial%22%5D%2C+%22color%22%3A+%5B178%2C+34%2C+34%5D%7D%2C+%7B%22path%22%3A+%5B%22Cell+Type%22%2C+%22CD8%2B+T+Enriched+IEL%22%5D%2C+%22color%22%3A+%5B0%2C+128%2C+0%5D%7D%2C+%7B%22path%22%3A+%5B%22Cell+Type%22%2C+%22Glandular+Epithelial%22%5D%2C+%22color%22%3A+%5B255%2C+140%2C+0%5D%7D%2C+%7B%22path%22%3A+%5B%22Cell+Type%22%2C+%22Innate+Immune+Enriched%22%5D%2C+%22color%22%3A+%5B135%2C+206%2C+235%5D%7D%2C+%7B%22path%22%3A+%5B%22Cell+Type%22%2C+%22Inner+Follicle%22%5D%2C+%22color%22%3A+%5B0%2C+0%2C+255%5D%7D%2C+%7B%22path%22%3A+%5B%22Cell+Type%22%2C+%22Innervated+Smooth+Muscle%22%5D%2C+%22color%22%3A+%5B144%2C+238%2C+144%5D%7D%2C+%7B%22path%22%3A+%5B%22Cell+Type%22%2C+%22Innervated+Stroma%22%5D%2C+%22color%22%3A+%5B138%2C+43%2C+226%5D%7D%2C+%7B%22path%22%3A+%5B%22Cell+Type%22%2C+%22Macrovasculature%22%5D%2C+%22color%22%3A+%5B255%2C+215%2C+0%5D%7D%2C+%7B%22path%22%3A+%5B%22Cell+Type%22%2C+%22Mature+Epithelial%22%5D%2C+%22color%22%3A+%5B255%2C+0%2C+255%5D%7D%2C+%7B%22path%22%3A+%5B%22Cell+Type%22%2C+%22Microvasculature%22%5D%2C+%22color%22%3A+%5B0%2C+0%2C+0%5D%7D%2C+%7B%22path%22%3A+%5B%22Cell+Type%22%2C+%22Outer+Follicle%22%5D%2C+%22color%22%3A+%5B0%2C+0%2C+128%5D%7D%2C+%7B%22path%22%3A+%5B%22Cell+Type%22%2C+%22Paneth+Enriched%22%5D%2C+%22color%22%3A+%5B173%2C+216%2C+230%5D%7D%2C+%7B%22path%22%3A+%5B%22Cell+Type%22%2C+%22Plasma+Cell+Enriched%22%5D%2C+%22color%22%3A+%5B255%2C+255%2C+0%5D%7D%2C+%7B%22path%22%3A+%5B%22Cell+Type%22%2C+%22Secretory+Epithelial%22%5D%2C+%22color%22%3A+%5B154%2C+205%2C+50%5D%7D%2C+%7B%22path%22%3A+%5B%22Cell+Type%22%2C+%22Smooth+Muscle%22%5D%2C+%22color%22%3A+%5B255%2C+0%2C+0%5D%7D%2C+%7B%22path%22%3A+%5B%22Cell+Type%22%2C+%22Smooth+Muscle+%26+Innate+Immune%22%5D%2C+%22color%22%3A+%5B210%2C+180%2C+140%5D%7D%2C+%7B%22path%22%3A+%5B%22Cell+Type%22%2C+%22Stroma%22%5D%2C+%22color%22%3A+%5B128%2C+128%2C+128%5D%7D%2C+%7B%22path%22%3A+%5B%22Cell+Type%22%2C+%22Stroma+%26+Innate+Immune%22%5D%2C+%22color%22%3A+%5B165%2C+42%2C+42%5D%7D%2C+%7B%22path%22%3A+%5B%22Cell+Type%22%2C+%22Transit+Amplifying+Zone%22%5D%2C+%22color%22%3A+%5B0%2C+0%2C+139%5D%7D%5D%7D%7D%2C+%22layout%22%3A+%5B%7B%22component%22%3A+%22spatial%22%2C+%22coordinationScopes%22%3A+%7B%22dataset%22%3A+%22A%22%2C+%22spatialZoom%22%3A+%22A%22%2C+%22spatialTargetX%22%3A+%22A%22%2C+%22spatialTargetY%22%3A+%22A%22%2C+%22spatialSegmentationLayer%22%3A+%22A%22%2C+%22obsSetColor%22%3A+%22A%22%7D%2C+%22x%22%3A+0.0%2C+%22y%22%3A+0%2C+%22w%22%3A+6.0%2C+%22h%22%3A+12%7D%2C+%7B%22component%22%3A+%22layerController%22%2C+%22coordinationScopes%22%3A+%7B%22dataset%22%3A+%22A%22%2C+%22spatialZoom%22%3A+%22A%22%2C+%22spatialTargetX%22%3A+%22A%22%2C+%22spatialTargetY%22%3A+%22A%22%2C+%22spatialSegmentationLayer%22%3A+%22A%22%2C+%22obsSetColor%22%3A+%22A%22%7D%2C+%22x%22%3A+6.0%2C+%22y%22%3A+0.0%2C+%22w%22%3A+6.0%2C+%22h%22%3A+6.0%7D%2C+%7B%22component%22%3A+%22obsSets%22%2C+%22coordinationScopes%22%3A+%7B%22dataset%22%3A+%22A%22%2C+%22obsSetColor%22%3A+%22A%22%7D%2C+%22x%22%3A+6.0%2C+%22y%22%3A+6.0%2C+%22w%22%3A+6.0%2C+%22h%22%3A+6.0%7D%5D%2C+%22initStrategy%22%3A+%22auto%22%7D\" target=\"_blank\">View on Vitessce.io</a>"
            ]
          },
          "metadata": {}
        },
        {
          "output_type": "stream",
          "name": "stdout",
          "text": [
            "\tUpdating 'spatial' component 'width' from 6.0 to 10.0\n",
            "\tUpdating 'layerController' component 'x' from 6.0 to 10.0\n",
            "\tUpdating 'layerController' component 'width' from 6.0 to 2\n",
            "\tUpdating 'obsSets' component 'x' from 6.0 to 10.0\n",
            "\tUpdating 'obsSets' component 'width' from 6.0 to 2\n",
            "50\n",
            "./images/Region_50_mask.pyramid.ome.tif\n"
          ]
        },
        {
          "output_type": "display_data",
          "data": {
            "text/plain": [
              "<IPython.core.display.HTML object>"
            ],
            "text/html": [
              "<a href=\"http://vitessce.io/#?theme=light&url=data:,%7B%22version%22%3A+%221.0.15%22%2C+%22name%22%3A+%22Transcriptomics+example%22%2C+%22description%22%3A+%22%22%2C+%22datasets%22%3A+%5B%7B%22uid%22%3A+%22A%22%2C+%22name%22%3A+%22Cell+segmentations%22%2C+%22files%22%3A+%5B%7B%22fileType%22%3A+%22raster.json%22%2C+%22options%22%3A+%7B%22schemaVersion%22%3A+%220.0.2%22%2C+%22images%22%3A+%5B%7B%22name%22%3A+%22Region+50+Segmentations%22%2C+%22type%22%3A+%22ome-tiff%22%2C+%22url%22%3A+%22http%3A%2F%2Flocalhost%3A8049%2FA%2F0%2F13748bbb-51ee-4a5c-a66f-850c95e26d1a%22%2C+%22metadata%22%3A+%7B%22omeTiffOffsetsUrl%22%3A+%22http%3A%2F%2Flocalhost%3A8049%2FA%2F0%2F8aadc4fb-9f90-4a8b-8c30-6ae69f5f895d%22%2C+%22isBitmask%22%3A+true%7D%7D%5D%7D%7D%2C+%7B%22fileType%22%3A+%22obsSets.csv%22%2C+%22url%22%3A+%22http%3A%2F%2Flocalhost%3A8049%2FA%2F1%2Fe18c120d-22a2-4e9a-831a-ec60d4690ae7%22%2C+%22options%22%3A+%7B%22obsIndex%22%3A+%22cell_id%22%2C+%22obsSets%22%3A+%5B%7B%22name%22%3A+%22Cell+Type%22%2C+%22column%22%3A+%22cell_type%22%7D%5D%7D%7D%5D%7D%5D%2C+%22coordinationSpace%22%3A+%7B%22dataset%22%3A+%7B%22A%22%3A+%22A%22%7D%2C+%22spatialZoom%22%3A+%7B%22A%22%3A+-3%7D%2C+%22spatialTargetX%22%3A+%7B%22A%22%3A+3000%7D%2C+%22spatialTargetY%22%3A+%7B%22A%22%3A+3000%7D%2C+%22spatialSegmentationLayer%22%3A+%7B%22A%22%3A+%5B%7B%22type%22%3A+%22bitmask%22%2C+%22index%22%3A+0%2C+%22visible%22%3A+true%2C+%22colormap%22%3A+null%2C+%22opacity%22%3A+1%2C+%22domainType%22%3A+%22Min%2FMax%22%2C+%22transparentColor%22%3A+null%2C+%22renderingMode%22%3A+%22Additive%22%2C+%22use3d%22%3A+false%2C+%22channels%22%3A+%5B%7B%22selection%22%3A+%7B%22c%22%3A+0%2C+%22t%22%3A+0%2C+%22z%22%3A+0%7D%2C+%22color%22%3A+%5B0%2C+0%2C+0%5D%2C+%22visible%22%3A+true%2C+%22slider%22%3A+%5B0%2C+1%5D%7D%2C+%7B%22selection%22%3A+%7B%22c%22%3A+1%2C+%22t%22%3A+0%2C+%22z%22%3A+0%7D%2C+%22color%22%3A+%5B0%2C+0%2C+0%5D%2C+%22visible%22%3A+true%2C+%22slider%22%3A+%5B1%2C+2%5D%7D%2C+%7B%22selection%22%3A+%7B%22c%22%3A+2%2C+%22t%22%3A+0%2C+%22z%22%3A+0%7D%2C+%22color%22%3A+%5B0%2C+0%2C+0%5D%2C+%22visible%22%3A+true%2C+%22slider%22%3A+%5B2%2C+3%5D%7D%5D%7D%5D%7D%2C+%22obsSetColor%22%3A+%7B%22A%22%3A+%5B%7B%22path%22%3A+%5B%22Cell+Type%22%2C+%22Adatpive+Immune+Enriched%22%5D%2C+%22color%22%3A+%5B255%2C+165%2C+0%5D%7D%2C+%7B%22path%22%3A+%5B%22Cell+Type%22%2C+%22CD66%2B+Mature+Epithelial%22%5D%2C+%22color%22%3A+%5B178%2C+34%2C+34%5D%7D%2C+%7B%22path%22%3A+%5B%22Cell+Type%22%2C+%22CD8%2B+T+Enriched+IEL%22%5D%2C+%22color%22%3A+%5B0%2C+128%2C+0%5D%7D%2C+%7B%22path%22%3A+%5B%22Cell+Type%22%2C+%22Glandular+Epithelial%22%5D%2C+%22color%22%3A+%5B255%2C+140%2C+0%5D%7D%2C+%7B%22path%22%3A+%5B%22Cell+Type%22%2C+%22Innate+Immune+Enriched%22%5D%2C+%22color%22%3A+%5B135%2C+206%2C+235%5D%7D%2C+%7B%22path%22%3A+%5B%22Cell+Type%22%2C+%22Inner+Follicle%22%5D%2C+%22color%22%3A+%5B0%2C+0%2C+255%5D%7D%2C+%7B%22path%22%3A+%5B%22Cell+Type%22%2C+%22Innervated+Smooth+Muscle%22%5D%2C+%22color%22%3A+%5B144%2C+238%2C+144%5D%7D%2C+%7B%22path%22%3A+%5B%22Cell+Type%22%2C+%22Innervated+Stroma%22%5D%2C+%22color%22%3A+%5B138%2C+43%2C+226%5D%7D%2C+%7B%22path%22%3A+%5B%22Cell+Type%22%2C+%22Macrovasculature%22%5D%2C+%22color%22%3A+%5B255%2C+215%2C+0%5D%7D%2C+%7B%22path%22%3A+%5B%22Cell+Type%22%2C+%22Mature+Epithelial%22%5D%2C+%22color%22%3A+%5B255%2C+0%2C+255%5D%7D%2C+%7B%22path%22%3A+%5B%22Cell+Type%22%2C+%22Microvasculature%22%5D%2C+%22color%22%3A+%5B0%2C+0%2C+0%5D%7D%2C+%7B%22path%22%3A+%5B%22Cell+Type%22%2C+%22Outer+Follicle%22%5D%2C+%22color%22%3A+%5B0%2C+0%2C+128%5D%7D%2C+%7B%22path%22%3A+%5B%22Cell+Type%22%2C+%22Paneth+Enriched%22%5D%2C+%22color%22%3A+%5B173%2C+216%2C+230%5D%7D%2C+%7B%22path%22%3A+%5B%22Cell+Type%22%2C+%22Plasma+Cell+Enriched%22%5D%2C+%22color%22%3A+%5B255%2C+255%2C+0%5D%7D%2C+%7B%22path%22%3A+%5B%22Cell+Type%22%2C+%22Secretory+Epithelial%22%5D%2C+%22color%22%3A+%5B154%2C+205%2C+50%5D%7D%2C+%7B%22path%22%3A+%5B%22Cell+Type%22%2C+%22Smooth+Muscle%22%5D%2C+%22color%22%3A+%5B255%2C+0%2C+0%5D%7D%2C+%7B%22path%22%3A+%5B%22Cell+Type%22%2C+%22Smooth+Muscle+%26+Innate+Immune%22%5D%2C+%22color%22%3A+%5B210%2C+180%2C+140%5D%7D%2C+%7B%22path%22%3A+%5B%22Cell+Type%22%2C+%22Stroma%22%5D%2C+%22color%22%3A+%5B128%2C+128%2C+128%5D%7D%2C+%7B%22path%22%3A+%5B%22Cell+Type%22%2C+%22Stroma+%26+Innate+Immune%22%5D%2C+%22color%22%3A+%5B165%2C+42%2C+42%5D%7D%2C+%7B%22path%22%3A+%5B%22Cell+Type%22%2C+%22Transit+Amplifying+Zone%22%5D%2C+%22color%22%3A+%5B0%2C+0%2C+139%5D%7D%5D%7D%7D%2C+%22layout%22%3A+%5B%7B%22component%22%3A+%22spatial%22%2C+%22coordinationScopes%22%3A+%7B%22dataset%22%3A+%22A%22%2C+%22spatialZoom%22%3A+%22A%22%2C+%22spatialTargetX%22%3A+%22A%22%2C+%22spatialTargetY%22%3A+%22A%22%2C+%22spatialSegmentationLayer%22%3A+%22A%22%2C+%22obsSetColor%22%3A+%22A%22%7D%2C+%22x%22%3A+0.0%2C+%22y%22%3A+0%2C+%22w%22%3A+6.0%2C+%22h%22%3A+12%7D%2C+%7B%22component%22%3A+%22layerController%22%2C+%22coordinationScopes%22%3A+%7B%22dataset%22%3A+%22A%22%2C+%22spatialZoom%22%3A+%22A%22%2C+%22spatialTargetX%22%3A+%22A%22%2C+%22spatialTargetY%22%3A+%22A%22%2C+%22spatialSegmentationLayer%22%3A+%22A%22%2C+%22obsSetColor%22%3A+%22A%22%7D%2C+%22x%22%3A+6.0%2C+%22y%22%3A+0.0%2C+%22w%22%3A+6.0%2C+%22h%22%3A+6.0%7D%2C+%7B%22component%22%3A+%22obsSets%22%2C+%22coordinationScopes%22%3A+%7B%22dataset%22%3A+%22A%22%2C+%22obsSetColor%22%3A+%22A%22%7D%2C+%22x%22%3A+6.0%2C+%22y%22%3A+6.0%2C+%22w%22%3A+6.0%2C+%22h%22%3A+6.0%7D%5D%2C+%22initStrategy%22%3A+%22auto%22%7D\" target=\"_blank\">View on Vitessce.io</a>"
            ]
          },
          "metadata": {}
        },
        {
          "output_type": "stream",
          "name": "stdout",
          "text": [
            "\tUpdating 'spatial' component 'width' from 6.0 to 10.0\n",
            "\tUpdating 'layerController' component 'x' from 6.0 to 10.0\n",
            "\tUpdating 'layerController' component 'width' from 6.0 to 2\n",
            "\tUpdating 'obsSets' component 'x' from 6.0 to 10.0\n",
            "\tUpdating 'obsSets' component 'width' from 6.0 to 2\n",
            "51\n",
            "./images/Region_51_mask.pyramid.ome.tif\n"
          ]
        },
        {
          "output_type": "display_data",
          "data": {
            "text/plain": [
              "<IPython.core.display.HTML object>"
            ],
            "text/html": [
              "<a href=\"http://vitessce.io/#?theme=light&url=data:,%7B%22version%22%3A+%221.0.15%22%2C+%22name%22%3A+%22Transcriptomics+example%22%2C+%22description%22%3A+%22%22%2C+%22datasets%22%3A+%5B%7B%22uid%22%3A+%22A%22%2C+%22name%22%3A+%22Cell+segmentations%22%2C+%22files%22%3A+%5B%7B%22fileType%22%3A+%22raster.json%22%2C+%22options%22%3A+%7B%22schemaVersion%22%3A+%220.0.2%22%2C+%22images%22%3A+%5B%7B%22name%22%3A+%22Region+51+Segmentations%22%2C+%22type%22%3A+%22ome-tiff%22%2C+%22url%22%3A+%22http%3A%2F%2Flocalhost%3A8050%2FA%2F0%2F909839ed-8301-4ca5-aa8c-b9678f47d0a3%22%2C+%22metadata%22%3A+%7B%22omeTiffOffsetsUrl%22%3A+%22http%3A%2F%2Flocalhost%3A8050%2FA%2F0%2F5ef555d8-d3ed-44a2-8f6e-47005a46be06%22%2C+%22isBitmask%22%3A+true%7D%7D%5D%7D%7D%2C+%7B%22fileType%22%3A+%22obsSets.csv%22%2C+%22url%22%3A+%22http%3A%2F%2Flocalhost%3A8050%2FA%2F1%2Fcfe26079-9c52-42fa-af9c-da775ec8001c%22%2C+%22options%22%3A+%7B%22obsIndex%22%3A+%22cell_id%22%2C+%22obsSets%22%3A+%5B%7B%22name%22%3A+%22Cell+Type%22%2C+%22column%22%3A+%22cell_type%22%7D%5D%7D%7D%5D%7D%5D%2C+%22coordinationSpace%22%3A+%7B%22dataset%22%3A+%7B%22A%22%3A+%22A%22%7D%2C+%22spatialZoom%22%3A+%7B%22A%22%3A+-3%7D%2C+%22spatialTargetX%22%3A+%7B%22A%22%3A+3000%7D%2C+%22spatialTargetY%22%3A+%7B%22A%22%3A+3000%7D%2C+%22spatialSegmentationLayer%22%3A+%7B%22A%22%3A+%5B%7B%22type%22%3A+%22bitmask%22%2C+%22index%22%3A+0%2C+%22visible%22%3A+true%2C+%22colormap%22%3A+null%2C+%22opacity%22%3A+1%2C+%22domainType%22%3A+%22Min%2FMax%22%2C+%22transparentColor%22%3A+null%2C+%22renderingMode%22%3A+%22Additive%22%2C+%22use3d%22%3A+false%2C+%22channels%22%3A+%5B%7B%22selection%22%3A+%7B%22c%22%3A+0%2C+%22t%22%3A+0%2C+%22z%22%3A+0%7D%2C+%22color%22%3A+%5B0%2C+0%2C+0%5D%2C+%22visible%22%3A+true%2C+%22slider%22%3A+%5B0%2C+1%5D%7D%2C+%7B%22selection%22%3A+%7B%22c%22%3A+1%2C+%22t%22%3A+0%2C+%22z%22%3A+0%7D%2C+%22color%22%3A+%5B0%2C+0%2C+0%5D%2C+%22visible%22%3A+true%2C+%22slider%22%3A+%5B1%2C+2%5D%7D%2C+%7B%22selection%22%3A+%7B%22c%22%3A+2%2C+%22t%22%3A+0%2C+%22z%22%3A+0%7D%2C+%22color%22%3A+%5B0%2C+0%2C+0%5D%2C+%22visible%22%3A+true%2C+%22slider%22%3A+%5B2%2C+3%5D%7D%5D%7D%5D%7D%2C+%22obsSetColor%22%3A+%7B%22A%22%3A+%5B%7B%22path%22%3A+%5B%22Cell+Type%22%2C+%22Adatpive+Immune+Enriched%22%5D%2C+%22color%22%3A+%5B255%2C+165%2C+0%5D%7D%2C+%7B%22path%22%3A+%5B%22Cell+Type%22%2C+%22CD66%2B+Mature+Epithelial%22%5D%2C+%22color%22%3A+%5B178%2C+34%2C+34%5D%7D%2C+%7B%22path%22%3A+%5B%22Cell+Type%22%2C+%22CD8%2B+T+Enriched+IEL%22%5D%2C+%22color%22%3A+%5B0%2C+128%2C+0%5D%7D%2C+%7B%22path%22%3A+%5B%22Cell+Type%22%2C+%22Glandular+Epithelial%22%5D%2C+%22color%22%3A+%5B255%2C+140%2C+0%5D%7D%2C+%7B%22path%22%3A+%5B%22Cell+Type%22%2C+%22Innate+Immune+Enriched%22%5D%2C+%22color%22%3A+%5B135%2C+206%2C+235%5D%7D%2C+%7B%22path%22%3A+%5B%22Cell+Type%22%2C+%22Inner+Follicle%22%5D%2C+%22color%22%3A+%5B0%2C+0%2C+255%5D%7D%2C+%7B%22path%22%3A+%5B%22Cell+Type%22%2C+%22Innervated+Smooth+Muscle%22%5D%2C+%22color%22%3A+%5B144%2C+238%2C+144%5D%7D%2C+%7B%22path%22%3A+%5B%22Cell+Type%22%2C+%22Innervated+Stroma%22%5D%2C+%22color%22%3A+%5B138%2C+43%2C+226%5D%7D%2C+%7B%22path%22%3A+%5B%22Cell+Type%22%2C+%22Macrovasculature%22%5D%2C+%22color%22%3A+%5B255%2C+215%2C+0%5D%7D%2C+%7B%22path%22%3A+%5B%22Cell+Type%22%2C+%22Mature+Epithelial%22%5D%2C+%22color%22%3A+%5B255%2C+0%2C+255%5D%7D%2C+%7B%22path%22%3A+%5B%22Cell+Type%22%2C+%22Microvasculature%22%5D%2C+%22color%22%3A+%5B0%2C+0%2C+0%5D%7D%2C+%7B%22path%22%3A+%5B%22Cell+Type%22%2C+%22Outer+Follicle%22%5D%2C+%22color%22%3A+%5B0%2C+0%2C+128%5D%7D%2C+%7B%22path%22%3A+%5B%22Cell+Type%22%2C+%22Paneth+Enriched%22%5D%2C+%22color%22%3A+%5B173%2C+216%2C+230%5D%7D%2C+%7B%22path%22%3A+%5B%22Cell+Type%22%2C+%22Plasma+Cell+Enriched%22%5D%2C+%22color%22%3A+%5B255%2C+255%2C+0%5D%7D%2C+%7B%22path%22%3A+%5B%22Cell+Type%22%2C+%22Secretory+Epithelial%22%5D%2C+%22color%22%3A+%5B154%2C+205%2C+50%5D%7D%2C+%7B%22path%22%3A+%5B%22Cell+Type%22%2C+%22Smooth+Muscle%22%5D%2C+%22color%22%3A+%5B255%2C+0%2C+0%5D%7D%2C+%7B%22path%22%3A+%5B%22Cell+Type%22%2C+%22Smooth+Muscle+%26+Innate+Immune%22%5D%2C+%22color%22%3A+%5B210%2C+180%2C+140%5D%7D%2C+%7B%22path%22%3A+%5B%22Cell+Type%22%2C+%22Stroma%22%5D%2C+%22color%22%3A+%5B128%2C+128%2C+128%5D%7D%2C+%7B%22path%22%3A+%5B%22Cell+Type%22%2C+%22Stroma+%26+Innate+Immune%22%5D%2C+%22color%22%3A+%5B165%2C+42%2C+42%5D%7D%2C+%7B%22path%22%3A+%5B%22Cell+Type%22%2C+%22Transit+Amplifying+Zone%22%5D%2C+%22color%22%3A+%5B0%2C+0%2C+139%5D%7D%5D%7D%7D%2C+%22layout%22%3A+%5B%7B%22component%22%3A+%22spatial%22%2C+%22coordinationScopes%22%3A+%7B%22dataset%22%3A+%22A%22%2C+%22spatialZoom%22%3A+%22A%22%2C+%22spatialTargetX%22%3A+%22A%22%2C+%22spatialTargetY%22%3A+%22A%22%2C+%22spatialSegmentationLayer%22%3A+%22A%22%2C+%22obsSetColor%22%3A+%22A%22%7D%2C+%22x%22%3A+0.0%2C+%22y%22%3A+0%2C+%22w%22%3A+6.0%2C+%22h%22%3A+12%7D%2C+%7B%22component%22%3A+%22layerController%22%2C+%22coordinationScopes%22%3A+%7B%22dataset%22%3A+%22A%22%2C+%22spatialZoom%22%3A+%22A%22%2C+%22spatialTargetX%22%3A+%22A%22%2C+%22spatialTargetY%22%3A+%22A%22%2C+%22spatialSegmentationLayer%22%3A+%22A%22%2C+%22obsSetColor%22%3A+%22A%22%7D%2C+%22x%22%3A+6.0%2C+%22y%22%3A+0.0%2C+%22w%22%3A+6.0%2C+%22h%22%3A+6.0%7D%2C+%7B%22component%22%3A+%22obsSets%22%2C+%22coordinationScopes%22%3A+%7B%22dataset%22%3A+%22A%22%2C+%22obsSetColor%22%3A+%22A%22%7D%2C+%22x%22%3A+6.0%2C+%22y%22%3A+6.0%2C+%22w%22%3A+6.0%2C+%22h%22%3A+6.0%7D%5D%2C+%22initStrategy%22%3A+%22auto%22%7D\" target=\"_blank\">View on Vitessce.io</a>"
            ]
          },
          "metadata": {}
        },
        {
          "output_type": "stream",
          "name": "stdout",
          "text": [
            "\tUpdating 'spatial' component 'width' from 6.0 to 10.0\n",
            "\tUpdating 'layerController' component 'x' from 6.0 to 10.0\n",
            "\tUpdating 'layerController' component 'width' from 6.0 to 2\n",
            "\tUpdating 'obsSets' component 'x' from 6.0 to 10.0\n",
            "\tUpdating 'obsSets' component 'width' from 6.0 to 2\n",
            "52\n",
            "./images/Region_52_mask.pyramid.ome.tif\n"
          ]
        },
        {
          "output_type": "display_data",
          "data": {
            "text/plain": [
              "<IPython.core.display.HTML object>"
            ],
            "text/html": [
              "<a href=\"http://vitessce.io/#?theme=light&url=data:,%7B%22version%22%3A+%221.0.15%22%2C+%22name%22%3A+%22Transcriptomics+example%22%2C+%22description%22%3A+%22%22%2C+%22datasets%22%3A+%5B%7B%22uid%22%3A+%22A%22%2C+%22name%22%3A+%22Cell+segmentations%22%2C+%22files%22%3A+%5B%7B%22fileType%22%3A+%22raster.json%22%2C+%22options%22%3A+%7B%22schemaVersion%22%3A+%220.0.2%22%2C+%22images%22%3A+%5B%7B%22name%22%3A+%22Region+52+Segmentations%22%2C+%22type%22%3A+%22ome-tiff%22%2C+%22url%22%3A+%22http%3A%2F%2Flocalhost%3A8051%2FA%2F0%2Fc5615474-9c7d-4884-814a-41add18a6a94%22%2C+%22metadata%22%3A+%7B%22omeTiffOffsetsUrl%22%3A+%22http%3A%2F%2Flocalhost%3A8051%2FA%2F0%2Fabbc0c86-e97d-4612-aa90-a0c830c9746d%22%2C+%22isBitmask%22%3A+true%7D%7D%5D%7D%7D%2C+%7B%22fileType%22%3A+%22obsSets.csv%22%2C+%22url%22%3A+%22http%3A%2F%2Flocalhost%3A8051%2FA%2F1%2F6becadb2-384d-41bf-8546-ed2766d792b9%22%2C+%22options%22%3A+%7B%22obsIndex%22%3A+%22cell_id%22%2C+%22obsSets%22%3A+%5B%7B%22name%22%3A+%22Cell+Type%22%2C+%22column%22%3A+%22cell_type%22%7D%5D%7D%7D%5D%7D%5D%2C+%22coordinationSpace%22%3A+%7B%22dataset%22%3A+%7B%22A%22%3A+%22A%22%7D%2C+%22spatialZoom%22%3A+%7B%22A%22%3A+-3%7D%2C+%22spatialTargetX%22%3A+%7B%22A%22%3A+3000%7D%2C+%22spatialTargetY%22%3A+%7B%22A%22%3A+3000%7D%2C+%22spatialSegmentationLayer%22%3A+%7B%22A%22%3A+%5B%7B%22type%22%3A+%22bitmask%22%2C+%22index%22%3A+0%2C+%22visible%22%3A+true%2C+%22colormap%22%3A+null%2C+%22opacity%22%3A+1%2C+%22domainType%22%3A+%22Min%2FMax%22%2C+%22transparentColor%22%3A+null%2C+%22renderingMode%22%3A+%22Additive%22%2C+%22use3d%22%3A+false%2C+%22channels%22%3A+%5B%7B%22selection%22%3A+%7B%22c%22%3A+0%2C+%22t%22%3A+0%2C+%22z%22%3A+0%7D%2C+%22color%22%3A+%5B0%2C+0%2C+0%5D%2C+%22visible%22%3A+true%2C+%22slider%22%3A+%5B0%2C+1%5D%7D%2C+%7B%22selection%22%3A+%7B%22c%22%3A+1%2C+%22t%22%3A+0%2C+%22z%22%3A+0%7D%2C+%22color%22%3A+%5B0%2C+0%2C+0%5D%2C+%22visible%22%3A+true%2C+%22slider%22%3A+%5B1%2C+2%5D%7D%2C+%7B%22selection%22%3A+%7B%22c%22%3A+2%2C+%22t%22%3A+0%2C+%22z%22%3A+0%7D%2C+%22color%22%3A+%5B0%2C+0%2C+0%5D%2C+%22visible%22%3A+true%2C+%22slider%22%3A+%5B2%2C+3%5D%7D%5D%7D%5D%7D%2C+%22obsSetColor%22%3A+%7B%22A%22%3A+%5B%7B%22path%22%3A+%5B%22Cell+Type%22%2C+%22Adatpive+Immune+Enriched%22%5D%2C+%22color%22%3A+%5B255%2C+165%2C+0%5D%7D%2C+%7B%22path%22%3A+%5B%22Cell+Type%22%2C+%22CD66%2B+Mature+Epithelial%22%5D%2C+%22color%22%3A+%5B178%2C+34%2C+34%5D%7D%2C+%7B%22path%22%3A+%5B%22Cell+Type%22%2C+%22CD8%2B+T+Enriched+IEL%22%5D%2C+%22color%22%3A+%5B0%2C+128%2C+0%5D%7D%2C+%7B%22path%22%3A+%5B%22Cell+Type%22%2C+%22Glandular+Epithelial%22%5D%2C+%22color%22%3A+%5B255%2C+140%2C+0%5D%7D%2C+%7B%22path%22%3A+%5B%22Cell+Type%22%2C+%22Innate+Immune+Enriched%22%5D%2C+%22color%22%3A+%5B135%2C+206%2C+235%5D%7D%2C+%7B%22path%22%3A+%5B%22Cell+Type%22%2C+%22Inner+Follicle%22%5D%2C+%22color%22%3A+%5B0%2C+0%2C+255%5D%7D%2C+%7B%22path%22%3A+%5B%22Cell+Type%22%2C+%22Innervated+Smooth+Muscle%22%5D%2C+%22color%22%3A+%5B144%2C+238%2C+144%5D%7D%2C+%7B%22path%22%3A+%5B%22Cell+Type%22%2C+%22Innervated+Stroma%22%5D%2C+%22color%22%3A+%5B138%2C+43%2C+226%5D%7D%2C+%7B%22path%22%3A+%5B%22Cell+Type%22%2C+%22Macrovasculature%22%5D%2C+%22color%22%3A+%5B255%2C+215%2C+0%5D%7D%2C+%7B%22path%22%3A+%5B%22Cell+Type%22%2C+%22Mature+Epithelial%22%5D%2C+%22color%22%3A+%5B255%2C+0%2C+255%5D%7D%2C+%7B%22path%22%3A+%5B%22Cell+Type%22%2C+%22Microvasculature%22%5D%2C+%22color%22%3A+%5B0%2C+0%2C+0%5D%7D%2C+%7B%22path%22%3A+%5B%22Cell+Type%22%2C+%22Outer+Follicle%22%5D%2C+%22color%22%3A+%5B0%2C+0%2C+128%5D%7D%2C+%7B%22path%22%3A+%5B%22Cell+Type%22%2C+%22Paneth+Enriched%22%5D%2C+%22color%22%3A+%5B173%2C+216%2C+230%5D%7D%2C+%7B%22path%22%3A+%5B%22Cell+Type%22%2C+%22Plasma+Cell+Enriched%22%5D%2C+%22color%22%3A+%5B255%2C+255%2C+0%5D%7D%2C+%7B%22path%22%3A+%5B%22Cell+Type%22%2C+%22Secretory+Epithelial%22%5D%2C+%22color%22%3A+%5B154%2C+205%2C+50%5D%7D%2C+%7B%22path%22%3A+%5B%22Cell+Type%22%2C+%22Smooth+Muscle%22%5D%2C+%22color%22%3A+%5B255%2C+0%2C+0%5D%7D%2C+%7B%22path%22%3A+%5B%22Cell+Type%22%2C+%22Smooth+Muscle+%26+Innate+Immune%22%5D%2C+%22color%22%3A+%5B210%2C+180%2C+140%5D%7D%2C+%7B%22path%22%3A+%5B%22Cell+Type%22%2C+%22Stroma%22%5D%2C+%22color%22%3A+%5B128%2C+128%2C+128%5D%7D%2C+%7B%22path%22%3A+%5B%22Cell+Type%22%2C+%22Stroma+%26+Innate+Immune%22%5D%2C+%22color%22%3A+%5B165%2C+42%2C+42%5D%7D%2C+%7B%22path%22%3A+%5B%22Cell+Type%22%2C+%22Transit+Amplifying+Zone%22%5D%2C+%22color%22%3A+%5B0%2C+0%2C+139%5D%7D%5D%7D%7D%2C+%22layout%22%3A+%5B%7B%22component%22%3A+%22spatial%22%2C+%22coordinationScopes%22%3A+%7B%22dataset%22%3A+%22A%22%2C+%22spatialZoom%22%3A+%22A%22%2C+%22spatialTargetX%22%3A+%22A%22%2C+%22spatialTargetY%22%3A+%22A%22%2C+%22spatialSegmentationLayer%22%3A+%22A%22%2C+%22obsSetColor%22%3A+%22A%22%7D%2C+%22x%22%3A+0.0%2C+%22y%22%3A+0%2C+%22w%22%3A+6.0%2C+%22h%22%3A+12%7D%2C+%7B%22component%22%3A+%22layerController%22%2C+%22coordinationScopes%22%3A+%7B%22dataset%22%3A+%22A%22%2C+%22spatialZoom%22%3A+%22A%22%2C+%22spatialTargetX%22%3A+%22A%22%2C+%22spatialTargetY%22%3A+%22A%22%2C+%22spatialSegmentationLayer%22%3A+%22A%22%2C+%22obsSetColor%22%3A+%22A%22%7D%2C+%22x%22%3A+6.0%2C+%22y%22%3A+0.0%2C+%22w%22%3A+6.0%2C+%22h%22%3A+6.0%7D%2C+%7B%22component%22%3A+%22obsSets%22%2C+%22coordinationScopes%22%3A+%7B%22dataset%22%3A+%22A%22%2C+%22obsSetColor%22%3A+%22A%22%7D%2C+%22x%22%3A+6.0%2C+%22y%22%3A+6.0%2C+%22w%22%3A+6.0%2C+%22h%22%3A+6.0%7D%5D%2C+%22initStrategy%22%3A+%22auto%22%7D\" target=\"_blank\">View on Vitessce.io</a>"
            ]
          },
          "metadata": {}
        },
        {
          "output_type": "stream",
          "name": "stdout",
          "text": [
            "\tUpdating 'spatial' component 'width' from 6.0 to 10.0\n",
            "\tUpdating 'layerController' component 'x' from 6.0 to 10.0\n",
            "\tUpdating 'layerController' component 'width' from 6.0 to 2\n",
            "\tUpdating 'obsSets' component 'x' from 6.0 to 10.0\n",
            "\tUpdating 'obsSets' component 'width' from 6.0 to 2\n",
            "53\n",
            "./images/Region_53_mask.pyramid.ome.tif\n"
          ]
        },
        {
          "output_type": "display_data",
          "data": {
            "text/plain": [
              "<IPython.core.display.HTML object>"
            ],
            "text/html": [
              "<a href=\"http://vitessce.io/#?theme=light&url=data:,%7B%22version%22%3A+%221.0.15%22%2C+%22name%22%3A+%22Transcriptomics+example%22%2C+%22description%22%3A+%22%22%2C+%22datasets%22%3A+%5B%7B%22uid%22%3A+%22A%22%2C+%22name%22%3A+%22Cell+segmentations%22%2C+%22files%22%3A+%5B%7B%22fileType%22%3A+%22raster.json%22%2C+%22options%22%3A+%7B%22schemaVersion%22%3A+%220.0.2%22%2C+%22images%22%3A+%5B%7B%22name%22%3A+%22Region+53+Segmentations%22%2C+%22type%22%3A+%22ome-tiff%22%2C+%22url%22%3A+%22http%3A%2F%2Flocalhost%3A8052%2FA%2F0%2Fb6787078-897a-45e7-a7cc-6a87aa01e457%22%2C+%22metadata%22%3A+%7B%22omeTiffOffsetsUrl%22%3A+%22http%3A%2F%2Flocalhost%3A8052%2FA%2F0%2F2a6b1c44-2e5f-4962-92df-08798c1ae2a7%22%2C+%22isBitmask%22%3A+true%7D%7D%5D%7D%7D%2C+%7B%22fileType%22%3A+%22obsSets.csv%22%2C+%22url%22%3A+%22http%3A%2F%2Flocalhost%3A8052%2FA%2F1%2F6363cf4c-6501-4cc8-a920-4cee1c394583%22%2C+%22options%22%3A+%7B%22obsIndex%22%3A+%22cell_id%22%2C+%22obsSets%22%3A+%5B%7B%22name%22%3A+%22Cell+Type%22%2C+%22column%22%3A+%22cell_type%22%7D%5D%7D%7D%5D%7D%5D%2C+%22coordinationSpace%22%3A+%7B%22dataset%22%3A+%7B%22A%22%3A+%22A%22%7D%2C+%22spatialZoom%22%3A+%7B%22A%22%3A+-3%7D%2C+%22spatialTargetX%22%3A+%7B%22A%22%3A+3000%7D%2C+%22spatialTargetY%22%3A+%7B%22A%22%3A+3000%7D%2C+%22spatialSegmentationLayer%22%3A+%7B%22A%22%3A+%5B%7B%22type%22%3A+%22bitmask%22%2C+%22index%22%3A+0%2C+%22visible%22%3A+true%2C+%22colormap%22%3A+null%2C+%22opacity%22%3A+1%2C+%22domainType%22%3A+%22Min%2FMax%22%2C+%22transparentColor%22%3A+null%2C+%22renderingMode%22%3A+%22Additive%22%2C+%22use3d%22%3A+false%2C+%22channels%22%3A+%5B%7B%22selection%22%3A+%7B%22c%22%3A+0%2C+%22t%22%3A+0%2C+%22z%22%3A+0%7D%2C+%22color%22%3A+%5B0%2C+0%2C+0%5D%2C+%22visible%22%3A+true%2C+%22slider%22%3A+%5B0%2C+1%5D%7D%2C+%7B%22selection%22%3A+%7B%22c%22%3A+1%2C+%22t%22%3A+0%2C+%22z%22%3A+0%7D%2C+%22color%22%3A+%5B0%2C+0%2C+0%5D%2C+%22visible%22%3A+true%2C+%22slider%22%3A+%5B1%2C+2%5D%7D%2C+%7B%22selection%22%3A+%7B%22c%22%3A+2%2C+%22t%22%3A+0%2C+%22z%22%3A+0%7D%2C+%22color%22%3A+%5B0%2C+0%2C+0%5D%2C+%22visible%22%3A+true%2C+%22slider%22%3A+%5B2%2C+3%5D%7D%5D%7D%5D%7D%2C+%22obsSetColor%22%3A+%7B%22A%22%3A+%5B%7B%22path%22%3A+%5B%22Cell+Type%22%2C+%22Adatpive+Immune+Enriched%22%5D%2C+%22color%22%3A+%5B255%2C+165%2C+0%5D%7D%2C+%7B%22path%22%3A+%5B%22Cell+Type%22%2C+%22CD66%2B+Mature+Epithelial%22%5D%2C+%22color%22%3A+%5B178%2C+34%2C+34%5D%7D%2C+%7B%22path%22%3A+%5B%22Cell+Type%22%2C+%22CD8%2B+T+Enriched+IEL%22%5D%2C+%22color%22%3A+%5B0%2C+128%2C+0%5D%7D%2C+%7B%22path%22%3A+%5B%22Cell+Type%22%2C+%22Glandular+Epithelial%22%5D%2C+%22color%22%3A+%5B255%2C+140%2C+0%5D%7D%2C+%7B%22path%22%3A+%5B%22Cell+Type%22%2C+%22Innate+Immune+Enriched%22%5D%2C+%22color%22%3A+%5B135%2C+206%2C+235%5D%7D%2C+%7B%22path%22%3A+%5B%22Cell+Type%22%2C+%22Inner+Follicle%22%5D%2C+%22color%22%3A+%5B0%2C+0%2C+255%5D%7D%2C+%7B%22path%22%3A+%5B%22Cell+Type%22%2C+%22Innervated+Smooth+Muscle%22%5D%2C+%22color%22%3A+%5B144%2C+238%2C+144%5D%7D%2C+%7B%22path%22%3A+%5B%22Cell+Type%22%2C+%22Innervated+Stroma%22%5D%2C+%22color%22%3A+%5B138%2C+43%2C+226%5D%7D%2C+%7B%22path%22%3A+%5B%22Cell+Type%22%2C+%22Macrovasculature%22%5D%2C+%22color%22%3A+%5B255%2C+215%2C+0%5D%7D%2C+%7B%22path%22%3A+%5B%22Cell+Type%22%2C+%22Mature+Epithelial%22%5D%2C+%22color%22%3A+%5B255%2C+0%2C+255%5D%7D%2C+%7B%22path%22%3A+%5B%22Cell+Type%22%2C+%22Microvasculature%22%5D%2C+%22color%22%3A+%5B0%2C+0%2C+0%5D%7D%2C+%7B%22path%22%3A+%5B%22Cell+Type%22%2C+%22Outer+Follicle%22%5D%2C+%22color%22%3A+%5B0%2C+0%2C+128%5D%7D%2C+%7B%22path%22%3A+%5B%22Cell+Type%22%2C+%22Paneth+Enriched%22%5D%2C+%22color%22%3A+%5B173%2C+216%2C+230%5D%7D%2C+%7B%22path%22%3A+%5B%22Cell+Type%22%2C+%22Plasma+Cell+Enriched%22%5D%2C+%22color%22%3A+%5B255%2C+255%2C+0%5D%7D%2C+%7B%22path%22%3A+%5B%22Cell+Type%22%2C+%22Secretory+Epithelial%22%5D%2C+%22color%22%3A+%5B154%2C+205%2C+50%5D%7D%2C+%7B%22path%22%3A+%5B%22Cell+Type%22%2C+%22Smooth+Muscle%22%5D%2C+%22color%22%3A+%5B255%2C+0%2C+0%5D%7D%2C+%7B%22path%22%3A+%5B%22Cell+Type%22%2C+%22Smooth+Muscle+%26+Innate+Immune%22%5D%2C+%22color%22%3A+%5B210%2C+180%2C+140%5D%7D%2C+%7B%22path%22%3A+%5B%22Cell+Type%22%2C+%22Stroma%22%5D%2C+%22color%22%3A+%5B128%2C+128%2C+128%5D%7D%2C+%7B%22path%22%3A+%5B%22Cell+Type%22%2C+%22Stroma+%26+Innate+Immune%22%5D%2C+%22color%22%3A+%5B165%2C+42%2C+42%5D%7D%2C+%7B%22path%22%3A+%5B%22Cell+Type%22%2C+%22Transit+Amplifying+Zone%22%5D%2C+%22color%22%3A+%5B0%2C+0%2C+139%5D%7D%5D%7D%7D%2C+%22layout%22%3A+%5B%7B%22component%22%3A+%22spatial%22%2C+%22coordinationScopes%22%3A+%7B%22dataset%22%3A+%22A%22%2C+%22spatialZoom%22%3A+%22A%22%2C+%22spatialTargetX%22%3A+%22A%22%2C+%22spatialTargetY%22%3A+%22A%22%2C+%22spatialSegmentationLayer%22%3A+%22A%22%2C+%22obsSetColor%22%3A+%22A%22%7D%2C+%22x%22%3A+0.0%2C+%22y%22%3A+0%2C+%22w%22%3A+6.0%2C+%22h%22%3A+12%7D%2C+%7B%22component%22%3A+%22layerController%22%2C+%22coordinationScopes%22%3A+%7B%22dataset%22%3A+%22A%22%2C+%22spatialZoom%22%3A+%22A%22%2C+%22spatialTargetX%22%3A+%22A%22%2C+%22spatialTargetY%22%3A+%22A%22%2C+%22spatialSegmentationLayer%22%3A+%22A%22%2C+%22obsSetColor%22%3A+%22A%22%7D%2C+%22x%22%3A+6.0%2C+%22y%22%3A+0.0%2C+%22w%22%3A+6.0%2C+%22h%22%3A+6.0%7D%2C+%7B%22component%22%3A+%22obsSets%22%2C+%22coordinationScopes%22%3A+%7B%22dataset%22%3A+%22A%22%2C+%22obsSetColor%22%3A+%22A%22%7D%2C+%22x%22%3A+6.0%2C+%22y%22%3A+6.0%2C+%22w%22%3A+6.0%2C+%22h%22%3A+6.0%7D%5D%2C+%22initStrategy%22%3A+%22auto%22%7D\" target=\"_blank\">View on Vitessce.io</a>"
            ]
          },
          "metadata": {}
        },
        {
          "output_type": "stream",
          "name": "stdout",
          "text": [
            "\tUpdating 'spatial' component 'width' from 6.0 to 10.0\n",
            "\tUpdating 'layerController' component 'x' from 6.0 to 10.0\n",
            "\tUpdating 'layerController' component 'width' from 6.0 to 2\n",
            "\tUpdating 'obsSets' component 'x' from 6.0 to 10.0\n",
            "\tUpdating 'obsSets' component 'width' from 6.0 to 2\n",
            "54\n",
            "./images/Region_54_mask.pyramid.ome.tif\n"
          ]
        },
        {
          "output_type": "display_data",
          "data": {
            "text/plain": [
              "<IPython.core.display.HTML object>"
            ],
            "text/html": [
              "<a href=\"http://vitessce.io/#?theme=light&url=data:,%7B%22version%22%3A+%221.0.15%22%2C+%22name%22%3A+%22Transcriptomics+example%22%2C+%22description%22%3A+%22%22%2C+%22datasets%22%3A+%5B%7B%22uid%22%3A+%22A%22%2C+%22name%22%3A+%22Cell+segmentations%22%2C+%22files%22%3A+%5B%7B%22fileType%22%3A+%22raster.json%22%2C+%22options%22%3A+%7B%22schemaVersion%22%3A+%220.0.2%22%2C+%22images%22%3A+%5B%7B%22name%22%3A+%22Region+54+Segmentations%22%2C+%22type%22%3A+%22ome-tiff%22%2C+%22url%22%3A+%22http%3A%2F%2Flocalhost%3A8053%2FA%2F0%2Fdd7c2b92-a2ec-43d7-80c6-e89c26b831e8%22%2C+%22metadata%22%3A+%7B%22omeTiffOffsetsUrl%22%3A+%22http%3A%2F%2Flocalhost%3A8053%2FA%2F0%2F4037359f-a240-477b-9037-4777cd35c1e3%22%2C+%22isBitmask%22%3A+true%7D%7D%5D%7D%7D%2C+%7B%22fileType%22%3A+%22obsSets.csv%22%2C+%22url%22%3A+%22http%3A%2F%2Flocalhost%3A8053%2FA%2F1%2F79cc182a-a5c6-4c14-a967-5d6230ce5dfb%22%2C+%22options%22%3A+%7B%22obsIndex%22%3A+%22cell_id%22%2C+%22obsSets%22%3A+%5B%7B%22name%22%3A+%22Cell+Type%22%2C+%22column%22%3A+%22cell_type%22%7D%5D%7D%7D%5D%7D%5D%2C+%22coordinationSpace%22%3A+%7B%22dataset%22%3A+%7B%22A%22%3A+%22A%22%7D%2C+%22spatialZoom%22%3A+%7B%22A%22%3A+-3%7D%2C+%22spatialTargetX%22%3A+%7B%22A%22%3A+3000%7D%2C+%22spatialTargetY%22%3A+%7B%22A%22%3A+3000%7D%2C+%22spatialSegmentationLayer%22%3A+%7B%22A%22%3A+%5B%7B%22type%22%3A+%22bitmask%22%2C+%22index%22%3A+0%2C+%22visible%22%3A+true%2C+%22colormap%22%3A+null%2C+%22opacity%22%3A+1%2C+%22domainType%22%3A+%22Min%2FMax%22%2C+%22transparentColor%22%3A+null%2C+%22renderingMode%22%3A+%22Additive%22%2C+%22use3d%22%3A+false%2C+%22channels%22%3A+%5B%7B%22selection%22%3A+%7B%22c%22%3A+0%2C+%22t%22%3A+0%2C+%22z%22%3A+0%7D%2C+%22color%22%3A+%5B0%2C+0%2C+0%5D%2C+%22visible%22%3A+true%2C+%22slider%22%3A+%5B0%2C+1%5D%7D%2C+%7B%22selection%22%3A+%7B%22c%22%3A+1%2C+%22t%22%3A+0%2C+%22z%22%3A+0%7D%2C+%22color%22%3A+%5B0%2C+0%2C+0%5D%2C+%22visible%22%3A+true%2C+%22slider%22%3A+%5B1%2C+2%5D%7D%2C+%7B%22selection%22%3A+%7B%22c%22%3A+2%2C+%22t%22%3A+0%2C+%22z%22%3A+0%7D%2C+%22color%22%3A+%5B0%2C+0%2C+0%5D%2C+%22visible%22%3A+true%2C+%22slider%22%3A+%5B2%2C+3%5D%7D%5D%7D%5D%7D%2C+%22obsSetColor%22%3A+%7B%22A%22%3A+%5B%7B%22path%22%3A+%5B%22Cell+Type%22%2C+%22Adatpive+Immune+Enriched%22%5D%2C+%22color%22%3A+%5B255%2C+165%2C+0%5D%7D%2C+%7B%22path%22%3A+%5B%22Cell+Type%22%2C+%22CD66%2B+Mature+Epithelial%22%5D%2C+%22color%22%3A+%5B178%2C+34%2C+34%5D%7D%2C+%7B%22path%22%3A+%5B%22Cell+Type%22%2C+%22CD8%2B+T+Enriched+IEL%22%5D%2C+%22color%22%3A+%5B0%2C+128%2C+0%5D%7D%2C+%7B%22path%22%3A+%5B%22Cell+Type%22%2C+%22Glandular+Epithelial%22%5D%2C+%22color%22%3A+%5B255%2C+140%2C+0%5D%7D%2C+%7B%22path%22%3A+%5B%22Cell+Type%22%2C+%22Innate+Immune+Enriched%22%5D%2C+%22color%22%3A+%5B135%2C+206%2C+235%5D%7D%2C+%7B%22path%22%3A+%5B%22Cell+Type%22%2C+%22Inner+Follicle%22%5D%2C+%22color%22%3A+%5B0%2C+0%2C+255%5D%7D%2C+%7B%22path%22%3A+%5B%22Cell+Type%22%2C+%22Innervated+Smooth+Muscle%22%5D%2C+%22color%22%3A+%5B144%2C+238%2C+144%5D%7D%2C+%7B%22path%22%3A+%5B%22Cell+Type%22%2C+%22Innervated+Stroma%22%5D%2C+%22color%22%3A+%5B138%2C+43%2C+226%5D%7D%2C+%7B%22path%22%3A+%5B%22Cell+Type%22%2C+%22Macrovasculature%22%5D%2C+%22color%22%3A+%5B255%2C+215%2C+0%5D%7D%2C+%7B%22path%22%3A+%5B%22Cell+Type%22%2C+%22Mature+Epithelial%22%5D%2C+%22color%22%3A+%5B255%2C+0%2C+255%5D%7D%2C+%7B%22path%22%3A+%5B%22Cell+Type%22%2C+%22Microvasculature%22%5D%2C+%22color%22%3A+%5B0%2C+0%2C+0%5D%7D%2C+%7B%22path%22%3A+%5B%22Cell+Type%22%2C+%22Outer+Follicle%22%5D%2C+%22color%22%3A+%5B0%2C+0%2C+128%5D%7D%2C+%7B%22path%22%3A+%5B%22Cell+Type%22%2C+%22Paneth+Enriched%22%5D%2C+%22color%22%3A+%5B173%2C+216%2C+230%5D%7D%2C+%7B%22path%22%3A+%5B%22Cell+Type%22%2C+%22Plasma+Cell+Enriched%22%5D%2C+%22color%22%3A+%5B255%2C+255%2C+0%5D%7D%2C+%7B%22path%22%3A+%5B%22Cell+Type%22%2C+%22Secretory+Epithelial%22%5D%2C+%22color%22%3A+%5B154%2C+205%2C+50%5D%7D%2C+%7B%22path%22%3A+%5B%22Cell+Type%22%2C+%22Smooth+Muscle%22%5D%2C+%22color%22%3A+%5B255%2C+0%2C+0%5D%7D%2C+%7B%22path%22%3A+%5B%22Cell+Type%22%2C+%22Smooth+Muscle+%26+Innate+Immune%22%5D%2C+%22color%22%3A+%5B210%2C+180%2C+140%5D%7D%2C+%7B%22path%22%3A+%5B%22Cell+Type%22%2C+%22Stroma%22%5D%2C+%22color%22%3A+%5B128%2C+128%2C+128%5D%7D%2C+%7B%22path%22%3A+%5B%22Cell+Type%22%2C+%22Stroma+%26+Innate+Immune%22%5D%2C+%22color%22%3A+%5B165%2C+42%2C+42%5D%7D%2C+%7B%22path%22%3A+%5B%22Cell+Type%22%2C+%22Transit+Amplifying+Zone%22%5D%2C+%22color%22%3A+%5B0%2C+0%2C+139%5D%7D%5D%7D%7D%2C+%22layout%22%3A+%5B%7B%22component%22%3A+%22spatial%22%2C+%22coordinationScopes%22%3A+%7B%22dataset%22%3A+%22A%22%2C+%22spatialZoom%22%3A+%22A%22%2C+%22spatialTargetX%22%3A+%22A%22%2C+%22spatialTargetY%22%3A+%22A%22%2C+%22spatialSegmentationLayer%22%3A+%22A%22%2C+%22obsSetColor%22%3A+%22A%22%7D%2C+%22x%22%3A+0.0%2C+%22y%22%3A+0%2C+%22w%22%3A+6.0%2C+%22h%22%3A+12%7D%2C+%7B%22component%22%3A+%22layerController%22%2C+%22coordinationScopes%22%3A+%7B%22dataset%22%3A+%22A%22%2C+%22spatialZoom%22%3A+%22A%22%2C+%22spatialTargetX%22%3A+%22A%22%2C+%22spatialTargetY%22%3A+%22A%22%2C+%22spatialSegmentationLayer%22%3A+%22A%22%2C+%22obsSetColor%22%3A+%22A%22%7D%2C+%22x%22%3A+6.0%2C+%22y%22%3A+0.0%2C+%22w%22%3A+6.0%2C+%22h%22%3A+6.0%7D%2C+%7B%22component%22%3A+%22obsSets%22%2C+%22coordinationScopes%22%3A+%7B%22dataset%22%3A+%22A%22%2C+%22obsSetColor%22%3A+%22A%22%7D%2C+%22x%22%3A+6.0%2C+%22y%22%3A+6.0%2C+%22w%22%3A+6.0%2C+%22h%22%3A+6.0%7D%5D%2C+%22initStrategy%22%3A+%22auto%22%7D\" target=\"_blank\">View on Vitessce.io</a>"
            ]
          },
          "metadata": {}
        },
        {
          "output_type": "stream",
          "name": "stdout",
          "text": [
            "\tUpdating 'spatial' component 'width' from 6.0 to 10.0\n",
            "\tUpdating 'layerController' component 'x' from 6.0 to 10.0\n",
            "\tUpdating 'layerController' component 'width' from 6.0 to 2\n",
            "\tUpdating 'obsSets' component 'x' from 6.0 to 10.0\n",
            "\tUpdating 'obsSets' component 'width' from 6.0 to 2\n",
            "55\n",
            "./images/Region_55_mask.pyramid.ome.tif\n"
          ]
        },
        {
          "output_type": "display_data",
          "data": {
            "text/plain": [
              "<IPython.core.display.HTML object>"
            ],
            "text/html": [
              "<a href=\"http://vitessce.io/#?theme=light&url=data:,%7B%22version%22%3A+%221.0.15%22%2C+%22name%22%3A+%22Transcriptomics+example%22%2C+%22description%22%3A+%22%22%2C+%22datasets%22%3A+%5B%7B%22uid%22%3A+%22A%22%2C+%22name%22%3A+%22Cell+segmentations%22%2C+%22files%22%3A+%5B%7B%22fileType%22%3A+%22raster.json%22%2C+%22options%22%3A+%7B%22schemaVersion%22%3A+%220.0.2%22%2C+%22images%22%3A+%5B%7B%22name%22%3A+%22Region+55+Segmentations%22%2C+%22type%22%3A+%22ome-tiff%22%2C+%22url%22%3A+%22http%3A%2F%2Flocalhost%3A8054%2FA%2F0%2F86309f75-c19a-4a78-8d4d-132449de6129%22%2C+%22metadata%22%3A+%7B%22omeTiffOffsetsUrl%22%3A+%22http%3A%2F%2Flocalhost%3A8054%2FA%2F0%2F90a2aa72-23ca-474f-8106-18f720ed5e7d%22%2C+%22isBitmask%22%3A+true%7D%7D%5D%7D%7D%2C+%7B%22fileType%22%3A+%22obsSets.csv%22%2C+%22url%22%3A+%22http%3A%2F%2Flocalhost%3A8054%2FA%2F1%2F4cb78b5b-413d-4c34-b2fe-76609e0a6605%22%2C+%22options%22%3A+%7B%22obsIndex%22%3A+%22cell_id%22%2C+%22obsSets%22%3A+%5B%7B%22name%22%3A+%22Cell+Type%22%2C+%22column%22%3A+%22cell_type%22%7D%5D%7D%7D%5D%7D%5D%2C+%22coordinationSpace%22%3A+%7B%22dataset%22%3A+%7B%22A%22%3A+%22A%22%7D%2C+%22spatialZoom%22%3A+%7B%22A%22%3A+-3%7D%2C+%22spatialTargetX%22%3A+%7B%22A%22%3A+3000%7D%2C+%22spatialTargetY%22%3A+%7B%22A%22%3A+3000%7D%2C+%22spatialSegmentationLayer%22%3A+%7B%22A%22%3A+%5B%7B%22type%22%3A+%22bitmask%22%2C+%22index%22%3A+0%2C+%22visible%22%3A+true%2C+%22colormap%22%3A+null%2C+%22opacity%22%3A+1%2C+%22domainType%22%3A+%22Min%2FMax%22%2C+%22transparentColor%22%3A+null%2C+%22renderingMode%22%3A+%22Additive%22%2C+%22use3d%22%3A+false%2C+%22channels%22%3A+%5B%7B%22selection%22%3A+%7B%22c%22%3A+0%2C+%22t%22%3A+0%2C+%22z%22%3A+0%7D%2C+%22color%22%3A+%5B0%2C+0%2C+0%5D%2C+%22visible%22%3A+true%2C+%22slider%22%3A+%5B0%2C+1%5D%7D%2C+%7B%22selection%22%3A+%7B%22c%22%3A+1%2C+%22t%22%3A+0%2C+%22z%22%3A+0%7D%2C+%22color%22%3A+%5B0%2C+0%2C+0%5D%2C+%22visible%22%3A+true%2C+%22slider%22%3A+%5B1%2C+2%5D%7D%2C+%7B%22selection%22%3A+%7B%22c%22%3A+2%2C+%22t%22%3A+0%2C+%22z%22%3A+0%7D%2C+%22color%22%3A+%5B0%2C+0%2C+0%5D%2C+%22visible%22%3A+true%2C+%22slider%22%3A+%5B2%2C+3%5D%7D%5D%7D%5D%7D%2C+%22obsSetColor%22%3A+%7B%22A%22%3A+%5B%7B%22path%22%3A+%5B%22Cell+Type%22%2C+%22Adatpive+Immune+Enriched%22%5D%2C+%22color%22%3A+%5B255%2C+165%2C+0%5D%7D%2C+%7B%22path%22%3A+%5B%22Cell+Type%22%2C+%22CD66%2B+Mature+Epithelial%22%5D%2C+%22color%22%3A+%5B178%2C+34%2C+34%5D%7D%2C+%7B%22path%22%3A+%5B%22Cell+Type%22%2C+%22CD8%2B+T+Enriched+IEL%22%5D%2C+%22color%22%3A+%5B0%2C+128%2C+0%5D%7D%2C+%7B%22path%22%3A+%5B%22Cell+Type%22%2C+%22Glandular+Epithelial%22%5D%2C+%22color%22%3A+%5B255%2C+140%2C+0%5D%7D%2C+%7B%22path%22%3A+%5B%22Cell+Type%22%2C+%22Innate+Immune+Enriched%22%5D%2C+%22color%22%3A+%5B135%2C+206%2C+235%5D%7D%2C+%7B%22path%22%3A+%5B%22Cell+Type%22%2C+%22Inner+Follicle%22%5D%2C+%22color%22%3A+%5B0%2C+0%2C+255%5D%7D%2C+%7B%22path%22%3A+%5B%22Cell+Type%22%2C+%22Innervated+Smooth+Muscle%22%5D%2C+%22color%22%3A+%5B144%2C+238%2C+144%5D%7D%2C+%7B%22path%22%3A+%5B%22Cell+Type%22%2C+%22Innervated+Stroma%22%5D%2C+%22color%22%3A+%5B138%2C+43%2C+226%5D%7D%2C+%7B%22path%22%3A+%5B%22Cell+Type%22%2C+%22Macrovasculature%22%5D%2C+%22color%22%3A+%5B255%2C+215%2C+0%5D%7D%2C+%7B%22path%22%3A+%5B%22Cell+Type%22%2C+%22Mature+Epithelial%22%5D%2C+%22color%22%3A+%5B255%2C+0%2C+255%5D%7D%2C+%7B%22path%22%3A+%5B%22Cell+Type%22%2C+%22Microvasculature%22%5D%2C+%22color%22%3A+%5B0%2C+0%2C+0%5D%7D%2C+%7B%22path%22%3A+%5B%22Cell+Type%22%2C+%22Outer+Follicle%22%5D%2C+%22color%22%3A+%5B0%2C+0%2C+128%5D%7D%2C+%7B%22path%22%3A+%5B%22Cell+Type%22%2C+%22Paneth+Enriched%22%5D%2C+%22color%22%3A+%5B173%2C+216%2C+230%5D%7D%2C+%7B%22path%22%3A+%5B%22Cell+Type%22%2C+%22Plasma+Cell+Enriched%22%5D%2C+%22color%22%3A+%5B255%2C+255%2C+0%5D%7D%2C+%7B%22path%22%3A+%5B%22Cell+Type%22%2C+%22Secretory+Epithelial%22%5D%2C+%22color%22%3A+%5B154%2C+205%2C+50%5D%7D%2C+%7B%22path%22%3A+%5B%22Cell+Type%22%2C+%22Smooth+Muscle%22%5D%2C+%22color%22%3A+%5B255%2C+0%2C+0%5D%7D%2C+%7B%22path%22%3A+%5B%22Cell+Type%22%2C+%22Smooth+Muscle+%26+Innate+Immune%22%5D%2C+%22color%22%3A+%5B210%2C+180%2C+140%5D%7D%2C+%7B%22path%22%3A+%5B%22Cell+Type%22%2C+%22Stroma%22%5D%2C+%22color%22%3A+%5B128%2C+128%2C+128%5D%7D%2C+%7B%22path%22%3A+%5B%22Cell+Type%22%2C+%22Stroma+%26+Innate+Immune%22%5D%2C+%22color%22%3A+%5B165%2C+42%2C+42%5D%7D%2C+%7B%22path%22%3A+%5B%22Cell+Type%22%2C+%22Transit+Amplifying+Zone%22%5D%2C+%22color%22%3A+%5B0%2C+0%2C+139%5D%7D%5D%7D%7D%2C+%22layout%22%3A+%5B%7B%22component%22%3A+%22spatial%22%2C+%22coordinationScopes%22%3A+%7B%22dataset%22%3A+%22A%22%2C+%22spatialZoom%22%3A+%22A%22%2C+%22spatialTargetX%22%3A+%22A%22%2C+%22spatialTargetY%22%3A+%22A%22%2C+%22spatialSegmentationLayer%22%3A+%22A%22%2C+%22obsSetColor%22%3A+%22A%22%7D%2C+%22x%22%3A+0.0%2C+%22y%22%3A+0%2C+%22w%22%3A+6.0%2C+%22h%22%3A+12%7D%2C+%7B%22component%22%3A+%22layerController%22%2C+%22coordinationScopes%22%3A+%7B%22dataset%22%3A+%22A%22%2C+%22spatialZoom%22%3A+%22A%22%2C+%22spatialTargetX%22%3A+%22A%22%2C+%22spatialTargetY%22%3A+%22A%22%2C+%22spatialSegmentationLayer%22%3A+%22A%22%2C+%22obsSetColor%22%3A+%22A%22%7D%2C+%22x%22%3A+6.0%2C+%22y%22%3A+0.0%2C+%22w%22%3A+6.0%2C+%22h%22%3A+6.0%7D%2C+%7B%22component%22%3A+%22obsSets%22%2C+%22coordinationScopes%22%3A+%7B%22dataset%22%3A+%22A%22%2C+%22obsSetColor%22%3A+%22A%22%7D%2C+%22x%22%3A+6.0%2C+%22y%22%3A+6.0%2C+%22w%22%3A+6.0%2C+%22h%22%3A+6.0%7D%5D%2C+%22initStrategy%22%3A+%22auto%22%7D\" target=\"_blank\">View on Vitessce.io</a>"
            ]
          },
          "metadata": {}
        },
        {
          "output_type": "stream",
          "name": "stdout",
          "text": [
            "\tUpdating 'spatial' component 'width' from 6.0 to 10.0\n",
            "\tUpdating 'layerController' component 'x' from 6.0 to 10.0\n",
            "\tUpdating 'layerController' component 'width' from 6.0 to 2\n",
            "\tUpdating 'obsSets' component 'x' from 6.0 to 10.0\n",
            "\tUpdating 'obsSets' component 'width' from 6.0 to 2\n",
            "56\n",
            "./images/Region_56_mask.pyramid.ome.tif\n"
          ]
        },
        {
          "output_type": "display_data",
          "data": {
            "text/plain": [
              "<IPython.core.display.HTML object>"
            ],
            "text/html": [
              "<a href=\"http://vitessce.io/#?theme=light&url=data:,%7B%22version%22%3A+%221.0.15%22%2C+%22name%22%3A+%22Transcriptomics+example%22%2C+%22description%22%3A+%22%22%2C+%22datasets%22%3A+%5B%7B%22uid%22%3A+%22A%22%2C+%22name%22%3A+%22Cell+segmentations%22%2C+%22files%22%3A+%5B%7B%22fileType%22%3A+%22raster.json%22%2C+%22options%22%3A+%7B%22schemaVersion%22%3A+%220.0.2%22%2C+%22images%22%3A+%5B%7B%22name%22%3A+%22Region+56+Segmentations%22%2C+%22type%22%3A+%22ome-tiff%22%2C+%22url%22%3A+%22http%3A%2F%2Flocalhost%3A8055%2FA%2F0%2F6f4db5ed-1aee-4bce-a5bf-d859bb87fea0%22%2C+%22metadata%22%3A+%7B%22omeTiffOffsetsUrl%22%3A+%22http%3A%2F%2Flocalhost%3A8055%2FA%2F0%2F3c2b733e-7a83-4f41-b919-7e9dd839571f%22%2C+%22isBitmask%22%3A+true%7D%7D%5D%7D%7D%2C+%7B%22fileType%22%3A+%22obsSets.csv%22%2C+%22url%22%3A+%22http%3A%2F%2Flocalhost%3A8055%2FA%2F1%2Faf016960-bde8-4081-8f95-6f4114ecab21%22%2C+%22options%22%3A+%7B%22obsIndex%22%3A+%22cell_id%22%2C+%22obsSets%22%3A+%5B%7B%22name%22%3A+%22Cell+Type%22%2C+%22column%22%3A+%22cell_type%22%7D%5D%7D%7D%5D%7D%5D%2C+%22coordinationSpace%22%3A+%7B%22dataset%22%3A+%7B%22A%22%3A+%22A%22%7D%2C+%22spatialZoom%22%3A+%7B%22A%22%3A+-3%7D%2C+%22spatialTargetX%22%3A+%7B%22A%22%3A+3000%7D%2C+%22spatialTargetY%22%3A+%7B%22A%22%3A+3000%7D%2C+%22spatialSegmentationLayer%22%3A+%7B%22A%22%3A+%5B%7B%22type%22%3A+%22bitmask%22%2C+%22index%22%3A+0%2C+%22visible%22%3A+true%2C+%22colormap%22%3A+null%2C+%22opacity%22%3A+1%2C+%22domainType%22%3A+%22Min%2FMax%22%2C+%22transparentColor%22%3A+null%2C+%22renderingMode%22%3A+%22Additive%22%2C+%22use3d%22%3A+false%2C+%22channels%22%3A+%5B%7B%22selection%22%3A+%7B%22c%22%3A+0%2C+%22t%22%3A+0%2C+%22z%22%3A+0%7D%2C+%22color%22%3A+%5B0%2C+0%2C+0%5D%2C+%22visible%22%3A+true%2C+%22slider%22%3A+%5B0%2C+1%5D%7D%2C+%7B%22selection%22%3A+%7B%22c%22%3A+1%2C+%22t%22%3A+0%2C+%22z%22%3A+0%7D%2C+%22color%22%3A+%5B0%2C+0%2C+0%5D%2C+%22visible%22%3A+true%2C+%22slider%22%3A+%5B1%2C+2%5D%7D%2C+%7B%22selection%22%3A+%7B%22c%22%3A+2%2C+%22t%22%3A+0%2C+%22z%22%3A+0%7D%2C+%22color%22%3A+%5B0%2C+0%2C+0%5D%2C+%22visible%22%3A+true%2C+%22slider%22%3A+%5B2%2C+3%5D%7D%5D%7D%5D%7D%2C+%22obsSetColor%22%3A+%7B%22A%22%3A+%5B%7B%22path%22%3A+%5B%22Cell+Type%22%2C+%22Adatpive+Immune+Enriched%22%5D%2C+%22color%22%3A+%5B255%2C+165%2C+0%5D%7D%2C+%7B%22path%22%3A+%5B%22Cell+Type%22%2C+%22CD66%2B+Mature+Epithelial%22%5D%2C+%22color%22%3A+%5B178%2C+34%2C+34%5D%7D%2C+%7B%22path%22%3A+%5B%22Cell+Type%22%2C+%22CD8%2B+T+Enriched+IEL%22%5D%2C+%22color%22%3A+%5B0%2C+128%2C+0%5D%7D%2C+%7B%22path%22%3A+%5B%22Cell+Type%22%2C+%22Glandular+Epithelial%22%5D%2C+%22color%22%3A+%5B255%2C+140%2C+0%5D%7D%2C+%7B%22path%22%3A+%5B%22Cell+Type%22%2C+%22Innate+Immune+Enriched%22%5D%2C+%22color%22%3A+%5B135%2C+206%2C+235%5D%7D%2C+%7B%22path%22%3A+%5B%22Cell+Type%22%2C+%22Inner+Follicle%22%5D%2C+%22color%22%3A+%5B0%2C+0%2C+255%5D%7D%2C+%7B%22path%22%3A+%5B%22Cell+Type%22%2C+%22Innervated+Smooth+Muscle%22%5D%2C+%22color%22%3A+%5B144%2C+238%2C+144%5D%7D%2C+%7B%22path%22%3A+%5B%22Cell+Type%22%2C+%22Innervated+Stroma%22%5D%2C+%22color%22%3A+%5B138%2C+43%2C+226%5D%7D%2C+%7B%22path%22%3A+%5B%22Cell+Type%22%2C+%22Macrovasculature%22%5D%2C+%22color%22%3A+%5B255%2C+215%2C+0%5D%7D%2C+%7B%22path%22%3A+%5B%22Cell+Type%22%2C+%22Mature+Epithelial%22%5D%2C+%22color%22%3A+%5B255%2C+0%2C+255%5D%7D%2C+%7B%22path%22%3A+%5B%22Cell+Type%22%2C+%22Microvasculature%22%5D%2C+%22color%22%3A+%5B0%2C+0%2C+0%5D%7D%2C+%7B%22path%22%3A+%5B%22Cell+Type%22%2C+%22Outer+Follicle%22%5D%2C+%22color%22%3A+%5B0%2C+0%2C+128%5D%7D%2C+%7B%22path%22%3A+%5B%22Cell+Type%22%2C+%22Paneth+Enriched%22%5D%2C+%22color%22%3A+%5B173%2C+216%2C+230%5D%7D%2C+%7B%22path%22%3A+%5B%22Cell+Type%22%2C+%22Plasma+Cell+Enriched%22%5D%2C+%22color%22%3A+%5B255%2C+255%2C+0%5D%7D%2C+%7B%22path%22%3A+%5B%22Cell+Type%22%2C+%22Secretory+Epithelial%22%5D%2C+%22color%22%3A+%5B154%2C+205%2C+50%5D%7D%2C+%7B%22path%22%3A+%5B%22Cell+Type%22%2C+%22Smooth+Muscle%22%5D%2C+%22color%22%3A+%5B255%2C+0%2C+0%5D%7D%2C+%7B%22path%22%3A+%5B%22Cell+Type%22%2C+%22Smooth+Muscle+%26+Innate+Immune%22%5D%2C+%22color%22%3A+%5B210%2C+180%2C+140%5D%7D%2C+%7B%22path%22%3A+%5B%22Cell+Type%22%2C+%22Stroma%22%5D%2C+%22color%22%3A+%5B128%2C+128%2C+128%5D%7D%2C+%7B%22path%22%3A+%5B%22Cell+Type%22%2C+%22Stroma+%26+Innate+Immune%22%5D%2C+%22color%22%3A+%5B165%2C+42%2C+42%5D%7D%2C+%7B%22path%22%3A+%5B%22Cell+Type%22%2C+%22Transit+Amplifying+Zone%22%5D%2C+%22color%22%3A+%5B0%2C+0%2C+139%5D%7D%5D%7D%7D%2C+%22layout%22%3A+%5B%7B%22component%22%3A+%22spatial%22%2C+%22coordinationScopes%22%3A+%7B%22dataset%22%3A+%22A%22%2C+%22spatialZoom%22%3A+%22A%22%2C+%22spatialTargetX%22%3A+%22A%22%2C+%22spatialTargetY%22%3A+%22A%22%2C+%22spatialSegmentationLayer%22%3A+%22A%22%2C+%22obsSetColor%22%3A+%22A%22%7D%2C+%22x%22%3A+0.0%2C+%22y%22%3A+0%2C+%22w%22%3A+6.0%2C+%22h%22%3A+12%7D%2C+%7B%22component%22%3A+%22layerController%22%2C+%22coordinationScopes%22%3A+%7B%22dataset%22%3A+%22A%22%2C+%22spatialZoom%22%3A+%22A%22%2C+%22spatialTargetX%22%3A+%22A%22%2C+%22spatialTargetY%22%3A+%22A%22%2C+%22spatialSegmentationLayer%22%3A+%22A%22%2C+%22obsSetColor%22%3A+%22A%22%7D%2C+%22x%22%3A+6.0%2C+%22y%22%3A+0.0%2C+%22w%22%3A+6.0%2C+%22h%22%3A+6.0%7D%2C+%7B%22component%22%3A+%22obsSets%22%2C+%22coordinationScopes%22%3A+%7B%22dataset%22%3A+%22A%22%2C+%22obsSetColor%22%3A+%22A%22%7D%2C+%22x%22%3A+6.0%2C+%22y%22%3A+6.0%2C+%22w%22%3A+6.0%2C+%22h%22%3A+6.0%7D%5D%2C+%22initStrategy%22%3A+%22auto%22%7D\" target=\"_blank\">View on Vitessce.io</a>"
            ]
          },
          "metadata": {}
        },
        {
          "output_type": "stream",
          "name": "stdout",
          "text": [
            "\tUpdating 'spatial' component 'width' from 6.0 to 10.0\n",
            "\tUpdating 'layerController' component 'x' from 6.0 to 10.0\n",
            "\tUpdating 'layerController' component 'width' from 6.0 to 2\n",
            "\tUpdating 'obsSets' component 'x' from 6.0 to 10.0\n",
            "\tUpdating 'obsSets' component 'width' from 6.0 to 2\n",
            "57\n",
            "./images/Region_57_mask.pyramid.ome.tif\n"
          ]
        },
        {
          "output_type": "display_data",
          "data": {
            "text/plain": [
              "<IPython.core.display.HTML object>"
            ],
            "text/html": [
              "<a href=\"http://vitessce.io/#?theme=light&url=data:,%7B%22version%22%3A+%221.0.15%22%2C+%22name%22%3A+%22Transcriptomics+example%22%2C+%22description%22%3A+%22%22%2C+%22datasets%22%3A+%5B%7B%22uid%22%3A+%22A%22%2C+%22name%22%3A+%22Cell+segmentations%22%2C+%22files%22%3A+%5B%7B%22fileType%22%3A+%22raster.json%22%2C+%22options%22%3A+%7B%22schemaVersion%22%3A+%220.0.2%22%2C+%22images%22%3A+%5B%7B%22name%22%3A+%22Region+57+Segmentations%22%2C+%22type%22%3A+%22ome-tiff%22%2C+%22url%22%3A+%22http%3A%2F%2Flocalhost%3A8056%2FA%2F0%2F496ffd7f-f42f-427c-a9be-f6ff62bc6270%22%2C+%22metadata%22%3A+%7B%22omeTiffOffsetsUrl%22%3A+%22http%3A%2F%2Flocalhost%3A8056%2FA%2F0%2Ffcba5d12-5b3d-4256-929b-f0add9de9639%22%2C+%22isBitmask%22%3A+true%7D%7D%5D%7D%7D%2C+%7B%22fileType%22%3A+%22obsSets.csv%22%2C+%22url%22%3A+%22http%3A%2F%2Flocalhost%3A8056%2FA%2F1%2F644b5396-e141-4733-a565-7df24ca282d1%22%2C+%22options%22%3A+%7B%22obsIndex%22%3A+%22cell_id%22%2C+%22obsSets%22%3A+%5B%7B%22name%22%3A+%22Cell+Type%22%2C+%22column%22%3A+%22cell_type%22%7D%5D%7D%7D%5D%7D%5D%2C+%22coordinationSpace%22%3A+%7B%22dataset%22%3A+%7B%22A%22%3A+%22A%22%7D%2C+%22spatialZoom%22%3A+%7B%22A%22%3A+-3%7D%2C+%22spatialTargetX%22%3A+%7B%22A%22%3A+3000%7D%2C+%22spatialTargetY%22%3A+%7B%22A%22%3A+3000%7D%2C+%22spatialSegmentationLayer%22%3A+%7B%22A%22%3A+%5B%7B%22type%22%3A+%22bitmask%22%2C+%22index%22%3A+0%2C+%22visible%22%3A+true%2C+%22colormap%22%3A+null%2C+%22opacity%22%3A+1%2C+%22domainType%22%3A+%22Min%2FMax%22%2C+%22transparentColor%22%3A+null%2C+%22renderingMode%22%3A+%22Additive%22%2C+%22use3d%22%3A+false%2C+%22channels%22%3A+%5B%7B%22selection%22%3A+%7B%22c%22%3A+0%2C+%22t%22%3A+0%2C+%22z%22%3A+0%7D%2C+%22color%22%3A+%5B0%2C+0%2C+0%5D%2C+%22visible%22%3A+true%2C+%22slider%22%3A+%5B0%2C+1%5D%7D%2C+%7B%22selection%22%3A+%7B%22c%22%3A+1%2C+%22t%22%3A+0%2C+%22z%22%3A+0%7D%2C+%22color%22%3A+%5B0%2C+0%2C+0%5D%2C+%22visible%22%3A+true%2C+%22slider%22%3A+%5B1%2C+2%5D%7D%2C+%7B%22selection%22%3A+%7B%22c%22%3A+2%2C+%22t%22%3A+0%2C+%22z%22%3A+0%7D%2C+%22color%22%3A+%5B0%2C+0%2C+0%5D%2C+%22visible%22%3A+true%2C+%22slider%22%3A+%5B2%2C+3%5D%7D%5D%7D%5D%7D%2C+%22obsSetColor%22%3A+%7B%22A%22%3A+%5B%7B%22path%22%3A+%5B%22Cell+Type%22%2C+%22Adatpive+Immune+Enriched%22%5D%2C+%22color%22%3A+%5B255%2C+165%2C+0%5D%7D%2C+%7B%22path%22%3A+%5B%22Cell+Type%22%2C+%22CD66%2B+Mature+Epithelial%22%5D%2C+%22color%22%3A+%5B178%2C+34%2C+34%5D%7D%2C+%7B%22path%22%3A+%5B%22Cell+Type%22%2C+%22CD8%2B+T+Enriched+IEL%22%5D%2C+%22color%22%3A+%5B0%2C+128%2C+0%5D%7D%2C+%7B%22path%22%3A+%5B%22Cell+Type%22%2C+%22Glandular+Epithelial%22%5D%2C+%22color%22%3A+%5B255%2C+140%2C+0%5D%7D%2C+%7B%22path%22%3A+%5B%22Cell+Type%22%2C+%22Innate+Immune+Enriched%22%5D%2C+%22color%22%3A+%5B135%2C+206%2C+235%5D%7D%2C+%7B%22path%22%3A+%5B%22Cell+Type%22%2C+%22Inner+Follicle%22%5D%2C+%22color%22%3A+%5B0%2C+0%2C+255%5D%7D%2C+%7B%22path%22%3A+%5B%22Cell+Type%22%2C+%22Innervated+Smooth+Muscle%22%5D%2C+%22color%22%3A+%5B144%2C+238%2C+144%5D%7D%2C+%7B%22path%22%3A+%5B%22Cell+Type%22%2C+%22Innervated+Stroma%22%5D%2C+%22color%22%3A+%5B138%2C+43%2C+226%5D%7D%2C+%7B%22path%22%3A+%5B%22Cell+Type%22%2C+%22Macrovasculature%22%5D%2C+%22color%22%3A+%5B255%2C+215%2C+0%5D%7D%2C+%7B%22path%22%3A+%5B%22Cell+Type%22%2C+%22Mature+Epithelial%22%5D%2C+%22color%22%3A+%5B255%2C+0%2C+255%5D%7D%2C+%7B%22path%22%3A+%5B%22Cell+Type%22%2C+%22Microvasculature%22%5D%2C+%22color%22%3A+%5B0%2C+0%2C+0%5D%7D%2C+%7B%22path%22%3A+%5B%22Cell+Type%22%2C+%22Outer+Follicle%22%5D%2C+%22color%22%3A+%5B0%2C+0%2C+128%5D%7D%2C+%7B%22path%22%3A+%5B%22Cell+Type%22%2C+%22Paneth+Enriched%22%5D%2C+%22color%22%3A+%5B173%2C+216%2C+230%5D%7D%2C+%7B%22path%22%3A+%5B%22Cell+Type%22%2C+%22Plasma+Cell+Enriched%22%5D%2C+%22color%22%3A+%5B255%2C+255%2C+0%5D%7D%2C+%7B%22path%22%3A+%5B%22Cell+Type%22%2C+%22Secretory+Epithelial%22%5D%2C+%22color%22%3A+%5B154%2C+205%2C+50%5D%7D%2C+%7B%22path%22%3A+%5B%22Cell+Type%22%2C+%22Smooth+Muscle%22%5D%2C+%22color%22%3A+%5B255%2C+0%2C+0%5D%7D%2C+%7B%22path%22%3A+%5B%22Cell+Type%22%2C+%22Smooth+Muscle+%26+Innate+Immune%22%5D%2C+%22color%22%3A+%5B210%2C+180%2C+140%5D%7D%2C+%7B%22path%22%3A+%5B%22Cell+Type%22%2C+%22Stroma%22%5D%2C+%22color%22%3A+%5B128%2C+128%2C+128%5D%7D%2C+%7B%22path%22%3A+%5B%22Cell+Type%22%2C+%22Stroma+%26+Innate+Immune%22%5D%2C+%22color%22%3A+%5B165%2C+42%2C+42%5D%7D%2C+%7B%22path%22%3A+%5B%22Cell+Type%22%2C+%22Transit+Amplifying+Zone%22%5D%2C+%22color%22%3A+%5B0%2C+0%2C+139%5D%7D%5D%7D%7D%2C+%22layout%22%3A+%5B%7B%22component%22%3A+%22spatial%22%2C+%22coordinationScopes%22%3A+%7B%22dataset%22%3A+%22A%22%2C+%22spatialZoom%22%3A+%22A%22%2C+%22spatialTargetX%22%3A+%22A%22%2C+%22spatialTargetY%22%3A+%22A%22%2C+%22spatialSegmentationLayer%22%3A+%22A%22%2C+%22obsSetColor%22%3A+%22A%22%7D%2C+%22x%22%3A+0.0%2C+%22y%22%3A+0%2C+%22w%22%3A+6.0%2C+%22h%22%3A+12%7D%2C+%7B%22component%22%3A+%22layerController%22%2C+%22coordinationScopes%22%3A+%7B%22dataset%22%3A+%22A%22%2C+%22spatialZoom%22%3A+%22A%22%2C+%22spatialTargetX%22%3A+%22A%22%2C+%22spatialTargetY%22%3A+%22A%22%2C+%22spatialSegmentationLayer%22%3A+%22A%22%2C+%22obsSetColor%22%3A+%22A%22%7D%2C+%22x%22%3A+6.0%2C+%22y%22%3A+0.0%2C+%22w%22%3A+6.0%2C+%22h%22%3A+6.0%7D%2C+%7B%22component%22%3A+%22obsSets%22%2C+%22coordinationScopes%22%3A+%7B%22dataset%22%3A+%22A%22%2C+%22obsSetColor%22%3A+%22A%22%7D%2C+%22x%22%3A+6.0%2C+%22y%22%3A+6.0%2C+%22w%22%3A+6.0%2C+%22h%22%3A+6.0%7D%5D%2C+%22initStrategy%22%3A+%22auto%22%7D\" target=\"_blank\">View on Vitessce.io</a>"
            ]
          },
          "metadata": {}
        },
        {
          "output_type": "stream",
          "name": "stdout",
          "text": [
            "\tUpdating 'spatial' component 'width' from 6.0 to 10.0\n",
            "\tUpdating 'layerController' component 'x' from 6.0 to 10.0\n",
            "\tUpdating 'layerController' component 'width' from 6.0 to 2\n",
            "\tUpdating 'obsSets' component 'x' from 6.0 to 10.0\n",
            "\tUpdating 'obsSets' component 'width' from 6.0 to 2\n",
            "58\n",
            "./images/Region_58_mask.pyramid.ome.tif\n"
          ]
        },
        {
          "output_type": "display_data",
          "data": {
            "text/plain": [
              "<IPython.core.display.HTML object>"
            ],
            "text/html": [
              "<a href=\"http://vitessce.io/#?theme=light&url=data:,%7B%22version%22%3A+%221.0.15%22%2C+%22name%22%3A+%22Transcriptomics+example%22%2C+%22description%22%3A+%22%22%2C+%22datasets%22%3A+%5B%7B%22uid%22%3A+%22A%22%2C+%22name%22%3A+%22Cell+segmentations%22%2C+%22files%22%3A+%5B%7B%22fileType%22%3A+%22raster.json%22%2C+%22options%22%3A+%7B%22schemaVersion%22%3A+%220.0.2%22%2C+%22images%22%3A+%5B%7B%22name%22%3A+%22Region+58+Segmentations%22%2C+%22type%22%3A+%22ome-tiff%22%2C+%22url%22%3A+%22http%3A%2F%2Flocalhost%3A8057%2FA%2F0%2F16a3402d-514d-4e7e-9c8a-3ee6462db3ad%22%2C+%22metadata%22%3A+%7B%22omeTiffOffsetsUrl%22%3A+%22http%3A%2F%2Flocalhost%3A8057%2FA%2F0%2F18fc4359-5df9-4427-b435-3a1070bee21f%22%2C+%22isBitmask%22%3A+true%7D%7D%5D%7D%7D%2C+%7B%22fileType%22%3A+%22obsSets.csv%22%2C+%22url%22%3A+%22http%3A%2F%2Flocalhost%3A8057%2FA%2F1%2F99c0d7ff-c120-4d91-8903-536c3db11d62%22%2C+%22options%22%3A+%7B%22obsIndex%22%3A+%22cell_id%22%2C+%22obsSets%22%3A+%5B%7B%22name%22%3A+%22Cell+Type%22%2C+%22column%22%3A+%22cell_type%22%7D%5D%7D%7D%5D%7D%5D%2C+%22coordinationSpace%22%3A+%7B%22dataset%22%3A+%7B%22A%22%3A+%22A%22%7D%2C+%22spatialZoom%22%3A+%7B%22A%22%3A+-3%7D%2C+%22spatialTargetX%22%3A+%7B%22A%22%3A+3000%7D%2C+%22spatialTargetY%22%3A+%7B%22A%22%3A+3000%7D%2C+%22spatialSegmentationLayer%22%3A+%7B%22A%22%3A+%5B%7B%22type%22%3A+%22bitmask%22%2C+%22index%22%3A+0%2C+%22visible%22%3A+true%2C+%22colormap%22%3A+null%2C+%22opacity%22%3A+1%2C+%22domainType%22%3A+%22Min%2FMax%22%2C+%22transparentColor%22%3A+null%2C+%22renderingMode%22%3A+%22Additive%22%2C+%22use3d%22%3A+false%2C+%22channels%22%3A+%5B%7B%22selection%22%3A+%7B%22c%22%3A+0%2C+%22t%22%3A+0%2C+%22z%22%3A+0%7D%2C+%22color%22%3A+%5B0%2C+0%2C+0%5D%2C+%22visible%22%3A+true%2C+%22slider%22%3A+%5B0%2C+1%5D%7D%2C+%7B%22selection%22%3A+%7B%22c%22%3A+1%2C+%22t%22%3A+0%2C+%22z%22%3A+0%7D%2C+%22color%22%3A+%5B0%2C+0%2C+0%5D%2C+%22visible%22%3A+true%2C+%22slider%22%3A+%5B1%2C+2%5D%7D%2C+%7B%22selection%22%3A+%7B%22c%22%3A+2%2C+%22t%22%3A+0%2C+%22z%22%3A+0%7D%2C+%22color%22%3A+%5B0%2C+0%2C+0%5D%2C+%22visible%22%3A+true%2C+%22slider%22%3A+%5B2%2C+3%5D%7D%5D%7D%5D%7D%2C+%22obsSetColor%22%3A+%7B%22A%22%3A+%5B%7B%22path%22%3A+%5B%22Cell+Type%22%2C+%22Adatpive+Immune+Enriched%22%5D%2C+%22color%22%3A+%5B255%2C+165%2C+0%5D%7D%2C+%7B%22path%22%3A+%5B%22Cell+Type%22%2C+%22CD66%2B+Mature+Epithelial%22%5D%2C+%22color%22%3A+%5B178%2C+34%2C+34%5D%7D%2C+%7B%22path%22%3A+%5B%22Cell+Type%22%2C+%22CD8%2B+T+Enriched+IEL%22%5D%2C+%22color%22%3A+%5B0%2C+128%2C+0%5D%7D%2C+%7B%22path%22%3A+%5B%22Cell+Type%22%2C+%22Glandular+Epithelial%22%5D%2C+%22color%22%3A+%5B255%2C+140%2C+0%5D%7D%2C+%7B%22path%22%3A+%5B%22Cell+Type%22%2C+%22Innate+Immune+Enriched%22%5D%2C+%22color%22%3A+%5B135%2C+206%2C+235%5D%7D%2C+%7B%22path%22%3A+%5B%22Cell+Type%22%2C+%22Inner+Follicle%22%5D%2C+%22color%22%3A+%5B0%2C+0%2C+255%5D%7D%2C+%7B%22path%22%3A+%5B%22Cell+Type%22%2C+%22Innervated+Smooth+Muscle%22%5D%2C+%22color%22%3A+%5B144%2C+238%2C+144%5D%7D%2C+%7B%22path%22%3A+%5B%22Cell+Type%22%2C+%22Innervated+Stroma%22%5D%2C+%22color%22%3A+%5B138%2C+43%2C+226%5D%7D%2C+%7B%22path%22%3A+%5B%22Cell+Type%22%2C+%22Macrovasculature%22%5D%2C+%22color%22%3A+%5B255%2C+215%2C+0%5D%7D%2C+%7B%22path%22%3A+%5B%22Cell+Type%22%2C+%22Mature+Epithelial%22%5D%2C+%22color%22%3A+%5B255%2C+0%2C+255%5D%7D%2C+%7B%22path%22%3A+%5B%22Cell+Type%22%2C+%22Microvasculature%22%5D%2C+%22color%22%3A+%5B0%2C+0%2C+0%5D%7D%2C+%7B%22path%22%3A+%5B%22Cell+Type%22%2C+%22Outer+Follicle%22%5D%2C+%22color%22%3A+%5B0%2C+0%2C+128%5D%7D%2C+%7B%22path%22%3A+%5B%22Cell+Type%22%2C+%22Paneth+Enriched%22%5D%2C+%22color%22%3A+%5B173%2C+216%2C+230%5D%7D%2C+%7B%22path%22%3A+%5B%22Cell+Type%22%2C+%22Plasma+Cell+Enriched%22%5D%2C+%22color%22%3A+%5B255%2C+255%2C+0%5D%7D%2C+%7B%22path%22%3A+%5B%22Cell+Type%22%2C+%22Secretory+Epithelial%22%5D%2C+%22color%22%3A+%5B154%2C+205%2C+50%5D%7D%2C+%7B%22path%22%3A+%5B%22Cell+Type%22%2C+%22Smooth+Muscle%22%5D%2C+%22color%22%3A+%5B255%2C+0%2C+0%5D%7D%2C+%7B%22path%22%3A+%5B%22Cell+Type%22%2C+%22Smooth+Muscle+%26+Innate+Immune%22%5D%2C+%22color%22%3A+%5B210%2C+180%2C+140%5D%7D%2C+%7B%22path%22%3A+%5B%22Cell+Type%22%2C+%22Stroma%22%5D%2C+%22color%22%3A+%5B128%2C+128%2C+128%5D%7D%2C+%7B%22path%22%3A+%5B%22Cell+Type%22%2C+%22Stroma+%26+Innate+Immune%22%5D%2C+%22color%22%3A+%5B165%2C+42%2C+42%5D%7D%2C+%7B%22path%22%3A+%5B%22Cell+Type%22%2C+%22Transit+Amplifying+Zone%22%5D%2C+%22color%22%3A+%5B0%2C+0%2C+139%5D%7D%5D%7D%7D%2C+%22layout%22%3A+%5B%7B%22component%22%3A+%22spatial%22%2C+%22coordinationScopes%22%3A+%7B%22dataset%22%3A+%22A%22%2C+%22spatialZoom%22%3A+%22A%22%2C+%22spatialTargetX%22%3A+%22A%22%2C+%22spatialTargetY%22%3A+%22A%22%2C+%22spatialSegmentationLayer%22%3A+%22A%22%2C+%22obsSetColor%22%3A+%22A%22%7D%2C+%22x%22%3A+0.0%2C+%22y%22%3A+0%2C+%22w%22%3A+6.0%2C+%22h%22%3A+12%7D%2C+%7B%22component%22%3A+%22layerController%22%2C+%22coordinationScopes%22%3A+%7B%22dataset%22%3A+%22A%22%2C+%22spatialZoom%22%3A+%22A%22%2C+%22spatialTargetX%22%3A+%22A%22%2C+%22spatialTargetY%22%3A+%22A%22%2C+%22spatialSegmentationLayer%22%3A+%22A%22%2C+%22obsSetColor%22%3A+%22A%22%7D%2C+%22x%22%3A+6.0%2C+%22y%22%3A+0.0%2C+%22w%22%3A+6.0%2C+%22h%22%3A+6.0%7D%2C+%7B%22component%22%3A+%22obsSets%22%2C+%22coordinationScopes%22%3A+%7B%22dataset%22%3A+%22A%22%2C+%22obsSetColor%22%3A+%22A%22%7D%2C+%22x%22%3A+6.0%2C+%22y%22%3A+6.0%2C+%22w%22%3A+6.0%2C+%22h%22%3A+6.0%7D%5D%2C+%22initStrategy%22%3A+%22auto%22%7D\" target=\"_blank\">View on Vitessce.io</a>"
            ]
          },
          "metadata": {}
        },
        {
          "output_type": "stream",
          "name": "stdout",
          "text": [
            "\tUpdating 'spatial' component 'width' from 6.0 to 10.0\n",
            "\tUpdating 'layerController' component 'x' from 6.0 to 10.0\n",
            "\tUpdating 'layerController' component 'width' from 6.0 to 2\n",
            "\tUpdating 'obsSets' component 'x' from 6.0 to 10.0\n",
            "\tUpdating 'obsSets' component 'width' from 6.0 to 2\n",
            "59\n",
            "./images/Region_59_mask.pyramid.ome.tif\n"
          ]
        },
        {
          "output_type": "display_data",
          "data": {
            "text/plain": [
              "<IPython.core.display.HTML object>"
            ],
            "text/html": [
              "<a href=\"http://vitessce.io/#?theme=light&url=data:,%7B%22version%22%3A+%221.0.15%22%2C+%22name%22%3A+%22Transcriptomics+example%22%2C+%22description%22%3A+%22%22%2C+%22datasets%22%3A+%5B%7B%22uid%22%3A+%22A%22%2C+%22name%22%3A+%22Cell+segmentations%22%2C+%22files%22%3A+%5B%7B%22fileType%22%3A+%22raster.json%22%2C+%22options%22%3A+%7B%22schemaVersion%22%3A+%220.0.2%22%2C+%22images%22%3A+%5B%7B%22name%22%3A+%22Region+59+Segmentations%22%2C+%22type%22%3A+%22ome-tiff%22%2C+%22url%22%3A+%22http%3A%2F%2Flocalhost%3A8058%2FA%2F0%2F3694b738-5f4c-4996-acee-05b2105989b7%22%2C+%22metadata%22%3A+%7B%22omeTiffOffsetsUrl%22%3A+%22http%3A%2F%2Flocalhost%3A8058%2FA%2F0%2Fd1a7da3f-7c95-4956-9a25-51ffa0bda5ac%22%2C+%22isBitmask%22%3A+true%7D%7D%5D%7D%7D%2C+%7B%22fileType%22%3A+%22obsSets.csv%22%2C+%22url%22%3A+%22http%3A%2F%2Flocalhost%3A8058%2FA%2F1%2F6b5272c2-0f73-4526-a6f7-08659e04576e%22%2C+%22options%22%3A+%7B%22obsIndex%22%3A+%22cell_id%22%2C+%22obsSets%22%3A+%5B%7B%22name%22%3A+%22Cell+Type%22%2C+%22column%22%3A+%22cell_type%22%7D%5D%7D%7D%5D%7D%5D%2C+%22coordinationSpace%22%3A+%7B%22dataset%22%3A+%7B%22A%22%3A+%22A%22%7D%2C+%22spatialZoom%22%3A+%7B%22A%22%3A+-3%7D%2C+%22spatialTargetX%22%3A+%7B%22A%22%3A+3000%7D%2C+%22spatialTargetY%22%3A+%7B%22A%22%3A+3000%7D%2C+%22spatialSegmentationLayer%22%3A+%7B%22A%22%3A+%5B%7B%22type%22%3A+%22bitmask%22%2C+%22index%22%3A+0%2C+%22visible%22%3A+true%2C+%22colormap%22%3A+null%2C+%22opacity%22%3A+1%2C+%22domainType%22%3A+%22Min%2FMax%22%2C+%22transparentColor%22%3A+null%2C+%22renderingMode%22%3A+%22Additive%22%2C+%22use3d%22%3A+false%2C+%22channels%22%3A+%5B%7B%22selection%22%3A+%7B%22c%22%3A+0%2C+%22t%22%3A+0%2C+%22z%22%3A+0%7D%2C+%22color%22%3A+%5B0%2C+0%2C+0%5D%2C+%22visible%22%3A+true%2C+%22slider%22%3A+%5B0%2C+1%5D%7D%2C+%7B%22selection%22%3A+%7B%22c%22%3A+1%2C+%22t%22%3A+0%2C+%22z%22%3A+0%7D%2C+%22color%22%3A+%5B0%2C+0%2C+0%5D%2C+%22visible%22%3A+true%2C+%22slider%22%3A+%5B1%2C+2%5D%7D%2C+%7B%22selection%22%3A+%7B%22c%22%3A+2%2C+%22t%22%3A+0%2C+%22z%22%3A+0%7D%2C+%22color%22%3A+%5B0%2C+0%2C+0%5D%2C+%22visible%22%3A+true%2C+%22slider%22%3A+%5B2%2C+3%5D%7D%5D%7D%5D%7D%2C+%22obsSetColor%22%3A+%7B%22A%22%3A+%5B%7B%22path%22%3A+%5B%22Cell+Type%22%2C+%22Adatpive+Immune+Enriched%22%5D%2C+%22color%22%3A+%5B255%2C+165%2C+0%5D%7D%2C+%7B%22path%22%3A+%5B%22Cell+Type%22%2C+%22CD66%2B+Mature+Epithelial%22%5D%2C+%22color%22%3A+%5B178%2C+34%2C+34%5D%7D%2C+%7B%22path%22%3A+%5B%22Cell+Type%22%2C+%22CD8%2B+T+Enriched+IEL%22%5D%2C+%22color%22%3A+%5B0%2C+128%2C+0%5D%7D%2C+%7B%22path%22%3A+%5B%22Cell+Type%22%2C+%22Glandular+Epithelial%22%5D%2C+%22color%22%3A+%5B255%2C+140%2C+0%5D%7D%2C+%7B%22path%22%3A+%5B%22Cell+Type%22%2C+%22Innate+Immune+Enriched%22%5D%2C+%22color%22%3A+%5B135%2C+206%2C+235%5D%7D%2C+%7B%22path%22%3A+%5B%22Cell+Type%22%2C+%22Inner+Follicle%22%5D%2C+%22color%22%3A+%5B0%2C+0%2C+255%5D%7D%2C+%7B%22path%22%3A+%5B%22Cell+Type%22%2C+%22Innervated+Smooth+Muscle%22%5D%2C+%22color%22%3A+%5B144%2C+238%2C+144%5D%7D%2C+%7B%22path%22%3A+%5B%22Cell+Type%22%2C+%22Innervated+Stroma%22%5D%2C+%22color%22%3A+%5B138%2C+43%2C+226%5D%7D%2C+%7B%22path%22%3A+%5B%22Cell+Type%22%2C+%22Macrovasculature%22%5D%2C+%22color%22%3A+%5B255%2C+215%2C+0%5D%7D%2C+%7B%22path%22%3A+%5B%22Cell+Type%22%2C+%22Mature+Epithelial%22%5D%2C+%22color%22%3A+%5B255%2C+0%2C+255%5D%7D%2C+%7B%22path%22%3A+%5B%22Cell+Type%22%2C+%22Microvasculature%22%5D%2C+%22color%22%3A+%5B0%2C+0%2C+0%5D%7D%2C+%7B%22path%22%3A+%5B%22Cell+Type%22%2C+%22Outer+Follicle%22%5D%2C+%22color%22%3A+%5B0%2C+0%2C+128%5D%7D%2C+%7B%22path%22%3A+%5B%22Cell+Type%22%2C+%22Paneth+Enriched%22%5D%2C+%22color%22%3A+%5B173%2C+216%2C+230%5D%7D%2C+%7B%22path%22%3A+%5B%22Cell+Type%22%2C+%22Plasma+Cell+Enriched%22%5D%2C+%22color%22%3A+%5B255%2C+255%2C+0%5D%7D%2C+%7B%22path%22%3A+%5B%22Cell+Type%22%2C+%22Secretory+Epithelial%22%5D%2C+%22color%22%3A+%5B154%2C+205%2C+50%5D%7D%2C+%7B%22path%22%3A+%5B%22Cell+Type%22%2C+%22Smooth+Muscle%22%5D%2C+%22color%22%3A+%5B255%2C+0%2C+0%5D%7D%2C+%7B%22path%22%3A+%5B%22Cell+Type%22%2C+%22Smooth+Muscle+%26+Innate+Immune%22%5D%2C+%22color%22%3A+%5B210%2C+180%2C+140%5D%7D%2C+%7B%22path%22%3A+%5B%22Cell+Type%22%2C+%22Stroma%22%5D%2C+%22color%22%3A+%5B128%2C+128%2C+128%5D%7D%2C+%7B%22path%22%3A+%5B%22Cell+Type%22%2C+%22Stroma+%26+Innate+Immune%22%5D%2C+%22color%22%3A+%5B165%2C+42%2C+42%5D%7D%2C+%7B%22path%22%3A+%5B%22Cell+Type%22%2C+%22Transit+Amplifying+Zone%22%5D%2C+%22color%22%3A+%5B0%2C+0%2C+139%5D%7D%5D%7D%7D%2C+%22layout%22%3A+%5B%7B%22component%22%3A+%22spatial%22%2C+%22coordinationScopes%22%3A+%7B%22dataset%22%3A+%22A%22%2C+%22spatialZoom%22%3A+%22A%22%2C+%22spatialTargetX%22%3A+%22A%22%2C+%22spatialTargetY%22%3A+%22A%22%2C+%22spatialSegmentationLayer%22%3A+%22A%22%2C+%22obsSetColor%22%3A+%22A%22%7D%2C+%22x%22%3A+0.0%2C+%22y%22%3A+0%2C+%22w%22%3A+6.0%2C+%22h%22%3A+12%7D%2C+%7B%22component%22%3A+%22layerController%22%2C+%22coordinationScopes%22%3A+%7B%22dataset%22%3A+%22A%22%2C+%22spatialZoom%22%3A+%22A%22%2C+%22spatialTargetX%22%3A+%22A%22%2C+%22spatialTargetY%22%3A+%22A%22%2C+%22spatialSegmentationLayer%22%3A+%22A%22%2C+%22obsSetColor%22%3A+%22A%22%7D%2C+%22x%22%3A+6.0%2C+%22y%22%3A+0.0%2C+%22w%22%3A+6.0%2C+%22h%22%3A+6.0%7D%2C+%7B%22component%22%3A+%22obsSets%22%2C+%22coordinationScopes%22%3A+%7B%22dataset%22%3A+%22A%22%2C+%22obsSetColor%22%3A+%22A%22%7D%2C+%22x%22%3A+6.0%2C+%22y%22%3A+6.0%2C+%22w%22%3A+6.0%2C+%22h%22%3A+6.0%7D%5D%2C+%22initStrategy%22%3A+%22auto%22%7D\" target=\"_blank\">View on Vitessce.io</a>"
            ]
          },
          "metadata": {}
        },
        {
          "output_type": "stream",
          "name": "stdout",
          "text": [
            "\tUpdating 'spatial' component 'width' from 6.0 to 10.0\n",
            "\tUpdating 'layerController' component 'x' from 6.0 to 10.0\n",
            "\tUpdating 'layerController' component 'width' from 6.0 to 2\n",
            "\tUpdating 'obsSets' component 'x' from 6.0 to 10.0\n",
            "\tUpdating 'obsSets' component 'width' from 6.0 to 2\n",
            "60\n",
            "./images/Region_60_mask.pyramid.ome.tif\n"
          ]
        },
        {
          "output_type": "display_data",
          "data": {
            "text/plain": [
              "<IPython.core.display.HTML object>"
            ],
            "text/html": [
              "<a href=\"http://vitessce.io/#?theme=light&url=data:,%7B%22version%22%3A+%221.0.15%22%2C+%22name%22%3A+%22Transcriptomics+example%22%2C+%22description%22%3A+%22%22%2C+%22datasets%22%3A+%5B%7B%22uid%22%3A+%22A%22%2C+%22name%22%3A+%22Cell+segmentations%22%2C+%22files%22%3A+%5B%7B%22fileType%22%3A+%22raster.json%22%2C+%22options%22%3A+%7B%22schemaVersion%22%3A+%220.0.2%22%2C+%22images%22%3A+%5B%7B%22name%22%3A+%22Region+60+Segmentations%22%2C+%22type%22%3A+%22ome-tiff%22%2C+%22url%22%3A+%22http%3A%2F%2Flocalhost%3A8059%2FA%2F0%2Ff490362a-1ea7-4b01-8f75-3d4deb79c667%22%2C+%22metadata%22%3A+%7B%22omeTiffOffsetsUrl%22%3A+%22http%3A%2F%2Flocalhost%3A8059%2FA%2F0%2Fa9b059a6-843f-46cd-9b0e-4112f678167e%22%2C+%22isBitmask%22%3A+true%7D%7D%5D%7D%7D%2C+%7B%22fileType%22%3A+%22obsSets.csv%22%2C+%22url%22%3A+%22http%3A%2F%2Flocalhost%3A8059%2FA%2F1%2F32355a94-2c1e-4ade-976c-012a7a881ce4%22%2C+%22options%22%3A+%7B%22obsIndex%22%3A+%22cell_id%22%2C+%22obsSets%22%3A+%5B%7B%22name%22%3A+%22Cell+Type%22%2C+%22column%22%3A+%22cell_type%22%7D%5D%7D%7D%5D%7D%5D%2C+%22coordinationSpace%22%3A+%7B%22dataset%22%3A+%7B%22A%22%3A+%22A%22%7D%2C+%22spatialZoom%22%3A+%7B%22A%22%3A+-3%7D%2C+%22spatialTargetX%22%3A+%7B%22A%22%3A+3000%7D%2C+%22spatialTargetY%22%3A+%7B%22A%22%3A+3000%7D%2C+%22spatialSegmentationLayer%22%3A+%7B%22A%22%3A+%5B%7B%22type%22%3A+%22bitmask%22%2C+%22index%22%3A+0%2C+%22visible%22%3A+true%2C+%22colormap%22%3A+null%2C+%22opacity%22%3A+1%2C+%22domainType%22%3A+%22Min%2FMax%22%2C+%22transparentColor%22%3A+null%2C+%22renderingMode%22%3A+%22Additive%22%2C+%22use3d%22%3A+false%2C+%22channels%22%3A+%5B%7B%22selection%22%3A+%7B%22c%22%3A+0%2C+%22t%22%3A+0%2C+%22z%22%3A+0%7D%2C+%22color%22%3A+%5B0%2C+0%2C+0%5D%2C+%22visible%22%3A+true%2C+%22slider%22%3A+%5B0%2C+1%5D%7D%2C+%7B%22selection%22%3A+%7B%22c%22%3A+1%2C+%22t%22%3A+0%2C+%22z%22%3A+0%7D%2C+%22color%22%3A+%5B0%2C+0%2C+0%5D%2C+%22visible%22%3A+true%2C+%22slider%22%3A+%5B1%2C+2%5D%7D%2C+%7B%22selection%22%3A+%7B%22c%22%3A+2%2C+%22t%22%3A+0%2C+%22z%22%3A+0%7D%2C+%22color%22%3A+%5B0%2C+0%2C+0%5D%2C+%22visible%22%3A+true%2C+%22slider%22%3A+%5B2%2C+3%5D%7D%5D%7D%5D%7D%2C+%22obsSetColor%22%3A+%7B%22A%22%3A+%5B%7B%22path%22%3A+%5B%22Cell+Type%22%2C+%22Adatpive+Immune+Enriched%22%5D%2C+%22color%22%3A+%5B255%2C+165%2C+0%5D%7D%2C+%7B%22path%22%3A+%5B%22Cell+Type%22%2C+%22CD66%2B+Mature+Epithelial%22%5D%2C+%22color%22%3A+%5B178%2C+34%2C+34%5D%7D%2C+%7B%22path%22%3A+%5B%22Cell+Type%22%2C+%22CD8%2B+T+Enriched+IEL%22%5D%2C+%22color%22%3A+%5B0%2C+128%2C+0%5D%7D%2C+%7B%22path%22%3A+%5B%22Cell+Type%22%2C+%22Glandular+Epithelial%22%5D%2C+%22color%22%3A+%5B255%2C+140%2C+0%5D%7D%2C+%7B%22path%22%3A+%5B%22Cell+Type%22%2C+%22Innate+Immune+Enriched%22%5D%2C+%22color%22%3A+%5B135%2C+206%2C+235%5D%7D%2C+%7B%22path%22%3A+%5B%22Cell+Type%22%2C+%22Inner+Follicle%22%5D%2C+%22color%22%3A+%5B0%2C+0%2C+255%5D%7D%2C+%7B%22path%22%3A+%5B%22Cell+Type%22%2C+%22Innervated+Smooth+Muscle%22%5D%2C+%22color%22%3A+%5B144%2C+238%2C+144%5D%7D%2C+%7B%22path%22%3A+%5B%22Cell+Type%22%2C+%22Innervated+Stroma%22%5D%2C+%22color%22%3A+%5B138%2C+43%2C+226%5D%7D%2C+%7B%22path%22%3A+%5B%22Cell+Type%22%2C+%22Macrovasculature%22%5D%2C+%22color%22%3A+%5B255%2C+215%2C+0%5D%7D%2C+%7B%22path%22%3A+%5B%22Cell+Type%22%2C+%22Mature+Epithelial%22%5D%2C+%22color%22%3A+%5B255%2C+0%2C+255%5D%7D%2C+%7B%22path%22%3A+%5B%22Cell+Type%22%2C+%22Microvasculature%22%5D%2C+%22color%22%3A+%5B0%2C+0%2C+0%5D%7D%2C+%7B%22path%22%3A+%5B%22Cell+Type%22%2C+%22Outer+Follicle%22%5D%2C+%22color%22%3A+%5B0%2C+0%2C+128%5D%7D%2C+%7B%22path%22%3A+%5B%22Cell+Type%22%2C+%22Paneth+Enriched%22%5D%2C+%22color%22%3A+%5B173%2C+216%2C+230%5D%7D%2C+%7B%22path%22%3A+%5B%22Cell+Type%22%2C+%22Plasma+Cell+Enriched%22%5D%2C+%22color%22%3A+%5B255%2C+255%2C+0%5D%7D%2C+%7B%22path%22%3A+%5B%22Cell+Type%22%2C+%22Secretory+Epithelial%22%5D%2C+%22color%22%3A+%5B154%2C+205%2C+50%5D%7D%2C+%7B%22path%22%3A+%5B%22Cell+Type%22%2C+%22Smooth+Muscle%22%5D%2C+%22color%22%3A+%5B255%2C+0%2C+0%5D%7D%2C+%7B%22path%22%3A+%5B%22Cell+Type%22%2C+%22Smooth+Muscle+%26+Innate+Immune%22%5D%2C+%22color%22%3A+%5B210%2C+180%2C+140%5D%7D%2C+%7B%22path%22%3A+%5B%22Cell+Type%22%2C+%22Stroma%22%5D%2C+%22color%22%3A+%5B128%2C+128%2C+128%5D%7D%2C+%7B%22path%22%3A+%5B%22Cell+Type%22%2C+%22Stroma+%26+Innate+Immune%22%5D%2C+%22color%22%3A+%5B165%2C+42%2C+42%5D%7D%2C+%7B%22path%22%3A+%5B%22Cell+Type%22%2C+%22Transit+Amplifying+Zone%22%5D%2C+%22color%22%3A+%5B0%2C+0%2C+139%5D%7D%5D%7D%7D%2C+%22layout%22%3A+%5B%7B%22component%22%3A+%22spatial%22%2C+%22coordinationScopes%22%3A+%7B%22dataset%22%3A+%22A%22%2C+%22spatialZoom%22%3A+%22A%22%2C+%22spatialTargetX%22%3A+%22A%22%2C+%22spatialTargetY%22%3A+%22A%22%2C+%22spatialSegmentationLayer%22%3A+%22A%22%2C+%22obsSetColor%22%3A+%22A%22%7D%2C+%22x%22%3A+0.0%2C+%22y%22%3A+0%2C+%22w%22%3A+6.0%2C+%22h%22%3A+12%7D%2C+%7B%22component%22%3A+%22layerController%22%2C+%22coordinationScopes%22%3A+%7B%22dataset%22%3A+%22A%22%2C+%22spatialZoom%22%3A+%22A%22%2C+%22spatialTargetX%22%3A+%22A%22%2C+%22spatialTargetY%22%3A+%22A%22%2C+%22spatialSegmentationLayer%22%3A+%22A%22%2C+%22obsSetColor%22%3A+%22A%22%7D%2C+%22x%22%3A+6.0%2C+%22y%22%3A+0.0%2C+%22w%22%3A+6.0%2C+%22h%22%3A+6.0%7D%2C+%7B%22component%22%3A+%22obsSets%22%2C+%22coordinationScopes%22%3A+%7B%22dataset%22%3A+%22A%22%2C+%22obsSetColor%22%3A+%22A%22%7D%2C+%22x%22%3A+6.0%2C+%22y%22%3A+6.0%2C+%22w%22%3A+6.0%2C+%22h%22%3A+6.0%7D%5D%2C+%22initStrategy%22%3A+%22auto%22%7D\" target=\"_blank\">View on Vitessce.io</a>"
            ]
          },
          "metadata": {}
        },
        {
          "output_type": "stream",
          "name": "stdout",
          "text": [
            "\tUpdating 'spatial' component 'width' from 6.0 to 10.0\n",
            "\tUpdating 'layerController' component 'x' from 6.0 to 10.0\n",
            "\tUpdating 'layerController' component 'width' from 6.0 to 2\n",
            "\tUpdating 'obsSets' component 'x' from 6.0 to 10.0\n",
            "\tUpdating 'obsSets' component 'width' from 6.0 to 2\n",
            "61\n",
            "./images/Region_61_mask.pyramid.ome.tif\n"
          ]
        },
        {
          "output_type": "display_data",
          "data": {
            "text/plain": [
              "<IPython.core.display.HTML object>"
            ],
            "text/html": [
              "<a href=\"http://vitessce.io/#?theme=light&url=data:,%7B%22version%22%3A+%221.0.15%22%2C+%22name%22%3A+%22Transcriptomics+example%22%2C+%22description%22%3A+%22%22%2C+%22datasets%22%3A+%5B%7B%22uid%22%3A+%22A%22%2C+%22name%22%3A+%22Cell+segmentations%22%2C+%22files%22%3A+%5B%7B%22fileType%22%3A+%22raster.json%22%2C+%22options%22%3A+%7B%22schemaVersion%22%3A+%220.0.2%22%2C+%22images%22%3A+%5B%7B%22name%22%3A+%22Region+61+Segmentations%22%2C+%22type%22%3A+%22ome-tiff%22%2C+%22url%22%3A+%22http%3A%2F%2Flocalhost%3A8060%2FA%2F0%2F2b4572ac-abc8-4865-a0f1-697ae4fcd05e%22%2C+%22metadata%22%3A+%7B%22omeTiffOffsetsUrl%22%3A+%22http%3A%2F%2Flocalhost%3A8060%2FA%2F0%2F84920339-875c-4762-9058-481fc758b57a%22%2C+%22isBitmask%22%3A+true%7D%7D%5D%7D%7D%2C+%7B%22fileType%22%3A+%22obsSets.csv%22%2C+%22url%22%3A+%22http%3A%2F%2Flocalhost%3A8060%2FA%2F1%2F5125c0f9-2437-4b90-af4d-8ef81403e608%22%2C+%22options%22%3A+%7B%22obsIndex%22%3A+%22cell_id%22%2C+%22obsSets%22%3A+%5B%7B%22name%22%3A+%22Cell+Type%22%2C+%22column%22%3A+%22cell_type%22%7D%5D%7D%7D%5D%7D%5D%2C+%22coordinationSpace%22%3A+%7B%22dataset%22%3A+%7B%22A%22%3A+%22A%22%7D%2C+%22spatialZoom%22%3A+%7B%22A%22%3A+-3%7D%2C+%22spatialTargetX%22%3A+%7B%22A%22%3A+3000%7D%2C+%22spatialTargetY%22%3A+%7B%22A%22%3A+3000%7D%2C+%22spatialSegmentationLayer%22%3A+%7B%22A%22%3A+%5B%7B%22type%22%3A+%22bitmask%22%2C+%22index%22%3A+0%2C+%22visible%22%3A+true%2C+%22colormap%22%3A+null%2C+%22opacity%22%3A+1%2C+%22domainType%22%3A+%22Min%2FMax%22%2C+%22transparentColor%22%3A+null%2C+%22renderingMode%22%3A+%22Additive%22%2C+%22use3d%22%3A+false%2C+%22channels%22%3A+%5B%7B%22selection%22%3A+%7B%22c%22%3A+0%2C+%22t%22%3A+0%2C+%22z%22%3A+0%7D%2C+%22color%22%3A+%5B0%2C+0%2C+0%5D%2C+%22visible%22%3A+true%2C+%22slider%22%3A+%5B0%2C+1%5D%7D%2C+%7B%22selection%22%3A+%7B%22c%22%3A+1%2C+%22t%22%3A+0%2C+%22z%22%3A+0%7D%2C+%22color%22%3A+%5B0%2C+0%2C+0%5D%2C+%22visible%22%3A+true%2C+%22slider%22%3A+%5B1%2C+2%5D%7D%2C+%7B%22selection%22%3A+%7B%22c%22%3A+2%2C+%22t%22%3A+0%2C+%22z%22%3A+0%7D%2C+%22color%22%3A+%5B0%2C+0%2C+0%5D%2C+%22visible%22%3A+true%2C+%22slider%22%3A+%5B2%2C+3%5D%7D%5D%7D%5D%7D%2C+%22obsSetColor%22%3A+%7B%22A%22%3A+%5B%7B%22path%22%3A+%5B%22Cell+Type%22%2C+%22Adatpive+Immune+Enriched%22%5D%2C+%22color%22%3A+%5B255%2C+165%2C+0%5D%7D%2C+%7B%22path%22%3A+%5B%22Cell+Type%22%2C+%22CD66%2B+Mature+Epithelial%22%5D%2C+%22color%22%3A+%5B178%2C+34%2C+34%5D%7D%2C+%7B%22path%22%3A+%5B%22Cell+Type%22%2C+%22CD8%2B+T+Enriched+IEL%22%5D%2C+%22color%22%3A+%5B0%2C+128%2C+0%5D%7D%2C+%7B%22path%22%3A+%5B%22Cell+Type%22%2C+%22Glandular+Epithelial%22%5D%2C+%22color%22%3A+%5B255%2C+140%2C+0%5D%7D%2C+%7B%22path%22%3A+%5B%22Cell+Type%22%2C+%22Innate+Immune+Enriched%22%5D%2C+%22color%22%3A+%5B135%2C+206%2C+235%5D%7D%2C+%7B%22path%22%3A+%5B%22Cell+Type%22%2C+%22Inner+Follicle%22%5D%2C+%22color%22%3A+%5B0%2C+0%2C+255%5D%7D%2C+%7B%22path%22%3A+%5B%22Cell+Type%22%2C+%22Innervated+Smooth+Muscle%22%5D%2C+%22color%22%3A+%5B144%2C+238%2C+144%5D%7D%2C+%7B%22path%22%3A+%5B%22Cell+Type%22%2C+%22Innervated+Stroma%22%5D%2C+%22color%22%3A+%5B138%2C+43%2C+226%5D%7D%2C+%7B%22path%22%3A+%5B%22Cell+Type%22%2C+%22Macrovasculature%22%5D%2C+%22color%22%3A+%5B255%2C+215%2C+0%5D%7D%2C+%7B%22path%22%3A+%5B%22Cell+Type%22%2C+%22Mature+Epithelial%22%5D%2C+%22color%22%3A+%5B255%2C+0%2C+255%5D%7D%2C+%7B%22path%22%3A+%5B%22Cell+Type%22%2C+%22Microvasculature%22%5D%2C+%22color%22%3A+%5B0%2C+0%2C+0%5D%7D%2C+%7B%22path%22%3A+%5B%22Cell+Type%22%2C+%22Outer+Follicle%22%5D%2C+%22color%22%3A+%5B0%2C+0%2C+128%5D%7D%2C+%7B%22path%22%3A+%5B%22Cell+Type%22%2C+%22Paneth+Enriched%22%5D%2C+%22color%22%3A+%5B173%2C+216%2C+230%5D%7D%2C+%7B%22path%22%3A+%5B%22Cell+Type%22%2C+%22Plasma+Cell+Enriched%22%5D%2C+%22color%22%3A+%5B255%2C+255%2C+0%5D%7D%2C+%7B%22path%22%3A+%5B%22Cell+Type%22%2C+%22Secretory+Epithelial%22%5D%2C+%22color%22%3A+%5B154%2C+205%2C+50%5D%7D%2C+%7B%22path%22%3A+%5B%22Cell+Type%22%2C+%22Smooth+Muscle%22%5D%2C+%22color%22%3A+%5B255%2C+0%2C+0%5D%7D%2C+%7B%22path%22%3A+%5B%22Cell+Type%22%2C+%22Smooth+Muscle+%26+Innate+Immune%22%5D%2C+%22color%22%3A+%5B210%2C+180%2C+140%5D%7D%2C+%7B%22path%22%3A+%5B%22Cell+Type%22%2C+%22Stroma%22%5D%2C+%22color%22%3A+%5B128%2C+128%2C+128%5D%7D%2C+%7B%22path%22%3A+%5B%22Cell+Type%22%2C+%22Stroma+%26+Innate+Immune%22%5D%2C+%22color%22%3A+%5B165%2C+42%2C+42%5D%7D%2C+%7B%22path%22%3A+%5B%22Cell+Type%22%2C+%22Transit+Amplifying+Zone%22%5D%2C+%22color%22%3A+%5B0%2C+0%2C+139%5D%7D%5D%7D%7D%2C+%22layout%22%3A+%5B%7B%22component%22%3A+%22spatial%22%2C+%22coordinationScopes%22%3A+%7B%22dataset%22%3A+%22A%22%2C+%22spatialZoom%22%3A+%22A%22%2C+%22spatialTargetX%22%3A+%22A%22%2C+%22spatialTargetY%22%3A+%22A%22%2C+%22spatialSegmentationLayer%22%3A+%22A%22%2C+%22obsSetColor%22%3A+%22A%22%7D%2C+%22x%22%3A+0.0%2C+%22y%22%3A+0%2C+%22w%22%3A+6.0%2C+%22h%22%3A+12%7D%2C+%7B%22component%22%3A+%22layerController%22%2C+%22coordinationScopes%22%3A+%7B%22dataset%22%3A+%22A%22%2C+%22spatialZoom%22%3A+%22A%22%2C+%22spatialTargetX%22%3A+%22A%22%2C+%22spatialTargetY%22%3A+%22A%22%2C+%22spatialSegmentationLayer%22%3A+%22A%22%2C+%22obsSetColor%22%3A+%22A%22%7D%2C+%22x%22%3A+6.0%2C+%22y%22%3A+0.0%2C+%22w%22%3A+6.0%2C+%22h%22%3A+6.0%7D%2C+%7B%22component%22%3A+%22obsSets%22%2C+%22coordinationScopes%22%3A+%7B%22dataset%22%3A+%22A%22%2C+%22obsSetColor%22%3A+%22A%22%7D%2C+%22x%22%3A+6.0%2C+%22y%22%3A+6.0%2C+%22w%22%3A+6.0%2C+%22h%22%3A+6.0%7D%5D%2C+%22initStrategy%22%3A+%22auto%22%7D\" target=\"_blank\">View on Vitessce.io</a>"
            ]
          },
          "metadata": {}
        },
        {
          "output_type": "stream",
          "name": "stdout",
          "text": [
            "\tUpdating 'spatial' component 'width' from 6.0 to 10.0\n",
            "\tUpdating 'layerController' component 'x' from 6.0 to 10.0\n",
            "\tUpdating 'layerController' component 'width' from 6.0 to 2\n",
            "\tUpdating 'obsSets' component 'x' from 6.0 to 10.0\n",
            "\tUpdating 'obsSets' component 'width' from 6.0 to 2\n",
            "62\n",
            "./images/Region_62_mask.pyramid.ome.tif\n"
          ]
        },
        {
          "output_type": "display_data",
          "data": {
            "text/plain": [
              "<IPython.core.display.HTML object>"
            ],
            "text/html": [
              "<a href=\"http://vitessce.io/#?theme=light&url=data:,%7B%22version%22%3A+%221.0.15%22%2C+%22name%22%3A+%22Transcriptomics+example%22%2C+%22description%22%3A+%22%22%2C+%22datasets%22%3A+%5B%7B%22uid%22%3A+%22A%22%2C+%22name%22%3A+%22Cell+segmentations%22%2C+%22files%22%3A+%5B%7B%22fileType%22%3A+%22raster.json%22%2C+%22options%22%3A+%7B%22schemaVersion%22%3A+%220.0.2%22%2C+%22images%22%3A+%5B%7B%22name%22%3A+%22Region+62+Segmentations%22%2C+%22type%22%3A+%22ome-tiff%22%2C+%22url%22%3A+%22http%3A%2F%2Flocalhost%3A8061%2FA%2F0%2F2c0a2746-5893-42a6-aa4c-c6c7f158d875%22%2C+%22metadata%22%3A+%7B%22omeTiffOffsetsUrl%22%3A+%22http%3A%2F%2Flocalhost%3A8061%2FA%2F0%2Fdb452b7f-991c-41fe-b156-3512da9512b1%22%2C+%22isBitmask%22%3A+true%7D%7D%5D%7D%7D%2C+%7B%22fileType%22%3A+%22obsSets.csv%22%2C+%22url%22%3A+%22http%3A%2F%2Flocalhost%3A8061%2FA%2F1%2Fce0a5a62-acd5-433f-8b6a-f1e5937fdd4f%22%2C+%22options%22%3A+%7B%22obsIndex%22%3A+%22cell_id%22%2C+%22obsSets%22%3A+%5B%7B%22name%22%3A+%22Cell+Type%22%2C+%22column%22%3A+%22cell_type%22%7D%5D%7D%7D%5D%7D%5D%2C+%22coordinationSpace%22%3A+%7B%22dataset%22%3A+%7B%22A%22%3A+%22A%22%7D%2C+%22spatialZoom%22%3A+%7B%22A%22%3A+-3%7D%2C+%22spatialTargetX%22%3A+%7B%22A%22%3A+3000%7D%2C+%22spatialTargetY%22%3A+%7B%22A%22%3A+3000%7D%2C+%22spatialSegmentationLayer%22%3A+%7B%22A%22%3A+%5B%7B%22type%22%3A+%22bitmask%22%2C+%22index%22%3A+0%2C+%22visible%22%3A+true%2C+%22colormap%22%3A+null%2C+%22opacity%22%3A+1%2C+%22domainType%22%3A+%22Min%2FMax%22%2C+%22transparentColor%22%3A+null%2C+%22renderingMode%22%3A+%22Additive%22%2C+%22use3d%22%3A+false%2C+%22channels%22%3A+%5B%7B%22selection%22%3A+%7B%22c%22%3A+0%2C+%22t%22%3A+0%2C+%22z%22%3A+0%7D%2C+%22color%22%3A+%5B0%2C+0%2C+0%5D%2C+%22visible%22%3A+true%2C+%22slider%22%3A+%5B0%2C+1%5D%7D%2C+%7B%22selection%22%3A+%7B%22c%22%3A+1%2C+%22t%22%3A+0%2C+%22z%22%3A+0%7D%2C+%22color%22%3A+%5B0%2C+0%2C+0%5D%2C+%22visible%22%3A+true%2C+%22slider%22%3A+%5B1%2C+2%5D%7D%2C+%7B%22selection%22%3A+%7B%22c%22%3A+2%2C+%22t%22%3A+0%2C+%22z%22%3A+0%7D%2C+%22color%22%3A+%5B0%2C+0%2C+0%5D%2C+%22visible%22%3A+true%2C+%22slider%22%3A+%5B2%2C+3%5D%7D%5D%7D%5D%7D%2C+%22obsSetColor%22%3A+%7B%22A%22%3A+%5B%7B%22path%22%3A+%5B%22Cell+Type%22%2C+%22Adatpive+Immune+Enriched%22%5D%2C+%22color%22%3A+%5B255%2C+165%2C+0%5D%7D%2C+%7B%22path%22%3A+%5B%22Cell+Type%22%2C+%22CD66%2B+Mature+Epithelial%22%5D%2C+%22color%22%3A+%5B178%2C+34%2C+34%5D%7D%2C+%7B%22path%22%3A+%5B%22Cell+Type%22%2C+%22CD8%2B+T+Enriched+IEL%22%5D%2C+%22color%22%3A+%5B0%2C+128%2C+0%5D%7D%2C+%7B%22path%22%3A+%5B%22Cell+Type%22%2C+%22Glandular+Epithelial%22%5D%2C+%22color%22%3A+%5B255%2C+140%2C+0%5D%7D%2C+%7B%22path%22%3A+%5B%22Cell+Type%22%2C+%22Innate+Immune+Enriched%22%5D%2C+%22color%22%3A+%5B135%2C+206%2C+235%5D%7D%2C+%7B%22path%22%3A+%5B%22Cell+Type%22%2C+%22Inner+Follicle%22%5D%2C+%22color%22%3A+%5B0%2C+0%2C+255%5D%7D%2C+%7B%22path%22%3A+%5B%22Cell+Type%22%2C+%22Innervated+Smooth+Muscle%22%5D%2C+%22color%22%3A+%5B144%2C+238%2C+144%5D%7D%2C+%7B%22path%22%3A+%5B%22Cell+Type%22%2C+%22Innervated+Stroma%22%5D%2C+%22color%22%3A+%5B138%2C+43%2C+226%5D%7D%2C+%7B%22path%22%3A+%5B%22Cell+Type%22%2C+%22Macrovasculature%22%5D%2C+%22color%22%3A+%5B255%2C+215%2C+0%5D%7D%2C+%7B%22path%22%3A+%5B%22Cell+Type%22%2C+%22Mature+Epithelial%22%5D%2C+%22color%22%3A+%5B255%2C+0%2C+255%5D%7D%2C+%7B%22path%22%3A+%5B%22Cell+Type%22%2C+%22Microvasculature%22%5D%2C+%22color%22%3A+%5B0%2C+0%2C+0%5D%7D%2C+%7B%22path%22%3A+%5B%22Cell+Type%22%2C+%22Outer+Follicle%22%5D%2C+%22color%22%3A+%5B0%2C+0%2C+128%5D%7D%2C+%7B%22path%22%3A+%5B%22Cell+Type%22%2C+%22Paneth+Enriched%22%5D%2C+%22color%22%3A+%5B173%2C+216%2C+230%5D%7D%2C+%7B%22path%22%3A+%5B%22Cell+Type%22%2C+%22Plasma+Cell+Enriched%22%5D%2C+%22color%22%3A+%5B255%2C+255%2C+0%5D%7D%2C+%7B%22path%22%3A+%5B%22Cell+Type%22%2C+%22Secretory+Epithelial%22%5D%2C+%22color%22%3A+%5B154%2C+205%2C+50%5D%7D%2C+%7B%22path%22%3A+%5B%22Cell+Type%22%2C+%22Smooth+Muscle%22%5D%2C+%22color%22%3A+%5B255%2C+0%2C+0%5D%7D%2C+%7B%22path%22%3A+%5B%22Cell+Type%22%2C+%22Smooth+Muscle+%26+Innate+Immune%22%5D%2C+%22color%22%3A+%5B210%2C+180%2C+140%5D%7D%2C+%7B%22path%22%3A+%5B%22Cell+Type%22%2C+%22Stroma%22%5D%2C+%22color%22%3A+%5B128%2C+128%2C+128%5D%7D%2C+%7B%22path%22%3A+%5B%22Cell+Type%22%2C+%22Stroma+%26+Innate+Immune%22%5D%2C+%22color%22%3A+%5B165%2C+42%2C+42%5D%7D%2C+%7B%22path%22%3A+%5B%22Cell+Type%22%2C+%22Transit+Amplifying+Zone%22%5D%2C+%22color%22%3A+%5B0%2C+0%2C+139%5D%7D%5D%7D%7D%2C+%22layout%22%3A+%5B%7B%22component%22%3A+%22spatial%22%2C+%22coordinationScopes%22%3A+%7B%22dataset%22%3A+%22A%22%2C+%22spatialZoom%22%3A+%22A%22%2C+%22spatialTargetX%22%3A+%22A%22%2C+%22spatialTargetY%22%3A+%22A%22%2C+%22spatialSegmentationLayer%22%3A+%22A%22%2C+%22obsSetColor%22%3A+%22A%22%7D%2C+%22x%22%3A+0.0%2C+%22y%22%3A+0%2C+%22w%22%3A+6.0%2C+%22h%22%3A+12%7D%2C+%7B%22component%22%3A+%22layerController%22%2C+%22coordinationScopes%22%3A+%7B%22dataset%22%3A+%22A%22%2C+%22spatialZoom%22%3A+%22A%22%2C+%22spatialTargetX%22%3A+%22A%22%2C+%22spatialTargetY%22%3A+%22A%22%2C+%22spatialSegmentationLayer%22%3A+%22A%22%2C+%22obsSetColor%22%3A+%22A%22%7D%2C+%22x%22%3A+6.0%2C+%22y%22%3A+0.0%2C+%22w%22%3A+6.0%2C+%22h%22%3A+6.0%7D%2C+%7B%22component%22%3A+%22obsSets%22%2C+%22coordinationScopes%22%3A+%7B%22dataset%22%3A+%22A%22%2C+%22obsSetColor%22%3A+%22A%22%7D%2C+%22x%22%3A+6.0%2C+%22y%22%3A+6.0%2C+%22w%22%3A+6.0%2C+%22h%22%3A+6.0%7D%5D%2C+%22initStrategy%22%3A+%22auto%22%7D\" target=\"_blank\">View on Vitessce.io</a>"
            ]
          },
          "metadata": {}
        },
        {
          "output_type": "stream",
          "name": "stdout",
          "text": [
            "\tUpdating 'spatial' component 'width' from 6.0 to 10.0\n",
            "\tUpdating 'layerController' component 'x' from 6.0 to 10.0\n",
            "\tUpdating 'layerController' component 'width' from 6.0 to 2\n",
            "\tUpdating 'obsSets' component 'x' from 6.0 to 10.0\n",
            "\tUpdating 'obsSets' component 'width' from 6.0 to 2\n",
            "63\n",
            "./images/Region_63_mask.pyramid.ome.tif\n"
          ]
        },
        {
          "output_type": "display_data",
          "data": {
            "text/plain": [
              "<IPython.core.display.HTML object>"
            ],
            "text/html": [
              "<a href=\"http://vitessce.io/#?theme=light&url=data:,%7B%22version%22%3A+%221.0.15%22%2C+%22name%22%3A+%22Transcriptomics+example%22%2C+%22description%22%3A+%22%22%2C+%22datasets%22%3A+%5B%7B%22uid%22%3A+%22A%22%2C+%22name%22%3A+%22Cell+segmentations%22%2C+%22files%22%3A+%5B%7B%22fileType%22%3A+%22raster.json%22%2C+%22options%22%3A+%7B%22schemaVersion%22%3A+%220.0.2%22%2C+%22images%22%3A+%5B%7B%22name%22%3A+%22Region+63+Segmentations%22%2C+%22type%22%3A+%22ome-tiff%22%2C+%22url%22%3A+%22http%3A%2F%2Flocalhost%3A8062%2FA%2F0%2F53a0f814-8203-4067-8cb8-c4b69bb68a78%22%2C+%22metadata%22%3A+%7B%22omeTiffOffsetsUrl%22%3A+%22http%3A%2F%2Flocalhost%3A8062%2FA%2F0%2F36d1c129-d785-412b-b838-48eb723c589d%22%2C+%22isBitmask%22%3A+true%7D%7D%5D%7D%7D%2C+%7B%22fileType%22%3A+%22obsSets.csv%22%2C+%22url%22%3A+%22http%3A%2F%2Flocalhost%3A8062%2FA%2F1%2F0a1f5faf-153f-4e27-82e2-488b616196ca%22%2C+%22options%22%3A+%7B%22obsIndex%22%3A+%22cell_id%22%2C+%22obsSets%22%3A+%5B%7B%22name%22%3A+%22Cell+Type%22%2C+%22column%22%3A+%22cell_type%22%7D%5D%7D%7D%5D%7D%5D%2C+%22coordinationSpace%22%3A+%7B%22dataset%22%3A+%7B%22A%22%3A+%22A%22%7D%2C+%22spatialZoom%22%3A+%7B%22A%22%3A+-3%7D%2C+%22spatialTargetX%22%3A+%7B%22A%22%3A+3000%7D%2C+%22spatialTargetY%22%3A+%7B%22A%22%3A+3000%7D%2C+%22spatialSegmentationLayer%22%3A+%7B%22A%22%3A+%5B%7B%22type%22%3A+%22bitmask%22%2C+%22index%22%3A+0%2C+%22visible%22%3A+true%2C+%22colormap%22%3A+null%2C+%22opacity%22%3A+1%2C+%22domainType%22%3A+%22Min%2FMax%22%2C+%22transparentColor%22%3A+null%2C+%22renderingMode%22%3A+%22Additive%22%2C+%22use3d%22%3A+false%2C+%22channels%22%3A+%5B%7B%22selection%22%3A+%7B%22c%22%3A+0%2C+%22t%22%3A+0%2C+%22z%22%3A+0%7D%2C+%22color%22%3A+%5B0%2C+0%2C+0%5D%2C+%22visible%22%3A+true%2C+%22slider%22%3A+%5B0%2C+1%5D%7D%2C+%7B%22selection%22%3A+%7B%22c%22%3A+1%2C+%22t%22%3A+0%2C+%22z%22%3A+0%7D%2C+%22color%22%3A+%5B0%2C+0%2C+0%5D%2C+%22visible%22%3A+true%2C+%22slider%22%3A+%5B1%2C+2%5D%7D%2C+%7B%22selection%22%3A+%7B%22c%22%3A+2%2C+%22t%22%3A+0%2C+%22z%22%3A+0%7D%2C+%22color%22%3A+%5B0%2C+0%2C+0%5D%2C+%22visible%22%3A+true%2C+%22slider%22%3A+%5B2%2C+3%5D%7D%5D%7D%5D%7D%2C+%22obsSetColor%22%3A+%7B%22A%22%3A+%5B%7B%22path%22%3A+%5B%22Cell+Type%22%2C+%22Adatpive+Immune+Enriched%22%5D%2C+%22color%22%3A+%5B255%2C+165%2C+0%5D%7D%2C+%7B%22path%22%3A+%5B%22Cell+Type%22%2C+%22CD66%2B+Mature+Epithelial%22%5D%2C+%22color%22%3A+%5B178%2C+34%2C+34%5D%7D%2C+%7B%22path%22%3A+%5B%22Cell+Type%22%2C+%22CD8%2B+T+Enriched+IEL%22%5D%2C+%22color%22%3A+%5B0%2C+128%2C+0%5D%7D%2C+%7B%22path%22%3A+%5B%22Cell+Type%22%2C+%22Glandular+Epithelial%22%5D%2C+%22color%22%3A+%5B255%2C+140%2C+0%5D%7D%2C+%7B%22path%22%3A+%5B%22Cell+Type%22%2C+%22Innate+Immune+Enriched%22%5D%2C+%22color%22%3A+%5B135%2C+206%2C+235%5D%7D%2C+%7B%22path%22%3A+%5B%22Cell+Type%22%2C+%22Inner+Follicle%22%5D%2C+%22color%22%3A+%5B0%2C+0%2C+255%5D%7D%2C+%7B%22path%22%3A+%5B%22Cell+Type%22%2C+%22Innervated+Smooth+Muscle%22%5D%2C+%22color%22%3A+%5B144%2C+238%2C+144%5D%7D%2C+%7B%22path%22%3A+%5B%22Cell+Type%22%2C+%22Innervated+Stroma%22%5D%2C+%22color%22%3A+%5B138%2C+43%2C+226%5D%7D%2C+%7B%22path%22%3A+%5B%22Cell+Type%22%2C+%22Macrovasculature%22%5D%2C+%22color%22%3A+%5B255%2C+215%2C+0%5D%7D%2C+%7B%22path%22%3A+%5B%22Cell+Type%22%2C+%22Mature+Epithelial%22%5D%2C+%22color%22%3A+%5B255%2C+0%2C+255%5D%7D%2C+%7B%22path%22%3A+%5B%22Cell+Type%22%2C+%22Microvasculature%22%5D%2C+%22color%22%3A+%5B0%2C+0%2C+0%5D%7D%2C+%7B%22path%22%3A+%5B%22Cell+Type%22%2C+%22Outer+Follicle%22%5D%2C+%22color%22%3A+%5B0%2C+0%2C+128%5D%7D%2C+%7B%22path%22%3A+%5B%22Cell+Type%22%2C+%22Paneth+Enriched%22%5D%2C+%22color%22%3A+%5B173%2C+216%2C+230%5D%7D%2C+%7B%22path%22%3A+%5B%22Cell+Type%22%2C+%22Plasma+Cell+Enriched%22%5D%2C+%22color%22%3A+%5B255%2C+255%2C+0%5D%7D%2C+%7B%22path%22%3A+%5B%22Cell+Type%22%2C+%22Secretory+Epithelial%22%5D%2C+%22color%22%3A+%5B154%2C+205%2C+50%5D%7D%2C+%7B%22path%22%3A+%5B%22Cell+Type%22%2C+%22Smooth+Muscle%22%5D%2C+%22color%22%3A+%5B255%2C+0%2C+0%5D%7D%2C+%7B%22path%22%3A+%5B%22Cell+Type%22%2C+%22Smooth+Muscle+%26+Innate+Immune%22%5D%2C+%22color%22%3A+%5B210%2C+180%2C+140%5D%7D%2C+%7B%22path%22%3A+%5B%22Cell+Type%22%2C+%22Stroma%22%5D%2C+%22color%22%3A+%5B128%2C+128%2C+128%5D%7D%2C+%7B%22path%22%3A+%5B%22Cell+Type%22%2C+%22Stroma+%26+Innate+Immune%22%5D%2C+%22color%22%3A+%5B165%2C+42%2C+42%5D%7D%2C+%7B%22path%22%3A+%5B%22Cell+Type%22%2C+%22Transit+Amplifying+Zone%22%5D%2C+%22color%22%3A+%5B0%2C+0%2C+139%5D%7D%5D%7D%7D%2C+%22layout%22%3A+%5B%7B%22component%22%3A+%22spatial%22%2C+%22coordinationScopes%22%3A+%7B%22dataset%22%3A+%22A%22%2C+%22spatialZoom%22%3A+%22A%22%2C+%22spatialTargetX%22%3A+%22A%22%2C+%22spatialTargetY%22%3A+%22A%22%2C+%22spatialSegmentationLayer%22%3A+%22A%22%2C+%22obsSetColor%22%3A+%22A%22%7D%2C+%22x%22%3A+0.0%2C+%22y%22%3A+0%2C+%22w%22%3A+6.0%2C+%22h%22%3A+12%7D%2C+%7B%22component%22%3A+%22layerController%22%2C+%22coordinationScopes%22%3A+%7B%22dataset%22%3A+%22A%22%2C+%22spatialZoom%22%3A+%22A%22%2C+%22spatialTargetX%22%3A+%22A%22%2C+%22spatialTargetY%22%3A+%22A%22%2C+%22spatialSegmentationLayer%22%3A+%22A%22%2C+%22obsSetColor%22%3A+%22A%22%7D%2C+%22x%22%3A+6.0%2C+%22y%22%3A+0.0%2C+%22w%22%3A+6.0%2C+%22h%22%3A+6.0%7D%2C+%7B%22component%22%3A+%22obsSets%22%2C+%22coordinationScopes%22%3A+%7B%22dataset%22%3A+%22A%22%2C+%22obsSetColor%22%3A+%22A%22%7D%2C+%22x%22%3A+6.0%2C+%22y%22%3A+6.0%2C+%22w%22%3A+6.0%2C+%22h%22%3A+6.0%7D%5D%2C+%22initStrategy%22%3A+%22auto%22%7D\" target=\"_blank\">View on Vitessce.io</a>"
            ]
          },
          "metadata": {}
        },
        {
          "output_type": "stream",
          "name": "stdout",
          "text": [
            "\tUpdating 'spatial' component 'width' from 6.0 to 10.0\n",
            "\tUpdating 'layerController' component 'x' from 6.0 to 10.0\n",
            "\tUpdating 'layerController' component 'width' from 6.0 to 2\n",
            "\tUpdating 'obsSets' component 'x' from 6.0 to 10.0\n",
            "\tUpdating 'obsSets' component 'width' from 6.0 to 2\n",
            "64\n",
            "./images/Region_64_mask.pyramid.ome.tif\n"
          ]
        },
        {
          "output_type": "display_data",
          "data": {
            "text/plain": [
              "<IPython.core.display.HTML object>"
            ],
            "text/html": [
              "<a href=\"http://vitessce.io/#?theme=light&url=data:,%7B%22version%22%3A+%221.0.15%22%2C+%22name%22%3A+%22Transcriptomics+example%22%2C+%22description%22%3A+%22%22%2C+%22datasets%22%3A+%5B%7B%22uid%22%3A+%22A%22%2C+%22name%22%3A+%22Cell+segmentations%22%2C+%22files%22%3A+%5B%7B%22fileType%22%3A+%22raster.json%22%2C+%22options%22%3A+%7B%22schemaVersion%22%3A+%220.0.2%22%2C+%22images%22%3A+%5B%7B%22name%22%3A+%22Region+64+Segmentations%22%2C+%22type%22%3A+%22ome-tiff%22%2C+%22url%22%3A+%22http%3A%2F%2Flocalhost%3A8063%2FA%2F0%2Fa4bb2fc3-626a-48bc-8298-0a560acaab2a%22%2C+%22metadata%22%3A+%7B%22omeTiffOffsetsUrl%22%3A+%22http%3A%2F%2Flocalhost%3A8063%2FA%2F0%2Ff5ce5609-a5f5-4f8c-96db-004980c90ebb%22%2C+%22isBitmask%22%3A+true%7D%7D%5D%7D%7D%2C+%7B%22fileType%22%3A+%22obsSets.csv%22%2C+%22url%22%3A+%22http%3A%2F%2Flocalhost%3A8063%2FA%2F1%2F2120c537-b8eb-421a-942a-8251ef340338%22%2C+%22options%22%3A+%7B%22obsIndex%22%3A+%22cell_id%22%2C+%22obsSets%22%3A+%5B%7B%22name%22%3A+%22Cell+Type%22%2C+%22column%22%3A+%22cell_type%22%7D%5D%7D%7D%5D%7D%5D%2C+%22coordinationSpace%22%3A+%7B%22dataset%22%3A+%7B%22A%22%3A+%22A%22%7D%2C+%22spatialZoom%22%3A+%7B%22A%22%3A+-3%7D%2C+%22spatialTargetX%22%3A+%7B%22A%22%3A+3000%7D%2C+%22spatialTargetY%22%3A+%7B%22A%22%3A+3000%7D%2C+%22spatialSegmentationLayer%22%3A+%7B%22A%22%3A+%5B%7B%22type%22%3A+%22bitmask%22%2C+%22index%22%3A+0%2C+%22visible%22%3A+true%2C+%22colormap%22%3A+null%2C+%22opacity%22%3A+1%2C+%22domainType%22%3A+%22Min%2FMax%22%2C+%22transparentColor%22%3A+null%2C+%22renderingMode%22%3A+%22Additive%22%2C+%22use3d%22%3A+false%2C+%22channels%22%3A+%5B%7B%22selection%22%3A+%7B%22c%22%3A+0%2C+%22t%22%3A+0%2C+%22z%22%3A+0%7D%2C+%22color%22%3A+%5B0%2C+0%2C+0%5D%2C+%22visible%22%3A+true%2C+%22slider%22%3A+%5B0%2C+1%5D%7D%2C+%7B%22selection%22%3A+%7B%22c%22%3A+1%2C+%22t%22%3A+0%2C+%22z%22%3A+0%7D%2C+%22color%22%3A+%5B0%2C+0%2C+0%5D%2C+%22visible%22%3A+true%2C+%22slider%22%3A+%5B1%2C+2%5D%7D%2C+%7B%22selection%22%3A+%7B%22c%22%3A+2%2C+%22t%22%3A+0%2C+%22z%22%3A+0%7D%2C+%22color%22%3A+%5B0%2C+0%2C+0%5D%2C+%22visible%22%3A+true%2C+%22slider%22%3A+%5B2%2C+3%5D%7D%5D%7D%5D%7D%2C+%22obsSetColor%22%3A+%7B%22A%22%3A+%5B%7B%22path%22%3A+%5B%22Cell+Type%22%2C+%22Adatpive+Immune+Enriched%22%5D%2C+%22color%22%3A+%5B255%2C+165%2C+0%5D%7D%2C+%7B%22path%22%3A+%5B%22Cell+Type%22%2C+%22CD66%2B+Mature+Epithelial%22%5D%2C+%22color%22%3A+%5B178%2C+34%2C+34%5D%7D%2C+%7B%22path%22%3A+%5B%22Cell+Type%22%2C+%22CD8%2B+T+Enriched+IEL%22%5D%2C+%22color%22%3A+%5B0%2C+128%2C+0%5D%7D%2C+%7B%22path%22%3A+%5B%22Cell+Type%22%2C+%22Glandular+Epithelial%22%5D%2C+%22color%22%3A+%5B255%2C+140%2C+0%5D%7D%2C+%7B%22path%22%3A+%5B%22Cell+Type%22%2C+%22Innate+Immune+Enriched%22%5D%2C+%22color%22%3A+%5B135%2C+206%2C+235%5D%7D%2C+%7B%22path%22%3A+%5B%22Cell+Type%22%2C+%22Inner+Follicle%22%5D%2C+%22color%22%3A+%5B0%2C+0%2C+255%5D%7D%2C+%7B%22path%22%3A+%5B%22Cell+Type%22%2C+%22Innervated+Smooth+Muscle%22%5D%2C+%22color%22%3A+%5B144%2C+238%2C+144%5D%7D%2C+%7B%22path%22%3A+%5B%22Cell+Type%22%2C+%22Innervated+Stroma%22%5D%2C+%22color%22%3A+%5B138%2C+43%2C+226%5D%7D%2C+%7B%22path%22%3A+%5B%22Cell+Type%22%2C+%22Macrovasculature%22%5D%2C+%22color%22%3A+%5B255%2C+215%2C+0%5D%7D%2C+%7B%22path%22%3A+%5B%22Cell+Type%22%2C+%22Mature+Epithelial%22%5D%2C+%22color%22%3A+%5B255%2C+0%2C+255%5D%7D%2C+%7B%22path%22%3A+%5B%22Cell+Type%22%2C+%22Microvasculature%22%5D%2C+%22color%22%3A+%5B0%2C+0%2C+0%5D%7D%2C+%7B%22path%22%3A+%5B%22Cell+Type%22%2C+%22Outer+Follicle%22%5D%2C+%22color%22%3A+%5B0%2C+0%2C+128%5D%7D%2C+%7B%22path%22%3A+%5B%22Cell+Type%22%2C+%22Paneth+Enriched%22%5D%2C+%22color%22%3A+%5B173%2C+216%2C+230%5D%7D%2C+%7B%22path%22%3A+%5B%22Cell+Type%22%2C+%22Plasma+Cell+Enriched%22%5D%2C+%22color%22%3A+%5B255%2C+255%2C+0%5D%7D%2C+%7B%22path%22%3A+%5B%22Cell+Type%22%2C+%22Secretory+Epithelial%22%5D%2C+%22color%22%3A+%5B154%2C+205%2C+50%5D%7D%2C+%7B%22path%22%3A+%5B%22Cell+Type%22%2C+%22Smooth+Muscle%22%5D%2C+%22color%22%3A+%5B255%2C+0%2C+0%5D%7D%2C+%7B%22path%22%3A+%5B%22Cell+Type%22%2C+%22Smooth+Muscle+%26+Innate+Immune%22%5D%2C+%22color%22%3A+%5B210%2C+180%2C+140%5D%7D%2C+%7B%22path%22%3A+%5B%22Cell+Type%22%2C+%22Stroma%22%5D%2C+%22color%22%3A+%5B128%2C+128%2C+128%5D%7D%2C+%7B%22path%22%3A+%5B%22Cell+Type%22%2C+%22Stroma+%26+Innate+Immune%22%5D%2C+%22color%22%3A+%5B165%2C+42%2C+42%5D%7D%2C+%7B%22path%22%3A+%5B%22Cell+Type%22%2C+%22Transit+Amplifying+Zone%22%5D%2C+%22color%22%3A+%5B0%2C+0%2C+139%5D%7D%5D%7D%7D%2C+%22layout%22%3A+%5B%7B%22component%22%3A+%22spatial%22%2C+%22coordinationScopes%22%3A+%7B%22dataset%22%3A+%22A%22%2C+%22spatialZoom%22%3A+%22A%22%2C+%22spatialTargetX%22%3A+%22A%22%2C+%22spatialTargetY%22%3A+%22A%22%2C+%22spatialSegmentationLayer%22%3A+%22A%22%2C+%22obsSetColor%22%3A+%22A%22%7D%2C+%22x%22%3A+0.0%2C+%22y%22%3A+0%2C+%22w%22%3A+6.0%2C+%22h%22%3A+12%7D%2C+%7B%22component%22%3A+%22layerController%22%2C+%22coordinationScopes%22%3A+%7B%22dataset%22%3A+%22A%22%2C+%22spatialZoom%22%3A+%22A%22%2C+%22spatialTargetX%22%3A+%22A%22%2C+%22spatialTargetY%22%3A+%22A%22%2C+%22spatialSegmentationLayer%22%3A+%22A%22%2C+%22obsSetColor%22%3A+%22A%22%7D%2C+%22x%22%3A+6.0%2C+%22y%22%3A+0.0%2C+%22w%22%3A+6.0%2C+%22h%22%3A+6.0%7D%2C+%7B%22component%22%3A+%22obsSets%22%2C+%22coordinationScopes%22%3A+%7B%22dataset%22%3A+%22A%22%2C+%22obsSetColor%22%3A+%22A%22%7D%2C+%22x%22%3A+6.0%2C+%22y%22%3A+6.0%2C+%22w%22%3A+6.0%2C+%22h%22%3A+6.0%7D%5D%2C+%22initStrategy%22%3A+%22auto%22%7D\" target=\"_blank\">View on Vitessce.io</a>"
            ]
          },
          "metadata": {}
        },
        {
          "output_type": "stream",
          "name": "stdout",
          "text": [
            "\tUpdating 'spatial' component 'width' from 6.0 to 10.0\n",
            "\tUpdating 'layerController' component 'x' from 6.0 to 10.0\n",
            "\tUpdating 'layerController' component 'width' from 6.0 to 2\n",
            "\tUpdating 'obsSets' component 'x' from 6.0 to 10.0\n",
            "\tUpdating 'obsSets' component 'width' from 6.0 to 2\n"
          ]
        }
      ]
    },
    {
      "cell_type": "code",
      "source": [
        "import os\n",
        "import json\n",
        "!mkdir -p ./images  # create a directory to store images if it doesn't exist\n",
        "eui_url = 'https://storagetuzi.blob.core.windows.net/blobtuzi/eui/eui_hickey.pyramid.ome.tif'\n",
        "eui_original_file_name = os.path.basename(eui_url)\n",
        "!curl -L -o ./images/{eui_original_file_name} {eui_url}\n",
        "dir_path = './images'\n",
        "full_path = os.path.join(dir_path, eui_original_file_name)\n",
        "print(full_path)\n",
        "\n",
        "# LOCAL=1, ONLINE=0\n",
        "OUTPUT_LEVEL = 1\n",
        "\n",
        "vc = VitessceConfig(schema_version=\"1.0.15\", name='EUI')\n",
        "if OUTPUT_LEVEL == 1:\n",
        "    #LOCAL\n",
        "    dataset = vc.add_dataset(name='Tissue Blocks in EUI').add_object(\n",
        "        OmeTiffWrapper(img_path=full_path,name='EUI')\n",
        "    )\n",
        "else:\n",
        "    # ONLINE PREVIEW\n",
        "    dataset = vc.add_dataset(name='Tissue Blocks in EUI').add_object(\n",
        "        OmeTiffWrapper(img_url=eui_url,name='EUI')\n",
        "    )\n",
        "\n",
        "spatial = vc.add_view(vt.SPATIAL, dataset=dataset)\n",
        "status = vc.add_view(vt.STATUS, dataset=dataset)\n",
        "# Try changing the prop below to False\n",
        "lc = vc.add_view(vt.LAYER_CONTROLLER, dataset=dataset).set_props(disableChannelsIfRgbDetected=False)\n",
        "vc.layout(spatial);\n",
        "from IPython.display import display, HTML\n",
        "web_url = vc.web_app()\n",
        "display(HTML(f'<a href=\"{web_url}\" target=\"_blank\">View on Vitessce.io</a>'))\n",
        "\n",
        "ROOT = \"hubmap-publication-page\"\n",
        "\n",
        "PATH_TO_EXPORT_DIRECTORY = os.path.join(ROOT, \"data\", f\"vignette_65\")\n",
        "VIGNETTE_DIR = os.path.join(ROOT, \"vignettes\", f\"vignette_65\")\n",
        "#Export Vitessce config to JSON\n",
        "os.makedirs(VIGNETTE_DIR, exist_ok=True)\n",
        "#Export Vitessce config to JSON\n",
        "os.makedirs(PATH_TO_EXPORT_DIRECTORY, exist_ok=True)\n",
        "config_dict = vc.export(to=\"files\", base_url=f\"{BASE_URL_PLACEHOLDER}/vignette_65\", out_dir=PATH_TO_EXPORT_DIRECTORY)\n",
        "# Use `open` to create a new empty file at ./exported_data/vitessce.json\n",
        "with open(os.path.join(VIGNETTE_DIR, \"vitessce.json\"), \"w\") as f:\n",
        "    json.dump(config_dict, f)\n",
        "vignette_md = f\"\"\"\n",
        "---\n",
        "name: Explore Tissue Data in 3D using the Exploration User Interface\n",
        "figures:\n",
        "    - name: \"Visualization\"\n",
        "      file: vitessce.json\n",
        "---\n",
        "\n",
        "All HuBMAP tissue datasets used in this study can be spatially explored in their three-dimensional size, position, and rotation in the context of the Human Reference Atlas using the Exploration User Interface (EUI): [https://hubmapconsortium.github.io/hra-registrations/23-hbm-flagship-bluelake/](https://hubmapconsortium.github.io/hra-registrations/23-hbm-flagship-bluelake/)\n",
        "\n",
        "\"\"\"\n",
        "with open(os.path.join(VIGNETTE_DIR, \"description.md\"), \"w\") as f:\n",
        "    f.write(vignette_md)"
      ],
      "metadata": {
        "colab": {
          "base_uri": "https://localhost:8080/",
          "height": 107
        },
        "id": "NxPsYTfCDITr",
        "outputId": "23c19451-1dc4-4cb8-8e64-8fd1edc35642"
      },
      "execution_count": 9,
      "outputs": [
        {
          "output_type": "stream",
          "name": "stdout",
          "text": [
            "  % Total    % Received % Xferd  Average Speed   Time    Time     Time  Current\n",
            "                                 Dload  Upload   Total   Spent    Left  Speed\n",
            "100  407k  100  407k    0     0   472k      0 --:--:-- --:--:-- --:--:--  472k\n",
            "./images/eui_hickey.pyramid.ome.tif\n"
          ]
        },
        {
          "output_type": "display_data",
          "data": {
            "text/plain": [
              "<IPython.core.display.HTML object>"
            ],
            "text/html": [
              "<a href=\"http://vitessce.io/#?theme=light&url=data:,%7B%22version%22%3A+%221.0.15%22%2C+%22name%22%3A+%22EUI%22%2C+%22description%22%3A+%22%22%2C+%22datasets%22%3A+%5B%7B%22uid%22%3A+%22A%22%2C+%22name%22%3A+%22Tissue+Blocks+in+EUI%22%2C+%22files%22%3A+%5B%7B%22fileType%22%3A+%22raster.json%22%2C+%22options%22%3A+%7B%22schemaVersion%22%3A+%220.0.2%22%2C+%22images%22%3A+%5B%7B%22name%22%3A+%22EUI%22%2C+%22type%22%3A+%22ome-tiff%22%2C+%22url%22%3A+%22http%3A%2F%2Flocalhost%3A8064%2FA%2F0%2F08da02a3-8a9f-41f1-b505-038fc4e8282a%22%2C+%22metadata%22%3A+%7B%22omeTiffOffsetsUrl%22%3A+%22http%3A%2F%2Flocalhost%3A8064%2FA%2F0%2Fd82f93bd-bc4a-47e0-92e1-bd7b306723b4%22%2C+%22isBitmask%22%3A+false%7D%7D%5D%7D%7D%5D%7D%5D%2C+%22coordinationSpace%22%3A+%7B%22dataset%22%3A+%7B%22A%22%3A+%22A%22%7D%7D%2C+%22layout%22%3A+%5B%7B%22component%22%3A+%22spatial%22%2C+%22coordinationScopes%22%3A+%7B%22dataset%22%3A+%22A%22%7D%2C+%22x%22%3A+0%2C+%22y%22%3A+0%2C+%22w%22%3A+12%2C+%22h%22%3A+12%7D%2C+%7B%22component%22%3A+%22status%22%2C+%22coordinationScopes%22%3A+%7B%22dataset%22%3A+%22A%22%7D%2C+%22x%22%3A+0%2C+%22y%22%3A+0%2C+%22w%22%3A+1%2C+%22h%22%3A+1%7D%2C+%7B%22component%22%3A+%22layerController%22%2C+%22coordinationScopes%22%3A+%7B%22dataset%22%3A+%22A%22%7D%2C+%22x%22%3A+0%2C+%22y%22%3A+0%2C+%22w%22%3A+1%2C+%22h%22%3A+1%2C+%22props%22%3A+%7B%22disableChannelsIfRgbDetected%22%3A+false%7D%7D%5D%2C+%22initStrategy%22%3A+%22auto%22%7D\" target=\"_blank\">View on Vitessce.io</a>"
            ]
          },
          "metadata": {}
        }
      ]
    },
    {
      "cell_type": "code",
      "source": [
        "import shutil\n",
        "from google.colab import files\n",
        "\n",
        "# Create a zip file\n",
        "shutil.make_archive('vignette_hickey_Neigh', 'zip', ROOT)\n",
        "\n",
        "# Download the zip file\n",
        "files.download('vignette_hickey_Neigh.zip')"
      ],
      "metadata": {
        "id": "tsDyU2WlbHHh",
        "colab": {
          "base_uri": "https://localhost:8080/",
          "height": 17
        },
        "outputId": "fa6a7b05-8454-477f-bce8-d658b979e8e5"
      },
      "execution_count": 10,
      "outputs": [
        {
          "output_type": "display_data",
          "data": {
            "text/plain": [
              "<IPython.core.display.Javascript object>"
            ],
            "application/javascript": [
              "\n",
              "    async function download(id, filename, size) {\n",
              "      if (!google.colab.kernel.accessAllowed) {\n",
              "        return;\n",
              "      }\n",
              "      const div = document.createElement('div');\n",
              "      const label = document.createElement('label');\n",
              "      label.textContent = `Downloading \"${filename}\": `;\n",
              "      div.appendChild(label);\n",
              "      const progress = document.createElement('progress');\n",
              "      progress.max = size;\n",
              "      div.appendChild(progress);\n",
              "      document.body.appendChild(div);\n",
              "\n",
              "      const buffers = [];\n",
              "      let downloaded = 0;\n",
              "\n",
              "      const channel = await google.colab.kernel.comms.open(id);\n",
              "      // Send a message to notify the kernel that we're ready.\n",
              "      channel.send({})\n",
              "\n",
              "      for await (const message of channel.messages) {\n",
              "        // Send a message to notify the kernel that we're ready.\n",
              "        channel.send({})\n",
              "        if (message.buffers) {\n",
              "          for (const buffer of message.buffers) {\n",
              "            buffers.push(buffer);\n",
              "            downloaded += buffer.byteLength;\n",
              "            progress.value = downloaded;\n",
              "          }\n",
              "        }\n",
              "      }\n",
              "      const blob = new Blob(buffers, {type: 'application/binary'});\n",
              "      const a = document.createElement('a');\n",
              "      a.href = window.URL.createObjectURL(blob);\n",
              "      a.download = filename;\n",
              "      div.appendChild(a);\n",
              "      a.click();\n",
              "      div.remove();\n",
              "    }\n",
              "  "
            ]
          },
          "metadata": {}
        },
        {
          "output_type": "display_data",
          "data": {
            "text/plain": [
              "<IPython.core.display.Javascript object>"
            ],
            "application/javascript": [
              "download(\"download_d538e43c-83f5-4a19-9de1-3f604bd1cf82\", \"vignette_hickey_VCCF.zip\", 185457494)"
            ]
          },
          "metadata": {}
        }
      ]
    }
  ]
}